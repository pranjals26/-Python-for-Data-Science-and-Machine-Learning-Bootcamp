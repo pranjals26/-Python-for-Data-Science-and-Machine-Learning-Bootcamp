{
 "cells": [
  {
   "cell_type": "markdown",
   "id": "90452ef5",
   "metadata": {},
   "source": [
    "# Plotly and Cufflinks"
   ]
  },
  {
   "cell_type": "markdown",
   "id": "4e6865e8",
   "metadata": {},
   "source": [
    "Plotly is a library that allows you to create interactive plots that you can use in dashboards or websites (you can save them as html files or static images).\n",
    "\n",
    "## Installation\n",
    "\n",
    "In order for this all to work, you'll need to install plotly and cufflinks to call plots directly off of a pandas dataframe. These libraries are not currently available through **conda** but are available through **pip**. Install the libraries at your command line/terminal using:\n",
    "\n",
    "    pip install plotly\n",
    "    pip install cufflinks\n",
    "\n",
    "## Imports and Set-up"
   ]
  },
  {
   "cell_type": "code",
   "execution_count": 2,
   "id": "16889e88",
   "metadata": {},
   "outputs": [],
   "source": [
    "import pandas as pd \n",
    "import numpy as np \n",
    "%matplotlib inline"
   ]
  },
  {
   "cell_type": "code",
   "execution_count": 4,
   "id": "9fa772cc",
   "metadata": {},
   "outputs": [
    {
     "name": "stdout",
     "output_type": "stream",
     "text": [
      "5.9.0\n"
     ]
    }
   ],
   "source": [
    "from plotly import __version__\n",
    "from plotly.offline import download_plotlyjs, init_notebook_mode, plot, iplot\n",
    "\n",
    "print(__version__) # requires version >= 1.9.0"
   ]
  },
  {
   "cell_type": "code",
   "execution_count": 13,
   "id": "3513d400",
   "metadata": {},
   "outputs": [],
   "source": [
    "import cufflinks as cf"
   ]
  },
  {
   "cell_type": "code",
   "execution_count": 14,
   "id": "2c8755a6",
   "metadata": {},
   "outputs": [
    {
     "data": {
      "text/html": [
       "        <script type=\"text/javascript\">\n",
       "        window.PlotlyConfig = {MathJaxConfig: 'local'};\n",
       "        if (window.MathJax && window.MathJax.Hub && window.MathJax.Hub.Config) {window.MathJax.Hub.Config({SVG: {font: \"STIX-Web\"}});}\n",
       "        if (typeof require !== 'undefined') {\n",
       "        require.undef(\"plotly\");\n",
       "        requirejs.config({\n",
       "            paths: {\n",
       "                'plotly': ['https://cdn.plot.ly/plotly-2.12.1.min']\n",
       "            }\n",
       "        });\n",
       "        require(['plotly'], function(Plotly) {\n",
       "            window._Plotly = Plotly;\n",
       "        });\n",
       "        }\n",
       "        </script>\n",
       "        "
      ]
     },
     "metadata": {},
     "output_type": "display_data"
    }
   ],
   "source": [
    "# For Notebooks\n",
    "init_notebook_mode(connected=True)"
   ]
  },
  {
   "cell_type": "code",
   "execution_count": 15,
   "id": "17a234a5",
   "metadata": {},
   "outputs": [
    {
     "data": {
      "text/html": [
       "        <script type=\"text/javascript\">\n",
       "        window.PlotlyConfig = {MathJaxConfig: 'local'};\n",
       "        if (window.MathJax && window.MathJax.Hub && window.MathJax.Hub.Config) {window.MathJax.Hub.Config({SVG: {font: \"STIX-Web\"}});}\n",
       "        if (typeof require !== 'undefined') {\n",
       "        require.undef(\"plotly\");\n",
       "        requirejs.config({\n",
       "            paths: {\n",
       "                'plotly': ['https://cdn.plot.ly/plotly-2.12.1.min']\n",
       "            }\n",
       "        });\n",
       "        require(['plotly'], function(Plotly) {\n",
       "            window._Plotly = Plotly;\n",
       "        });\n",
       "        }\n",
       "        </script>\n",
       "        "
      ]
     },
     "metadata": {},
     "output_type": "display_data"
    }
   ],
   "source": [
    "# For offline use\n",
    "cf.go_offline()"
   ]
  },
  {
   "cell_type": "markdown",
   "id": "7720c9fb",
   "metadata": {},
   "source": [
    "## Data"
   ]
  },
  {
   "cell_type": "code",
   "execution_count": 16,
   "id": "5ba9a4e2",
   "metadata": {},
   "outputs": [],
   "source": [
    "df = pd.DataFrame(np.random.randn(100,4),columns='A B C D'.split())"
   ]
  },
  {
   "cell_type": "code",
   "execution_count": 17,
   "id": "219665f8",
   "metadata": {},
   "outputs": [
    {
     "data": {
      "text/html": [
       "<div>\n",
       "<style scoped>\n",
       "    .dataframe tbody tr th:only-of-type {\n",
       "        vertical-align: middle;\n",
       "    }\n",
       "\n",
       "    .dataframe tbody tr th {\n",
       "        vertical-align: top;\n",
       "    }\n",
       "\n",
       "    .dataframe thead th {\n",
       "        text-align: right;\n",
       "    }\n",
       "</style>\n",
       "<table border=\"1\" class=\"dataframe\">\n",
       "  <thead>\n",
       "    <tr style=\"text-align: right;\">\n",
       "      <th></th>\n",
       "      <th>A</th>\n",
       "      <th>B</th>\n",
       "      <th>C</th>\n",
       "      <th>D</th>\n",
       "    </tr>\n",
       "  </thead>\n",
       "  <tbody>\n",
       "    <tr>\n",
       "      <th>0</th>\n",
       "      <td>-0.131754</td>\n",
       "      <td>0.766825</td>\n",
       "      <td>0.590248</td>\n",
       "      <td>-1.409576</td>\n",
       "    </tr>\n",
       "    <tr>\n",
       "      <th>1</th>\n",
       "      <td>1.439874</td>\n",
       "      <td>0.256083</td>\n",
       "      <td>0.361543</td>\n",
       "      <td>0.205377</td>\n",
       "    </tr>\n",
       "    <tr>\n",
       "      <th>2</th>\n",
       "      <td>0.308494</td>\n",
       "      <td>-0.418007</td>\n",
       "      <td>0.558494</td>\n",
       "      <td>-0.164075</td>\n",
       "    </tr>\n",
       "    <tr>\n",
       "      <th>3</th>\n",
       "      <td>0.507626</td>\n",
       "      <td>1.647900</td>\n",
       "      <td>-0.539480</td>\n",
       "      <td>-0.236688</td>\n",
       "    </tr>\n",
       "    <tr>\n",
       "      <th>4</th>\n",
       "      <td>-0.762528</td>\n",
       "      <td>-1.085958</td>\n",
       "      <td>0.270653</td>\n",
       "      <td>-1.281496</td>\n",
       "    </tr>\n",
       "  </tbody>\n",
       "</table>\n",
       "</div>"
      ],
      "text/plain": [
       "          A         B         C         D\n",
       "0 -0.131754  0.766825  0.590248 -1.409576\n",
       "1  1.439874  0.256083  0.361543  0.205377\n",
       "2  0.308494 -0.418007  0.558494 -0.164075\n",
       "3  0.507626  1.647900 -0.539480 -0.236688\n",
       "4 -0.762528 -1.085958  0.270653 -1.281496"
      ]
     },
     "execution_count": 17,
     "metadata": {},
     "output_type": "execute_result"
    }
   ],
   "source": [
    "df.head()"
   ]
  },
  {
   "cell_type": "code",
   "execution_count": 20,
   "id": "10679819",
   "metadata": {},
   "outputs": [],
   "source": [
    "df2 = pd.DataFrame({'Category':['A','B','C'],'Values':[32,43,50]})"
   ]
  },
  {
   "cell_type": "code",
   "execution_count": 21,
   "id": "7c153d32",
   "metadata": {},
   "outputs": [
    {
     "data": {
      "text/html": [
       "<div>\n",
       "<style scoped>\n",
       "    .dataframe tbody tr th:only-of-type {\n",
       "        vertical-align: middle;\n",
       "    }\n",
       "\n",
       "    .dataframe tbody tr th {\n",
       "        vertical-align: top;\n",
       "    }\n",
       "\n",
       "    .dataframe thead th {\n",
       "        text-align: right;\n",
       "    }\n",
       "</style>\n",
       "<table border=\"1\" class=\"dataframe\">\n",
       "  <thead>\n",
       "    <tr style=\"text-align: right;\">\n",
       "      <th></th>\n",
       "      <th>Category</th>\n",
       "      <th>Values</th>\n",
       "    </tr>\n",
       "  </thead>\n",
       "  <tbody>\n",
       "    <tr>\n",
       "      <th>0</th>\n",
       "      <td>A</td>\n",
       "      <td>32</td>\n",
       "    </tr>\n",
       "    <tr>\n",
       "      <th>1</th>\n",
       "      <td>B</td>\n",
       "      <td>43</td>\n",
       "    </tr>\n",
       "    <tr>\n",
       "      <th>2</th>\n",
       "      <td>C</td>\n",
       "      <td>50</td>\n",
       "    </tr>\n",
       "  </tbody>\n",
       "</table>\n",
       "</div>"
      ],
      "text/plain": [
       "  Category  Values\n",
       "0        A      32\n",
       "1        B      43\n",
       "2        C      50"
      ]
     },
     "execution_count": 21,
     "metadata": {},
     "output_type": "execute_result"
    }
   ],
   "source": [
    "df2.head()"
   ]
  },
  {
   "cell_type": "markdown",
   "id": "41ee80c0",
   "metadata": {},
   "source": [
    "## Using Cufflinks and iplot()\n",
    "\n",
    "* scatter\n",
    "* bar\n",
    "* box\n",
    "* spread\n",
    "* ratio\n",
    "* heatmap\n",
    "* surface\n",
    "* histogram\n",
    "* bubble"
   ]
  },
  {
   "cell_type": "markdown",
   "id": "52f4e000",
   "metadata": {},
   "source": [
    "## Scatter"
   ]
  },
  {
   "cell_type": "code",
   "execution_count": 18,
   "id": "1224bab7",
   "metadata": {},
   "outputs": [
    {
     "data": {
      "application/vnd.plotly.v1+json": {
       "config": {
        "linkText": "Export to plot.ly",
        "plotlyServerURL": "https://plot.ly",
        "showLink": true
       },
       "data": [
        {
         "line": {
          "color": "rgba(255, 153, 51, 1.0)",
          "dash": "solid",
          "shape": "linear",
          "width": 1.3
         },
         "marker": {
          "size": 10,
          "symbol": "circle"
         },
         "mode": "markers",
         "name": "B",
         "text": "",
         "type": "scatter",
         "x": [
          -0.13175400242810156,
          1.4398736154014231,
          0.3084936992738871,
          0.5076264204380968,
          -0.7625284986653112,
          -1.0062511787786008,
          0.11469784115897165,
          1.9310696770869487,
          1.0944035694729664,
          0.6372421397859684,
          0.3855089464458704,
          -0.8121273360861435,
          -0.3234342665261247,
          2.362812817762973,
          -0.9020043009425683,
          1.5125228590996407,
          1.6738212663422762,
          -0.9901310738157569,
          1.084961991228402,
          -0.8959408642253713,
          2.1316610208320763,
          -1.5130697817897543,
          -0.9054073025929361,
          -1.2363645490471573,
          -0.15194927661083432,
          -0.2377615536333579,
          -0.5007722283776846,
          -0.7023143914132617,
          -2.1165840455647387,
          0.725447620478989,
          0.21628655747987344,
          2.215565705679116,
          -1.6546694084066793,
          0.43522055750008765,
          -0.7290404129663632,
          -2.072652678094007,
          -1.5357339134344634,
          0.6597408315792757,
          0.7471678649316231,
          1.0183098975792102,
          -0.0475017122305315,
          0.6226526850571343,
          0.11867141066397108,
          0.6785159601012161,
          -2.2702452299697886,
          1.1238379665770963,
          0.6230048619585441,
          0.8719729055231573,
          1.4326270000120012,
          -0.24688836716890633,
          0.8117736190877305,
          1.61223643973982,
          -1.4932034080063534,
          0.8037053962798918,
          1.7130283780118272,
          -0.6700078392530018,
          1.5568132179108136,
          0.40626162740550076,
          -2.256267543737473,
          1.092041777618682,
          2.4343498861619737,
          0.11904330167051473,
          1.301154598107079,
          1.1121166128876387,
          -0.09443622486311361,
          1.5039962172550305,
          -1.5611350973183005,
          2.0907823004658885,
          -1.920492399044538,
          -0.32259609854818216,
          -0.28860611837376987,
          -3.9006781071827716,
          -1.448796535345966,
          -0.2317550134453871,
          0.6794020374305854,
          -1.9386900580032422,
          -0.5411660242004356,
          0.20184037671840202,
          0.2194539547450508,
          -0.26809272600799905,
          0.47807622579924847,
          0.28813930760653533,
          -1.2171719295118983,
          1.6613721485393889,
          -1.129899743938994,
          1.231837149691319,
          0.906027903471736,
          0.41874076383417547,
          1.140639223532903,
          -0.27309072874514134,
          -1.5997041234561773,
          2.0818397320483397,
          -0.507997666275523,
          -0.6412893664962762,
          0.1353104566092275,
          0.7058193926130889,
          -0.8816664183269983,
          0.31121281370841103,
          -0.39274099041646093,
          -0.5095365211072483
         ],
         "y": [
          0.7668247603098971,
          0.25608341454276456,
          -0.418007492438254,
          1.6479000639513037,
          -1.085957707598228,
          -0.6471993669751592,
          -1.1476836051943966,
          0.3647731658486326,
          0.32719258878439345,
          0.36629851821546877,
          -0.16000570641145667,
          1.5669653312034988,
          -1.3354132322743333,
          -0.23044821694920747,
          -0.060267767095280075,
          0.624298316824953,
          -0.7497976648916586,
          0.12707974086987975,
          -0.7140406345566194,
          1.3183538535134744,
          1.9492171783364947,
          -0.07227429606646343,
          0.7104660955504053,
          -0.3823620944176171,
          -0.0016846148843457597,
          0.8531041063996373,
          0.13650535971413694,
          -1.9768805035437342,
          0.8017552890082933,
          0.24675978309861793,
          0.40168364800647616,
          0.5419398982661194,
          -2.9408752875684945,
          -0.645007270455306,
          1.6499623708090134,
          -1.0680997060013975,
          0.31218567853158047,
          -1.1073355893203949,
          0.6627605959317424,
          0.48103810835817923,
          -0.02190442811798528,
          -0.05170363686797047,
          -0.3336029037164444,
          0.0210670145406781,
          -1.08060773901822,
          0.26716901124877135,
          0.8559623719295363,
          -0.3552226520086245,
          0.03289143543064628,
          0.043948774668583844,
          -0.8854118949675668,
          1.2392211365577033,
          0.3973864688908118,
          0.3936559984256999,
          0.5706188669456544,
          0.5938041094382246,
          0.05666814714582934,
          -0.5027644440474898,
          -0.4835465184492971,
          -0.3684119863666352,
          -0.03825882718531708,
          -0.13649727148657367,
          0.49463947836597666,
          -2.0938864041717165,
          -0.0043845897516948855,
          1.1848175021850196,
          -0.689421076516863,
          0.24697274210920545,
          2.0176554176642783,
          -0.052240509921352034,
          -1.1559621489839282,
          -0.4579065362451067,
          -0.02528773996479936,
          -1.9016111132627143,
          1.4567845672157844,
          1.3545548283768565,
          1.466930032164649,
          1.1190235946806586,
          -1.396688273698315,
          1.0578914384783338,
          1.4824964112076136,
          1.2869025951738233,
          0.2497579974130677,
          2.0314669247857053,
          0.722928865710818,
          0.8339059281666981,
          -1.1227398591384263,
          -1.2585257402688401,
          0.7647242059875361,
          -0.9639506274251255,
          1.1430521145223795,
          1.9037174534810613,
          0.9649629383966886,
          0.6330162346487069,
          0.3676138133031477,
          1.0978027541671664,
          -0.5436639063060611,
          0.41353875396477,
          -0.1949677432718928,
          0.5180959646238293
         ]
        }
       ],
       "layout": {
        "legend": {
         "bgcolor": "#F5F6F9",
         "font": {
          "color": "#4D5663"
         }
        },
        "paper_bgcolor": "#F5F6F9",
        "plot_bgcolor": "#F5F6F9",
        "template": {
         "data": {
          "bar": [
           {
            "error_x": {
             "color": "#2a3f5f"
            },
            "error_y": {
             "color": "#2a3f5f"
            },
            "marker": {
             "line": {
              "color": "#E5ECF6",
              "width": 0.5
             },
             "pattern": {
              "fillmode": "overlay",
              "size": 10,
              "solidity": 0.2
             }
            },
            "type": "bar"
           }
          ],
          "barpolar": [
           {
            "marker": {
             "line": {
              "color": "#E5ECF6",
              "width": 0.5
             },
             "pattern": {
              "fillmode": "overlay",
              "size": 10,
              "solidity": 0.2
             }
            },
            "type": "barpolar"
           }
          ],
          "carpet": [
           {
            "aaxis": {
             "endlinecolor": "#2a3f5f",
             "gridcolor": "white",
             "linecolor": "white",
             "minorgridcolor": "white",
             "startlinecolor": "#2a3f5f"
            },
            "baxis": {
             "endlinecolor": "#2a3f5f",
             "gridcolor": "white",
             "linecolor": "white",
             "minorgridcolor": "white",
             "startlinecolor": "#2a3f5f"
            },
            "type": "carpet"
           }
          ],
          "choropleth": [
           {
            "colorbar": {
             "outlinewidth": 0,
             "ticks": ""
            },
            "type": "choropleth"
           }
          ],
          "contour": [
           {
            "colorbar": {
             "outlinewidth": 0,
             "ticks": ""
            },
            "colorscale": [
             [
              0,
              "#0d0887"
             ],
             [
              0.1111111111111111,
              "#46039f"
             ],
             [
              0.2222222222222222,
              "#7201a8"
             ],
             [
              0.3333333333333333,
              "#9c179e"
             ],
             [
              0.4444444444444444,
              "#bd3786"
             ],
             [
              0.5555555555555556,
              "#d8576b"
             ],
             [
              0.6666666666666666,
              "#ed7953"
             ],
             [
              0.7777777777777778,
              "#fb9f3a"
             ],
             [
              0.8888888888888888,
              "#fdca26"
             ],
             [
              1,
              "#f0f921"
             ]
            ],
            "type": "contour"
           }
          ],
          "contourcarpet": [
           {
            "colorbar": {
             "outlinewidth": 0,
             "ticks": ""
            },
            "type": "contourcarpet"
           }
          ],
          "heatmap": [
           {
            "colorbar": {
             "outlinewidth": 0,
             "ticks": ""
            },
            "colorscale": [
             [
              0,
              "#0d0887"
             ],
             [
              0.1111111111111111,
              "#46039f"
             ],
             [
              0.2222222222222222,
              "#7201a8"
             ],
             [
              0.3333333333333333,
              "#9c179e"
             ],
             [
              0.4444444444444444,
              "#bd3786"
             ],
             [
              0.5555555555555556,
              "#d8576b"
             ],
             [
              0.6666666666666666,
              "#ed7953"
             ],
             [
              0.7777777777777778,
              "#fb9f3a"
             ],
             [
              0.8888888888888888,
              "#fdca26"
             ],
             [
              1,
              "#f0f921"
             ]
            ],
            "type": "heatmap"
           }
          ],
          "heatmapgl": [
           {
            "colorbar": {
             "outlinewidth": 0,
             "ticks": ""
            },
            "colorscale": [
             [
              0,
              "#0d0887"
             ],
             [
              0.1111111111111111,
              "#46039f"
             ],
             [
              0.2222222222222222,
              "#7201a8"
             ],
             [
              0.3333333333333333,
              "#9c179e"
             ],
             [
              0.4444444444444444,
              "#bd3786"
             ],
             [
              0.5555555555555556,
              "#d8576b"
             ],
             [
              0.6666666666666666,
              "#ed7953"
             ],
             [
              0.7777777777777778,
              "#fb9f3a"
             ],
             [
              0.8888888888888888,
              "#fdca26"
             ],
             [
              1,
              "#f0f921"
             ]
            ],
            "type": "heatmapgl"
           }
          ],
          "histogram": [
           {
            "marker": {
             "pattern": {
              "fillmode": "overlay",
              "size": 10,
              "solidity": 0.2
             }
            },
            "type": "histogram"
           }
          ],
          "histogram2d": [
           {
            "colorbar": {
             "outlinewidth": 0,
             "ticks": ""
            },
            "colorscale": [
             [
              0,
              "#0d0887"
             ],
             [
              0.1111111111111111,
              "#46039f"
             ],
             [
              0.2222222222222222,
              "#7201a8"
             ],
             [
              0.3333333333333333,
              "#9c179e"
             ],
             [
              0.4444444444444444,
              "#bd3786"
             ],
             [
              0.5555555555555556,
              "#d8576b"
             ],
             [
              0.6666666666666666,
              "#ed7953"
             ],
             [
              0.7777777777777778,
              "#fb9f3a"
             ],
             [
              0.8888888888888888,
              "#fdca26"
             ],
             [
              1,
              "#f0f921"
             ]
            ],
            "type": "histogram2d"
           }
          ],
          "histogram2dcontour": [
           {
            "colorbar": {
             "outlinewidth": 0,
             "ticks": ""
            },
            "colorscale": [
             [
              0,
              "#0d0887"
             ],
             [
              0.1111111111111111,
              "#46039f"
             ],
             [
              0.2222222222222222,
              "#7201a8"
             ],
             [
              0.3333333333333333,
              "#9c179e"
             ],
             [
              0.4444444444444444,
              "#bd3786"
             ],
             [
              0.5555555555555556,
              "#d8576b"
             ],
             [
              0.6666666666666666,
              "#ed7953"
             ],
             [
              0.7777777777777778,
              "#fb9f3a"
             ],
             [
              0.8888888888888888,
              "#fdca26"
             ],
             [
              1,
              "#f0f921"
             ]
            ],
            "type": "histogram2dcontour"
           }
          ],
          "mesh3d": [
           {
            "colorbar": {
             "outlinewidth": 0,
             "ticks": ""
            },
            "type": "mesh3d"
           }
          ],
          "parcoords": [
           {
            "line": {
             "colorbar": {
              "outlinewidth": 0,
              "ticks": ""
             }
            },
            "type": "parcoords"
           }
          ],
          "pie": [
           {
            "automargin": true,
            "type": "pie"
           }
          ],
          "scatter": [
           {
            "fillpattern": {
             "fillmode": "overlay",
             "size": 10,
             "solidity": 0.2
            },
            "type": "scatter"
           }
          ],
          "scatter3d": [
           {
            "line": {
             "colorbar": {
              "outlinewidth": 0,
              "ticks": ""
             }
            },
            "marker": {
             "colorbar": {
              "outlinewidth": 0,
              "ticks": ""
             }
            },
            "type": "scatter3d"
           }
          ],
          "scattercarpet": [
           {
            "marker": {
             "colorbar": {
              "outlinewidth": 0,
              "ticks": ""
             }
            },
            "type": "scattercarpet"
           }
          ],
          "scattergeo": [
           {
            "marker": {
             "colorbar": {
              "outlinewidth": 0,
              "ticks": ""
             }
            },
            "type": "scattergeo"
           }
          ],
          "scattergl": [
           {
            "marker": {
             "colorbar": {
              "outlinewidth": 0,
              "ticks": ""
             }
            },
            "type": "scattergl"
           }
          ],
          "scattermapbox": [
           {
            "marker": {
             "colorbar": {
              "outlinewidth": 0,
              "ticks": ""
             }
            },
            "type": "scattermapbox"
           }
          ],
          "scatterpolar": [
           {
            "marker": {
             "colorbar": {
              "outlinewidth": 0,
              "ticks": ""
             }
            },
            "type": "scatterpolar"
           }
          ],
          "scatterpolargl": [
           {
            "marker": {
             "colorbar": {
              "outlinewidth": 0,
              "ticks": ""
             }
            },
            "type": "scatterpolargl"
           }
          ],
          "scatterternary": [
           {
            "marker": {
             "colorbar": {
              "outlinewidth": 0,
              "ticks": ""
             }
            },
            "type": "scatterternary"
           }
          ],
          "surface": [
           {
            "colorbar": {
             "outlinewidth": 0,
             "ticks": ""
            },
            "colorscale": [
             [
              0,
              "#0d0887"
             ],
             [
              0.1111111111111111,
              "#46039f"
             ],
             [
              0.2222222222222222,
              "#7201a8"
             ],
             [
              0.3333333333333333,
              "#9c179e"
             ],
             [
              0.4444444444444444,
              "#bd3786"
             ],
             [
              0.5555555555555556,
              "#d8576b"
             ],
             [
              0.6666666666666666,
              "#ed7953"
             ],
             [
              0.7777777777777778,
              "#fb9f3a"
             ],
             [
              0.8888888888888888,
              "#fdca26"
             ],
             [
              1,
              "#f0f921"
             ]
            ],
            "type": "surface"
           }
          ],
          "table": [
           {
            "cells": {
             "fill": {
              "color": "#EBF0F8"
             },
             "line": {
              "color": "white"
             }
            },
            "header": {
             "fill": {
              "color": "#C8D4E3"
             },
             "line": {
              "color": "white"
             }
            },
            "type": "table"
           }
          ]
         },
         "layout": {
          "annotationdefaults": {
           "arrowcolor": "#2a3f5f",
           "arrowhead": 0,
           "arrowwidth": 1
          },
          "autotypenumbers": "strict",
          "coloraxis": {
           "colorbar": {
            "outlinewidth": 0,
            "ticks": ""
           }
          },
          "colorscale": {
           "diverging": [
            [
             0,
             "#8e0152"
            ],
            [
             0.1,
             "#c51b7d"
            ],
            [
             0.2,
             "#de77ae"
            ],
            [
             0.3,
             "#f1b6da"
            ],
            [
             0.4,
             "#fde0ef"
            ],
            [
             0.5,
             "#f7f7f7"
            ],
            [
             0.6,
             "#e6f5d0"
            ],
            [
             0.7,
             "#b8e186"
            ],
            [
             0.8,
             "#7fbc41"
            ],
            [
             0.9,
             "#4d9221"
            ],
            [
             1,
             "#276419"
            ]
           ],
           "sequential": [
            [
             0,
             "#0d0887"
            ],
            [
             0.1111111111111111,
             "#46039f"
            ],
            [
             0.2222222222222222,
             "#7201a8"
            ],
            [
             0.3333333333333333,
             "#9c179e"
            ],
            [
             0.4444444444444444,
             "#bd3786"
            ],
            [
             0.5555555555555556,
             "#d8576b"
            ],
            [
             0.6666666666666666,
             "#ed7953"
            ],
            [
             0.7777777777777778,
             "#fb9f3a"
            ],
            [
             0.8888888888888888,
             "#fdca26"
            ],
            [
             1,
             "#f0f921"
            ]
           ],
           "sequentialminus": [
            [
             0,
             "#0d0887"
            ],
            [
             0.1111111111111111,
             "#46039f"
            ],
            [
             0.2222222222222222,
             "#7201a8"
            ],
            [
             0.3333333333333333,
             "#9c179e"
            ],
            [
             0.4444444444444444,
             "#bd3786"
            ],
            [
             0.5555555555555556,
             "#d8576b"
            ],
            [
             0.6666666666666666,
             "#ed7953"
            ],
            [
             0.7777777777777778,
             "#fb9f3a"
            ],
            [
             0.8888888888888888,
             "#fdca26"
            ],
            [
             1,
             "#f0f921"
            ]
           ]
          },
          "colorway": [
           "#636efa",
           "#EF553B",
           "#00cc96",
           "#ab63fa",
           "#FFA15A",
           "#19d3f3",
           "#FF6692",
           "#B6E880",
           "#FF97FF",
           "#FECB52"
          ],
          "font": {
           "color": "#2a3f5f"
          },
          "geo": {
           "bgcolor": "white",
           "lakecolor": "white",
           "landcolor": "#E5ECF6",
           "showlakes": true,
           "showland": true,
           "subunitcolor": "white"
          },
          "hoverlabel": {
           "align": "left"
          },
          "hovermode": "closest",
          "mapbox": {
           "style": "light"
          },
          "paper_bgcolor": "white",
          "plot_bgcolor": "#E5ECF6",
          "polar": {
           "angularaxis": {
            "gridcolor": "white",
            "linecolor": "white",
            "ticks": ""
           },
           "bgcolor": "#E5ECF6",
           "radialaxis": {
            "gridcolor": "white",
            "linecolor": "white",
            "ticks": ""
           }
          },
          "scene": {
           "xaxis": {
            "backgroundcolor": "#E5ECF6",
            "gridcolor": "white",
            "gridwidth": 2,
            "linecolor": "white",
            "showbackground": true,
            "ticks": "",
            "zerolinecolor": "white"
           },
           "yaxis": {
            "backgroundcolor": "#E5ECF6",
            "gridcolor": "white",
            "gridwidth": 2,
            "linecolor": "white",
            "showbackground": true,
            "ticks": "",
            "zerolinecolor": "white"
           },
           "zaxis": {
            "backgroundcolor": "#E5ECF6",
            "gridcolor": "white",
            "gridwidth": 2,
            "linecolor": "white",
            "showbackground": true,
            "ticks": "",
            "zerolinecolor": "white"
           }
          },
          "shapedefaults": {
           "line": {
            "color": "#2a3f5f"
           }
          },
          "ternary": {
           "aaxis": {
            "gridcolor": "white",
            "linecolor": "white",
            "ticks": ""
           },
           "baxis": {
            "gridcolor": "white",
            "linecolor": "white",
            "ticks": ""
           },
           "bgcolor": "#E5ECF6",
           "caxis": {
            "gridcolor": "white",
            "linecolor": "white",
            "ticks": ""
           }
          },
          "title": {
           "x": 0.05
          },
          "xaxis": {
           "automargin": true,
           "gridcolor": "white",
           "linecolor": "white",
           "ticks": "",
           "title": {
            "standoff": 15
           },
           "zerolinecolor": "white",
           "zerolinewidth": 2
          },
          "yaxis": {
           "automargin": true,
           "gridcolor": "white",
           "linecolor": "white",
           "ticks": "",
           "title": {
            "standoff": 15
           },
           "zerolinecolor": "white",
           "zerolinewidth": 2
          }
         }
        },
        "title": {
         "font": {
          "color": "#4D5663"
         }
        },
        "xaxis": {
         "gridcolor": "#E1E5ED",
         "showgrid": true,
         "tickfont": {
          "color": "#4D5663"
         },
         "title": {
          "font": {
           "color": "#4D5663"
          },
          "text": ""
         },
         "zerolinecolor": "#E1E5ED"
        },
        "yaxis": {
         "gridcolor": "#E1E5ED",
         "showgrid": true,
         "tickfont": {
          "color": "#4D5663"
         },
         "title": {
          "font": {
           "color": "#4D5663"
          },
          "text": ""
         },
         "zerolinecolor": "#E1E5ED"
        }
       }
      },
      "text/html": [
       "<div>                            <div id=\"6333b4d5-9392-45b8-821e-b3687a9acf7d\" class=\"plotly-graph-div\" style=\"height:525px; width:100%;\"></div>            <script type=\"text/javascript\">                require([\"plotly\"], function(Plotly) {                    window.PLOTLYENV=window.PLOTLYENV || {};\n",
       "                    window.PLOTLYENV.BASE_URL='https://plot.ly';                                    if (document.getElementById(\"6333b4d5-9392-45b8-821e-b3687a9acf7d\")) {                    Plotly.newPlot(                        \"6333b4d5-9392-45b8-821e-b3687a9acf7d\",                        [{\"line\":{\"color\":\"rgba(255, 153, 51, 1.0)\",\"dash\":\"solid\",\"shape\":\"linear\",\"width\":1.3},\"marker\":{\"size\":10,\"symbol\":\"circle\"},\"mode\":\"markers\",\"name\":\"B\",\"text\":\"\",\"x\":[-0.13175400242810156,1.4398736154014231,0.3084936992738871,0.5076264204380968,-0.7625284986653112,-1.0062511787786008,0.11469784115897165,1.9310696770869487,1.0944035694729664,0.6372421397859684,0.3855089464458704,-0.8121273360861435,-0.3234342665261247,2.362812817762973,-0.9020043009425683,1.5125228590996407,1.6738212663422762,-0.9901310738157569,1.084961991228402,-0.8959408642253713,2.1316610208320763,-1.5130697817897543,-0.9054073025929361,-1.2363645490471573,-0.15194927661083432,-0.2377615536333579,-0.5007722283776846,-0.7023143914132617,-2.1165840455647387,0.725447620478989,0.21628655747987344,2.215565705679116,-1.6546694084066793,0.43522055750008765,-0.7290404129663632,-2.072652678094007,-1.5357339134344634,0.6597408315792757,0.7471678649316231,1.0183098975792102,-0.0475017122305315,0.6226526850571343,0.11867141066397108,0.6785159601012161,-2.2702452299697886,1.1238379665770963,0.6230048619585441,0.8719729055231573,1.4326270000120012,-0.24688836716890633,0.8117736190877305,1.61223643973982,-1.4932034080063534,0.8037053962798918,1.7130283780118272,-0.6700078392530018,1.5568132179108136,0.40626162740550076,-2.256267543737473,1.092041777618682,2.4343498861619737,0.11904330167051473,1.301154598107079,1.1121166128876387,-0.09443622486311361,1.5039962172550305,-1.5611350973183005,2.0907823004658885,-1.920492399044538,-0.32259609854818216,-0.28860611837376987,-3.9006781071827716,-1.448796535345966,-0.2317550134453871,0.6794020374305854,-1.9386900580032422,-0.5411660242004356,0.20184037671840202,0.2194539547450508,-0.26809272600799905,0.47807622579924847,0.28813930760653533,-1.2171719295118983,1.6613721485393889,-1.129899743938994,1.231837149691319,0.906027903471736,0.41874076383417547,1.140639223532903,-0.27309072874514134,-1.5997041234561773,2.0818397320483397,-0.507997666275523,-0.6412893664962762,0.1353104566092275,0.7058193926130889,-0.8816664183269983,0.31121281370841103,-0.39274099041646093,-0.5095365211072483],\"y\":[0.7668247603098971,0.25608341454276456,-0.418007492438254,1.6479000639513037,-1.085957707598228,-0.6471993669751592,-1.1476836051943966,0.3647731658486326,0.32719258878439345,0.36629851821546877,-0.16000570641145667,1.5669653312034988,-1.3354132322743333,-0.23044821694920747,-0.060267767095280075,0.624298316824953,-0.7497976648916586,0.12707974086987975,-0.7140406345566194,1.3183538535134744,1.9492171783364947,-0.07227429606646343,0.7104660955504053,-0.3823620944176171,-0.0016846148843457597,0.8531041063996373,0.13650535971413694,-1.9768805035437342,0.8017552890082933,0.24675978309861793,0.40168364800647616,0.5419398982661194,-2.9408752875684945,-0.645007270455306,1.6499623708090134,-1.0680997060013975,0.31218567853158047,-1.1073355893203949,0.6627605959317424,0.48103810835817923,-0.02190442811798528,-0.05170363686797047,-0.3336029037164444,0.0210670145406781,-1.08060773901822,0.26716901124877135,0.8559623719295363,-0.3552226520086245,0.03289143543064628,0.043948774668583844,-0.8854118949675668,1.2392211365577033,0.3973864688908118,0.3936559984256999,0.5706188669456544,0.5938041094382246,0.05666814714582934,-0.5027644440474898,-0.4835465184492971,-0.3684119863666352,-0.03825882718531708,-0.13649727148657367,0.49463947836597666,-2.0938864041717165,-0.0043845897516948855,1.1848175021850196,-0.689421076516863,0.24697274210920545,2.0176554176642783,-0.052240509921352034,-1.1559621489839282,-0.4579065362451067,-0.02528773996479936,-1.9016111132627143,1.4567845672157844,1.3545548283768565,1.466930032164649,1.1190235946806586,-1.396688273698315,1.0578914384783338,1.4824964112076136,1.2869025951738233,0.2497579974130677,2.0314669247857053,0.722928865710818,0.8339059281666981,-1.1227398591384263,-1.2585257402688401,0.7647242059875361,-0.9639506274251255,1.1430521145223795,1.9037174534810613,0.9649629383966886,0.6330162346487069,0.3676138133031477,1.0978027541671664,-0.5436639063060611,0.41353875396477,-0.1949677432718928,0.5180959646238293],\"type\":\"scatter\"}],                        {\"legend\":{\"bgcolor\":\"#F5F6F9\",\"font\":{\"color\":\"#4D5663\"}},\"paper_bgcolor\":\"#F5F6F9\",\"plot_bgcolor\":\"#F5F6F9\",\"template\":{\"data\":{\"barpolar\":[{\"marker\":{\"line\":{\"color\":\"#E5ECF6\",\"width\":0.5},\"pattern\":{\"fillmode\":\"overlay\",\"size\":10,\"solidity\":0.2}},\"type\":\"barpolar\"}],\"bar\":[{\"error_x\":{\"color\":\"#2a3f5f\"},\"error_y\":{\"color\":\"#2a3f5f\"},\"marker\":{\"line\":{\"color\":\"#E5ECF6\",\"width\":0.5},\"pattern\":{\"fillmode\":\"overlay\",\"size\":10,\"solidity\":0.2}},\"type\":\"bar\"}],\"carpet\":[{\"aaxis\":{\"endlinecolor\":\"#2a3f5f\",\"gridcolor\":\"white\",\"linecolor\":\"white\",\"minorgridcolor\":\"white\",\"startlinecolor\":\"#2a3f5f\"},\"baxis\":{\"endlinecolor\":\"#2a3f5f\",\"gridcolor\":\"white\",\"linecolor\":\"white\",\"minorgridcolor\":\"white\",\"startlinecolor\":\"#2a3f5f\"},\"type\":\"carpet\"}],\"choropleth\":[{\"colorbar\":{\"outlinewidth\":0,\"ticks\":\"\"},\"type\":\"choropleth\"}],\"contourcarpet\":[{\"colorbar\":{\"outlinewidth\":0,\"ticks\":\"\"},\"type\":\"contourcarpet\"}],\"contour\":[{\"colorbar\":{\"outlinewidth\":0,\"ticks\":\"\"},\"colorscale\":[[0.0,\"#0d0887\"],[0.1111111111111111,\"#46039f\"],[0.2222222222222222,\"#7201a8\"],[0.3333333333333333,\"#9c179e\"],[0.4444444444444444,\"#bd3786\"],[0.5555555555555556,\"#d8576b\"],[0.6666666666666666,\"#ed7953\"],[0.7777777777777778,\"#fb9f3a\"],[0.8888888888888888,\"#fdca26\"],[1.0,\"#f0f921\"]],\"type\":\"contour\"}],\"heatmapgl\":[{\"colorbar\":{\"outlinewidth\":0,\"ticks\":\"\"},\"colorscale\":[[0.0,\"#0d0887\"],[0.1111111111111111,\"#46039f\"],[0.2222222222222222,\"#7201a8\"],[0.3333333333333333,\"#9c179e\"],[0.4444444444444444,\"#bd3786\"],[0.5555555555555556,\"#d8576b\"],[0.6666666666666666,\"#ed7953\"],[0.7777777777777778,\"#fb9f3a\"],[0.8888888888888888,\"#fdca26\"],[1.0,\"#f0f921\"]],\"type\":\"heatmapgl\"}],\"heatmap\":[{\"colorbar\":{\"outlinewidth\":0,\"ticks\":\"\"},\"colorscale\":[[0.0,\"#0d0887\"],[0.1111111111111111,\"#46039f\"],[0.2222222222222222,\"#7201a8\"],[0.3333333333333333,\"#9c179e\"],[0.4444444444444444,\"#bd3786\"],[0.5555555555555556,\"#d8576b\"],[0.6666666666666666,\"#ed7953\"],[0.7777777777777778,\"#fb9f3a\"],[0.8888888888888888,\"#fdca26\"],[1.0,\"#f0f921\"]],\"type\":\"heatmap\"}],\"histogram2dcontour\":[{\"colorbar\":{\"outlinewidth\":0,\"ticks\":\"\"},\"colorscale\":[[0.0,\"#0d0887\"],[0.1111111111111111,\"#46039f\"],[0.2222222222222222,\"#7201a8\"],[0.3333333333333333,\"#9c179e\"],[0.4444444444444444,\"#bd3786\"],[0.5555555555555556,\"#d8576b\"],[0.6666666666666666,\"#ed7953\"],[0.7777777777777778,\"#fb9f3a\"],[0.8888888888888888,\"#fdca26\"],[1.0,\"#f0f921\"]],\"type\":\"histogram2dcontour\"}],\"histogram2d\":[{\"colorbar\":{\"outlinewidth\":0,\"ticks\":\"\"},\"colorscale\":[[0.0,\"#0d0887\"],[0.1111111111111111,\"#46039f\"],[0.2222222222222222,\"#7201a8\"],[0.3333333333333333,\"#9c179e\"],[0.4444444444444444,\"#bd3786\"],[0.5555555555555556,\"#d8576b\"],[0.6666666666666666,\"#ed7953\"],[0.7777777777777778,\"#fb9f3a\"],[0.8888888888888888,\"#fdca26\"],[1.0,\"#f0f921\"]],\"type\":\"histogram2d\"}],\"histogram\":[{\"marker\":{\"pattern\":{\"fillmode\":\"overlay\",\"size\":10,\"solidity\":0.2}},\"type\":\"histogram\"}],\"mesh3d\":[{\"colorbar\":{\"outlinewidth\":0,\"ticks\":\"\"},\"type\":\"mesh3d\"}],\"parcoords\":[{\"line\":{\"colorbar\":{\"outlinewidth\":0,\"ticks\":\"\"}},\"type\":\"parcoords\"}],\"pie\":[{\"automargin\":true,\"type\":\"pie\"}],\"scatter3d\":[{\"line\":{\"colorbar\":{\"outlinewidth\":0,\"ticks\":\"\"}},\"marker\":{\"colorbar\":{\"outlinewidth\":0,\"ticks\":\"\"}},\"type\":\"scatter3d\"}],\"scattercarpet\":[{\"marker\":{\"colorbar\":{\"outlinewidth\":0,\"ticks\":\"\"}},\"type\":\"scattercarpet\"}],\"scattergeo\":[{\"marker\":{\"colorbar\":{\"outlinewidth\":0,\"ticks\":\"\"}},\"type\":\"scattergeo\"}],\"scattergl\":[{\"marker\":{\"colorbar\":{\"outlinewidth\":0,\"ticks\":\"\"}},\"type\":\"scattergl\"}],\"scattermapbox\":[{\"marker\":{\"colorbar\":{\"outlinewidth\":0,\"ticks\":\"\"}},\"type\":\"scattermapbox\"}],\"scatterpolargl\":[{\"marker\":{\"colorbar\":{\"outlinewidth\":0,\"ticks\":\"\"}},\"type\":\"scatterpolargl\"}],\"scatterpolar\":[{\"marker\":{\"colorbar\":{\"outlinewidth\":0,\"ticks\":\"\"}},\"type\":\"scatterpolar\"}],\"scatter\":[{\"fillpattern\":{\"fillmode\":\"overlay\",\"size\":10,\"solidity\":0.2},\"type\":\"scatter\"}],\"scatterternary\":[{\"marker\":{\"colorbar\":{\"outlinewidth\":0,\"ticks\":\"\"}},\"type\":\"scatterternary\"}],\"surface\":[{\"colorbar\":{\"outlinewidth\":0,\"ticks\":\"\"},\"colorscale\":[[0.0,\"#0d0887\"],[0.1111111111111111,\"#46039f\"],[0.2222222222222222,\"#7201a8\"],[0.3333333333333333,\"#9c179e\"],[0.4444444444444444,\"#bd3786\"],[0.5555555555555556,\"#d8576b\"],[0.6666666666666666,\"#ed7953\"],[0.7777777777777778,\"#fb9f3a\"],[0.8888888888888888,\"#fdca26\"],[1.0,\"#f0f921\"]],\"type\":\"surface\"}],\"table\":[{\"cells\":{\"fill\":{\"color\":\"#EBF0F8\"},\"line\":{\"color\":\"white\"}},\"header\":{\"fill\":{\"color\":\"#C8D4E3\"},\"line\":{\"color\":\"white\"}},\"type\":\"table\"}]},\"layout\":{\"annotationdefaults\":{\"arrowcolor\":\"#2a3f5f\",\"arrowhead\":0,\"arrowwidth\":1},\"autotypenumbers\":\"strict\",\"coloraxis\":{\"colorbar\":{\"outlinewidth\":0,\"ticks\":\"\"}},\"colorscale\":{\"diverging\":[[0,\"#8e0152\"],[0.1,\"#c51b7d\"],[0.2,\"#de77ae\"],[0.3,\"#f1b6da\"],[0.4,\"#fde0ef\"],[0.5,\"#f7f7f7\"],[0.6,\"#e6f5d0\"],[0.7,\"#b8e186\"],[0.8,\"#7fbc41\"],[0.9,\"#4d9221\"],[1,\"#276419\"]],\"sequential\":[[0.0,\"#0d0887\"],[0.1111111111111111,\"#46039f\"],[0.2222222222222222,\"#7201a8\"],[0.3333333333333333,\"#9c179e\"],[0.4444444444444444,\"#bd3786\"],[0.5555555555555556,\"#d8576b\"],[0.6666666666666666,\"#ed7953\"],[0.7777777777777778,\"#fb9f3a\"],[0.8888888888888888,\"#fdca26\"],[1.0,\"#f0f921\"]],\"sequentialminus\":[[0.0,\"#0d0887\"],[0.1111111111111111,\"#46039f\"],[0.2222222222222222,\"#7201a8\"],[0.3333333333333333,\"#9c179e\"],[0.4444444444444444,\"#bd3786\"],[0.5555555555555556,\"#d8576b\"],[0.6666666666666666,\"#ed7953\"],[0.7777777777777778,\"#fb9f3a\"],[0.8888888888888888,\"#fdca26\"],[1.0,\"#f0f921\"]]},\"colorway\":[\"#636efa\",\"#EF553B\",\"#00cc96\",\"#ab63fa\",\"#FFA15A\",\"#19d3f3\",\"#FF6692\",\"#B6E880\",\"#FF97FF\",\"#FECB52\"],\"font\":{\"color\":\"#2a3f5f\"},\"geo\":{\"bgcolor\":\"white\",\"lakecolor\":\"white\",\"landcolor\":\"#E5ECF6\",\"showlakes\":true,\"showland\":true,\"subunitcolor\":\"white\"},\"hoverlabel\":{\"align\":\"left\"},\"hovermode\":\"closest\",\"mapbox\":{\"style\":\"light\"},\"paper_bgcolor\":\"white\",\"plot_bgcolor\":\"#E5ECF6\",\"polar\":{\"angularaxis\":{\"gridcolor\":\"white\",\"linecolor\":\"white\",\"ticks\":\"\"},\"bgcolor\":\"#E5ECF6\",\"radialaxis\":{\"gridcolor\":\"white\",\"linecolor\":\"white\",\"ticks\":\"\"}},\"scene\":{\"xaxis\":{\"backgroundcolor\":\"#E5ECF6\",\"gridcolor\":\"white\",\"gridwidth\":2,\"linecolor\":\"white\",\"showbackground\":true,\"ticks\":\"\",\"zerolinecolor\":\"white\"},\"yaxis\":{\"backgroundcolor\":\"#E5ECF6\",\"gridcolor\":\"white\",\"gridwidth\":2,\"linecolor\":\"white\",\"showbackground\":true,\"ticks\":\"\",\"zerolinecolor\":\"white\"},\"zaxis\":{\"backgroundcolor\":\"#E5ECF6\",\"gridcolor\":\"white\",\"gridwidth\":2,\"linecolor\":\"white\",\"showbackground\":true,\"ticks\":\"\",\"zerolinecolor\":\"white\"}},\"shapedefaults\":{\"line\":{\"color\":\"#2a3f5f\"}},\"ternary\":{\"aaxis\":{\"gridcolor\":\"white\",\"linecolor\":\"white\",\"ticks\":\"\"},\"baxis\":{\"gridcolor\":\"white\",\"linecolor\":\"white\",\"ticks\":\"\"},\"bgcolor\":\"#E5ECF6\",\"caxis\":{\"gridcolor\":\"white\",\"linecolor\":\"white\",\"ticks\":\"\"}},\"title\":{\"x\":0.05},\"xaxis\":{\"automargin\":true,\"gridcolor\":\"white\",\"linecolor\":\"white\",\"ticks\":\"\",\"title\":{\"standoff\":15},\"zerolinecolor\":\"white\",\"zerolinewidth\":2},\"yaxis\":{\"automargin\":true,\"gridcolor\":\"white\",\"linecolor\":\"white\",\"ticks\":\"\",\"title\":{\"standoff\":15},\"zerolinecolor\":\"white\",\"zerolinewidth\":2}}},\"title\":{\"font\":{\"color\":\"#4D5663\"}},\"xaxis\":{\"gridcolor\":\"#E1E5ED\",\"showgrid\":true,\"tickfont\":{\"color\":\"#4D5663\"},\"title\":{\"font\":{\"color\":\"#4D5663\"},\"text\":\"\"},\"zerolinecolor\":\"#E1E5ED\"},\"yaxis\":{\"gridcolor\":\"#E1E5ED\",\"showgrid\":true,\"tickfont\":{\"color\":\"#4D5663\"},\"title\":{\"font\":{\"color\":\"#4D5663\"},\"text\":\"\"},\"zerolinecolor\":\"#E1E5ED\"}},                        {\"showLink\": true, \"linkText\": \"Export to plot.ly\", \"plotlyServerURL\": \"https://plot.ly\", \"responsive\": true}                    ).then(function(){\n",
       "                            \n",
       "var gd = document.getElementById('6333b4d5-9392-45b8-821e-b3687a9acf7d');\n",
       "var x = new MutationObserver(function (mutations, observer) {{\n",
       "        var display = window.getComputedStyle(gd).display;\n",
       "        if (!display || display === 'none') {{\n",
       "            console.log([gd, 'removed!']);\n",
       "            Plotly.purge(gd);\n",
       "            observer.disconnect();\n",
       "        }}\n",
       "}});\n",
       "\n",
       "// Listen for the removal of the full notebook cells\n",
       "var notebookContainer = gd.closest('#notebook-container');\n",
       "if (notebookContainer) {{\n",
       "    x.observe(notebookContainer, {childList: true});\n",
       "}}\n",
       "\n",
       "// Listen for the clearing of the current output cell\n",
       "var outputEl = gd.closest('.output');\n",
       "if (outputEl) {{\n",
       "    x.observe(outputEl, {childList: true});\n",
       "}}\n",
       "\n",
       "                        })                };                });            </script>        </div>"
      ]
     },
     "metadata": {},
     "output_type": "display_data"
    }
   ],
   "source": [
    "df.iplot(kind='scatter',x='A',y='B',mode='markers',size=10)"
   ]
  },
  {
   "cell_type": "markdown",
   "id": "e7ca408a",
   "metadata": {},
   "source": [
    "## BarPlot"
   ]
  },
  {
   "cell_type": "code",
   "execution_count": 22,
   "id": "1680f87a",
   "metadata": {},
   "outputs": [
    {
     "data": {
      "application/vnd.plotly.v1+json": {
       "config": {
        "linkText": "Export to plot.ly",
        "plotlyServerURL": "https://plot.ly",
        "showLink": true
       },
       "data": [
        {
         "marker": {
          "color": "rgba(255, 153, 51, 0.6)",
          "line": {
           "color": "rgba(255, 153, 51, 1.0)",
           "width": 1
          }
         },
         "name": "Values",
         "orientation": "v",
         "text": "",
         "type": "bar",
         "x": [
          "A",
          "B",
          "C"
         ],
         "y": [
          32,
          43,
          50
         ]
        }
       ],
       "layout": {
        "legend": {
         "bgcolor": "#F5F6F9",
         "font": {
          "color": "#4D5663"
         }
        },
        "paper_bgcolor": "#F5F6F9",
        "plot_bgcolor": "#F5F6F9",
        "template": {
         "data": {
          "bar": [
           {
            "error_x": {
             "color": "#2a3f5f"
            },
            "error_y": {
             "color": "#2a3f5f"
            },
            "marker": {
             "line": {
              "color": "#E5ECF6",
              "width": 0.5
             },
             "pattern": {
              "fillmode": "overlay",
              "size": 10,
              "solidity": 0.2
             }
            },
            "type": "bar"
           }
          ],
          "barpolar": [
           {
            "marker": {
             "line": {
              "color": "#E5ECF6",
              "width": 0.5
             },
             "pattern": {
              "fillmode": "overlay",
              "size": 10,
              "solidity": 0.2
             }
            },
            "type": "barpolar"
           }
          ],
          "carpet": [
           {
            "aaxis": {
             "endlinecolor": "#2a3f5f",
             "gridcolor": "white",
             "linecolor": "white",
             "minorgridcolor": "white",
             "startlinecolor": "#2a3f5f"
            },
            "baxis": {
             "endlinecolor": "#2a3f5f",
             "gridcolor": "white",
             "linecolor": "white",
             "minorgridcolor": "white",
             "startlinecolor": "#2a3f5f"
            },
            "type": "carpet"
           }
          ],
          "choropleth": [
           {
            "colorbar": {
             "outlinewidth": 0,
             "ticks": ""
            },
            "type": "choropleth"
           }
          ],
          "contour": [
           {
            "colorbar": {
             "outlinewidth": 0,
             "ticks": ""
            },
            "colorscale": [
             [
              0,
              "#0d0887"
             ],
             [
              0.1111111111111111,
              "#46039f"
             ],
             [
              0.2222222222222222,
              "#7201a8"
             ],
             [
              0.3333333333333333,
              "#9c179e"
             ],
             [
              0.4444444444444444,
              "#bd3786"
             ],
             [
              0.5555555555555556,
              "#d8576b"
             ],
             [
              0.6666666666666666,
              "#ed7953"
             ],
             [
              0.7777777777777778,
              "#fb9f3a"
             ],
             [
              0.8888888888888888,
              "#fdca26"
             ],
             [
              1,
              "#f0f921"
             ]
            ],
            "type": "contour"
           }
          ],
          "contourcarpet": [
           {
            "colorbar": {
             "outlinewidth": 0,
             "ticks": ""
            },
            "type": "contourcarpet"
           }
          ],
          "heatmap": [
           {
            "colorbar": {
             "outlinewidth": 0,
             "ticks": ""
            },
            "colorscale": [
             [
              0,
              "#0d0887"
             ],
             [
              0.1111111111111111,
              "#46039f"
             ],
             [
              0.2222222222222222,
              "#7201a8"
             ],
             [
              0.3333333333333333,
              "#9c179e"
             ],
             [
              0.4444444444444444,
              "#bd3786"
             ],
             [
              0.5555555555555556,
              "#d8576b"
             ],
             [
              0.6666666666666666,
              "#ed7953"
             ],
             [
              0.7777777777777778,
              "#fb9f3a"
             ],
             [
              0.8888888888888888,
              "#fdca26"
             ],
             [
              1,
              "#f0f921"
             ]
            ],
            "type": "heatmap"
           }
          ],
          "heatmapgl": [
           {
            "colorbar": {
             "outlinewidth": 0,
             "ticks": ""
            },
            "colorscale": [
             [
              0,
              "#0d0887"
             ],
             [
              0.1111111111111111,
              "#46039f"
             ],
             [
              0.2222222222222222,
              "#7201a8"
             ],
             [
              0.3333333333333333,
              "#9c179e"
             ],
             [
              0.4444444444444444,
              "#bd3786"
             ],
             [
              0.5555555555555556,
              "#d8576b"
             ],
             [
              0.6666666666666666,
              "#ed7953"
             ],
             [
              0.7777777777777778,
              "#fb9f3a"
             ],
             [
              0.8888888888888888,
              "#fdca26"
             ],
             [
              1,
              "#f0f921"
             ]
            ],
            "type": "heatmapgl"
           }
          ],
          "histogram": [
           {
            "marker": {
             "pattern": {
              "fillmode": "overlay",
              "size": 10,
              "solidity": 0.2
             }
            },
            "type": "histogram"
           }
          ],
          "histogram2d": [
           {
            "colorbar": {
             "outlinewidth": 0,
             "ticks": ""
            },
            "colorscale": [
             [
              0,
              "#0d0887"
             ],
             [
              0.1111111111111111,
              "#46039f"
             ],
             [
              0.2222222222222222,
              "#7201a8"
             ],
             [
              0.3333333333333333,
              "#9c179e"
             ],
             [
              0.4444444444444444,
              "#bd3786"
             ],
             [
              0.5555555555555556,
              "#d8576b"
             ],
             [
              0.6666666666666666,
              "#ed7953"
             ],
             [
              0.7777777777777778,
              "#fb9f3a"
             ],
             [
              0.8888888888888888,
              "#fdca26"
             ],
             [
              1,
              "#f0f921"
             ]
            ],
            "type": "histogram2d"
           }
          ],
          "histogram2dcontour": [
           {
            "colorbar": {
             "outlinewidth": 0,
             "ticks": ""
            },
            "colorscale": [
             [
              0,
              "#0d0887"
             ],
             [
              0.1111111111111111,
              "#46039f"
             ],
             [
              0.2222222222222222,
              "#7201a8"
             ],
             [
              0.3333333333333333,
              "#9c179e"
             ],
             [
              0.4444444444444444,
              "#bd3786"
             ],
             [
              0.5555555555555556,
              "#d8576b"
             ],
             [
              0.6666666666666666,
              "#ed7953"
             ],
             [
              0.7777777777777778,
              "#fb9f3a"
             ],
             [
              0.8888888888888888,
              "#fdca26"
             ],
             [
              1,
              "#f0f921"
             ]
            ],
            "type": "histogram2dcontour"
           }
          ],
          "mesh3d": [
           {
            "colorbar": {
             "outlinewidth": 0,
             "ticks": ""
            },
            "type": "mesh3d"
           }
          ],
          "parcoords": [
           {
            "line": {
             "colorbar": {
              "outlinewidth": 0,
              "ticks": ""
             }
            },
            "type": "parcoords"
           }
          ],
          "pie": [
           {
            "automargin": true,
            "type": "pie"
           }
          ],
          "scatter": [
           {
            "fillpattern": {
             "fillmode": "overlay",
             "size": 10,
             "solidity": 0.2
            },
            "type": "scatter"
           }
          ],
          "scatter3d": [
           {
            "line": {
             "colorbar": {
              "outlinewidth": 0,
              "ticks": ""
             }
            },
            "marker": {
             "colorbar": {
              "outlinewidth": 0,
              "ticks": ""
             }
            },
            "type": "scatter3d"
           }
          ],
          "scattercarpet": [
           {
            "marker": {
             "colorbar": {
              "outlinewidth": 0,
              "ticks": ""
             }
            },
            "type": "scattercarpet"
           }
          ],
          "scattergeo": [
           {
            "marker": {
             "colorbar": {
              "outlinewidth": 0,
              "ticks": ""
             }
            },
            "type": "scattergeo"
           }
          ],
          "scattergl": [
           {
            "marker": {
             "colorbar": {
              "outlinewidth": 0,
              "ticks": ""
             }
            },
            "type": "scattergl"
           }
          ],
          "scattermapbox": [
           {
            "marker": {
             "colorbar": {
              "outlinewidth": 0,
              "ticks": ""
             }
            },
            "type": "scattermapbox"
           }
          ],
          "scatterpolar": [
           {
            "marker": {
             "colorbar": {
              "outlinewidth": 0,
              "ticks": ""
             }
            },
            "type": "scatterpolar"
           }
          ],
          "scatterpolargl": [
           {
            "marker": {
             "colorbar": {
              "outlinewidth": 0,
              "ticks": ""
             }
            },
            "type": "scatterpolargl"
           }
          ],
          "scatterternary": [
           {
            "marker": {
             "colorbar": {
              "outlinewidth": 0,
              "ticks": ""
             }
            },
            "type": "scatterternary"
           }
          ],
          "surface": [
           {
            "colorbar": {
             "outlinewidth": 0,
             "ticks": ""
            },
            "colorscale": [
             [
              0,
              "#0d0887"
             ],
             [
              0.1111111111111111,
              "#46039f"
             ],
             [
              0.2222222222222222,
              "#7201a8"
             ],
             [
              0.3333333333333333,
              "#9c179e"
             ],
             [
              0.4444444444444444,
              "#bd3786"
             ],
             [
              0.5555555555555556,
              "#d8576b"
             ],
             [
              0.6666666666666666,
              "#ed7953"
             ],
             [
              0.7777777777777778,
              "#fb9f3a"
             ],
             [
              0.8888888888888888,
              "#fdca26"
             ],
             [
              1,
              "#f0f921"
             ]
            ],
            "type": "surface"
           }
          ],
          "table": [
           {
            "cells": {
             "fill": {
              "color": "#EBF0F8"
             },
             "line": {
              "color": "white"
             }
            },
            "header": {
             "fill": {
              "color": "#C8D4E3"
             },
             "line": {
              "color": "white"
             }
            },
            "type": "table"
           }
          ]
         },
         "layout": {
          "annotationdefaults": {
           "arrowcolor": "#2a3f5f",
           "arrowhead": 0,
           "arrowwidth": 1
          },
          "autotypenumbers": "strict",
          "coloraxis": {
           "colorbar": {
            "outlinewidth": 0,
            "ticks": ""
           }
          },
          "colorscale": {
           "diverging": [
            [
             0,
             "#8e0152"
            ],
            [
             0.1,
             "#c51b7d"
            ],
            [
             0.2,
             "#de77ae"
            ],
            [
             0.3,
             "#f1b6da"
            ],
            [
             0.4,
             "#fde0ef"
            ],
            [
             0.5,
             "#f7f7f7"
            ],
            [
             0.6,
             "#e6f5d0"
            ],
            [
             0.7,
             "#b8e186"
            ],
            [
             0.8,
             "#7fbc41"
            ],
            [
             0.9,
             "#4d9221"
            ],
            [
             1,
             "#276419"
            ]
           ],
           "sequential": [
            [
             0,
             "#0d0887"
            ],
            [
             0.1111111111111111,
             "#46039f"
            ],
            [
             0.2222222222222222,
             "#7201a8"
            ],
            [
             0.3333333333333333,
             "#9c179e"
            ],
            [
             0.4444444444444444,
             "#bd3786"
            ],
            [
             0.5555555555555556,
             "#d8576b"
            ],
            [
             0.6666666666666666,
             "#ed7953"
            ],
            [
             0.7777777777777778,
             "#fb9f3a"
            ],
            [
             0.8888888888888888,
             "#fdca26"
            ],
            [
             1,
             "#f0f921"
            ]
           ],
           "sequentialminus": [
            [
             0,
             "#0d0887"
            ],
            [
             0.1111111111111111,
             "#46039f"
            ],
            [
             0.2222222222222222,
             "#7201a8"
            ],
            [
             0.3333333333333333,
             "#9c179e"
            ],
            [
             0.4444444444444444,
             "#bd3786"
            ],
            [
             0.5555555555555556,
             "#d8576b"
            ],
            [
             0.6666666666666666,
             "#ed7953"
            ],
            [
             0.7777777777777778,
             "#fb9f3a"
            ],
            [
             0.8888888888888888,
             "#fdca26"
            ],
            [
             1,
             "#f0f921"
            ]
           ]
          },
          "colorway": [
           "#636efa",
           "#EF553B",
           "#00cc96",
           "#ab63fa",
           "#FFA15A",
           "#19d3f3",
           "#FF6692",
           "#B6E880",
           "#FF97FF",
           "#FECB52"
          ],
          "font": {
           "color": "#2a3f5f"
          },
          "geo": {
           "bgcolor": "white",
           "lakecolor": "white",
           "landcolor": "#E5ECF6",
           "showlakes": true,
           "showland": true,
           "subunitcolor": "white"
          },
          "hoverlabel": {
           "align": "left"
          },
          "hovermode": "closest",
          "mapbox": {
           "style": "light"
          },
          "paper_bgcolor": "white",
          "plot_bgcolor": "#E5ECF6",
          "polar": {
           "angularaxis": {
            "gridcolor": "white",
            "linecolor": "white",
            "ticks": ""
           },
           "bgcolor": "#E5ECF6",
           "radialaxis": {
            "gridcolor": "white",
            "linecolor": "white",
            "ticks": ""
           }
          },
          "scene": {
           "xaxis": {
            "backgroundcolor": "#E5ECF6",
            "gridcolor": "white",
            "gridwidth": 2,
            "linecolor": "white",
            "showbackground": true,
            "ticks": "",
            "zerolinecolor": "white"
           },
           "yaxis": {
            "backgroundcolor": "#E5ECF6",
            "gridcolor": "white",
            "gridwidth": 2,
            "linecolor": "white",
            "showbackground": true,
            "ticks": "",
            "zerolinecolor": "white"
           },
           "zaxis": {
            "backgroundcolor": "#E5ECF6",
            "gridcolor": "white",
            "gridwidth": 2,
            "linecolor": "white",
            "showbackground": true,
            "ticks": "",
            "zerolinecolor": "white"
           }
          },
          "shapedefaults": {
           "line": {
            "color": "#2a3f5f"
           }
          },
          "ternary": {
           "aaxis": {
            "gridcolor": "white",
            "linecolor": "white",
            "ticks": ""
           },
           "baxis": {
            "gridcolor": "white",
            "linecolor": "white",
            "ticks": ""
           },
           "bgcolor": "#E5ECF6",
           "caxis": {
            "gridcolor": "white",
            "linecolor": "white",
            "ticks": ""
           }
          },
          "title": {
           "x": 0.05
          },
          "xaxis": {
           "automargin": true,
           "gridcolor": "white",
           "linecolor": "white",
           "ticks": "",
           "title": {
            "standoff": 15
           },
           "zerolinecolor": "white",
           "zerolinewidth": 2
          },
          "yaxis": {
           "automargin": true,
           "gridcolor": "white",
           "linecolor": "white",
           "ticks": "",
           "title": {
            "standoff": 15
           },
           "zerolinecolor": "white",
           "zerolinewidth": 2
          }
         }
        },
        "title": {
         "font": {
          "color": "#4D5663"
         }
        },
        "xaxis": {
         "gridcolor": "#E1E5ED",
         "showgrid": true,
         "tickfont": {
          "color": "#4D5663"
         },
         "title": {
          "font": {
           "color": "#4D5663"
          },
          "text": ""
         },
         "zerolinecolor": "#E1E5ED"
        },
        "yaxis": {
         "gridcolor": "#E1E5ED",
         "showgrid": true,
         "tickfont": {
          "color": "#4D5663"
         },
         "title": {
          "font": {
           "color": "#4D5663"
          },
          "text": ""
         },
         "zerolinecolor": "#E1E5ED"
        }
       }
      },
      "text/html": [
       "<div>                            <div id=\"01d00254-dbed-4fbe-9f02-9ebcb28f6def\" class=\"plotly-graph-div\" style=\"height:525px; width:100%;\"></div>            <script type=\"text/javascript\">                require([\"plotly\"], function(Plotly) {                    window.PLOTLYENV=window.PLOTLYENV || {};\n",
       "                    window.PLOTLYENV.BASE_URL='https://plot.ly';                                    if (document.getElementById(\"01d00254-dbed-4fbe-9f02-9ebcb28f6def\")) {                    Plotly.newPlot(                        \"01d00254-dbed-4fbe-9f02-9ebcb28f6def\",                        [{\"marker\":{\"color\":\"rgba(255, 153, 51, 0.6)\",\"line\":{\"color\":\"rgba(255, 153, 51, 1.0)\",\"width\":1}},\"name\":\"Values\",\"orientation\":\"v\",\"text\":\"\",\"x\":[\"A\",\"B\",\"C\"],\"y\":[32,43,50],\"type\":\"bar\"}],                        {\"legend\":{\"bgcolor\":\"#F5F6F9\",\"font\":{\"color\":\"#4D5663\"}},\"paper_bgcolor\":\"#F5F6F9\",\"plot_bgcolor\":\"#F5F6F9\",\"template\":{\"data\":{\"barpolar\":[{\"marker\":{\"line\":{\"color\":\"#E5ECF6\",\"width\":0.5},\"pattern\":{\"fillmode\":\"overlay\",\"size\":10,\"solidity\":0.2}},\"type\":\"barpolar\"}],\"bar\":[{\"error_x\":{\"color\":\"#2a3f5f\"},\"error_y\":{\"color\":\"#2a3f5f\"},\"marker\":{\"line\":{\"color\":\"#E5ECF6\",\"width\":0.5},\"pattern\":{\"fillmode\":\"overlay\",\"size\":10,\"solidity\":0.2}},\"type\":\"bar\"}],\"carpet\":[{\"aaxis\":{\"endlinecolor\":\"#2a3f5f\",\"gridcolor\":\"white\",\"linecolor\":\"white\",\"minorgridcolor\":\"white\",\"startlinecolor\":\"#2a3f5f\"},\"baxis\":{\"endlinecolor\":\"#2a3f5f\",\"gridcolor\":\"white\",\"linecolor\":\"white\",\"minorgridcolor\":\"white\",\"startlinecolor\":\"#2a3f5f\"},\"type\":\"carpet\"}],\"choropleth\":[{\"colorbar\":{\"outlinewidth\":0,\"ticks\":\"\"},\"type\":\"choropleth\"}],\"contourcarpet\":[{\"colorbar\":{\"outlinewidth\":0,\"ticks\":\"\"},\"type\":\"contourcarpet\"}],\"contour\":[{\"colorbar\":{\"outlinewidth\":0,\"ticks\":\"\"},\"colorscale\":[[0.0,\"#0d0887\"],[0.1111111111111111,\"#46039f\"],[0.2222222222222222,\"#7201a8\"],[0.3333333333333333,\"#9c179e\"],[0.4444444444444444,\"#bd3786\"],[0.5555555555555556,\"#d8576b\"],[0.6666666666666666,\"#ed7953\"],[0.7777777777777778,\"#fb9f3a\"],[0.8888888888888888,\"#fdca26\"],[1.0,\"#f0f921\"]],\"type\":\"contour\"}],\"heatmapgl\":[{\"colorbar\":{\"outlinewidth\":0,\"ticks\":\"\"},\"colorscale\":[[0.0,\"#0d0887\"],[0.1111111111111111,\"#46039f\"],[0.2222222222222222,\"#7201a8\"],[0.3333333333333333,\"#9c179e\"],[0.4444444444444444,\"#bd3786\"],[0.5555555555555556,\"#d8576b\"],[0.6666666666666666,\"#ed7953\"],[0.7777777777777778,\"#fb9f3a\"],[0.8888888888888888,\"#fdca26\"],[1.0,\"#f0f921\"]],\"type\":\"heatmapgl\"}],\"heatmap\":[{\"colorbar\":{\"outlinewidth\":0,\"ticks\":\"\"},\"colorscale\":[[0.0,\"#0d0887\"],[0.1111111111111111,\"#46039f\"],[0.2222222222222222,\"#7201a8\"],[0.3333333333333333,\"#9c179e\"],[0.4444444444444444,\"#bd3786\"],[0.5555555555555556,\"#d8576b\"],[0.6666666666666666,\"#ed7953\"],[0.7777777777777778,\"#fb9f3a\"],[0.8888888888888888,\"#fdca26\"],[1.0,\"#f0f921\"]],\"type\":\"heatmap\"}],\"histogram2dcontour\":[{\"colorbar\":{\"outlinewidth\":0,\"ticks\":\"\"},\"colorscale\":[[0.0,\"#0d0887\"],[0.1111111111111111,\"#46039f\"],[0.2222222222222222,\"#7201a8\"],[0.3333333333333333,\"#9c179e\"],[0.4444444444444444,\"#bd3786\"],[0.5555555555555556,\"#d8576b\"],[0.6666666666666666,\"#ed7953\"],[0.7777777777777778,\"#fb9f3a\"],[0.8888888888888888,\"#fdca26\"],[1.0,\"#f0f921\"]],\"type\":\"histogram2dcontour\"}],\"histogram2d\":[{\"colorbar\":{\"outlinewidth\":0,\"ticks\":\"\"},\"colorscale\":[[0.0,\"#0d0887\"],[0.1111111111111111,\"#46039f\"],[0.2222222222222222,\"#7201a8\"],[0.3333333333333333,\"#9c179e\"],[0.4444444444444444,\"#bd3786\"],[0.5555555555555556,\"#d8576b\"],[0.6666666666666666,\"#ed7953\"],[0.7777777777777778,\"#fb9f3a\"],[0.8888888888888888,\"#fdca26\"],[1.0,\"#f0f921\"]],\"type\":\"histogram2d\"}],\"histogram\":[{\"marker\":{\"pattern\":{\"fillmode\":\"overlay\",\"size\":10,\"solidity\":0.2}},\"type\":\"histogram\"}],\"mesh3d\":[{\"colorbar\":{\"outlinewidth\":0,\"ticks\":\"\"},\"type\":\"mesh3d\"}],\"parcoords\":[{\"line\":{\"colorbar\":{\"outlinewidth\":0,\"ticks\":\"\"}},\"type\":\"parcoords\"}],\"pie\":[{\"automargin\":true,\"type\":\"pie\"}],\"scatter3d\":[{\"line\":{\"colorbar\":{\"outlinewidth\":0,\"ticks\":\"\"}},\"marker\":{\"colorbar\":{\"outlinewidth\":0,\"ticks\":\"\"}},\"type\":\"scatter3d\"}],\"scattercarpet\":[{\"marker\":{\"colorbar\":{\"outlinewidth\":0,\"ticks\":\"\"}},\"type\":\"scattercarpet\"}],\"scattergeo\":[{\"marker\":{\"colorbar\":{\"outlinewidth\":0,\"ticks\":\"\"}},\"type\":\"scattergeo\"}],\"scattergl\":[{\"marker\":{\"colorbar\":{\"outlinewidth\":0,\"ticks\":\"\"}},\"type\":\"scattergl\"}],\"scattermapbox\":[{\"marker\":{\"colorbar\":{\"outlinewidth\":0,\"ticks\":\"\"}},\"type\":\"scattermapbox\"}],\"scatterpolargl\":[{\"marker\":{\"colorbar\":{\"outlinewidth\":0,\"ticks\":\"\"}},\"type\":\"scatterpolargl\"}],\"scatterpolar\":[{\"marker\":{\"colorbar\":{\"outlinewidth\":0,\"ticks\":\"\"}},\"type\":\"scatterpolar\"}],\"scatter\":[{\"fillpattern\":{\"fillmode\":\"overlay\",\"size\":10,\"solidity\":0.2},\"type\":\"scatter\"}],\"scatterternary\":[{\"marker\":{\"colorbar\":{\"outlinewidth\":0,\"ticks\":\"\"}},\"type\":\"scatterternary\"}],\"surface\":[{\"colorbar\":{\"outlinewidth\":0,\"ticks\":\"\"},\"colorscale\":[[0.0,\"#0d0887\"],[0.1111111111111111,\"#46039f\"],[0.2222222222222222,\"#7201a8\"],[0.3333333333333333,\"#9c179e\"],[0.4444444444444444,\"#bd3786\"],[0.5555555555555556,\"#d8576b\"],[0.6666666666666666,\"#ed7953\"],[0.7777777777777778,\"#fb9f3a\"],[0.8888888888888888,\"#fdca26\"],[1.0,\"#f0f921\"]],\"type\":\"surface\"}],\"table\":[{\"cells\":{\"fill\":{\"color\":\"#EBF0F8\"},\"line\":{\"color\":\"white\"}},\"header\":{\"fill\":{\"color\":\"#C8D4E3\"},\"line\":{\"color\":\"white\"}},\"type\":\"table\"}]},\"layout\":{\"annotationdefaults\":{\"arrowcolor\":\"#2a3f5f\",\"arrowhead\":0,\"arrowwidth\":1},\"autotypenumbers\":\"strict\",\"coloraxis\":{\"colorbar\":{\"outlinewidth\":0,\"ticks\":\"\"}},\"colorscale\":{\"diverging\":[[0,\"#8e0152\"],[0.1,\"#c51b7d\"],[0.2,\"#de77ae\"],[0.3,\"#f1b6da\"],[0.4,\"#fde0ef\"],[0.5,\"#f7f7f7\"],[0.6,\"#e6f5d0\"],[0.7,\"#b8e186\"],[0.8,\"#7fbc41\"],[0.9,\"#4d9221\"],[1,\"#276419\"]],\"sequential\":[[0.0,\"#0d0887\"],[0.1111111111111111,\"#46039f\"],[0.2222222222222222,\"#7201a8\"],[0.3333333333333333,\"#9c179e\"],[0.4444444444444444,\"#bd3786\"],[0.5555555555555556,\"#d8576b\"],[0.6666666666666666,\"#ed7953\"],[0.7777777777777778,\"#fb9f3a\"],[0.8888888888888888,\"#fdca26\"],[1.0,\"#f0f921\"]],\"sequentialminus\":[[0.0,\"#0d0887\"],[0.1111111111111111,\"#46039f\"],[0.2222222222222222,\"#7201a8\"],[0.3333333333333333,\"#9c179e\"],[0.4444444444444444,\"#bd3786\"],[0.5555555555555556,\"#d8576b\"],[0.6666666666666666,\"#ed7953\"],[0.7777777777777778,\"#fb9f3a\"],[0.8888888888888888,\"#fdca26\"],[1.0,\"#f0f921\"]]},\"colorway\":[\"#636efa\",\"#EF553B\",\"#00cc96\",\"#ab63fa\",\"#FFA15A\",\"#19d3f3\",\"#FF6692\",\"#B6E880\",\"#FF97FF\",\"#FECB52\"],\"font\":{\"color\":\"#2a3f5f\"},\"geo\":{\"bgcolor\":\"white\",\"lakecolor\":\"white\",\"landcolor\":\"#E5ECF6\",\"showlakes\":true,\"showland\":true,\"subunitcolor\":\"white\"},\"hoverlabel\":{\"align\":\"left\"},\"hovermode\":\"closest\",\"mapbox\":{\"style\":\"light\"},\"paper_bgcolor\":\"white\",\"plot_bgcolor\":\"#E5ECF6\",\"polar\":{\"angularaxis\":{\"gridcolor\":\"white\",\"linecolor\":\"white\",\"ticks\":\"\"},\"bgcolor\":\"#E5ECF6\",\"radialaxis\":{\"gridcolor\":\"white\",\"linecolor\":\"white\",\"ticks\":\"\"}},\"scene\":{\"xaxis\":{\"backgroundcolor\":\"#E5ECF6\",\"gridcolor\":\"white\",\"gridwidth\":2,\"linecolor\":\"white\",\"showbackground\":true,\"ticks\":\"\",\"zerolinecolor\":\"white\"},\"yaxis\":{\"backgroundcolor\":\"#E5ECF6\",\"gridcolor\":\"white\",\"gridwidth\":2,\"linecolor\":\"white\",\"showbackground\":true,\"ticks\":\"\",\"zerolinecolor\":\"white\"},\"zaxis\":{\"backgroundcolor\":\"#E5ECF6\",\"gridcolor\":\"white\",\"gridwidth\":2,\"linecolor\":\"white\",\"showbackground\":true,\"ticks\":\"\",\"zerolinecolor\":\"white\"}},\"shapedefaults\":{\"line\":{\"color\":\"#2a3f5f\"}},\"ternary\":{\"aaxis\":{\"gridcolor\":\"white\",\"linecolor\":\"white\",\"ticks\":\"\"},\"baxis\":{\"gridcolor\":\"white\",\"linecolor\":\"white\",\"ticks\":\"\"},\"bgcolor\":\"#E5ECF6\",\"caxis\":{\"gridcolor\":\"white\",\"linecolor\":\"white\",\"ticks\":\"\"}},\"title\":{\"x\":0.05},\"xaxis\":{\"automargin\":true,\"gridcolor\":\"white\",\"linecolor\":\"white\",\"ticks\":\"\",\"title\":{\"standoff\":15},\"zerolinecolor\":\"white\",\"zerolinewidth\":2},\"yaxis\":{\"automargin\":true,\"gridcolor\":\"white\",\"linecolor\":\"white\",\"ticks\":\"\",\"title\":{\"standoff\":15},\"zerolinecolor\":\"white\",\"zerolinewidth\":2}}},\"title\":{\"font\":{\"color\":\"#4D5663\"}},\"xaxis\":{\"gridcolor\":\"#E1E5ED\",\"showgrid\":true,\"tickfont\":{\"color\":\"#4D5663\"},\"title\":{\"font\":{\"color\":\"#4D5663\"},\"text\":\"\"},\"zerolinecolor\":\"#E1E5ED\"},\"yaxis\":{\"gridcolor\":\"#E1E5ED\",\"showgrid\":true,\"tickfont\":{\"color\":\"#4D5663\"},\"title\":{\"font\":{\"color\":\"#4D5663\"},\"text\":\"\"},\"zerolinecolor\":\"#E1E5ED\"}},                        {\"showLink\": true, \"linkText\": \"Export to plot.ly\", \"plotlyServerURL\": \"https://plot.ly\", \"responsive\": true}                    ).then(function(){\n",
       "                            \n",
       "var gd = document.getElementById('01d00254-dbed-4fbe-9f02-9ebcb28f6def');\n",
       "var x = new MutationObserver(function (mutations, observer) {{\n",
       "        var display = window.getComputedStyle(gd).display;\n",
       "        if (!display || display === 'none') {{\n",
       "            console.log([gd, 'removed!']);\n",
       "            Plotly.purge(gd);\n",
       "            observer.disconnect();\n",
       "        }}\n",
       "}});\n",
       "\n",
       "// Listen for the removal of the full notebook cells\n",
       "var notebookContainer = gd.closest('#notebook-container');\n",
       "if (notebookContainer) {{\n",
       "    x.observe(notebookContainer, {childList: true});\n",
       "}}\n",
       "\n",
       "// Listen for the clearing of the current output cell\n",
       "var outputEl = gd.closest('.output');\n",
       "if (outputEl) {{\n",
       "    x.observe(outputEl, {childList: true});\n",
       "}}\n",
       "\n",
       "                        })                };                });            </script>        </div>"
      ]
     },
     "metadata": {},
     "output_type": "display_data"
    }
   ],
   "source": [
    "df2.iplot(kind='bar',x='Category',y='Values')"
   ]
  },
  {
   "cell_type": "code",
   "execution_count": 23,
   "id": "877f77f3",
   "metadata": {},
   "outputs": [
    {
     "data": {
      "application/vnd.plotly.v1+json": {
       "config": {
        "linkText": "Export to plot.ly",
        "plotlyServerURL": "https://plot.ly",
        "showLink": true
       },
       "data": [
        {
         "marker": {
          "color": "rgba(255, 153, 51, 0.6)",
          "line": {
           "color": "rgba(255, 153, 51, 1.0)",
           "width": 1
          }
         },
         "name": "None",
         "orientation": "v",
         "text": "",
         "type": "bar",
         "x": [
          "A",
          "B",
          "C",
          "D"
         ],
         "y": [
          100,
          100,
          100,
          100
         ]
        }
       ],
       "layout": {
        "legend": {
         "bgcolor": "#F5F6F9",
         "font": {
          "color": "#4D5663"
         }
        },
        "paper_bgcolor": "#F5F6F9",
        "plot_bgcolor": "#F5F6F9",
        "template": {
         "data": {
          "bar": [
           {
            "error_x": {
             "color": "#2a3f5f"
            },
            "error_y": {
             "color": "#2a3f5f"
            },
            "marker": {
             "line": {
              "color": "#E5ECF6",
              "width": 0.5
             },
             "pattern": {
              "fillmode": "overlay",
              "size": 10,
              "solidity": 0.2
             }
            },
            "type": "bar"
           }
          ],
          "barpolar": [
           {
            "marker": {
             "line": {
              "color": "#E5ECF6",
              "width": 0.5
             },
             "pattern": {
              "fillmode": "overlay",
              "size": 10,
              "solidity": 0.2
             }
            },
            "type": "barpolar"
           }
          ],
          "carpet": [
           {
            "aaxis": {
             "endlinecolor": "#2a3f5f",
             "gridcolor": "white",
             "linecolor": "white",
             "minorgridcolor": "white",
             "startlinecolor": "#2a3f5f"
            },
            "baxis": {
             "endlinecolor": "#2a3f5f",
             "gridcolor": "white",
             "linecolor": "white",
             "minorgridcolor": "white",
             "startlinecolor": "#2a3f5f"
            },
            "type": "carpet"
           }
          ],
          "choropleth": [
           {
            "colorbar": {
             "outlinewidth": 0,
             "ticks": ""
            },
            "type": "choropleth"
           }
          ],
          "contour": [
           {
            "colorbar": {
             "outlinewidth": 0,
             "ticks": ""
            },
            "colorscale": [
             [
              0,
              "#0d0887"
             ],
             [
              0.1111111111111111,
              "#46039f"
             ],
             [
              0.2222222222222222,
              "#7201a8"
             ],
             [
              0.3333333333333333,
              "#9c179e"
             ],
             [
              0.4444444444444444,
              "#bd3786"
             ],
             [
              0.5555555555555556,
              "#d8576b"
             ],
             [
              0.6666666666666666,
              "#ed7953"
             ],
             [
              0.7777777777777778,
              "#fb9f3a"
             ],
             [
              0.8888888888888888,
              "#fdca26"
             ],
             [
              1,
              "#f0f921"
             ]
            ],
            "type": "contour"
           }
          ],
          "contourcarpet": [
           {
            "colorbar": {
             "outlinewidth": 0,
             "ticks": ""
            },
            "type": "contourcarpet"
           }
          ],
          "heatmap": [
           {
            "colorbar": {
             "outlinewidth": 0,
             "ticks": ""
            },
            "colorscale": [
             [
              0,
              "#0d0887"
             ],
             [
              0.1111111111111111,
              "#46039f"
             ],
             [
              0.2222222222222222,
              "#7201a8"
             ],
             [
              0.3333333333333333,
              "#9c179e"
             ],
             [
              0.4444444444444444,
              "#bd3786"
             ],
             [
              0.5555555555555556,
              "#d8576b"
             ],
             [
              0.6666666666666666,
              "#ed7953"
             ],
             [
              0.7777777777777778,
              "#fb9f3a"
             ],
             [
              0.8888888888888888,
              "#fdca26"
             ],
             [
              1,
              "#f0f921"
             ]
            ],
            "type": "heatmap"
           }
          ],
          "heatmapgl": [
           {
            "colorbar": {
             "outlinewidth": 0,
             "ticks": ""
            },
            "colorscale": [
             [
              0,
              "#0d0887"
             ],
             [
              0.1111111111111111,
              "#46039f"
             ],
             [
              0.2222222222222222,
              "#7201a8"
             ],
             [
              0.3333333333333333,
              "#9c179e"
             ],
             [
              0.4444444444444444,
              "#bd3786"
             ],
             [
              0.5555555555555556,
              "#d8576b"
             ],
             [
              0.6666666666666666,
              "#ed7953"
             ],
             [
              0.7777777777777778,
              "#fb9f3a"
             ],
             [
              0.8888888888888888,
              "#fdca26"
             ],
             [
              1,
              "#f0f921"
             ]
            ],
            "type": "heatmapgl"
           }
          ],
          "histogram": [
           {
            "marker": {
             "pattern": {
              "fillmode": "overlay",
              "size": 10,
              "solidity": 0.2
             }
            },
            "type": "histogram"
           }
          ],
          "histogram2d": [
           {
            "colorbar": {
             "outlinewidth": 0,
             "ticks": ""
            },
            "colorscale": [
             [
              0,
              "#0d0887"
             ],
             [
              0.1111111111111111,
              "#46039f"
             ],
             [
              0.2222222222222222,
              "#7201a8"
             ],
             [
              0.3333333333333333,
              "#9c179e"
             ],
             [
              0.4444444444444444,
              "#bd3786"
             ],
             [
              0.5555555555555556,
              "#d8576b"
             ],
             [
              0.6666666666666666,
              "#ed7953"
             ],
             [
              0.7777777777777778,
              "#fb9f3a"
             ],
             [
              0.8888888888888888,
              "#fdca26"
             ],
             [
              1,
              "#f0f921"
             ]
            ],
            "type": "histogram2d"
           }
          ],
          "histogram2dcontour": [
           {
            "colorbar": {
             "outlinewidth": 0,
             "ticks": ""
            },
            "colorscale": [
             [
              0,
              "#0d0887"
             ],
             [
              0.1111111111111111,
              "#46039f"
             ],
             [
              0.2222222222222222,
              "#7201a8"
             ],
             [
              0.3333333333333333,
              "#9c179e"
             ],
             [
              0.4444444444444444,
              "#bd3786"
             ],
             [
              0.5555555555555556,
              "#d8576b"
             ],
             [
              0.6666666666666666,
              "#ed7953"
             ],
             [
              0.7777777777777778,
              "#fb9f3a"
             ],
             [
              0.8888888888888888,
              "#fdca26"
             ],
             [
              1,
              "#f0f921"
             ]
            ],
            "type": "histogram2dcontour"
           }
          ],
          "mesh3d": [
           {
            "colorbar": {
             "outlinewidth": 0,
             "ticks": ""
            },
            "type": "mesh3d"
           }
          ],
          "parcoords": [
           {
            "line": {
             "colorbar": {
              "outlinewidth": 0,
              "ticks": ""
             }
            },
            "type": "parcoords"
           }
          ],
          "pie": [
           {
            "automargin": true,
            "type": "pie"
           }
          ],
          "scatter": [
           {
            "fillpattern": {
             "fillmode": "overlay",
             "size": 10,
             "solidity": 0.2
            },
            "type": "scatter"
           }
          ],
          "scatter3d": [
           {
            "line": {
             "colorbar": {
              "outlinewidth": 0,
              "ticks": ""
             }
            },
            "marker": {
             "colorbar": {
              "outlinewidth": 0,
              "ticks": ""
             }
            },
            "type": "scatter3d"
           }
          ],
          "scattercarpet": [
           {
            "marker": {
             "colorbar": {
              "outlinewidth": 0,
              "ticks": ""
             }
            },
            "type": "scattercarpet"
           }
          ],
          "scattergeo": [
           {
            "marker": {
             "colorbar": {
              "outlinewidth": 0,
              "ticks": ""
             }
            },
            "type": "scattergeo"
           }
          ],
          "scattergl": [
           {
            "marker": {
             "colorbar": {
              "outlinewidth": 0,
              "ticks": ""
             }
            },
            "type": "scattergl"
           }
          ],
          "scattermapbox": [
           {
            "marker": {
             "colorbar": {
              "outlinewidth": 0,
              "ticks": ""
             }
            },
            "type": "scattermapbox"
           }
          ],
          "scatterpolar": [
           {
            "marker": {
             "colorbar": {
              "outlinewidth": 0,
              "ticks": ""
             }
            },
            "type": "scatterpolar"
           }
          ],
          "scatterpolargl": [
           {
            "marker": {
             "colorbar": {
              "outlinewidth": 0,
              "ticks": ""
             }
            },
            "type": "scatterpolargl"
           }
          ],
          "scatterternary": [
           {
            "marker": {
             "colorbar": {
              "outlinewidth": 0,
              "ticks": ""
             }
            },
            "type": "scatterternary"
           }
          ],
          "surface": [
           {
            "colorbar": {
             "outlinewidth": 0,
             "ticks": ""
            },
            "colorscale": [
             [
              0,
              "#0d0887"
             ],
             [
              0.1111111111111111,
              "#46039f"
             ],
             [
              0.2222222222222222,
              "#7201a8"
             ],
             [
              0.3333333333333333,
              "#9c179e"
             ],
             [
              0.4444444444444444,
              "#bd3786"
             ],
             [
              0.5555555555555556,
              "#d8576b"
             ],
             [
              0.6666666666666666,
              "#ed7953"
             ],
             [
              0.7777777777777778,
              "#fb9f3a"
             ],
             [
              0.8888888888888888,
              "#fdca26"
             ],
             [
              1,
              "#f0f921"
             ]
            ],
            "type": "surface"
           }
          ],
          "table": [
           {
            "cells": {
             "fill": {
              "color": "#EBF0F8"
             },
             "line": {
              "color": "white"
             }
            },
            "header": {
             "fill": {
              "color": "#C8D4E3"
             },
             "line": {
              "color": "white"
             }
            },
            "type": "table"
           }
          ]
         },
         "layout": {
          "annotationdefaults": {
           "arrowcolor": "#2a3f5f",
           "arrowhead": 0,
           "arrowwidth": 1
          },
          "autotypenumbers": "strict",
          "coloraxis": {
           "colorbar": {
            "outlinewidth": 0,
            "ticks": ""
           }
          },
          "colorscale": {
           "diverging": [
            [
             0,
             "#8e0152"
            ],
            [
             0.1,
             "#c51b7d"
            ],
            [
             0.2,
             "#de77ae"
            ],
            [
             0.3,
             "#f1b6da"
            ],
            [
             0.4,
             "#fde0ef"
            ],
            [
             0.5,
             "#f7f7f7"
            ],
            [
             0.6,
             "#e6f5d0"
            ],
            [
             0.7,
             "#b8e186"
            ],
            [
             0.8,
             "#7fbc41"
            ],
            [
             0.9,
             "#4d9221"
            ],
            [
             1,
             "#276419"
            ]
           ],
           "sequential": [
            [
             0,
             "#0d0887"
            ],
            [
             0.1111111111111111,
             "#46039f"
            ],
            [
             0.2222222222222222,
             "#7201a8"
            ],
            [
             0.3333333333333333,
             "#9c179e"
            ],
            [
             0.4444444444444444,
             "#bd3786"
            ],
            [
             0.5555555555555556,
             "#d8576b"
            ],
            [
             0.6666666666666666,
             "#ed7953"
            ],
            [
             0.7777777777777778,
             "#fb9f3a"
            ],
            [
             0.8888888888888888,
             "#fdca26"
            ],
            [
             1,
             "#f0f921"
            ]
           ],
           "sequentialminus": [
            [
             0,
             "#0d0887"
            ],
            [
             0.1111111111111111,
             "#46039f"
            ],
            [
             0.2222222222222222,
             "#7201a8"
            ],
            [
             0.3333333333333333,
             "#9c179e"
            ],
            [
             0.4444444444444444,
             "#bd3786"
            ],
            [
             0.5555555555555556,
             "#d8576b"
            ],
            [
             0.6666666666666666,
             "#ed7953"
            ],
            [
             0.7777777777777778,
             "#fb9f3a"
            ],
            [
             0.8888888888888888,
             "#fdca26"
            ],
            [
             1,
             "#f0f921"
            ]
           ]
          },
          "colorway": [
           "#636efa",
           "#EF553B",
           "#00cc96",
           "#ab63fa",
           "#FFA15A",
           "#19d3f3",
           "#FF6692",
           "#B6E880",
           "#FF97FF",
           "#FECB52"
          ],
          "font": {
           "color": "#2a3f5f"
          },
          "geo": {
           "bgcolor": "white",
           "lakecolor": "white",
           "landcolor": "#E5ECF6",
           "showlakes": true,
           "showland": true,
           "subunitcolor": "white"
          },
          "hoverlabel": {
           "align": "left"
          },
          "hovermode": "closest",
          "mapbox": {
           "style": "light"
          },
          "paper_bgcolor": "white",
          "plot_bgcolor": "#E5ECF6",
          "polar": {
           "angularaxis": {
            "gridcolor": "white",
            "linecolor": "white",
            "ticks": ""
           },
           "bgcolor": "#E5ECF6",
           "radialaxis": {
            "gridcolor": "white",
            "linecolor": "white",
            "ticks": ""
           }
          },
          "scene": {
           "xaxis": {
            "backgroundcolor": "#E5ECF6",
            "gridcolor": "white",
            "gridwidth": 2,
            "linecolor": "white",
            "showbackground": true,
            "ticks": "",
            "zerolinecolor": "white"
           },
           "yaxis": {
            "backgroundcolor": "#E5ECF6",
            "gridcolor": "white",
            "gridwidth": 2,
            "linecolor": "white",
            "showbackground": true,
            "ticks": "",
            "zerolinecolor": "white"
           },
           "zaxis": {
            "backgroundcolor": "#E5ECF6",
            "gridcolor": "white",
            "gridwidth": 2,
            "linecolor": "white",
            "showbackground": true,
            "ticks": "",
            "zerolinecolor": "white"
           }
          },
          "shapedefaults": {
           "line": {
            "color": "#2a3f5f"
           }
          },
          "ternary": {
           "aaxis": {
            "gridcolor": "white",
            "linecolor": "white",
            "ticks": ""
           },
           "baxis": {
            "gridcolor": "white",
            "linecolor": "white",
            "ticks": ""
           },
           "bgcolor": "#E5ECF6",
           "caxis": {
            "gridcolor": "white",
            "linecolor": "white",
            "ticks": ""
           }
          },
          "title": {
           "x": 0.05
          },
          "xaxis": {
           "automargin": true,
           "gridcolor": "white",
           "linecolor": "white",
           "ticks": "",
           "title": {
            "standoff": 15
           },
           "zerolinecolor": "white",
           "zerolinewidth": 2
          },
          "yaxis": {
           "automargin": true,
           "gridcolor": "white",
           "linecolor": "white",
           "ticks": "",
           "title": {
            "standoff": 15
           },
           "zerolinecolor": "white",
           "zerolinewidth": 2
          }
         }
        },
        "title": {
         "font": {
          "color": "#4D5663"
         }
        },
        "xaxis": {
         "gridcolor": "#E1E5ED",
         "showgrid": true,
         "tickfont": {
          "color": "#4D5663"
         },
         "title": {
          "font": {
           "color": "#4D5663"
          },
          "text": ""
         },
         "zerolinecolor": "#E1E5ED"
        },
        "yaxis": {
         "gridcolor": "#E1E5ED",
         "showgrid": true,
         "tickfont": {
          "color": "#4D5663"
         },
         "title": {
          "font": {
           "color": "#4D5663"
          },
          "text": ""
         },
         "zerolinecolor": "#E1E5ED"
        }
       }
      },
      "text/html": [
       "<div>                            <div id=\"1b769f68-bbb0-44cd-85c5-a1e27469bd38\" class=\"plotly-graph-div\" style=\"height:525px; width:100%;\"></div>            <script type=\"text/javascript\">                require([\"plotly\"], function(Plotly) {                    window.PLOTLYENV=window.PLOTLYENV || {};\n",
       "                    window.PLOTLYENV.BASE_URL='https://plot.ly';                                    if (document.getElementById(\"1b769f68-bbb0-44cd-85c5-a1e27469bd38\")) {                    Plotly.newPlot(                        \"1b769f68-bbb0-44cd-85c5-a1e27469bd38\",                        [{\"marker\":{\"color\":\"rgba(255, 153, 51, 0.6)\",\"line\":{\"color\":\"rgba(255, 153, 51, 1.0)\",\"width\":1}},\"name\":\"None\",\"orientation\":\"v\",\"text\":\"\",\"x\":[\"A\",\"B\",\"C\",\"D\"],\"y\":[100,100,100,100],\"type\":\"bar\"}],                        {\"legend\":{\"bgcolor\":\"#F5F6F9\",\"font\":{\"color\":\"#4D5663\"}},\"paper_bgcolor\":\"#F5F6F9\",\"plot_bgcolor\":\"#F5F6F9\",\"template\":{\"data\":{\"barpolar\":[{\"marker\":{\"line\":{\"color\":\"#E5ECF6\",\"width\":0.5},\"pattern\":{\"fillmode\":\"overlay\",\"size\":10,\"solidity\":0.2}},\"type\":\"barpolar\"}],\"bar\":[{\"error_x\":{\"color\":\"#2a3f5f\"},\"error_y\":{\"color\":\"#2a3f5f\"},\"marker\":{\"line\":{\"color\":\"#E5ECF6\",\"width\":0.5},\"pattern\":{\"fillmode\":\"overlay\",\"size\":10,\"solidity\":0.2}},\"type\":\"bar\"}],\"carpet\":[{\"aaxis\":{\"endlinecolor\":\"#2a3f5f\",\"gridcolor\":\"white\",\"linecolor\":\"white\",\"minorgridcolor\":\"white\",\"startlinecolor\":\"#2a3f5f\"},\"baxis\":{\"endlinecolor\":\"#2a3f5f\",\"gridcolor\":\"white\",\"linecolor\":\"white\",\"minorgridcolor\":\"white\",\"startlinecolor\":\"#2a3f5f\"},\"type\":\"carpet\"}],\"choropleth\":[{\"colorbar\":{\"outlinewidth\":0,\"ticks\":\"\"},\"type\":\"choropleth\"}],\"contourcarpet\":[{\"colorbar\":{\"outlinewidth\":0,\"ticks\":\"\"},\"type\":\"contourcarpet\"}],\"contour\":[{\"colorbar\":{\"outlinewidth\":0,\"ticks\":\"\"},\"colorscale\":[[0.0,\"#0d0887\"],[0.1111111111111111,\"#46039f\"],[0.2222222222222222,\"#7201a8\"],[0.3333333333333333,\"#9c179e\"],[0.4444444444444444,\"#bd3786\"],[0.5555555555555556,\"#d8576b\"],[0.6666666666666666,\"#ed7953\"],[0.7777777777777778,\"#fb9f3a\"],[0.8888888888888888,\"#fdca26\"],[1.0,\"#f0f921\"]],\"type\":\"contour\"}],\"heatmapgl\":[{\"colorbar\":{\"outlinewidth\":0,\"ticks\":\"\"},\"colorscale\":[[0.0,\"#0d0887\"],[0.1111111111111111,\"#46039f\"],[0.2222222222222222,\"#7201a8\"],[0.3333333333333333,\"#9c179e\"],[0.4444444444444444,\"#bd3786\"],[0.5555555555555556,\"#d8576b\"],[0.6666666666666666,\"#ed7953\"],[0.7777777777777778,\"#fb9f3a\"],[0.8888888888888888,\"#fdca26\"],[1.0,\"#f0f921\"]],\"type\":\"heatmapgl\"}],\"heatmap\":[{\"colorbar\":{\"outlinewidth\":0,\"ticks\":\"\"},\"colorscale\":[[0.0,\"#0d0887\"],[0.1111111111111111,\"#46039f\"],[0.2222222222222222,\"#7201a8\"],[0.3333333333333333,\"#9c179e\"],[0.4444444444444444,\"#bd3786\"],[0.5555555555555556,\"#d8576b\"],[0.6666666666666666,\"#ed7953\"],[0.7777777777777778,\"#fb9f3a\"],[0.8888888888888888,\"#fdca26\"],[1.0,\"#f0f921\"]],\"type\":\"heatmap\"}],\"histogram2dcontour\":[{\"colorbar\":{\"outlinewidth\":0,\"ticks\":\"\"},\"colorscale\":[[0.0,\"#0d0887\"],[0.1111111111111111,\"#46039f\"],[0.2222222222222222,\"#7201a8\"],[0.3333333333333333,\"#9c179e\"],[0.4444444444444444,\"#bd3786\"],[0.5555555555555556,\"#d8576b\"],[0.6666666666666666,\"#ed7953\"],[0.7777777777777778,\"#fb9f3a\"],[0.8888888888888888,\"#fdca26\"],[1.0,\"#f0f921\"]],\"type\":\"histogram2dcontour\"}],\"histogram2d\":[{\"colorbar\":{\"outlinewidth\":0,\"ticks\":\"\"},\"colorscale\":[[0.0,\"#0d0887\"],[0.1111111111111111,\"#46039f\"],[0.2222222222222222,\"#7201a8\"],[0.3333333333333333,\"#9c179e\"],[0.4444444444444444,\"#bd3786\"],[0.5555555555555556,\"#d8576b\"],[0.6666666666666666,\"#ed7953\"],[0.7777777777777778,\"#fb9f3a\"],[0.8888888888888888,\"#fdca26\"],[1.0,\"#f0f921\"]],\"type\":\"histogram2d\"}],\"histogram\":[{\"marker\":{\"pattern\":{\"fillmode\":\"overlay\",\"size\":10,\"solidity\":0.2}},\"type\":\"histogram\"}],\"mesh3d\":[{\"colorbar\":{\"outlinewidth\":0,\"ticks\":\"\"},\"type\":\"mesh3d\"}],\"parcoords\":[{\"line\":{\"colorbar\":{\"outlinewidth\":0,\"ticks\":\"\"}},\"type\":\"parcoords\"}],\"pie\":[{\"automargin\":true,\"type\":\"pie\"}],\"scatter3d\":[{\"line\":{\"colorbar\":{\"outlinewidth\":0,\"ticks\":\"\"}},\"marker\":{\"colorbar\":{\"outlinewidth\":0,\"ticks\":\"\"}},\"type\":\"scatter3d\"}],\"scattercarpet\":[{\"marker\":{\"colorbar\":{\"outlinewidth\":0,\"ticks\":\"\"}},\"type\":\"scattercarpet\"}],\"scattergeo\":[{\"marker\":{\"colorbar\":{\"outlinewidth\":0,\"ticks\":\"\"}},\"type\":\"scattergeo\"}],\"scattergl\":[{\"marker\":{\"colorbar\":{\"outlinewidth\":0,\"ticks\":\"\"}},\"type\":\"scattergl\"}],\"scattermapbox\":[{\"marker\":{\"colorbar\":{\"outlinewidth\":0,\"ticks\":\"\"}},\"type\":\"scattermapbox\"}],\"scatterpolargl\":[{\"marker\":{\"colorbar\":{\"outlinewidth\":0,\"ticks\":\"\"}},\"type\":\"scatterpolargl\"}],\"scatterpolar\":[{\"marker\":{\"colorbar\":{\"outlinewidth\":0,\"ticks\":\"\"}},\"type\":\"scatterpolar\"}],\"scatter\":[{\"fillpattern\":{\"fillmode\":\"overlay\",\"size\":10,\"solidity\":0.2},\"type\":\"scatter\"}],\"scatterternary\":[{\"marker\":{\"colorbar\":{\"outlinewidth\":0,\"ticks\":\"\"}},\"type\":\"scatterternary\"}],\"surface\":[{\"colorbar\":{\"outlinewidth\":0,\"ticks\":\"\"},\"colorscale\":[[0.0,\"#0d0887\"],[0.1111111111111111,\"#46039f\"],[0.2222222222222222,\"#7201a8\"],[0.3333333333333333,\"#9c179e\"],[0.4444444444444444,\"#bd3786\"],[0.5555555555555556,\"#d8576b\"],[0.6666666666666666,\"#ed7953\"],[0.7777777777777778,\"#fb9f3a\"],[0.8888888888888888,\"#fdca26\"],[1.0,\"#f0f921\"]],\"type\":\"surface\"}],\"table\":[{\"cells\":{\"fill\":{\"color\":\"#EBF0F8\"},\"line\":{\"color\":\"white\"}},\"header\":{\"fill\":{\"color\":\"#C8D4E3\"},\"line\":{\"color\":\"white\"}},\"type\":\"table\"}]},\"layout\":{\"annotationdefaults\":{\"arrowcolor\":\"#2a3f5f\",\"arrowhead\":0,\"arrowwidth\":1},\"autotypenumbers\":\"strict\",\"coloraxis\":{\"colorbar\":{\"outlinewidth\":0,\"ticks\":\"\"}},\"colorscale\":{\"diverging\":[[0,\"#8e0152\"],[0.1,\"#c51b7d\"],[0.2,\"#de77ae\"],[0.3,\"#f1b6da\"],[0.4,\"#fde0ef\"],[0.5,\"#f7f7f7\"],[0.6,\"#e6f5d0\"],[0.7,\"#b8e186\"],[0.8,\"#7fbc41\"],[0.9,\"#4d9221\"],[1,\"#276419\"]],\"sequential\":[[0.0,\"#0d0887\"],[0.1111111111111111,\"#46039f\"],[0.2222222222222222,\"#7201a8\"],[0.3333333333333333,\"#9c179e\"],[0.4444444444444444,\"#bd3786\"],[0.5555555555555556,\"#d8576b\"],[0.6666666666666666,\"#ed7953\"],[0.7777777777777778,\"#fb9f3a\"],[0.8888888888888888,\"#fdca26\"],[1.0,\"#f0f921\"]],\"sequentialminus\":[[0.0,\"#0d0887\"],[0.1111111111111111,\"#46039f\"],[0.2222222222222222,\"#7201a8\"],[0.3333333333333333,\"#9c179e\"],[0.4444444444444444,\"#bd3786\"],[0.5555555555555556,\"#d8576b\"],[0.6666666666666666,\"#ed7953\"],[0.7777777777777778,\"#fb9f3a\"],[0.8888888888888888,\"#fdca26\"],[1.0,\"#f0f921\"]]},\"colorway\":[\"#636efa\",\"#EF553B\",\"#00cc96\",\"#ab63fa\",\"#FFA15A\",\"#19d3f3\",\"#FF6692\",\"#B6E880\",\"#FF97FF\",\"#FECB52\"],\"font\":{\"color\":\"#2a3f5f\"},\"geo\":{\"bgcolor\":\"white\",\"lakecolor\":\"white\",\"landcolor\":\"#E5ECF6\",\"showlakes\":true,\"showland\":true,\"subunitcolor\":\"white\"},\"hoverlabel\":{\"align\":\"left\"},\"hovermode\":\"closest\",\"mapbox\":{\"style\":\"light\"},\"paper_bgcolor\":\"white\",\"plot_bgcolor\":\"#E5ECF6\",\"polar\":{\"angularaxis\":{\"gridcolor\":\"white\",\"linecolor\":\"white\",\"ticks\":\"\"},\"bgcolor\":\"#E5ECF6\",\"radialaxis\":{\"gridcolor\":\"white\",\"linecolor\":\"white\",\"ticks\":\"\"}},\"scene\":{\"xaxis\":{\"backgroundcolor\":\"#E5ECF6\",\"gridcolor\":\"white\",\"gridwidth\":2,\"linecolor\":\"white\",\"showbackground\":true,\"ticks\":\"\",\"zerolinecolor\":\"white\"},\"yaxis\":{\"backgroundcolor\":\"#E5ECF6\",\"gridcolor\":\"white\",\"gridwidth\":2,\"linecolor\":\"white\",\"showbackground\":true,\"ticks\":\"\",\"zerolinecolor\":\"white\"},\"zaxis\":{\"backgroundcolor\":\"#E5ECF6\",\"gridcolor\":\"white\",\"gridwidth\":2,\"linecolor\":\"white\",\"showbackground\":true,\"ticks\":\"\",\"zerolinecolor\":\"white\"}},\"shapedefaults\":{\"line\":{\"color\":\"#2a3f5f\"}},\"ternary\":{\"aaxis\":{\"gridcolor\":\"white\",\"linecolor\":\"white\",\"ticks\":\"\"},\"baxis\":{\"gridcolor\":\"white\",\"linecolor\":\"white\",\"ticks\":\"\"},\"bgcolor\":\"#E5ECF6\",\"caxis\":{\"gridcolor\":\"white\",\"linecolor\":\"white\",\"ticks\":\"\"}},\"title\":{\"x\":0.05},\"xaxis\":{\"automargin\":true,\"gridcolor\":\"white\",\"linecolor\":\"white\",\"ticks\":\"\",\"title\":{\"standoff\":15},\"zerolinecolor\":\"white\",\"zerolinewidth\":2},\"yaxis\":{\"automargin\":true,\"gridcolor\":\"white\",\"linecolor\":\"white\",\"ticks\":\"\",\"title\":{\"standoff\":15},\"zerolinecolor\":\"white\",\"zerolinewidth\":2}}},\"title\":{\"font\":{\"color\":\"#4D5663\"}},\"xaxis\":{\"gridcolor\":\"#E1E5ED\",\"showgrid\":true,\"tickfont\":{\"color\":\"#4D5663\"},\"title\":{\"font\":{\"color\":\"#4D5663\"},\"text\":\"\"},\"zerolinecolor\":\"#E1E5ED\"},\"yaxis\":{\"gridcolor\":\"#E1E5ED\",\"showgrid\":true,\"tickfont\":{\"color\":\"#4D5663\"},\"title\":{\"font\":{\"color\":\"#4D5663\"},\"text\":\"\"},\"zerolinecolor\":\"#E1E5ED\"}},                        {\"showLink\": true, \"linkText\": \"Export to plot.ly\", \"plotlyServerURL\": \"https://plot.ly\", \"responsive\": true}                    ).then(function(){\n",
       "                            \n",
       "var gd = document.getElementById('1b769f68-bbb0-44cd-85c5-a1e27469bd38');\n",
       "var x = new MutationObserver(function (mutations, observer) {{\n",
       "        var display = window.getComputedStyle(gd).display;\n",
       "        if (!display || display === 'none') {{\n",
       "            console.log([gd, 'removed!']);\n",
       "            Plotly.purge(gd);\n",
       "            observer.disconnect();\n",
       "        }}\n",
       "}});\n",
       "\n",
       "// Listen for the removal of the full notebook cells\n",
       "var notebookContainer = gd.closest('#notebook-container');\n",
       "if (notebookContainer) {{\n",
       "    x.observe(notebookContainer, {childList: true});\n",
       "}}\n",
       "\n",
       "// Listen for the clearing of the current output cell\n",
       "var outputEl = gd.closest('.output');\n",
       "if (outputEl) {{\n",
       "    x.observe(outputEl, {childList: true});\n",
       "}}\n",
       "\n",
       "                        })                };                });            </script>        </div>"
      ]
     },
     "metadata": {},
     "output_type": "display_data"
    }
   ],
   "source": [
    "df.count().iplot(kind='bar')"
   ]
  },
  {
   "cell_type": "markdown",
   "id": "6148ad27",
   "metadata": {},
   "source": [
    "## Boxplot"
   ]
  },
  {
   "cell_type": "code",
   "execution_count": 24,
   "id": "cf84a8bc",
   "metadata": {},
   "outputs": [
    {
     "data": {
      "application/vnd.plotly.v1+json": {
       "config": {
        "linkText": "Export to plot.ly",
        "plotlyServerURL": "https://plot.ly",
        "showLink": true
       },
       "data": [
        {
         "boxpoints": false,
         "line": {
          "width": 1.3
         },
         "marker": {
          "color": "rgba(255, 153, 51, 1.0)"
         },
         "name": "A",
         "orientation": "v",
         "type": "box",
         "y": [
          -0.13175400242810156,
          1.4398736154014231,
          0.3084936992738871,
          0.5076264204380968,
          -0.7625284986653112,
          -1.0062511787786008,
          0.11469784115897165,
          1.9310696770869487,
          1.0944035694729664,
          0.6372421397859684,
          0.3855089464458704,
          -0.8121273360861435,
          -0.3234342665261247,
          2.362812817762973,
          -0.9020043009425683,
          1.5125228590996407,
          1.6738212663422762,
          -0.9901310738157569,
          1.084961991228402,
          -0.8959408642253713,
          2.1316610208320763,
          -1.5130697817897543,
          -0.9054073025929361,
          -1.2363645490471573,
          -0.15194927661083432,
          -0.2377615536333579,
          -0.5007722283776846,
          -0.7023143914132617,
          -2.1165840455647387,
          0.725447620478989,
          0.21628655747987344,
          2.215565705679116,
          -1.6546694084066793,
          0.43522055750008765,
          -0.7290404129663632,
          -2.072652678094007,
          -1.5357339134344634,
          0.6597408315792757,
          0.7471678649316231,
          1.0183098975792102,
          -0.0475017122305315,
          0.6226526850571343,
          0.11867141066397108,
          0.6785159601012161,
          -2.2702452299697886,
          1.1238379665770963,
          0.6230048619585441,
          0.8719729055231573,
          1.4326270000120012,
          -0.24688836716890633,
          0.8117736190877305,
          1.61223643973982,
          -1.4932034080063534,
          0.8037053962798918,
          1.7130283780118272,
          -0.6700078392530018,
          1.5568132179108136,
          0.40626162740550076,
          -2.256267543737473,
          1.092041777618682,
          2.4343498861619737,
          0.11904330167051473,
          1.301154598107079,
          1.1121166128876387,
          -0.09443622486311361,
          1.5039962172550305,
          -1.5611350973183005,
          2.0907823004658885,
          -1.920492399044538,
          -0.32259609854818216,
          -0.28860611837376987,
          -3.9006781071827716,
          -1.448796535345966,
          -0.2317550134453871,
          0.6794020374305854,
          -1.9386900580032422,
          -0.5411660242004356,
          0.20184037671840202,
          0.2194539547450508,
          -0.26809272600799905,
          0.47807622579924847,
          0.28813930760653533,
          -1.2171719295118983,
          1.6613721485393889,
          -1.129899743938994,
          1.231837149691319,
          0.906027903471736,
          0.41874076383417547,
          1.140639223532903,
          -0.27309072874514134,
          -1.5997041234561773,
          2.0818397320483397,
          -0.507997666275523,
          -0.6412893664962762,
          0.1353104566092275,
          0.7058193926130889,
          -0.8816664183269983,
          0.31121281370841103,
          -0.39274099041646093,
          -0.5095365211072483
         ]
        },
        {
         "boxpoints": false,
         "line": {
          "width": 1.3
         },
         "marker": {
          "color": "rgba(55, 128, 191, 1.0)"
         },
         "name": "B",
         "orientation": "v",
         "type": "box",
         "y": [
          0.7668247603098971,
          0.25608341454276456,
          -0.418007492438254,
          1.6479000639513037,
          -1.085957707598228,
          -0.6471993669751592,
          -1.1476836051943966,
          0.3647731658486326,
          0.32719258878439345,
          0.36629851821546877,
          -0.16000570641145667,
          1.5669653312034988,
          -1.3354132322743333,
          -0.23044821694920747,
          -0.060267767095280075,
          0.624298316824953,
          -0.7497976648916586,
          0.12707974086987975,
          -0.7140406345566194,
          1.3183538535134744,
          1.9492171783364947,
          -0.07227429606646343,
          0.7104660955504053,
          -0.3823620944176171,
          -0.0016846148843457597,
          0.8531041063996373,
          0.13650535971413694,
          -1.9768805035437342,
          0.8017552890082933,
          0.24675978309861793,
          0.40168364800647616,
          0.5419398982661194,
          -2.9408752875684945,
          -0.645007270455306,
          1.6499623708090134,
          -1.0680997060013975,
          0.31218567853158047,
          -1.1073355893203949,
          0.6627605959317424,
          0.48103810835817923,
          -0.02190442811798528,
          -0.05170363686797047,
          -0.3336029037164444,
          0.0210670145406781,
          -1.08060773901822,
          0.26716901124877135,
          0.8559623719295363,
          -0.3552226520086245,
          0.03289143543064628,
          0.043948774668583844,
          -0.8854118949675668,
          1.2392211365577033,
          0.3973864688908118,
          0.3936559984256999,
          0.5706188669456544,
          0.5938041094382246,
          0.05666814714582934,
          -0.5027644440474898,
          -0.4835465184492971,
          -0.3684119863666352,
          -0.03825882718531708,
          -0.13649727148657367,
          0.49463947836597666,
          -2.0938864041717165,
          -0.0043845897516948855,
          1.1848175021850196,
          -0.689421076516863,
          0.24697274210920545,
          2.0176554176642783,
          -0.052240509921352034,
          -1.1559621489839282,
          -0.4579065362451067,
          -0.02528773996479936,
          -1.9016111132627143,
          1.4567845672157844,
          1.3545548283768565,
          1.466930032164649,
          1.1190235946806586,
          -1.396688273698315,
          1.0578914384783338,
          1.4824964112076136,
          1.2869025951738233,
          0.2497579974130677,
          2.0314669247857053,
          0.722928865710818,
          0.8339059281666981,
          -1.1227398591384263,
          -1.2585257402688401,
          0.7647242059875361,
          -0.9639506274251255,
          1.1430521145223795,
          1.9037174534810613,
          0.9649629383966886,
          0.6330162346487069,
          0.3676138133031477,
          1.0978027541671664,
          -0.5436639063060611,
          0.41353875396477,
          -0.1949677432718928,
          0.5180959646238293
         ]
        },
        {
         "boxpoints": false,
         "line": {
          "width": 1.3
         },
         "marker": {
          "color": "rgba(50, 171, 96, 1.0)"
         },
         "name": "C",
         "orientation": "v",
         "type": "box",
         "y": [
          0.5902480411751441,
          0.3615427174565572,
          0.5584943724667715,
          -0.539479777663393,
          0.2706531152422652,
          -0.833542393308271,
          0.7286392974045819,
          -1.4945965320174728,
          -0.6625452265318137,
          -0.37846947865853864,
          1.2417825184285645,
          0.0007355735805051069,
          -0.4356728993259713,
          0.16317169569496986,
          -0.589193012708074,
          0.725373350799308,
          -0.35669892195720776,
          1.5197371392549253,
          -1.2424845208638233,
          -1.2381196347910772,
          -0.15383270820264877,
          -0.4426966470643087,
          -0.9977236313488691,
          0.9398827492619666,
          -0.5810009526837101,
          -0.24516646037302056,
          -0.5535164195308102,
          1.207506512629932,
          -1.2011830990374137,
          0.26264513630377984,
          -0.19511138677375947,
          -1.3163400417550706,
          0.4159973012391208,
          -0.08681382717263655,
          0.13341288669394546,
          -0.7495492847089976,
          1.0504017656564997,
          1.6988244486331026,
          0.794724940520421,
          -0.3771144204427599,
          -2.348372383726653,
          -1.4975991259823258,
          2.4177522410620513,
          -2.9864241534997626,
          -0.7716664732973197,
          1.6248953564900925,
          -0.30273538511562104,
          0.05309533106292075,
          0.848914373865162,
          -0.09087873869300707,
          1.117134063358559,
          1.4145737167773802,
          -0.3257264733195186,
          1.1271303673091357,
          -1.6145868739333393,
          -0.5062649868778086,
          1.4110095073391393,
          -0.6981925286743612,
          2.0298164415529087,
          1.2489456563930352,
          0.09336902497273081,
          -0.0852548467503772,
          -0.16840725945798757,
          -0.4537048669517928,
          -1.9411085402240251,
          1.1161061590598644,
          0.6580780796881278,
          0.7335014459507081,
          -0.09524930032956151,
          -0.09197492813698276,
          -1.220041781135381,
          1.8397117933427165,
          -0.668336993577057,
          -1.1200291268441804,
          -1.0459815223370534,
          -0.6351087814071277,
          0.04122285884189476,
          -1.2382872897836263,
          0.06349277947396594,
          0.3595997463624142,
          0.1273845675493883,
          -1.332046813767796,
          0.8013118104095253,
          0.05213674973624697,
          -0.7349172815712046,
          -0.622387034426038,
          -0.22300120405726176,
          0.29386608490373634,
          0.47524630185090155,
          1.2601777434464643,
          -2.5129027635317644,
          0.9907234231097561,
          1.2814600020807558,
          -0.09980158202068289,
          -0.33958170568064705,
          0.42252299385777164,
          -0.270847453454299,
          -0.721859246821871,
          1.2620005141853041,
          0.052186980272228414
         ]
        },
        {
         "boxpoints": false,
         "line": {
          "width": 1.3
         },
         "marker": {
          "color": "rgba(128, 0, 128, 1.0)"
         },
         "name": "D",
         "orientation": "v",
         "type": "box",
         "y": [
          -1.409576167266115,
          0.20537675410089584,
          -0.1640750525839635,
          -0.23668777048924583,
          -1.2814955062673854,
          -0.25038975031004135,
          -0.9721171081271407,
          -0.5134102339463291,
          0.7015914927507502,
          -1.1153426296556703,
          -0.841261678087003,
          -0.5186143193038489,
          -0.9243081595835546,
          -1.178022577850604,
          0.3286382294185649,
          -0.6687628624602802,
          1.0848961556853847,
          -0.3510611894926132,
          -1.8120691375783937,
          0.7103016536262061,
          -1.0912075242903299,
          -0.9777318692911919,
          0.9741915163209256,
          0.022628428259688676,
          0.3783837663626986,
          1.7529871217204438,
          1.102471940840788,
          0.2478317744141381,
          0.43219161331565026,
          1.1989223822176431,
          0.36465597947223916,
          -1.448094283934066,
          -0.7165556586487222,
          1.148926336575849,
          1.616831386935041,
          -0.20280041996059836,
          -1.5414116004415601,
          -0.32992438972277915,
          0.2947728801656616,
          0.5634344560871831,
          1.9147873011206857,
          0.5624785148497061,
          -1.0666306909038166,
          -0.11275740825138152,
          0.18733415585268717,
          0.12208231884626186,
          -2.5351011735132345,
          0.6706251184359282,
          -0.08992007702202028,
          -0.49387056722383493,
          0.1971368396571273,
          -0.7979875619061959,
          -0.6218610415476219,
          0.6627348876828029,
          0.07060017315945649,
          -1.7869375067051843,
          -0.11536335457879134,
          0.42599041154108436,
          -0.6690378914684313,
          -0.9469968869705551,
          -0.5428610931146891,
          -1.925027057392907,
          2.11162707786153,
          0.7465241397980572,
          -0.454011078233244,
          -1.5521418623086016,
          0.49076533427888086,
          -0.6006208361345682,
          0.8035133451291006,
          1.751469319085972,
          1.0261382711001192,
          -0.8019337021556235,
          -0.5204916419838601,
          0.19787037376093192,
          -0.615031884271281,
          -0.538998914172199,
          0.4628567484897606,
          -0.3468429223431634,
          0.32386689735915164,
          1.674068635984049,
          1.362411852756756,
          1.0476063126059973,
          -0.3942648644408054,
          2.527007256063724,
          -0.6330161916166508,
          -0.45065669348216547,
          0.09925901312434403,
          0.48561705135713645,
          -0.5325049567923323,
          0.9000741962014779,
          0.7721703190603556,
          -3.1685775380496897,
          -0.09914542523473069,
          1.1996273408126372,
          -0.7042951213219687,
          -1.2711931343065397,
          1.1959407827681903,
          -1.1966649149288007,
          0.6179182147753349,
          -1.5881976982433168
         ]
        }
       ],
       "layout": {
        "legend": {
         "bgcolor": "#F5F6F9",
         "font": {
          "color": "#4D5663"
         }
        },
        "paper_bgcolor": "#F5F6F9",
        "plot_bgcolor": "#F5F6F9",
        "template": {
         "data": {
          "bar": [
           {
            "error_x": {
             "color": "#2a3f5f"
            },
            "error_y": {
             "color": "#2a3f5f"
            },
            "marker": {
             "line": {
              "color": "#E5ECF6",
              "width": 0.5
             },
             "pattern": {
              "fillmode": "overlay",
              "size": 10,
              "solidity": 0.2
             }
            },
            "type": "bar"
           }
          ],
          "barpolar": [
           {
            "marker": {
             "line": {
              "color": "#E5ECF6",
              "width": 0.5
             },
             "pattern": {
              "fillmode": "overlay",
              "size": 10,
              "solidity": 0.2
             }
            },
            "type": "barpolar"
           }
          ],
          "carpet": [
           {
            "aaxis": {
             "endlinecolor": "#2a3f5f",
             "gridcolor": "white",
             "linecolor": "white",
             "minorgridcolor": "white",
             "startlinecolor": "#2a3f5f"
            },
            "baxis": {
             "endlinecolor": "#2a3f5f",
             "gridcolor": "white",
             "linecolor": "white",
             "minorgridcolor": "white",
             "startlinecolor": "#2a3f5f"
            },
            "type": "carpet"
           }
          ],
          "choropleth": [
           {
            "colorbar": {
             "outlinewidth": 0,
             "ticks": ""
            },
            "type": "choropleth"
           }
          ],
          "contour": [
           {
            "colorbar": {
             "outlinewidth": 0,
             "ticks": ""
            },
            "colorscale": [
             [
              0,
              "#0d0887"
             ],
             [
              0.1111111111111111,
              "#46039f"
             ],
             [
              0.2222222222222222,
              "#7201a8"
             ],
             [
              0.3333333333333333,
              "#9c179e"
             ],
             [
              0.4444444444444444,
              "#bd3786"
             ],
             [
              0.5555555555555556,
              "#d8576b"
             ],
             [
              0.6666666666666666,
              "#ed7953"
             ],
             [
              0.7777777777777778,
              "#fb9f3a"
             ],
             [
              0.8888888888888888,
              "#fdca26"
             ],
             [
              1,
              "#f0f921"
             ]
            ],
            "type": "contour"
           }
          ],
          "contourcarpet": [
           {
            "colorbar": {
             "outlinewidth": 0,
             "ticks": ""
            },
            "type": "contourcarpet"
           }
          ],
          "heatmap": [
           {
            "colorbar": {
             "outlinewidth": 0,
             "ticks": ""
            },
            "colorscale": [
             [
              0,
              "#0d0887"
             ],
             [
              0.1111111111111111,
              "#46039f"
             ],
             [
              0.2222222222222222,
              "#7201a8"
             ],
             [
              0.3333333333333333,
              "#9c179e"
             ],
             [
              0.4444444444444444,
              "#bd3786"
             ],
             [
              0.5555555555555556,
              "#d8576b"
             ],
             [
              0.6666666666666666,
              "#ed7953"
             ],
             [
              0.7777777777777778,
              "#fb9f3a"
             ],
             [
              0.8888888888888888,
              "#fdca26"
             ],
             [
              1,
              "#f0f921"
             ]
            ],
            "type": "heatmap"
           }
          ],
          "heatmapgl": [
           {
            "colorbar": {
             "outlinewidth": 0,
             "ticks": ""
            },
            "colorscale": [
             [
              0,
              "#0d0887"
             ],
             [
              0.1111111111111111,
              "#46039f"
             ],
             [
              0.2222222222222222,
              "#7201a8"
             ],
             [
              0.3333333333333333,
              "#9c179e"
             ],
             [
              0.4444444444444444,
              "#bd3786"
             ],
             [
              0.5555555555555556,
              "#d8576b"
             ],
             [
              0.6666666666666666,
              "#ed7953"
             ],
             [
              0.7777777777777778,
              "#fb9f3a"
             ],
             [
              0.8888888888888888,
              "#fdca26"
             ],
             [
              1,
              "#f0f921"
             ]
            ],
            "type": "heatmapgl"
           }
          ],
          "histogram": [
           {
            "marker": {
             "pattern": {
              "fillmode": "overlay",
              "size": 10,
              "solidity": 0.2
             }
            },
            "type": "histogram"
           }
          ],
          "histogram2d": [
           {
            "colorbar": {
             "outlinewidth": 0,
             "ticks": ""
            },
            "colorscale": [
             [
              0,
              "#0d0887"
             ],
             [
              0.1111111111111111,
              "#46039f"
             ],
             [
              0.2222222222222222,
              "#7201a8"
             ],
             [
              0.3333333333333333,
              "#9c179e"
             ],
             [
              0.4444444444444444,
              "#bd3786"
             ],
             [
              0.5555555555555556,
              "#d8576b"
             ],
             [
              0.6666666666666666,
              "#ed7953"
             ],
             [
              0.7777777777777778,
              "#fb9f3a"
             ],
             [
              0.8888888888888888,
              "#fdca26"
             ],
             [
              1,
              "#f0f921"
             ]
            ],
            "type": "histogram2d"
           }
          ],
          "histogram2dcontour": [
           {
            "colorbar": {
             "outlinewidth": 0,
             "ticks": ""
            },
            "colorscale": [
             [
              0,
              "#0d0887"
             ],
             [
              0.1111111111111111,
              "#46039f"
             ],
             [
              0.2222222222222222,
              "#7201a8"
             ],
             [
              0.3333333333333333,
              "#9c179e"
             ],
             [
              0.4444444444444444,
              "#bd3786"
             ],
             [
              0.5555555555555556,
              "#d8576b"
             ],
             [
              0.6666666666666666,
              "#ed7953"
             ],
             [
              0.7777777777777778,
              "#fb9f3a"
             ],
             [
              0.8888888888888888,
              "#fdca26"
             ],
             [
              1,
              "#f0f921"
             ]
            ],
            "type": "histogram2dcontour"
           }
          ],
          "mesh3d": [
           {
            "colorbar": {
             "outlinewidth": 0,
             "ticks": ""
            },
            "type": "mesh3d"
           }
          ],
          "parcoords": [
           {
            "line": {
             "colorbar": {
              "outlinewidth": 0,
              "ticks": ""
             }
            },
            "type": "parcoords"
           }
          ],
          "pie": [
           {
            "automargin": true,
            "type": "pie"
           }
          ],
          "scatter": [
           {
            "fillpattern": {
             "fillmode": "overlay",
             "size": 10,
             "solidity": 0.2
            },
            "type": "scatter"
           }
          ],
          "scatter3d": [
           {
            "line": {
             "colorbar": {
              "outlinewidth": 0,
              "ticks": ""
             }
            },
            "marker": {
             "colorbar": {
              "outlinewidth": 0,
              "ticks": ""
             }
            },
            "type": "scatter3d"
           }
          ],
          "scattercarpet": [
           {
            "marker": {
             "colorbar": {
              "outlinewidth": 0,
              "ticks": ""
             }
            },
            "type": "scattercarpet"
           }
          ],
          "scattergeo": [
           {
            "marker": {
             "colorbar": {
              "outlinewidth": 0,
              "ticks": ""
             }
            },
            "type": "scattergeo"
           }
          ],
          "scattergl": [
           {
            "marker": {
             "colorbar": {
              "outlinewidth": 0,
              "ticks": ""
             }
            },
            "type": "scattergl"
           }
          ],
          "scattermapbox": [
           {
            "marker": {
             "colorbar": {
              "outlinewidth": 0,
              "ticks": ""
             }
            },
            "type": "scattermapbox"
           }
          ],
          "scatterpolar": [
           {
            "marker": {
             "colorbar": {
              "outlinewidth": 0,
              "ticks": ""
             }
            },
            "type": "scatterpolar"
           }
          ],
          "scatterpolargl": [
           {
            "marker": {
             "colorbar": {
              "outlinewidth": 0,
              "ticks": ""
             }
            },
            "type": "scatterpolargl"
           }
          ],
          "scatterternary": [
           {
            "marker": {
             "colorbar": {
              "outlinewidth": 0,
              "ticks": ""
             }
            },
            "type": "scatterternary"
           }
          ],
          "surface": [
           {
            "colorbar": {
             "outlinewidth": 0,
             "ticks": ""
            },
            "colorscale": [
             [
              0,
              "#0d0887"
             ],
             [
              0.1111111111111111,
              "#46039f"
             ],
             [
              0.2222222222222222,
              "#7201a8"
             ],
             [
              0.3333333333333333,
              "#9c179e"
             ],
             [
              0.4444444444444444,
              "#bd3786"
             ],
             [
              0.5555555555555556,
              "#d8576b"
             ],
             [
              0.6666666666666666,
              "#ed7953"
             ],
             [
              0.7777777777777778,
              "#fb9f3a"
             ],
             [
              0.8888888888888888,
              "#fdca26"
             ],
             [
              1,
              "#f0f921"
             ]
            ],
            "type": "surface"
           }
          ],
          "table": [
           {
            "cells": {
             "fill": {
              "color": "#EBF0F8"
             },
             "line": {
              "color": "white"
             }
            },
            "header": {
             "fill": {
              "color": "#C8D4E3"
             },
             "line": {
              "color": "white"
             }
            },
            "type": "table"
           }
          ]
         },
         "layout": {
          "annotationdefaults": {
           "arrowcolor": "#2a3f5f",
           "arrowhead": 0,
           "arrowwidth": 1
          },
          "autotypenumbers": "strict",
          "coloraxis": {
           "colorbar": {
            "outlinewidth": 0,
            "ticks": ""
           }
          },
          "colorscale": {
           "diverging": [
            [
             0,
             "#8e0152"
            ],
            [
             0.1,
             "#c51b7d"
            ],
            [
             0.2,
             "#de77ae"
            ],
            [
             0.3,
             "#f1b6da"
            ],
            [
             0.4,
             "#fde0ef"
            ],
            [
             0.5,
             "#f7f7f7"
            ],
            [
             0.6,
             "#e6f5d0"
            ],
            [
             0.7,
             "#b8e186"
            ],
            [
             0.8,
             "#7fbc41"
            ],
            [
             0.9,
             "#4d9221"
            ],
            [
             1,
             "#276419"
            ]
           ],
           "sequential": [
            [
             0,
             "#0d0887"
            ],
            [
             0.1111111111111111,
             "#46039f"
            ],
            [
             0.2222222222222222,
             "#7201a8"
            ],
            [
             0.3333333333333333,
             "#9c179e"
            ],
            [
             0.4444444444444444,
             "#bd3786"
            ],
            [
             0.5555555555555556,
             "#d8576b"
            ],
            [
             0.6666666666666666,
             "#ed7953"
            ],
            [
             0.7777777777777778,
             "#fb9f3a"
            ],
            [
             0.8888888888888888,
             "#fdca26"
            ],
            [
             1,
             "#f0f921"
            ]
           ],
           "sequentialminus": [
            [
             0,
             "#0d0887"
            ],
            [
             0.1111111111111111,
             "#46039f"
            ],
            [
             0.2222222222222222,
             "#7201a8"
            ],
            [
             0.3333333333333333,
             "#9c179e"
            ],
            [
             0.4444444444444444,
             "#bd3786"
            ],
            [
             0.5555555555555556,
             "#d8576b"
            ],
            [
             0.6666666666666666,
             "#ed7953"
            ],
            [
             0.7777777777777778,
             "#fb9f3a"
            ],
            [
             0.8888888888888888,
             "#fdca26"
            ],
            [
             1,
             "#f0f921"
            ]
           ]
          },
          "colorway": [
           "#636efa",
           "#EF553B",
           "#00cc96",
           "#ab63fa",
           "#FFA15A",
           "#19d3f3",
           "#FF6692",
           "#B6E880",
           "#FF97FF",
           "#FECB52"
          ],
          "font": {
           "color": "#2a3f5f"
          },
          "geo": {
           "bgcolor": "white",
           "lakecolor": "white",
           "landcolor": "#E5ECF6",
           "showlakes": true,
           "showland": true,
           "subunitcolor": "white"
          },
          "hoverlabel": {
           "align": "left"
          },
          "hovermode": "closest",
          "mapbox": {
           "style": "light"
          },
          "paper_bgcolor": "white",
          "plot_bgcolor": "#E5ECF6",
          "polar": {
           "angularaxis": {
            "gridcolor": "white",
            "linecolor": "white",
            "ticks": ""
           },
           "bgcolor": "#E5ECF6",
           "radialaxis": {
            "gridcolor": "white",
            "linecolor": "white",
            "ticks": ""
           }
          },
          "scene": {
           "xaxis": {
            "backgroundcolor": "#E5ECF6",
            "gridcolor": "white",
            "gridwidth": 2,
            "linecolor": "white",
            "showbackground": true,
            "ticks": "",
            "zerolinecolor": "white"
           },
           "yaxis": {
            "backgroundcolor": "#E5ECF6",
            "gridcolor": "white",
            "gridwidth": 2,
            "linecolor": "white",
            "showbackground": true,
            "ticks": "",
            "zerolinecolor": "white"
           },
           "zaxis": {
            "backgroundcolor": "#E5ECF6",
            "gridcolor": "white",
            "gridwidth": 2,
            "linecolor": "white",
            "showbackground": true,
            "ticks": "",
            "zerolinecolor": "white"
           }
          },
          "shapedefaults": {
           "line": {
            "color": "#2a3f5f"
           }
          },
          "ternary": {
           "aaxis": {
            "gridcolor": "white",
            "linecolor": "white",
            "ticks": ""
           },
           "baxis": {
            "gridcolor": "white",
            "linecolor": "white",
            "ticks": ""
           },
           "bgcolor": "#E5ECF6",
           "caxis": {
            "gridcolor": "white",
            "linecolor": "white",
            "ticks": ""
           }
          },
          "title": {
           "x": 0.05
          },
          "xaxis": {
           "automargin": true,
           "gridcolor": "white",
           "linecolor": "white",
           "ticks": "",
           "title": {
            "standoff": 15
           },
           "zerolinecolor": "white",
           "zerolinewidth": 2
          },
          "yaxis": {
           "automargin": true,
           "gridcolor": "white",
           "linecolor": "white",
           "ticks": "",
           "title": {
            "standoff": 15
           },
           "zerolinecolor": "white",
           "zerolinewidth": 2
          }
         }
        },
        "title": {
         "font": {
          "color": "#4D5663"
         }
        },
        "xaxis": {
         "gridcolor": "#E1E5ED",
         "showgrid": true,
         "tickfont": {
          "color": "#4D5663"
         },
         "title": {
          "font": {
           "color": "#4D5663"
          },
          "text": ""
         },
         "zerolinecolor": "#E1E5ED"
        },
        "yaxis": {
         "gridcolor": "#E1E5ED",
         "showgrid": true,
         "tickfont": {
          "color": "#4D5663"
         },
         "title": {
          "font": {
           "color": "#4D5663"
          },
          "text": ""
         },
         "zerolinecolor": "#E1E5ED"
        }
       }
      },
      "text/html": [
       "<div>                            <div id=\"b42360e1-8b01-4412-bdf2-c1a12135ce1a\" class=\"plotly-graph-div\" style=\"height:525px; width:100%;\"></div>            <script type=\"text/javascript\">                require([\"plotly\"], function(Plotly) {                    window.PLOTLYENV=window.PLOTLYENV || {};\n",
       "                    window.PLOTLYENV.BASE_URL='https://plot.ly';                                    if (document.getElementById(\"b42360e1-8b01-4412-bdf2-c1a12135ce1a\")) {                    Plotly.newPlot(                        \"b42360e1-8b01-4412-bdf2-c1a12135ce1a\",                        [{\"boxpoints\":false,\"line\":{\"width\":1.3},\"marker\":{\"color\":\"rgba(255, 153, 51, 1.0)\"},\"name\":\"A\",\"orientation\":\"v\",\"y\":[-0.13175400242810156,1.4398736154014231,0.3084936992738871,0.5076264204380968,-0.7625284986653112,-1.0062511787786008,0.11469784115897165,1.9310696770869487,1.0944035694729664,0.6372421397859684,0.3855089464458704,-0.8121273360861435,-0.3234342665261247,2.362812817762973,-0.9020043009425683,1.5125228590996407,1.6738212663422762,-0.9901310738157569,1.084961991228402,-0.8959408642253713,2.1316610208320763,-1.5130697817897543,-0.9054073025929361,-1.2363645490471573,-0.15194927661083432,-0.2377615536333579,-0.5007722283776846,-0.7023143914132617,-2.1165840455647387,0.725447620478989,0.21628655747987344,2.215565705679116,-1.6546694084066793,0.43522055750008765,-0.7290404129663632,-2.072652678094007,-1.5357339134344634,0.6597408315792757,0.7471678649316231,1.0183098975792102,-0.0475017122305315,0.6226526850571343,0.11867141066397108,0.6785159601012161,-2.2702452299697886,1.1238379665770963,0.6230048619585441,0.8719729055231573,1.4326270000120012,-0.24688836716890633,0.8117736190877305,1.61223643973982,-1.4932034080063534,0.8037053962798918,1.7130283780118272,-0.6700078392530018,1.5568132179108136,0.40626162740550076,-2.256267543737473,1.092041777618682,2.4343498861619737,0.11904330167051473,1.301154598107079,1.1121166128876387,-0.09443622486311361,1.5039962172550305,-1.5611350973183005,2.0907823004658885,-1.920492399044538,-0.32259609854818216,-0.28860611837376987,-3.9006781071827716,-1.448796535345966,-0.2317550134453871,0.6794020374305854,-1.9386900580032422,-0.5411660242004356,0.20184037671840202,0.2194539547450508,-0.26809272600799905,0.47807622579924847,0.28813930760653533,-1.2171719295118983,1.6613721485393889,-1.129899743938994,1.231837149691319,0.906027903471736,0.41874076383417547,1.140639223532903,-0.27309072874514134,-1.5997041234561773,2.0818397320483397,-0.507997666275523,-0.6412893664962762,0.1353104566092275,0.7058193926130889,-0.8816664183269983,0.31121281370841103,-0.39274099041646093,-0.5095365211072483],\"type\":\"box\"},{\"boxpoints\":false,\"line\":{\"width\":1.3},\"marker\":{\"color\":\"rgba(55, 128, 191, 1.0)\"},\"name\":\"B\",\"orientation\":\"v\",\"y\":[0.7668247603098971,0.25608341454276456,-0.418007492438254,1.6479000639513037,-1.085957707598228,-0.6471993669751592,-1.1476836051943966,0.3647731658486326,0.32719258878439345,0.36629851821546877,-0.16000570641145667,1.5669653312034988,-1.3354132322743333,-0.23044821694920747,-0.060267767095280075,0.624298316824953,-0.7497976648916586,0.12707974086987975,-0.7140406345566194,1.3183538535134744,1.9492171783364947,-0.07227429606646343,0.7104660955504053,-0.3823620944176171,-0.0016846148843457597,0.8531041063996373,0.13650535971413694,-1.9768805035437342,0.8017552890082933,0.24675978309861793,0.40168364800647616,0.5419398982661194,-2.9408752875684945,-0.645007270455306,1.6499623708090134,-1.0680997060013975,0.31218567853158047,-1.1073355893203949,0.6627605959317424,0.48103810835817923,-0.02190442811798528,-0.05170363686797047,-0.3336029037164444,0.0210670145406781,-1.08060773901822,0.26716901124877135,0.8559623719295363,-0.3552226520086245,0.03289143543064628,0.043948774668583844,-0.8854118949675668,1.2392211365577033,0.3973864688908118,0.3936559984256999,0.5706188669456544,0.5938041094382246,0.05666814714582934,-0.5027644440474898,-0.4835465184492971,-0.3684119863666352,-0.03825882718531708,-0.13649727148657367,0.49463947836597666,-2.0938864041717165,-0.0043845897516948855,1.1848175021850196,-0.689421076516863,0.24697274210920545,2.0176554176642783,-0.052240509921352034,-1.1559621489839282,-0.4579065362451067,-0.02528773996479936,-1.9016111132627143,1.4567845672157844,1.3545548283768565,1.466930032164649,1.1190235946806586,-1.396688273698315,1.0578914384783338,1.4824964112076136,1.2869025951738233,0.2497579974130677,2.0314669247857053,0.722928865710818,0.8339059281666981,-1.1227398591384263,-1.2585257402688401,0.7647242059875361,-0.9639506274251255,1.1430521145223795,1.9037174534810613,0.9649629383966886,0.6330162346487069,0.3676138133031477,1.0978027541671664,-0.5436639063060611,0.41353875396477,-0.1949677432718928,0.5180959646238293],\"type\":\"box\"},{\"boxpoints\":false,\"line\":{\"width\":1.3},\"marker\":{\"color\":\"rgba(50, 171, 96, 1.0)\"},\"name\":\"C\",\"orientation\":\"v\",\"y\":[0.5902480411751441,0.3615427174565572,0.5584943724667715,-0.539479777663393,0.2706531152422652,-0.833542393308271,0.7286392974045819,-1.4945965320174728,-0.6625452265318137,-0.37846947865853864,1.2417825184285645,0.0007355735805051069,-0.4356728993259713,0.16317169569496986,-0.589193012708074,0.725373350799308,-0.35669892195720776,1.5197371392549253,-1.2424845208638233,-1.2381196347910772,-0.15383270820264877,-0.4426966470643087,-0.9977236313488691,0.9398827492619666,-0.5810009526837101,-0.24516646037302056,-0.5535164195308102,1.207506512629932,-1.2011830990374137,0.26264513630377984,-0.19511138677375947,-1.3163400417550706,0.4159973012391208,-0.08681382717263655,0.13341288669394546,-0.7495492847089976,1.0504017656564997,1.6988244486331026,0.794724940520421,-0.3771144204427599,-2.348372383726653,-1.4975991259823258,2.4177522410620513,-2.9864241534997626,-0.7716664732973197,1.6248953564900925,-0.30273538511562104,0.05309533106292075,0.848914373865162,-0.09087873869300707,1.117134063358559,1.4145737167773802,-0.3257264733195186,1.1271303673091357,-1.6145868739333393,-0.5062649868778086,1.4110095073391393,-0.6981925286743612,2.0298164415529087,1.2489456563930352,0.09336902497273081,-0.0852548467503772,-0.16840725945798757,-0.4537048669517928,-1.9411085402240251,1.1161061590598644,0.6580780796881278,0.7335014459507081,-0.09524930032956151,-0.09197492813698276,-1.220041781135381,1.8397117933427165,-0.668336993577057,-1.1200291268441804,-1.0459815223370534,-0.6351087814071277,0.04122285884189476,-1.2382872897836263,0.06349277947396594,0.3595997463624142,0.1273845675493883,-1.332046813767796,0.8013118104095253,0.05213674973624697,-0.7349172815712046,-0.622387034426038,-0.22300120405726176,0.29386608490373634,0.47524630185090155,1.2601777434464643,-2.5129027635317644,0.9907234231097561,1.2814600020807558,-0.09980158202068289,-0.33958170568064705,0.42252299385777164,-0.270847453454299,-0.721859246821871,1.2620005141853041,0.052186980272228414],\"type\":\"box\"},{\"boxpoints\":false,\"line\":{\"width\":1.3},\"marker\":{\"color\":\"rgba(128, 0, 128, 1.0)\"},\"name\":\"D\",\"orientation\":\"v\",\"y\":[-1.409576167266115,0.20537675410089584,-0.1640750525839635,-0.23668777048924583,-1.2814955062673854,-0.25038975031004135,-0.9721171081271407,-0.5134102339463291,0.7015914927507502,-1.1153426296556703,-0.841261678087003,-0.5186143193038489,-0.9243081595835546,-1.178022577850604,0.3286382294185649,-0.6687628624602802,1.0848961556853847,-0.3510611894926132,-1.8120691375783937,0.7103016536262061,-1.0912075242903299,-0.9777318692911919,0.9741915163209256,0.022628428259688676,0.3783837663626986,1.7529871217204438,1.102471940840788,0.2478317744141381,0.43219161331565026,1.1989223822176431,0.36465597947223916,-1.448094283934066,-0.7165556586487222,1.148926336575849,1.616831386935041,-0.20280041996059836,-1.5414116004415601,-0.32992438972277915,0.2947728801656616,0.5634344560871831,1.9147873011206857,0.5624785148497061,-1.0666306909038166,-0.11275740825138152,0.18733415585268717,0.12208231884626186,-2.5351011735132345,0.6706251184359282,-0.08992007702202028,-0.49387056722383493,0.1971368396571273,-0.7979875619061959,-0.6218610415476219,0.6627348876828029,0.07060017315945649,-1.7869375067051843,-0.11536335457879134,0.42599041154108436,-0.6690378914684313,-0.9469968869705551,-0.5428610931146891,-1.925027057392907,2.11162707786153,0.7465241397980572,-0.454011078233244,-1.5521418623086016,0.49076533427888086,-0.6006208361345682,0.8035133451291006,1.751469319085972,1.0261382711001192,-0.8019337021556235,-0.5204916419838601,0.19787037376093192,-0.615031884271281,-0.538998914172199,0.4628567484897606,-0.3468429223431634,0.32386689735915164,1.674068635984049,1.362411852756756,1.0476063126059973,-0.3942648644408054,2.527007256063724,-0.6330161916166508,-0.45065669348216547,0.09925901312434403,0.48561705135713645,-0.5325049567923323,0.9000741962014779,0.7721703190603556,-3.1685775380496897,-0.09914542523473069,1.1996273408126372,-0.7042951213219687,-1.2711931343065397,1.1959407827681903,-1.1966649149288007,0.6179182147753349,-1.5881976982433168],\"type\":\"box\"}],                        {\"legend\":{\"bgcolor\":\"#F5F6F9\",\"font\":{\"color\":\"#4D5663\"}},\"paper_bgcolor\":\"#F5F6F9\",\"plot_bgcolor\":\"#F5F6F9\",\"template\":{\"data\":{\"barpolar\":[{\"marker\":{\"line\":{\"color\":\"#E5ECF6\",\"width\":0.5},\"pattern\":{\"fillmode\":\"overlay\",\"size\":10,\"solidity\":0.2}},\"type\":\"barpolar\"}],\"bar\":[{\"error_x\":{\"color\":\"#2a3f5f\"},\"error_y\":{\"color\":\"#2a3f5f\"},\"marker\":{\"line\":{\"color\":\"#E5ECF6\",\"width\":0.5},\"pattern\":{\"fillmode\":\"overlay\",\"size\":10,\"solidity\":0.2}},\"type\":\"bar\"}],\"carpet\":[{\"aaxis\":{\"endlinecolor\":\"#2a3f5f\",\"gridcolor\":\"white\",\"linecolor\":\"white\",\"minorgridcolor\":\"white\",\"startlinecolor\":\"#2a3f5f\"},\"baxis\":{\"endlinecolor\":\"#2a3f5f\",\"gridcolor\":\"white\",\"linecolor\":\"white\",\"minorgridcolor\":\"white\",\"startlinecolor\":\"#2a3f5f\"},\"type\":\"carpet\"}],\"choropleth\":[{\"colorbar\":{\"outlinewidth\":0,\"ticks\":\"\"},\"type\":\"choropleth\"}],\"contourcarpet\":[{\"colorbar\":{\"outlinewidth\":0,\"ticks\":\"\"},\"type\":\"contourcarpet\"}],\"contour\":[{\"colorbar\":{\"outlinewidth\":0,\"ticks\":\"\"},\"colorscale\":[[0.0,\"#0d0887\"],[0.1111111111111111,\"#46039f\"],[0.2222222222222222,\"#7201a8\"],[0.3333333333333333,\"#9c179e\"],[0.4444444444444444,\"#bd3786\"],[0.5555555555555556,\"#d8576b\"],[0.6666666666666666,\"#ed7953\"],[0.7777777777777778,\"#fb9f3a\"],[0.8888888888888888,\"#fdca26\"],[1.0,\"#f0f921\"]],\"type\":\"contour\"}],\"heatmapgl\":[{\"colorbar\":{\"outlinewidth\":0,\"ticks\":\"\"},\"colorscale\":[[0.0,\"#0d0887\"],[0.1111111111111111,\"#46039f\"],[0.2222222222222222,\"#7201a8\"],[0.3333333333333333,\"#9c179e\"],[0.4444444444444444,\"#bd3786\"],[0.5555555555555556,\"#d8576b\"],[0.6666666666666666,\"#ed7953\"],[0.7777777777777778,\"#fb9f3a\"],[0.8888888888888888,\"#fdca26\"],[1.0,\"#f0f921\"]],\"type\":\"heatmapgl\"}],\"heatmap\":[{\"colorbar\":{\"outlinewidth\":0,\"ticks\":\"\"},\"colorscale\":[[0.0,\"#0d0887\"],[0.1111111111111111,\"#46039f\"],[0.2222222222222222,\"#7201a8\"],[0.3333333333333333,\"#9c179e\"],[0.4444444444444444,\"#bd3786\"],[0.5555555555555556,\"#d8576b\"],[0.6666666666666666,\"#ed7953\"],[0.7777777777777778,\"#fb9f3a\"],[0.8888888888888888,\"#fdca26\"],[1.0,\"#f0f921\"]],\"type\":\"heatmap\"}],\"histogram2dcontour\":[{\"colorbar\":{\"outlinewidth\":0,\"ticks\":\"\"},\"colorscale\":[[0.0,\"#0d0887\"],[0.1111111111111111,\"#46039f\"],[0.2222222222222222,\"#7201a8\"],[0.3333333333333333,\"#9c179e\"],[0.4444444444444444,\"#bd3786\"],[0.5555555555555556,\"#d8576b\"],[0.6666666666666666,\"#ed7953\"],[0.7777777777777778,\"#fb9f3a\"],[0.8888888888888888,\"#fdca26\"],[1.0,\"#f0f921\"]],\"type\":\"histogram2dcontour\"}],\"histogram2d\":[{\"colorbar\":{\"outlinewidth\":0,\"ticks\":\"\"},\"colorscale\":[[0.0,\"#0d0887\"],[0.1111111111111111,\"#46039f\"],[0.2222222222222222,\"#7201a8\"],[0.3333333333333333,\"#9c179e\"],[0.4444444444444444,\"#bd3786\"],[0.5555555555555556,\"#d8576b\"],[0.6666666666666666,\"#ed7953\"],[0.7777777777777778,\"#fb9f3a\"],[0.8888888888888888,\"#fdca26\"],[1.0,\"#f0f921\"]],\"type\":\"histogram2d\"}],\"histogram\":[{\"marker\":{\"pattern\":{\"fillmode\":\"overlay\",\"size\":10,\"solidity\":0.2}},\"type\":\"histogram\"}],\"mesh3d\":[{\"colorbar\":{\"outlinewidth\":0,\"ticks\":\"\"},\"type\":\"mesh3d\"}],\"parcoords\":[{\"line\":{\"colorbar\":{\"outlinewidth\":0,\"ticks\":\"\"}},\"type\":\"parcoords\"}],\"pie\":[{\"automargin\":true,\"type\":\"pie\"}],\"scatter3d\":[{\"line\":{\"colorbar\":{\"outlinewidth\":0,\"ticks\":\"\"}},\"marker\":{\"colorbar\":{\"outlinewidth\":0,\"ticks\":\"\"}},\"type\":\"scatter3d\"}],\"scattercarpet\":[{\"marker\":{\"colorbar\":{\"outlinewidth\":0,\"ticks\":\"\"}},\"type\":\"scattercarpet\"}],\"scattergeo\":[{\"marker\":{\"colorbar\":{\"outlinewidth\":0,\"ticks\":\"\"}},\"type\":\"scattergeo\"}],\"scattergl\":[{\"marker\":{\"colorbar\":{\"outlinewidth\":0,\"ticks\":\"\"}},\"type\":\"scattergl\"}],\"scattermapbox\":[{\"marker\":{\"colorbar\":{\"outlinewidth\":0,\"ticks\":\"\"}},\"type\":\"scattermapbox\"}],\"scatterpolargl\":[{\"marker\":{\"colorbar\":{\"outlinewidth\":0,\"ticks\":\"\"}},\"type\":\"scatterpolargl\"}],\"scatterpolar\":[{\"marker\":{\"colorbar\":{\"outlinewidth\":0,\"ticks\":\"\"}},\"type\":\"scatterpolar\"}],\"scatter\":[{\"fillpattern\":{\"fillmode\":\"overlay\",\"size\":10,\"solidity\":0.2},\"type\":\"scatter\"}],\"scatterternary\":[{\"marker\":{\"colorbar\":{\"outlinewidth\":0,\"ticks\":\"\"}},\"type\":\"scatterternary\"}],\"surface\":[{\"colorbar\":{\"outlinewidth\":0,\"ticks\":\"\"},\"colorscale\":[[0.0,\"#0d0887\"],[0.1111111111111111,\"#46039f\"],[0.2222222222222222,\"#7201a8\"],[0.3333333333333333,\"#9c179e\"],[0.4444444444444444,\"#bd3786\"],[0.5555555555555556,\"#d8576b\"],[0.6666666666666666,\"#ed7953\"],[0.7777777777777778,\"#fb9f3a\"],[0.8888888888888888,\"#fdca26\"],[1.0,\"#f0f921\"]],\"type\":\"surface\"}],\"table\":[{\"cells\":{\"fill\":{\"color\":\"#EBF0F8\"},\"line\":{\"color\":\"white\"}},\"header\":{\"fill\":{\"color\":\"#C8D4E3\"},\"line\":{\"color\":\"white\"}},\"type\":\"table\"}]},\"layout\":{\"annotationdefaults\":{\"arrowcolor\":\"#2a3f5f\",\"arrowhead\":0,\"arrowwidth\":1},\"autotypenumbers\":\"strict\",\"coloraxis\":{\"colorbar\":{\"outlinewidth\":0,\"ticks\":\"\"}},\"colorscale\":{\"diverging\":[[0,\"#8e0152\"],[0.1,\"#c51b7d\"],[0.2,\"#de77ae\"],[0.3,\"#f1b6da\"],[0.4,\"#fde0ef\"],[0.5,\"#f7f7f7\"],[0.6,\"#e6f5d0\"],[0.7,\"#b8e186\"],[0.8,\"#7fbc41\"],[0.9,\"#4d9221\"],[1,\"#276419\"]],\"sequential\":[[0.0,\"#0d0887\"],[0.1111111111111111,\"#46039f\"],[0.2222222222222222,\"#7201a8\"],[0.3333333333333333,\"#9c179e\"],[0.4444444444444444,\"#bd3786\"],[0.5555555555555556,\"#d8576b\"],[0.6666666666666666,\"#ed7953\"],[0.7777777777777778,\"#fb9f3a\"],[0.8888888888888888,\"#fdca26\"],[1.0,\"#f0f921\"]],\"sequentialminus\":[[0.0,\"#0d0887\"],[0.1111111111111111,\"#46039f\"],[0.2222222222222222,\"#7201a8\"],[0.3333333333333333,\"#9c179e\"],[0.4444444444444444,\"#bd3786\"],[0.5555555555555556,\"#d8576b\"],[0.6666666666666666,\"#ed7953\"],[0.7777777777777778,\"#fb9f3a\"],[0.8888888888888888,\"#fdca26\"],[1.0,\"#f0f921\"]]},\"colorway\":[\"#636efa\",\"#EF553B\",\"#00cc96\",\"#ab63fa\",\"#FFA15A\",\"#19d3f3\",\"#FF6692\",\"#B6E880\",\"#FF97FF\",\"#FECB52\"],\"font\":{\"color\":\"#2a3f5f\"},\"geo\":{\"bgcolor\":\"white\",\"lakecolor\":\"white\",\"landcolor\":\"#E5ECF6\",\"showlakes\":true,\"showland\":true,\"subunitcolor\":\"white\"},\"hoverlabel\":{\"align\":\"left\"},\"hovermode\":\"closest\",\"mapbox\":{\"style\":\"light\"},\"paper_bgcolor\":\"white\",\"plot_bgcolor\":\"#E5ECF6\",\"polar\":{\"angularaxis\":{\"gridcolor\":\"white\",\"linecolor\":\"white\",\"ticks\":\"\"},\"bgcolor\":\"#E5ECF6\",\"radialaxis\":{\"gridcolor\":\"white\",\"linecolor\":\"white\",\"ticks\":\"\"}},\"scene\":{\"xaxis\":{\"backgroundcolor\":\"#E5ECF6\",\"gridcolor\":\"white\",\"gridwidth\":2,\"linecolor\":\"white\",\"showbackground\":true,\"ticks\":\"\",\"zerolinecolor\":\"white\"},\"yaxis\":{\"backgroundcolor\":\"#E5ECF6\",\"gridcolor\":\"white\",\"gridwidth\":2,\"linecolor\":\"white\",\"showbackground\":true,\"ticks\":\"\",\"zerolinecolor\":\"white\"},\"zaxis\":{\"backgroundcolor\":\"#E5ECF6\",\"gridcolor\":\"white\",\"gridwidth\":2,\"linecolor\":\"white\",\"showbackground\":true,\"ticks\":\"\",\"zerolinecolor\":\"white\"}},\"shapedefaults\":{\"line\":{\"color\":\"#2a3f5f\"}},\"ternary\":{\"aaxis\":{\"gridcolor\":\"white\",\"linecolor\":\"white\",\"ticks\":\"\"},\"baxis\":{\"gridcolor\":\"white\",\"linecolor\":\"white\",\"ticks\":\"\"},\"bgcolor\":\"#E5ECF6\",\"caxis\":{\"gridcolor\":\"white\",\"linecolor\":\"white\",\"ticks\":\"\"}},\"title\":{\"x\":0.05},\"xaxis\":{\"automargin\":true,\"gridcolor\":\"white\",\"linecolor\":\"white\",\"ticks\":\"\",\"title\":{\"standoff\":15},\"zerolinecolor\":\"white\",\"zerolinewidth\":2},\"yaxis\":{\"automargin\":true,\"gridcolor\":\"white\",\"linecolor\":\"white\",\"ticks\":\"\",\"title\":{\"standoff\":15},\"zerolinecolor\":\"white\",\"zerolinewidth\":2}}},\"title\":{\"font\":{\"color\":\"#4D5663\"}},\"xaxis\":{\"gridcolor\":\"#E1E5ED\",\"showgrid\":true,\"tickfont\":{\"color\":\"#4D5663\"},\"title\":{\"font\":{\"color\":\"#4D5663\"},\"text\":\"\"},\"zerolinecolor\":\"#E1E5ED\"},\"yaxis\":{\"gridcolor\":\"#E1E5ED\",\"showgrid\":true,\"tickfont\":{\"color\":\"#4D5663\"},\"title\":{\"font\":{\"color\":\"#4D5663\"},\"text\":\"\"},\"zerolinecolor\":\"#E1E5ED\"}},                        {\"showLink\": true, \"linkText\": \"Export to plot.ly\", \"plotlyServerURL\": \"https://plot.ly\", \"responsive\": true}                    ).then(function(){\n",
       "                            \n",
       "var gd = document.getElementById('b42360e1-8b01-4412-bdf2-c1a12135ce1a');\n",
       "var x = new MutationObserver(function (mutations, observer) {{\n",
       "        var display = window.getComputedStyle(gd).display;\n",
       "        if (!display || display === 'none') {{\n",
       "            console.log([gd, 'removed!']);\n",
       "            Plotly.purge(gd);\n",
       "            observer.disconnect();\n",
       "        }}\n",
       "}});\n",
       "\n",
       "// Listen for the removal of the full notebook cells\n",
       "var notebookContainer = gd.closest('#notebook-container');\n",
       "if (notebookContainer) {{\n",
       "    x.observe(notebookContainer, {childList: true});\n",
       "}}\n",
       "\n",
       "// Listen for the clearing of the current output cell\n",
       "var outputEl = gd.closest('.output');\n",
       "if (outputEl) {{\n",
       "    x.observe(outputEl, {childList: true});\n",
       "}}\n",
       "\n",
       "                        })                };                });            </script>        </div>"
      ]
     },
     "metadata": {},
     "output_type": "display_data"
    }
   ],
   "source": [
    "df.iplot(kind='box')"
   ]
  },
  {
   "cell_type": "markdown",
   "id": "60d8525f",
   "metadata": {},
   "source": [
    "## 3D Surfaces"
   ]
  },
  {
   "cell_type": "code",
   "execution_count": 25,
   "id": "33623eed",
   "metadata": {},
   "outputs": [
    {
     "data": {
      "application/vnd.plotly.v1+json": {
       "config": {
        "linkText": "Export to plot.ly",
        "plotlyServerURL": "https://plot.ly",
        "showLink": true
       },
       "data": [
        {
         "colorscale": [
          [
           0,
           "rgb(165,0,38)"
          ],
          [
           0.1,
           "rgb(215,48,39)"
          ],
          [
           0.2,
           "rgb(244,109,67)"
          ],
          [
           0.3,
           "rgb(253,174,97)"
          ],
          [
           0.4,
           "rgb(254,224,144)"
          ],
          [
           0.5,
           "rgb(255,255,191)"
          ],
          [
           0.6,
           "rgb(224,243,248)"
          ],
          [
           0.7,
           "rgb(171,217,233)"
          ],
          [
           0.8,
           "rgb(116,173,209)"
          ],
          [
           0.9,
           "rgb(69,117,180)"
          ],
          [
           1,
           "rgb(49,54,149)"
          ]
         ],
         "type": "surface",
         "x": [
          0,
          1,
          2,
          3,
          4
         ],
         "y": [
          "x",
          "y",
          "z"
         ],
         "z": [
          [
           1,
           2,
           3,
           4,
           5
          ],
          [
           10,
           20,
           30,
           20,
           10
          ],
          [
           5,
           4,
           3,
           2,
           1
          ]
         ]
        }
       ],
       "layout": {
        "legend": {
         "bgcolor": "#F5F6F9",
         "font": {
          "color": "#4D5663"
         }
        },
        "paper_bgcolor": "#F5F6F9",
        "plot_bgcolor": "#F5F6F9",
        "template": {
         "data": {
          "bar": [
           {
            "error_x": {
             "color": "#2a3f5f"
            },
            "error_y": {
             "color": "#2a3f5f"
            },
            "marker": {
             "line": {
              "color": "#E5ECF6",
              "width": 0.5
             },
             "pattern": {
              "fillmode": "overlay",
              "size": 10,
              "solidity": 0.2
             }
            },
            "type": "bar"
           }
          ],
          "barpolar": [
           {
            "marker": {
             "line": {
              "color": "#E5ECF6",
              "width": 0.5
             },
             "pattern": {
              "fillmode": "overlay",
              "size": 10,
              "solidity": 0.2
             }
            },
            "type": "barpolar"
           }
          ],
          "carpet": [
           {
            "aaxis": {
             "endlinecolor": "#2a3f5f",
             "gridcolor": "white",
             "linecolor": "white",
             "minorgridcolor": "white",
             "startlinecolor": "#2a3f5f"
            },
            "baxis": {
             "endlinecolor": "#2a3f5f",
             "gridcolor": "white",
             "linecolor": "white",
             "minorgridcolor": "white",
             "startlinecolor": "#2a3f5f"
            },
            "type": "carpet"
           }
          ],
          "choropleth": [
           {
            "colorbar": {
             "outlinewidth": 0,
             "ticks": ""
            },
            "type": "choropleth"
           }
          ],
          "contour": [
           {
            "colorbar": {
             "outlinewidth": 0,
             "ticks": ""
            },
            "colorscale": [
             [
              0,
              "#0d0887"
             ],
             [
              0.1111111111111111,
              "#46039f"
             ],
             [
              0.2222222222222222,
              "#7201a8"
             ],
             [
              0.3333333333333333,
              "#9c179e"
             ],
             [
              0.4444444444444444,
              "#bd3786"
             ],
             [
              0.5555555555555556,
              "#d8576b"
             ],
             [
              0.6666666666666666,
              "#ed7953"
             ],
             [
              0.7777777777777778,
              "#fb9f3a"
             ],
             [
              0.8888888888888888,
              "#fdca26"
             ],
             [
              1,
              "#f0f921"
             ]
            ],
            "type": "contour"
           }
          ],
          "contourcarpet": [
           {
            "colorbar": {
             "outlinewidth": 0,
             "ticks": ""
            },
            "type": "contourcarpet"
           }
          ],
          "heatmap": [
           {
            "colorbar": {
             "outlinewidth": 0,
             "ticks": ""
            },
            "colorscale": [
             [
              0,
              "#0d0887"
             ],
             [
              0.1111111111111111,
              "#46039f"
             ],
             [
              0.2222222222222222,
              "#7201a8"
             ],
             [
              0.3333333333333333,
              "#9c179e"
             ],
             [
              0.4444444444444444,
              "#bd3786"
             ],
             [
              0.5555555555555556,
              "#d8576b"
             ],
             [
              0.6666666666666666,
              "#ed7953"
             ],
             [
              0.7777777777777778,
              "#fb9f3a"
             ],
             [
              0.8888888888888888,
              "#fdca26"
             ],
             [
              1,
              "#f0f921"
             ]
            ],
            "type": "heatmap"
           }
          ],
          "heatmapgl": [
           {
            "colorbar": {
             "outlinewidth": 0,
             "ticks": ""
            },
            "colorscale": [
             [
              0,
              "#0d0887"
             ],
             [
              0.1111111111111111,
              "#46039f"
             ],
             [
              0.2222222222222222,
              "#7201a8"
             ],
             [
              0.3333333333333333,
              "#9c179e"
             ],
             [
              0.4444444444444444,
              "#bd3786"
             ],
             [
              0.5555555555555556,
              "#d8576b"
             ],
             [
              0.6666666666666666,
              "#ed7953"
             ],
             [
              0.7777777777777778,
              "#fb9f3a"
             ],
             [
              0.8888888888888888,
              "#fdca26"
             ],
             [
              1,
              "#f0f921"
             ]
            ],
            "type": "heatmapgl"
           }
          ],
          "histogram": [
           {
            "marker": {
             "pattern": {
              "fillmode": "overlay",
              "size": 10,
              "solidity": 0.2
             }
            },
            "type": "histogram"
           }
          ],
          "histogram2d": [
           {
            "colorbar": {
             "outlinewidth": 0,
             "ticks": ""
            },
            "colorscale": [
             [
              0,
              "#0d0887"
             ],
             [
              0.1111111111111111,
              "#46039f"
             ],
             [
              0.2222222222222222,
              "#7201a8"
             ],
             [
              0.3333333333333333,
              "#9c179e"
             ],
             [
              0.4444444444444444,
              "#bd3786"
             ],
             [
              0.5555555555555556,
              "#d8576b"
             ],
             [
              0.6666666666666666,
              "#ed7953"
             ],
             [
              0.7777777777777778,
              "#fb9f3a"
             ],
             [
              0.8888888888888888,
              "#fdca26"
             ],
             [
              1,
              "#f0f921"
             ]
            ],
            "type": "histogram2d"
           }
          ],
          "histogram2dcontour": [
           {
            "colorbar": {
             "outlinewidth": 0,
             "ticks": ""
            },
            "colorscale": [
             [
              0,
              "#0d0887"
             ],
             [
              0.1111111111111111,
              "#46039f"
             ],
             [
              0.2222222222222222,
              "#7201a8"
             ],
             [
              0.3333333333333333,
              "#9c179e"
             ],
             [
              0.4444444444444444,
              "#bd3786"
             ],
             [
              0.5555555555555556,
              "#d8576b"
             ],
             [
              0.6666666666666666,
              "#ed7953"
             ],
             [
              0.7777777777777778,
              "#fb9f3a"
             ],
             [
              0.8888888888888888,
              "#fdca26"
             ],
             [
              1,
              "#f0f921"
             ]
            ],
            "type": "histogram2dcontour"
           }
          ],
          "mesh3d": [
           {
            "colorbar": {
             "outlinewidth": 0,
             "ticks": ""
            },
            "type": "mesh3d"
           }
          ],
          "parcoords": [
           {
            "line": {
             "colorbar": {
              "outlinewidth": 0,
              "ticks": ""
             }
            },
            "type": "parcoords"
           }
          ],
          "pie": [
           {
            "automargin": true,
            "type": "pie"
           }
          ],
          "scatter": [
           {
            "fillpattern": {
             "fillmode": "overlay",
             "size": 10,
             "solidity": 0.2
            },
            "type": "scatter"
           }
          ],
          "scatter3d": [
           {
            "line": {
             "colorbar": {
              "outlinewidth": 0,
              "ticks": ""
             }
            },
            "marker": {
             "colorbar": {
              "outlinewidth": 0,
              "ticks": ""
             }
            },
            "type": "scatter3d"
           }
          ],
          "scattercarpet": [
           {
            "marker": {
             "colorbar": {
              "outlinewidth": 0,
              "ticks": ""
             }
            },
            "type": "scattercarpet"
           }
          ],
          "scattergeo": [
           {
            "marker": {
             "colorbar": {
              "outlinewidth": 0,
              "ticks": ""
             }
            },
            "type": "scattergeo"
           }
          ],
          "scattergl": [
           {
            "marker": {
             "colorbar": {
              "outlinewidth": 0,
              "ticks": ""
             }
            },
            "type": "scattergl"
           }
          ],
          "scattermapbox": [
           {
            "marker": {
             "colorbar": {
              "outlinewidth": 0,
              "ticks": ""
             }
            },
            "type": "scattermapbox"
           }
          ],
          "scatterpolar": [
           {
            "marker": {
             "colorbar": {
              "outlinewidth": 0,
              "ticks": ""
             }
            },
            "type": "scatterpolar"
           }
          ],
          "scatterpolargl": [
           {
            "marker": {
             "colorbar": {
              "outlinewidth": 0,
              "ticks": ""
             }
            },
            "type": "scatterpolargl"
           }
          ],
          "scatterternary": [
           {
            "marker": {
             "colorbar": {
              "outlinewidth": 0,
              "ticks": ""
             }
            },
            "type": "scatterternary"
           }
          ],
          "surface": [
           {
            "colorbar": {
             "outlinewidth": 0,
             "ticks": ""
            },
            "colorscale": [
             [
              0,
              "#0d0887"
             ],
             [
              0.1111111111111111,
              "#46039f"
             ],
             [
              0.2222222222222222,
              "#7201a8"
             ],
             [
              0.3333333333333333,
              "#9c179e"
             ],
             [
              0.4444444444444444,
              "#bd3786"
             ],
             [
              0.5555555555555556,
              "#d8576b"
             ],
             [
              0.6666666666666666,
              "#ed7953"
             ],
             [
              0.7777777777777778,
              "#fb9f3a"
             ],
             [
              0.8888888888888888,
              "#fdca26"
             ],
             [
              1,
              "#f0f921"
             ]
            ],
            "type": "surface"
           }
          ],
          "table": [
           {
            "cells": {
             "fill": {
              "color": "#EBF0F8"
             },
             "line": {
              "color": "white"
             }
            },
            "header": {
             "fill": {
              "color": "#C8D4E3"
             },
             "line": {
              "color": "white"
             }
            },
            "type": "table"
           }
          ]
         },
         "layout": {
          "annotationdefaults": {
           "arrowcolor": "#2a3f5f",
           "arrowhead": 0,
           "arrowwidth": 1
          },
          "autotypenumbers": "strict",
          "coloraxis": {
           "colorbar": {
            "outlinewidth": 0,
            "ticks": ""
           }
          },
          "colorscale": {
           "diverging": [
            [
             0,
             "#8e0152"
            ],
            [
             0.1,
             "#c51b7d"
            ],
            [
             0.2,
             "#de77ae"
            ],
            [
             0.3,
             "#f1b6da"
            ],
            [
             0.4,
             "#fde0ef"
            ],
            [
             0.5,
             "#f7f7f7"
            ],
            [
             0.6,
             "#e6f5d0"
            ],
            [
             0.7,
             "#b8e186"
            ],
            [
             0.8,
             "#7fbc41"
            ],
            [
             0.9,
             "#4d9221"
            ],
            [
             1,
             "#276419"
            ]
           ],
           "sequential": [
            [
             0,
             "#0d0887"
            ],
            [
             0.1111111111111111,
             "#46039f"
            ],
            [
             0.2222222222222222,
             "#7201a8"
            ],
            [
             0.3333333333333333,
             "#9c179e"
            ],
            [
             0.4444444444444444,
             "#bd3786"
            ],
            [
             0.5555555555555556,
             "#d8576b"
            ],
            [
             0.6666666666666666,
             "#ed7953"
            ],
            [
             0.7777777777777778,
             "#fb9f3a"
            ],
            [
             0.8888888888888888,
             "#fdca26"
            ],
            [
             1,
             "#f0f921"
            ]
           ],
           "sequentialminus": [
            [
             0,
             "#0d0887"
            ],
            [
             0.1111111111111111,
             "#46039f"
            ],
            [
             0.2222222222222222,
             "#7201a8"
            ],
            [
             0.3333333333333333,
             "#9c179e"
            ],
            [
             0.4444444444444444,
             "#bd3786"
            ],
            [
             0.5555555555555556,
             "#d8576b"
            ],
            [
             0.6666666666666666,
             "#ed7953"
            ],
            [
             0.7777777777777778,
             "#fb9f3a"
            ],
            [
             0.8888888888888888,
             "#fdca26"
            ],
            [
             1,
             "#f0f921"
            ]
           ]
          },
          "colorway": [
           "#636efa",
           "#EF553B",
           "#00cc96",
           "#ab63fa",
           "#FFA15A",
           "#19d3f3",
           "#FF6692",
           "#B6E880",
           "#FF97FF",
           "#FECB52"
          ],
          "font": {
           "color": "#2a3f5f"
          },
          "geo": {
           "bgcolor": "white",
           "lakecolor": "white",
           "landcolor": "#E5ECF6",
           "showlakes": true,
           "showland": true,
           "subunitcolor": "white"
          },
          "hoverlabel": {
           "align": "left"
          },
          "hovermode": "closest",
          "mapbox": {
           "style": "light"
          },
          "paper_bgcolor": "white",
          "plot_bgcolor": "#E5ECF6",
          "polar": {
           "angularaxis": {
            "gridcolor": "white",
            "linecolor": "white",
            "ticks": ""
           },
           "bgcolor": "#E5ECF6",
           "radialaxis": {
            "gridcolor": "white",
            "linecolor": "white",
            "ticks": ""
           }
          },
          "scene": {
           "xaxis": {
            "backgroundcolor": "#E5ECF6",
            "gridcolor": "white",
            "gridwidth": 2,
            "linecolor": "white",
            "showbackground": true,
            "ticks": "",
            "zerolinecolor": "white"
           },
           "yaxis": {
            "backgroundcolor": "#E5ECF6",
            "gridcolor": "white",
            "gridwidth": 2,
            "linecolor": "white",
            "showbackground": true,
            "ticks": "",
            "zerolinecolor": "white"
           },
           "zaxis": {
            "backgroundcolor": "#E5ECF6",
            "gridcolor": "white",
            "gridwidth": 2,
            "linecolor": "white",
            "showbackground": true,
            "ticks": "",
            "zerolinecolor": "white"
           }
          },
          "shapedefaults": {
           "line": {
            "color": "#2a3f5f"
           }
          },
          "ternary": {
           "aaxis": {
            "gridcolor": "white",
            "linecolor": "white",
            "ticks": ""
           },
           "baxis": {
            "gridcolor": "white",
            "linecolor": "white",
            "ticks": ""
           },
           "bgcolor": "#E5ECF6",
           "caxis": {
            "gridcolor": "white",
            "linecolor": "white",
            "ticks": ""
           }
          },
          "title": {
           "x": 0.05
          },
          "xaxis": {
           "automargin": true,
           "gridcolor": "white",
           "linecolor": "white",
           "ticks": "",
           "title": {
            "standoff": 15
           },
           "zerolinecolor": "white",
           "zerolinewidth": 2
          },
          "yaxis": {
           "automargin": true,
           "gridcolor": "white",
           "linecolor": "white",
           "ticks": "",
           "title": {
            "standoff": 15
           },
           "zerolinecolor": "white",
           "zerolinewidth": 2
          }
         }
        },
        "title": {
         "font": {
          "color": "#4D5663"
         }
        },
        "xaxis": {
         "gridcolor": "#E1E5ED",
         "showgrid": true,
         "tickfont": {
          "color": "#4D5663"
         },
         "title": {
          "font": {
           "color": "#4D5663"
          },
          "text": ""
         },
         "zerolinecolor": "#E1E5ED"
        },
        "yaxis": {
         "gridcolor": "#E1E5ED",
         "showgrid": true,
         "tickfont": {
          "color": "#4D5663"
         },
         "title": {
          "font": {
           "color": "#4D5663"
          },
          "text": ""
         },
         "zerolinecolor": "#E1E5ED"
        }
       }
      },
      "text/html": [
       "<div>                            <div id=\"1b7a131d-e0b8-4f10-9843-86d83920c3d6\" class=\"plotly-graph-div\" style=\"height:525px; width:100%;\"></div>            <script type=\"text/javascript\">                require([\"plotly\"], function(Plotly) {                    window.PLOTLYENV=window.PLOTLYENV || {};\n",
       "                    window.PLOTLYENV.BASE_URL='https://plot.ly';                                    if (document.getElementById(\"1b7a131d-e0b8-4f10-9843-86d83920c3d6\")) {                    Plotly.newPlot(                        \"1b7a131d-e0b8-4f10-9843-86d83920c3d6\",                        [{\"colorscale\":[[0.0,\"rgb(165,0,38)\"],[0.1,\"rgb(215,48,39)\"],[0.2,\"rgb(244,109,67)\"],[0.3,\"rgb(253,174,97)\"],[0.4,\"rgb(254,224,144)\"],[0.5,\"rgb(255,255,191)\"],[0.6,\"rgb(224,243,248)\"],[0.7,\"rgb(171,217,233)\"],[0.8,\"rgb(116,173,209)\"],[0.9,\"rgb(69,117,180)\"],[1.0,\"rgb(49,54,149)\"]],\"x\":[0,1,2,3,4],\"y\":[\"x\",\"y\",\"z\"],\"z\":[[1,2,3,4,5],[10,20,30,20,10],[5,4,3,2,1]],\"type\":\"surface\"}],                        {\"legend\":{\"bgcolor\":\"#F5F6F9\",\"font\":{\"color\":\"#4D5663\"}},\"paper_bgcolor\":\"#F5F6F9\",\"plot_bgcolor\":\"#F5F6F9\",\"template\":{\"data\":{\"barpolar\":[{\"marker\":{\"line\":{\"color\":\"#E5ECF6\",\"width\":0.5},\"pattern\":{\"fillmode\":\"overlay\",\"size\":10,\"solidity\":0.2}},\"type\":\"barpolar\"}],\"bar\":[{\"error_x\":{\"color\":\"#2a3f5f\"},\"error_y\":{\"color\":\"#2a3f5f\"},\"marker\":{\"line\":{\"color\":\"#E5ECF6\",\"width\":0.5},\"pattern\":{\"fillmode\":\"overlay\",\"size\":10,\"solidity\":0.2}},\"type\":\"bar\"}],\"carpet\":[{\"aaxis\":{\"endlinecolor\":\"#2a3f5f\",\"gridcolor\":\"white\",\"linecolor\":\"white\",\"minorgridcolor\":\"white\",\"startlinecolor\":\"#2a3f5f\"},\"baxis\":{\"endlinecolor\":\"#2a3f5f\",\"gridcolor\":\"white\",\"linecolor\":\"white\",\"minorgridcolor\":\"white\",\"startlinecolor\":\"#2a3f5f\"},\"type\":\"carpet\"}],\"choropleth\":[{\"colorbar\":{\"outlinewidth\":0,\"ticks\":\"\"},\"type\":\"choropleth\"}],\"contourcarpet\":[{\"colorbar\":{\"outlinewidth\":0,\"ticks\":\"\"},\"type\":\"contourcarpet\"}],\"contour\":[{\"colorbar\":{\"outlinewidth\":0,\"ticks\":\"\"},\"colorscale\":[[0.0,\"#0d0887\"],[0.1111111111111111,\"#46039f\"],[0.2222222222222222,\"#7201a8\"],[0.3333333333333333,\"#9c179e\"],[0.4444444444444444,\"#bd3786\"],[0.5555555555555556,\"#d8576b\"],[0.6666666666666666,\"#ed7953\"],[0.7777777777777778,\"#fb9f3a\"],[0.8888888888888888,\"#fdca26\"],[1.0,\"#f0f921\"]],\"type\":\"contour\"}],\"heatmapgl\":[{\"colorbar\":{\"outlinewidth\":0,\"ticks\":\"\"},\"colorscale\":[[0.0,\"#0d0887\"],[0.1111111111111111,\"#46039f\"],[0.2222222222222222,\"#7201a8\"],[0.3333333333333333,\"#9c179e\"],[0.4444444444444444,\"#bd3786\"],[0.5555555555555556,\"#d8576b\"],[0.6666666666666666,\"#ed7953\"],[0.7777777777777778,\"#fb9f3a\"],[0.8888888888888888,\"#fdca26\"],[1.0,\"#f0f921\"]],\"type\":\"heatmapgl\"}],\"heatmap\":[{\"colorbar\":{\"outlinewidth\":0,\"ticks\":\"\"},\"colorscale\":[[0.0,\"#0d0887\"],[0.1111111111111111,\"#46039f\"],[0.2222222222222222,\"#7201a8\"],[0.3333333333333333,\"#9c179e\"],[0.4444444444444444,\"#bd3786\"],[0.5555555555555556,\"#d8576b\"],[0.6666666666666666,\"#ed7953\"],[0.7777777777777778,\"#fb9f3a\"],[0.8888888888888888,\"#fdca26\"],[1.0,\"#f0f921\"]],\"type\":\"heatmap\"}],\"histogram2dcontour\":[{\"colorbar\":{\"outlinewidth\":0,\"ticks\":\"\"},\"colorscale\":[[0.0,\"#0d0887\"],[0.1111111111111111,\"#46039f\"],[0.2222222222222222,\"#7201a8\"],[0.3333333333333333,\"#9c179e\"],[0.4444444444444444,\"#bd3786\"],[0.5555555555555556,\"#d8576b\"],[0.6666666666666666,\"#ed7953\"],[0.7777777777777778,\"#fb9f3a\"],[0.8888888888888888,\"#fdca26\"],[1.0,\"#f0f921\"]],\"type\":\"histogram2dcontour\"}],\"histogram2d\":[{\"colorbar\":{\"outlinewidth\":0,\"ticks\":\"\"},\"colorscale\":[[0.0,\"#0d0887\"],[0.1111111111111111,\"#46039f\"],[0.2222222222222222,\"#7201a8\"],[0.3333333333333333,\"#9c179e\"],[0.4444444444444444,\"#bd3786\"],[0.5555555555555556,\"#d8576b\"],[0.6666666666666666,\"#ed7953\"],[0.7777777777777778,\"#fb9f3a\"],[0.8888888888888888,\"#fdca26\"],[1.0,\"#f0f921\"]],\"type\":\"histogram2d\"}],\"histogram\":[{\"marker\":{\"pattern\":{\"fillmode\":\"overlay\",\"size\":10,\"solidity\":0.2}},\"type\":\"histogram\"}],\"mesh3d\":[{\"colorbar\":{\"outlinewidth\":0,\"ticks\":\"\"},\"type\":\"mesh3d\"}],\"parcoords\":[{\"line\":{\"colorbar\":{\"outlinewidth\":0,\"ticks\":\"\"}},\"type\":\"parcoords\"}],\"pie\":[{\"automargin\":true,\"type\":\"pie\"}],\"scatter3d\":[{\"line\":{\"colorbar\":{\"outlinewidth\":0,\"ticks\":\"\"}},\"marker\":{\"colorbar\":{\"outlinewidth\":0,\"ticks\":\"\"}},\"type\":\"scatter3d\"}],\"scattercarpet\":[{\"marker\":{\"colorbar\":{\"outlinewidth\":0,\"ticks\":\"\"}},\"type\":\"scattercarpet\"}],\"scattergeo\":[{\"marker\":{\"colorbar\":{\"outlinewidth\":0,\"ticks\":\"\"}},\"type\":\"scattergeo\"}],\"scattergl\":[{\"marker\":{\"colorbar\":{\"outlinewidth\":0,\"ticks\":\"\"}},\"type\":\"scattergl\"}],\"scattermapbox\":[{\"marker\":{\"colorbar\":{\"outlinewidth\":0,\"ticks\":\"\"}},\"type\":\"scattermapbox\"}],\"scatterpolargl\":[{\"marker\":{\"colorbar\":{\"outlinewidth\":0,\"ticks\":\"\"}},\"type\":\"scatterpolargl\"}],\"scatterpolar\":[{\"marker\":{\"colorbar\":{\"outlinewidth\":0,\"ticks\":\"\"}},\"type\":\"scatterpolar\"}],\"scatter\":[{\"fillpattern\":{\"fillmode\":\"overlay\",\"size\":10,\"solidity\":0.2},\"type\":\"scatter\"}],\"scatterternary\":[{\"marker\":{\"colorbar\":{\"outlinewidth\":0,\"ticks\":\"\"}},\"type\":\"scatterternary\"}],\"surface\":[{\"colorbar\":{\"outlinewidth\":0,\"ticks\":\"\"},\"colorscale\":[[0.0,\"#0d0887\"],[0.1111111111111111,\"#46039f\"],[0.2222222222222222,\"#7201a8\"],[0.3333333333333333,\"#9c179e\"],[0.4444444444444444,\"#bd3786\"],[0.5555555555555556,\"#d8576b\"],[0.6666666666666666,\"#ed7953\"],[0.7777777777777778,\"#fb9f3a\"],[0.8888888888888888,\"#fdca26\"],[1.0,\"#f0f921\"]],\"type\":\"surface\"}],\"table\":[{\"cells\":{\"fill\":{\"color\":\"#EBF0F8\"},\"line\":{\"color\":\"white\"}},\"header\":{\"fill\":{\"color\":\"#C8D4E3\"},\"line\":{\"color\":\"white\"}},\"type\":\"table\"}]},\"layout\":{\"annotationdefaults\":{\"arrowcolor\":\"#2a3f5f\",\"arrowhead\":0,\"arrowwidth\":1},\"autotypenumbers\":\"strict\",\"coloraxis\":{\"colorbar\":{\"outlinewidth\":0,\"ticks\":\"\"}},\"colorscale\":{\"diverging\":[[0,\"#8e0152\"],[0.1,\"#c51b7d\"],[0.2,\"#de77ae\"],[0.3,\"#f1b6da\"],[0.4,\"#fde0ef\"],[0.5,\"#f7f7f7\"],[0.6,\"#e6f5d0\"],[0.7,\"#b8e186\"],[0.8,\"#7fbc41\"],[0.9,\"#4d9221\"],[1,\"#276419\"]],\"sequential\":[[0.0,\"#0d0887\"],[0.1111111111111111,\"#46039f\"],[0.2222222222222222,\"#7201a8\"],[0.3333333333333333,\"#9c179e\"],[0.4444444444444444,\"#bd3786\"],[0.5555555555555556,\"#d8576b\"],[0.6666666666666666,\"#ed7953\"],[0.7777777777777778,\"#fb9f3a\"],[0.8888888888888888,\"#fdca26\"],[1.0,\"#f0f921\"]],\"sequentialminus\":[[0.0,\"#0d0887\"],[0.1111111111111111,\"#46039f\"],[0.2222222222222222,\"#7201a8\"],[0.3333333333333333,\"#9c179e\"],[0.4444444444444444,\"#bd3786\"],[0.5555555555555556,\"#d8576b\"],[0.6666666666666666,\"#ed7953\"],[0.7777777777777778,\"#fb9f3a\"],[0.8888888888888888,\"#fdca26\"],[1.0,\"#f0f921\"]]},\"colorway\":[\"#636efa\",\"#EF553B\",\"#00cc96\",\"#ab63fa\",\"#FFA15A\",\"#19d3f3\",\"#FF6692\",\"#B6E880\",\"#FF97FF\",\"#FECB52\"],\"font\":{\"color\":\"#2a3f5f\"},\"geo\":{\"bgcolor\":\"white\",\"lakecolor\":\"white\",\"landcolor\":\"#E5ECF6\",\"showlakes\":true,\"showland\":true,\"subunitcolor\":\"white\"},\"hoverlabel\":{\"align\":\"left\"},\"hovermode\":\"closest\",\"mapbox\":{\"style\":\"light\"},\"paper_bgcolor\":\"white\",\"plot_bgcolor\":\"#E5ECF6\",\"polar\":{\"angularaxis\":{\"gridcolor\":\"white\",\"linecolor\":\"white\",\"ticks\":\"\"},\"bgcolor\":\"#E5ECF6\",\"radialaxis\":{\"gridcolor\":\"white\",\"linecolor\":\"white\",\"ticks\":\"\"}},\"scene\":{\"xaxis\":{\"backgroundcolor\":\"#E5ECF6\",\"gridcolor\":\"white\",\"gridwidth\":2,\"linecolor\":\"white\",\"showbackground\":true,\"ticks\":\"\",\"zerolinecolor\":\"white\"},\"yaxis\":{\"backgroundcolor\":\"#E5ECF6\",\"gridcolor\":\"white\",\"gridwidth\":2,\"linecolor\":\"white\",\"showbackground\":true,\"ticks\":\"\",\"zerolinecolor\":\"white\"},\"zaxis\":{\"backgroundcolor\":\"#E5ECF6\",\"gridcolor\":\"white\",\"gridwidth\":2,\"linecolor\":\"white\",\"showbackground\":true,\"ticks\":\"\",\"zerolinecolor\":\"white\"}},\"shapedefaults\":{\"line\":{\"color\":\"#2a3f5f\"}},\"ternary\":{\"aaxis\":{\"gridcolor\":\"white\",\"linecolor\":\"white\",\"ticks\":\"\"},\"baxis\":{\"gridcolor\":\"white\",\"linecolor\":\"white\",\"ticks\":\"\"},\"bgcolor\":\"#E5ECF6\",\"caxis\":{\"gridcolor\":\"white\",\"linecolor\":\"white\",\"ticks\":\"\"}},\"title\":{\"x\":0.05},\"xaxis\":{\"automargin\":true,\"gridcolor\":\"white\",\"linecolor\":\"white\",\"ticks\":\"\",\"title\":{\"standoff\":15},\"zerolinecolor\":\"white\",\"zerolinewidth\":2},\"yaxis\":{\"automargin\":true,\"gridcolor\":\"white\",\"linecolor\":\"white\",\"ticks\":\"\",\"title\":{\"standoff\":15},\"zerolinecolor\":\"white\",\"zerolinewidth\":2}}},\"title\":{\"font\":{\"color\":\"#4D5663\"}},\"xaxis\":{\"gridcolor\":\"#E1E5ED\",\"showgrid\":true,\"tickfont\":{\"color\":\"#4D5663\"},\"title\":{\"font\":{\"color\":\"#4D5663\"},\"text\":\"\"},\"zerolinecolor\":\"#E1E5ED\"},\"yaxis\":{\"gridcolor\":\"#E1E5ED\",\"showgrid\":true,\"tickfont\":{\"color\":\"#4D5663\"},\"title\":{\"font\":{\"color\":\"#4D5663\"},\"text\":\"\"},\"zerolinecolor\":\"#E1E5ED\"}},                        {\"showLink\": true, \"linkText\": \"Export to plot.ly\", \"plotlyServerURL\": \"https://plot.ly\", \"responsive\": true}                    ).then(function(){\n",
       "                            \n",
       "var gd = document.getElementById('1b7a131d-e0b8-4f10-9843-86d83920c3d6');\n",
       "var x = new MutationObserver(function (mutations, observer) {{\n",
       "        var display = window.getComputedStyle(gd).display;\n",
       "        if (!display || display === 'none') {{\n",
       "            console.log([gd, 'removed!']);\n",
       "            Plotly.purge(gd);\n",
       "            observer.disconnect();\n",
       "        }}\n",
       "}});\n",
       "\n",
       "// Listen for the removal of the full notebook cells\n",
       "var notebookContainer = gd.closest('#notebook-container');\n",
       "if (notebookContainer) {{\n",
       "    x.observe(notebookContainer, {childList: true});\n",
       "}}\n",
       "\n",
       "// Listen for the clearing of the current output cell\n",
       "var outputEl = gd.closest('.output');\n",
       "if (outputEl) {{\n",
       "    x.observe(outputEl, {childList: true});\n",
       "}}\n",
       "\n",
       "                        })                };                });            </script>        </div>"
      ]
     },
     "metadata": {},
     "output_type": "display_data"
    }
   ],
   "source": [
    "df3 = pd.DataFrame({'x':[1,2,3,4,5],'y':[10,20,30,20,10],'z':[5,4,3,2,1]})\n",
    "df3.iplot(kind='surface',colorscale='rdylbu')"
   ]
  },
  {
   "cell_type": "markdown",
   "id": "1e49aa82",
   "metadata": {},
   "source": [
    "## Spread"
   ]
  },
  {
   "cell_type": "code",
   "execution_count": 27,
   "id": "45de974b",
   "metadata": {},
   "outputs": [
    {
     "name": "stderr",
     "output_type": "stream",
     "text": [
      "/Users/pranjalshukla/opt/anaconda3/lib/python3.9/site-packages/cufflinks/plotlytools.py:849: FutureWarning:\n",
      "\n",
      "The pandas.np module is deprecated and will be removed from pandas in a future version. Import numpy directly instead.\n",
      "\n",
      "/Users/pranjalshukla/opt/anaconda3/lib/python3.9/site-packages/cufflinks/plotlytools.py:850: FutureWarning:\n",
      "\n",
      "The pandas.np module is deprecated and will be removed from pandas in a future version. Import numpy directly instead.\n",
      "\n"
     ]
    },
    {
     "data": {
      "application/vnd.plotly.v1+json": {
       "config": {
        "linkText": "Export to plot.ly",
        "plotlyServerURL": "https://plot.ly",
        "showLink": true
       },
       "data": [
        {
         "line": {
          "color": "rgba(255, 153, 51, 1.0)",
          "dash": "solid",
          "shape": "linear",
          "width": 1.3
         },
         "mode": "lines",
         "name": "A",
         "text": "",
         "type": "scatter",
         "x": [
          0,
          1,
          2,
          3,
          4,
          5,
          6,
          7,
          8,
          9,
          10,
          11,
          12,
          13,
          14,
          15,
          16,
          17,
          18,
          19,
          20,
          21,
          22,
          23,
          24,
          25,
          26,
          27,
          28,
          29,
          30,
          31,
          32,
          33,
          34,
          35,
          36,
          37,
          38,
          39,
          40,
          41,
          42,
          43,
          44,
          45,
          46,
          47,
          48,
          49,
          50,
          51,
          52,
          53,
          54,
          55,
          56,
          57,
          58,
          59,
          60,
          61,
          62,
          63,
          64,
          65,
          66,
          67,
          68,
          69,
          70,
          71,
          72,
          73,
          74,
          75,
          76,
          77,
          78,
          79,
          80,
          81,
          82,
          83,
          84,
          85,
          86,
          87,
          88,
          89,
          90,
          91,
          92,
          93,
          94,
          95,
          96,
          97,
          98,
          99
         ],
         "y": [
          -0.13175400242810156,
          1.4398736154014231,
          0.3084936992738871,
          0.5076264204380968,
          -0.7625284986653112,
          -1.0062511787786008,
          0.11469784115897165,
          1.9310696770869487,
          1.0944035694729664,
          0.6372421397859684,
          0.3855089464458704,
          -0.8121273360861435,
          -0.3234342665261247,
          2.362812817762973,
          -0.9020043009425683,
          1.5125228590996407,
          1.6738212663422762,
          -0.9901310738157569,
          1.084961991228402,
          -0.8959408642253713,
          2.1316610208320763,
          -1.5130697817897543,
          -0.9054073025929361,
          -1.2363645490471573,
          -0.15194927661083432,
          -0.2377615536333579,
          -0.5007722283776846,
          -0.7023143914132617,
          -2.1165840455647387,
          0.725447620478989,
          0.21628655747987344,
          2.215565705679116,
          -1.6546694084066793,
          0.43522055750008765,
          -0.7290404129663632,
          -2.072652678094007,
          -1.5357339134344634,
          0.6597408315792757,
          0.7471678649316231,
          1.0183098975792102,
          -0.0475017122305315,
          0.6226526850571343,
          0.11867141066397108,
          0.6785159601012161,
          -2.2702452299697886,
          1.1238379665770963,
          0.6230048619585441,
          0.8719729055231573,
          1.4326270000120012,
          -0.24688836716890633,
          0.8117736190877305,
          1.61223643973982,
          -1.4932034080063534,
          0.8037053962798918,
          1.7130283780118272,
          -0.6700078392530018,
          1.5568132179108136,
          0.40626162740550076,
          -2.256267543737473,
          1.092041777618682,
          2.4343498861619737,
          0.11904330167051473,
          1.301154598107079,
          1.1121166128876387,
          -0.09443622486311361,
          1.5039962172550305,
          -1.5611350973183005,
          2.0907823004658885,
          -1.920492399044538,
          -0.32259609854818216,
          -0.28860611837376987,
          -3.9006781071827716,
          -1.448796535345966,
          -0.2317550134453871,
          0.6794020374305854,
          -1.9386900580032422,
          -0.5411660242004356,
          0.20184037671840202,
          0.2194539547450508,
          -0.26809272600799905,
          0.47807622579924847,
          0.28813930760653533,
          -1.2171719295118983,
          1.6613721485393889,
          -1.129899743938994,
          1.231837149691319,
          0.906027903471736,
          0.41874076383417547,
          1.140639223532903,
          -0.27309072874514134,
          -1.5997041234561773,
          2.0818397320483397,
          -0.507997666275523,
          -0.6412893664962762,
          0.1353104566092275,
          0.7058193926130889,
          -0.8816664183269983,
          0.31121281370841103,
          -0.39274099041646093,
          -0.5095365211072483
         ]
        },
        {
         "line": {
          "color": "rgba(55, 128, 191, 1.0)",
          "dash": "solid",
          "shape": "linear",
          "width": 1.3
         },
         "mode": "lines",
         "name": "B",
         "text": "",
         "type": "scatter",
         "x": [
          0,
          1,
          2,
          3,
          4,
          5,
          6,
          7,
          8,
          9,
          10,
          11,
          12,
          13,
          14,
          15,
          16,
          17,
          18,
          19,
          20,
          21,
          22,
          23,
          24,
          25,
          26,
          27,
          28,
          29,
          30,
          31,
          32,
          33,
          34,
          35,
          36,
          37,
          38,
          39,
          40,
          41,
          42,
          43,
          44,
          45,
          46,
          47,
          48,
          49,
          50,
          51,
          52,
          53,
          54,
          55,
          56,
          57,
          58,
          59,
          60,
          61,
          62,
          63,
          64,
          65,
          66,
          67,
          68,
          69,
          70,
          71,
          72,
          73,
          74,
          75,
          76,
          77,
          78,
          79,
          80,
          81,
          82,
          83,
          84,
          85,
          86,
          87,
          88,
          89,
          90,
          91,
          92,
          93,
          94,
          95,
          96,
          97,
          98,
          99
         ],
         "y": [
          0.7668247603098971,
          0.25608341454276456,
          -0.418007492438254,
          1.6479000639513037,
          -1.085957707598228,
          -0.6471993669751592,
          -1.1476836051943966,
          0.3647731658486326,
          0.32719258878439345,
          0.36629851821546877,
          -0.16000570641145667,
          1.5669653312034988,
          -1.3354132322743333,
          -0.23044821694920747,
          -0.060267767095280075,
          0.624298316824953,
          -0.7497976648916586,
          0.12707974086987975,
          -0.7140406345566194,
          1.3183538535134744,
          1.9492171783364947,
          -0.07227429606646343,
          0.7104660955504053,
          -0.3823620944176171,
          -0.0016846148843457597,
          0.8531041063996373,
          0.13650535971413694,
          -1.9768805035437342,
          0.8017552890082933,
          0.24675978309861793,
          0.40168364800647616,
          0.5419398982661194,
          -2.9408752875684945,
          -0.645007270455306,
          1.6499623708090134,
          -1.0680997060013975,
          0.31218567853158047,
          -1.1073355893203949,
          0.6627605959317424,
          0.48103810835817923,
          -0.02190442811798528,
          -0.05170363686797047,
          -0.3336029037164444,
          0.0210670145406781,
          -1.08060773901822,
          0.26716901124877135,
          0.8559623719295363,
          -0.3552226520086245,
          0.03289143543064628,
          0.043948774668583844,
          -0.8854118949675668,
          1.2392211365577033,
          0.3973864688908118,
          0.3936559984256999,
          0.5706188669456544,
          0.5938041094382246,
          0.05666814714582934,
          -0.5027644440474898,
          -0.4835465184492971,
          -0.3684119863666352,
          -0.03825882718531708,
          -0.13649727148657367,
          0.49463947836597666,
          -2.0938864041717165,
          -0.0043845897516948855,
          1.1848175021850196,
          -0.689421076516863,
          0.24697274210920545,
          2.0176554176642783,
          -0.052240509921352034,
          -1.1559621489839282,
          -0.4579065362451067,
          -0.02528773996479936,
          -1.9016111132627143,
          1.4567845672157844,
          1.3545548283768565,
          1.466930032164649,
          1.1190235946806586,
          -1.396688273698315,
          1.0578914384783338,
          1.4824964112076136,
          1.2869025951738233,
          0.2497579974130677,
          2.0314669247857053,
          0.722928865710818,
          0.8339059281666981,
          -1.1227398591384263,
          -1.2585257402688401,
          0.7647242059875361,
          -0.9639506274251255,
          1.1430521145223795,
          1.9037174534810613,
          0.9649629383966886,
          0.6330162346487069,
          0.3676138133031477,
          1.0978027541671664,
          -0.5436639063060611,
          0.41353875396477,
          -0.1949677432718928,
          0.5180959646238293
         ]
        },
        {
         "connectgaps": false,
         "fill": "tozeroy",
         "line": {
          "color": "green",
          "dash": "solid",
          "shape": "linear",
          "width": 0.5
         },
         "mode": "lines",
         "name": "Spread",
         "showlegend": false,
         "type": "scatter",
         "x": [
          0,
          1,
          2,
          3,
          4,
          5,
          6,
          7,
          8,
          9,
          10,
          11,
          12,
          13,
          14,
          15,
          16,
          17,
          18,
          19,
          20,
          21,
          22,
          23,
          24,
          25,
          26,
          27,
          28,
          29,
          30,
          31,
          32,
          33,
          34,
          35,
          36,
          37,
          38,
          39,
          40,
          41,
          42,
          43,
          44,
          45,
          46,
          47,
          48,
          49,
          50,
          51,
          52,
          53,
          54,
          55,
          56,
          57,
          58,
          59,
          60,
          61,
          62,
          63,
          64,
          65,
          66,
          67,
          68,
          69,
          70,
          71,
          72,
          73,
          74,
          75,
          76,
          77,
          78,
          79,
          80,
          81,
          82,
          83,
          84,
          85,
          86,
          87,
          88,
          89,
          90,
          91,
          92,
          93,
          94,
          95,
          96,
          97,
          98,
          99
         ],
         "xaxis": "x2",
         "y": [
          "",
          1.1837902008586585,
          0.7265011917121411,
          "",
          0.3234292089329168,
          "",
          1.2623814463533682,
          1.566296511238316,
          0.767210980688573,
          0.27094362157049967,
          0.5455146528573271,
          "",
          1.0119789657482086,
          2.5932610347121803,
          "",
          0.8882245422746877,
          2.4236189312339347,
          "",
          1.7990026257850213,
          "",
          0.18244384249558165,
          "",
          "",
          "",
          "",
          "",
          "",
          1.2745661121304726,
          "",
          0.47868783738037113,
          "",
          1.6736258074129964,
          1.2862058791618152,
          1.0802278279553936,
          "",
          "",
          "",
          1.7670764208996705,
          0.08440726899988071,
          0.537271789221031,
          "",
          0.6743563219251048,
          0.4522743143804155,
          0.657448945560538,
          "",
          0.856668955328325,
          "",
          1.2271955575317819,
          1.399735564581355,
          "",
          1.6971855140552972,
          0.3730153031821166,
          "",
          0.41004939785419187,
          1.1424095110661727,
          "",
          1.5001450707649844,
          0.9090260714529905,
          "",
          1.460453763985317,
          2.4726087133472907,
          0.2555405731570884,
          0.8065151197411022,
          3.206003017059355,
          "",
          0.31917871507001094,
          "",
          1.8438095583566831,
          "",
          "",
          0.8673560306101584,
          "",
          "",
          1.669856099817327,
          "",
          "",
          "",
          "",
          1.616142228443366,
          "",
          "",
          "",
          "",
          "",
          "",
          0.3979312215246209,
          2.0287677626101623,
          1.6772665041030157,
          0.37591501754536694,
          0.6908598986799841,
          "",
          0.17812227856727847,
          "",
          "",
          "",
          "",
          "",
          "",
          "",
          ""
         ],
         "yaxis": "y2"
        },
        {
         "connectgaps": false,
         "fill": "tozeroy",
         "line": {
          "color": "red",
          "dash": "solid",
          "shape": "linear",
          "width": 0.5
         },
         "mode": "lines",
         "name": "Spread",
         "showlegend": false,
         "type": "scatter",
         "x": [
          0,
          1,
          2,
          3,
          4,
          5,
          6,
          7,
          8,
          9,
          10,
          11,
          12,
          13,
          14,
          15,
          16,
          17,
          18,
          19,
          20,
          21,
          22,
          23,
          24,
          25,
          26,
          27,
          28,
          29,
          30,
          31,
          32,
          33,
          34,
          35,
          36,
          37,
          38,
          39,
          40,
          41,
          42,
          43,
          44,
          45,
          46,
          47,
          48,
          49,
          50,
          51,
          52,
          53,
          54,
          55,
          56,
          57,
          58,
          59,
          60,
          61,
          62,
          63,
          64,
          65,
          66,
          67,
          68,
          69,
          70,
          71,
          72,
          73,
          74,
          75,
          76,
          77,
          78,
          79,
          80,
          81,
          82,
          83,
          84,
          85,
          86,
          87,
          88,
          89,
          90,
          91,
          92,
          93,
          94,
          95,
          96,
          97,
          98,
          99
         ],
         "xaxis": "x2",
         "y": [
          -0.8985787627379986,
          "",
          "",
          -1.1402736435132068,
          "",
          -0.3590518118034416,
          "",
          "",
          "",
          "",
          "",
          -2.379092667289642,
          "",
          "",
          -0.8417365338472883,
          "",
          "",
          -1.1172108146856368,
          "",
          -2.214294717738846,
          "",
          -1.4407954857232907,
          -1.6158733981433415,
          -0.8540024546295402,
          -0.15026466172648856,
          -1.0908656600329951,
          -0.6372775880918216,
          "",
          -2.918339334573032,
          "",
          -0.18539709052660272,
          "",
          "",
          "",
          -2.379002783775377,
          -1.0045529720926094,
          -1.8479195919660438,
          "",
          "",
          "",
          -0.025597284112546217,
          "",
          "",
          "",
          -1.1896374909515686,
          "",
          -0.23295750997099218,
          "",
          "",
          -0.29083714183749015,
          "",
          "",
          -1.8905898768971652,
          "",
          "",
          -1.2638119486912265,
          "",
          "",
          -1.772721025288176,
          "",
          "",
          "",
          "",
          "",
          -0.09005163511141873,
          "",
          -0.8717140208014375,
          "",
          -3.938147816708816,
          -0.2703555886268301,
          "",
          -3.4427715709376647,
          -1.4235087953811667,
          "",
          -0.7773825297851991,
          -3.2932448863800987,
          -2.0080960563650847,
          -0.9171832179622565,
          "",
          -1.3259841644863328,
          -1.0044201854083652,
          -0.998763287567288,
          -1.466929926924966,
          -0.3700947762463165,
          -1.852828609649812,
          "",
          "",
          "",
          "",
          "",
          -2.742756237978557,
          "",
          -1.4729606046722115,
          -1.2743056011449831,
          -0.2323033566939202,
          -0.39198336155407754,
          -0.33800251202093723,
          -0.102325940256359,
          -0.19777324714456812,
          -1.0276324857310777
         ],
         "yaxis": "y2"
        }
       ],
       "layout": {
        "hovermode": "x",
        "legend": {
         "bgcolor": "#F5F6F9",
         "font": {
          "color": "#4D5663"
         }
        },
        "paper_bgcolor": "#F5F6F9",
        "plot_bgcolor": "#F5F6F9",
        "template": {
         "data": {
          "bar": [
           {
            "error_x": {
             "color": "#2a3f5f"
            },
            "error_y": {
             "color": "#2a3f5f"
            },
            "marker": {
             "line": {
              "color": "#E5ECF6",
              "width": 0.5
             },
             "pattern": {
              "fillmode": "overlay",
              "size": 10,
              "solidity": 0.2
             }
            },
            "type": "bar"
           }
          ],
          "barpolar": [
           {
            "marker": {
             "line": {
              "color": "#E5ECF6",
              "width": 0.5
             },
             "pattern": {
              "fillmode": "overlay",
              "size": 10,
              "solidity": 0.2
             }
            },
            "type": "barpolar"
           }
          ],
          "carpet": [
           {
            "aaxis": {
             "endlinecolor": "#2a3f5f",
             "gridcolor": "white",
             "linecolor": "white",
             "minorgridcolor": "white",
             "startlinecolor": "#2a3f5f"
            },
            "baxis": {
             "endlinecolor": "#2a3f5f",
             "gridcolor": "white",
             "linecolor": "white",
             "minorgridcolor": "white",
             "startlinecolor": "#2a3f5f"
            },
            "type": "carpet"
           }
          ],
          "choropleth": [
           {
            "colorbar": {
             "outlinewidth": 0,
             "ticks": ""
            },
            "type": "choropleth"
           }
          ],
          "contour": [
           {
            "colorbar": {
             "outlinewidth": 0,
             "ticks": ""
            },
            "colorscale": [
             [
              0,
              "#0d0887"
             ],
             [
              0.1111111111111111,
              "#46039f"
             ],
             [
              0.2222222222222222,
              "#7201a8"
             ],
             [
              0.3333333333333333,
              "#9c179e"
             ],
             [
              0.4444444444444444,
              "#bd3786"
             ],
             [
              0.5555555555555556,
              "#d8576b"
             ],
             [
              0.6666666666666666,
              "#ed7953"
             ],
             [
              0.7777777777777778,
              "#fb9f3a"
             ],
             [
              0.8888888888888888,
              "#fdca26"
             ],
             [
              1,
              "#f0f921"
             ]
            ],
            "type": "contour"
           }
          ],
          "contourcarpet": [
           {
            "colorbar": {
             "outlinewidth": 0,
             "ticks": ""
            },
            "type": "contourcarpet"
           }
          ],
          "heatmap": [
           {
            "colorbar": {
             "outlinewidth": 0,
             "ticks": ""
            },
            "colorscale": [
             [
              0,
              "#0d0887"
             ],
             [
              0.1111111111111111,
              "#46039f"
             ],
             [
              0.2222222222222222,
              "#7201a8"
             ],
             [
              0.3333333333333333,
              "#9c179e"
             ],
             [
              0.4444444444444444,
              "#bd3786"
             ],
             [
              0.5555555555555556,
              "#d8576b"
             ],
             [
              0.6666666666666666,
              "#ed7953"
             ],
             [
              0.7777777777777778,
              "#fb9f3a"
             ],
             [
              0.8888888888888888,
              "#fdca26"
             ],
             [
              1,
              "#f0f921"
             ]
            ],
            "type": "heatmap"
           }
          ],
          "heatmapgl": [
           {
            "colorbar": {
             "outlinewidth": 0,
             "ticks": ""
            },
            "colorscale": [
             [
              0,
              "#0d0887"
             ],
             [
              0.1111111111111111,
              "#46039f"
             ],
             [
              0.2222222222222222,
              "#7201a8"
             ],
             [
              0.3333333333333333,
              "#9c179e"
             ],
             [
              0.4444444444444444,
              "#bd3786"
             ],
             [
              0.5555555555555556,
              "#d8576b"
             ],
             [
              0.6666666666666666,
              "#ed7953"
             ],
             [
              0.7777777777777778,
              "#fb9f3a"
             ],
             [
              0.8888888888888888,
              "#fdca26"
             ],
             [
              1,
              "#f0f921"
             ]
            ],
            "type": "heatmapgl"
           }
          ],
          "histogram": [
           {
            "marker": {
             "pattern": {
              "fillmode": "overlay",
              "size": 10,
              "solidity": 0.2
             }
            },
            "type": "histogram"
           }
          ],
          "histogram2d": [
           {
            "colorbar": {
             "outlinewidth": 0,
             "ticks": ""
            },
            "colorscale": [
             [
              0,
              "#0d0887"
             ],
             [
              0.1111111111111111,
              "#46039f"
             ],
             [
              0.2222222222222222,
              "#7201a8"
             ],
             [
              0.3333333333333333,
              "#9c179e"
             ],
             [
              0.4444444444444444,
              "#bd3786"
             ],
             [
              0.5555555555555556,
              "#d8576b"
             ],
             [
              0.6666666666666666,
              "#ed7953"
             ],
             [
              0.7777777777777778,
              "#fb9f3a"
             ],
             [
              0.8888888888888888,
              "#fdca26"
             ],
             [
              1,
              "#f0f921"
             ]
            ],
            "type": "histogram2d"
           }
          ],
          "histogram2dcontour": [
           {
            "colorbar": {
             "outlinewidth": 0,
             "ticks": ""
            },
            "colorscale": [
             [
              0,
              "#0d0887"
             ],
             [
              0.1111111111111111,
              "#46039f"
             ],
             [
              0.2222222222222222,
              "#7201a8"
             ],
             [
              0.3333333333333333,
              "#9c179e"
             ],
             [
              0.4444444444444444,
              "#bd3786"
             ],
             [
              0.5555555555555556,
              "#d8576b"
             ],
             [
              0.6666666666666666,
              "#ed7953"
             ],
             [
              0.7777777777777778,
              "#fb9f3a"
             ],
             [
              0.8888888888888888,
              "#fdca26"
             ],
             [
              1,
              "#f0f921"
             ]
            ],
            "type": "histogram2dcontour"
           }
          ],
          "mesh3d": [
           {
            "colorbar": {
             "outlinewidth": 0,
             "ticks": ""
            },
            "type": "mesh3d"
           }
          ],
          "parcoords": [
           {
            "line": {
             "colorbar": {
              "outlinewidth": 0,
              "ticks": ""
             }
            },
            "type": "parcoords"
           }
          ],
          "pie": [
           {
            "automargin": true,
            "type": "pie"
           }
          ],
          "scatter": [
           {
            "fillpattern": {
             "fillmode": "overlay",
             "size": 10,
             "solidity": 0.2
            },
            "type": "scatter"
           }
          ],
          "scatter3d": [
           {
            "line": {
             "colorbar": {
              "outlinewidth": 0,
              "ticks": ""
             }
            },
            "marker": {
             "colorbar": {
              "outlinewidth": 0,
              "ticks": ""
             }
            },
            "type": "scatter3d"
           }
          ],
          "scattercarpet": [
           {
            "marker": {
             "colorbar": {
              "outlinewidth": 0,
              "ticks": ""
             }
            },
            "type": "scattercarpet"
           }
          ],
          "scattergeo": [
           {
            "marker": {
             "colorbar": {
              "outlinewidth": 0,
              "ticks": ""
             }
            },
            "type": "scattergeo"
           }
          ],
          "scattergl": [
           {
            "marker": {
             "colorbar": {
              "outlinewidth": 0,
              "ticks": ""
             }
            },
            "type": "scattergl"
           }
          ],
          "scattermapbox": [
           {
            "marker": {
             "colorbar": {
              "outlinewidth": 0,
              "ticks": ""
             }
            },
            "type": "scattermapbox"
           }
          ],
          "scatterpolar": [
           {
            "marker": {
             "colorbar": {
              "outlinewidth": 0,
              "ticks": ""
             }
            },
            "type": "scatterpolar"
           }
          ],
          "scatterpolargl": [
           {
            "marker": {
             "colorbar": {
              "outlinewidth": 0,
              "ticks": ""
             }
            },
            "type": "scatterpolargl"
           }
          ],
          "scatterternary": [
           {
            "marker": {
             "colorbar": {
              "outlinewidth": 0,
              "ticks": ""
             }
            },
            "type": "scatterternary"
           }
          ],
          "surface": [
           {
            "colorbar": {
             "outlinewidth": 0,
             "ticks": ""
            },
            "colorscale": [
             [
              0,
              "#0d0887"
             ],
             [
              0.1111111111111111,
              "#46039f"
             ],
             [
              0.2222222222222222,
              "#7201a8"
             ],
             [
              0.3333333333333333,
              "#9c179e"
             ],
             [
              0.4444444444444444,
              "#bd3786"
             ],
             [
              0.5555555555555556,
              "#d8576b"
             ],
             [
              0.6666666666666666,
              "#ed7953"
             ],
             [
              0.7777777777777778,
              "#fb9f3a"
             ],
             [
              0.8888888888888888,
              "#fdca26"
             ],
             [
              1,
              "#f0f921"
             ]
            ],
            "type": "surface"
           }
          ],
          "table": [
           {
            "cells": {
             "fill": {
              "color": "#EBF0F8"
             },
             "line": {
              "color": "white"
             }
            },
            "header": {
             "fill": {
              "color": "#C8D4E3"
             },
             "line": {
              "color": "white"
             }
            },
            "type": "table"
           }
          ]
         },
         "layout": {
          "annotationdefaults": {
           "arrowcolor": "#2a3f5f",
           "arrowhead": 0,
           "arrowwidth": 1
          },
          "autotypenumbers": "strict",
          "coloraxis": {
           "colorbar": {
            "outlinewidth": 0,
            "ticks": ""
           }
          },
          "colorscale": {
           "diverging": [
            [
             0,
             "#8e0152"
            ],
            [
             0.1,
             "#c51b7d"
            ],
            [
             0.2,
             "#de77ae"
            ],
            [
             0.3,
             "#f1b6da"
            ],
            [
             0.4,
             "#fde0ef"
            ],
            [
             0.5,
             "#f7f7f7"
            ],
            [
             0.6,
             "#e6f5d0"
            ],
            [
             0.7,
             "#b8e186"
            ],
            [
             0.8,
             "#7fbc41"
            ],
            [
             0.9,
             "#4d9221"
            ],
            [
             1,
             "#276419"
            ]
           ],
           "sequential": [
            [
             0,
             "#0d0887"
            ],
            [
             0.1111111111111111,
             "#46039f"
            ],
            [
             0.2222222222222222,
             "#7201a8"
            ],
            [
             0.3333333333333333,
             "#9c179e"
            ],
            [
             0.4444444444444444,
             "#bd3786"
            ],
            [
             0.5555555555555556,
             "#d8576b"
            ],
            [
             0.6666666666666666,
             "#ed7953"
            ],
            [
             0.7777777777777778,
             "#fb9f3a"
            ],
            [
             0.8888888888888888,
             "#fdca26"
            ],
            [
             1,
             "#f0f921"
            ]
           ],
           "sequentialminus": [
            [
             0,
             "#0d0887"
            ],
            [
             0.1111111111111111,
             "#46039f"
            ],
            [
             0.2222222222222222,
             "#7201a8"
            ],
            [
             0.3333333333333333,
             "#9c179e"
            ],
            [
             0.4444444444444444,
             "#bd3786"
            ],
            [
             0.5555555555555556,
             "#d8576b"
            ],
            [
             0.6666666666666666,
             "#ed7953"
            ],
            [
             0.7777777777777778,
             "#fb9f3a"
            ],
            [
             0.8888888888888888,
             "#fdca26"
            ],
            [
             1,
             "#f0f921"
            ]
           ]
          },
          "colorway": [
           "#636efa",
           "#EF553B",
           "#00cc96",
           "#ab63fa",
           "#FFA15A",
           "#19d3f3",
           "#FF6692",
           "#B6E880",
           "#FF97FF",
           "#FECB52"
          ],
          "font": {
           "color": "#2a3f5f"
          },
          "geo": {
           "bgcolor": "white",
           "lakecolor": "white",
           "landcolor": "#E5ECF6",
           "showlakes": true,
           "showland": true,
           "subunitcolor": "white"
          },
          "hoverlabel": {
           "align": "left"
          },
          "hovermode": "closest",
          "mapbox": {
           "style": "light"
          },
          "paper_bgcolor": "white",
          "plot_bgcolor": "#E5ECF6",
          "polar": {
           "angularaxis": {
            "gridcolor": "white",
            "linecolor": "white",
            "ticks": ""
           },
           "bgcolor": "#E5ECF6",
           "radialaxis": {
            "gridcolor": "white",
            "linecolor": "white",
            "ticks": ""
           }
          },
          "scene": {
           "xaxis": {
            "backgroundcolor": "#E5ECF6",
            "gridcolor": "white",
            "gridwidth": 2,
            "linecolor": "white",
            "showbackground": true,
            "ticks": "",
            "zerolinecolor": "white"
           },
           "yaxis": {
            "backgroundcolor": "#E5ECF6",
            "gridcolor": "white",
            "gridwidth": 2,
            "linecolor": "white",
            "showbackground": true,
            "ticks": "",
            "zerolinecolor": "white"
           },
           "zaxis": {
            "backgroundcolor": "#E5ECF6",
            "gridcolor": "white",
            "gridwidth": 2,
            "linecolor": "white",
            "showbackground": true,
            "ticks": "",
            "zerolinecolor": "white"
           }
          },
          "shapedefaults": {
           "line": {
            "color": "#2a3f5f"
           }
          },
          "ternary": {
           "aaxis": {
            "gridcolor": "white",
            "linecolor": "white",
            "ticks": ""
           },
           "baxis": {
            "gridcolor": "white",
            "linecolor": "white",
            "ticks": ""
           },
           "bgcolor": "#E5ECF6",
           "caxis": {
            "gridcolor": "white",
            "linecolor": "white",
            "ticks": ""
           }
          },
          "title": {
           "x": 0.05
          },
          "xaxis": {
           "automargin": true,
           "gridcolor": "white",
           "linecolor": "white",
           "ticks": "",
           "title": {
            "standoff": 15
           },
           "zerolinecolor": "white",
           "zerolinewidth": 2
          },
          "yaxis": {
           "automargin": true,
           "gridcolor": "white",
           "linecolor": "white",
           "ticks": "",
           "title": {
            "standoff": 15
           },
           "zerolinecolor": "white",
           "zerolinewidth": 2
          }
         }
        },
        "title": {
         "font": {
          "color": "#4D5663"
         }
        },
        "xaxis": {
         "gridcolor": "#E1E5ED",
         "showgrid": true,
         "tickfont": {
          "color": "#4D5663"
         },
         "title": {
          "font": {
           "color": "#4D5663"
          },
          "text": ""
         },
         "zerolinecolor": "#E1E5ED"
        },
        "xaxis2": {
         "anchor": "y2",
         "gridcolor": "#E1E5ED",
         "showgrid": true,
         "showticklabels": false,
         "tickfont": {
          "color": "#4D5663"
         },
         "title": {
          "font": {
           "color": "#4D5663"
          },
          "text": ""
         },
         "zerolinecolor": "#E1E5ED"
        },
        "yaxis": {
         "domain": [
          0.3,
          1
         ],
         "gridcolor": "#E1E5ED",
         "showgrid": true,
         "tickfont": {
          "color": "#4D5663"
         },
         "title": {
          "font": {
           "color": "#4D5663"
          },
          "text": ""
         },
         "zerolinecolor": "#E1E5ED"
        },
        "yaxis2": {
         "domain": [
          0,
          0.25
         ],
         "gridcolor": "#E1E5ED",
         "showgrid": true,
         "tickfont": {
          "color": "#4D5663"
         },
         "title": {
          "font": {
           "color": "#4D5663"
          },
          "text": "Spread"
         },
         "zerolinecolor": "#E1E5ED"
        }
       }
      },
      "text/html": [
       "<div>                            <div id=\"a5af097e-7f8a-4dc3-8143-e9695363471b\" class=\"plotly-graph-div\" style=\"height:525px; width:100%;\"></div>            <script type=\"text/javascript\">                require([\"plotly\"], function(Plotly) {                    window.PLOTLYENV=window.PLOTLYENV || {};\n",
       "                    window.PLOTLYENV.BASE_URL='https://plot.ly';                                    if (document.getElementById(\"a5af097e-7f8a-4dc3-8143-e9695363471b\")) {                    Plotly.newPlot(                        \"a5af097e-7f8a-4dc3-8143-e9695363471b\",                        [{\"line\":{\"color\":\"rgba(255, 153, 51, 1.0)\",\"dash\":\"solid\",\"shape\":\"linear\",\"width\":1.3},\"mode\":\"lines\",\"name\":\"A\",\"text\":\"\",\"x\":[0,1,2,3,4,5,6,7,8,9,10,11,12,13,14,15,16,17,18,19,20,21,22,23,24,25,26,27,28,29,30,31,32,33,34,35,36,37,38,39,40,41,42,43,44,45,46,47,48,49,50,51,52,53,54,55,56,57,58,59,60,61,62,63,64,65,66,67,68,69,70,71,72,73,74,75,76,77,78,79,80,81,82,83,84,85,86,87,88,89,90,91,92,93,94,95,96,97,98,99],\"y\":[-0.13175400242810156,1.4398736154014231,0.3084936992738871,0.5076264204380968,-0.7625284986653112,-1.0062511787786008,0.11469784115897165,1.9310696770869487,1.0944035694729664,0.6372421397859684,0.3855089464458704,-0.8121273360861435,-0.3234342665261247,2.362812817762973,-0.9020043009425683,1.5125228590996407,1.6738212663422762,-0.9901310738157569,1.084961991228402,-0.8959408642253713,2.1316610208320763,-1.5130697817897543,-0.9054073025929361,-1.2363645490471573,-0.15194927661083432,-0.2377615536333579,-0.5007722283776846,-0.7023143914132617,-2.1165840455647387,0.725447620478989,0.21628655747987344,2.215565705679116,-1.6546694084066793,0.43522055750008765,-0.7290404129663632,-2.072652678094007,-1.5357339134344634,0.6597408315792757,0.7471678649316231,1.0183098975792102,-0.0475017122305315,0.6226526850571343,0.11867141066397108,0.6785159601012161,-2.2702452299697886,1.1238379665770963,0.6230048619585441,0.8719729055231573,1.4326270000120012,-0.24688836716890633,0.8117736190877305,1.61223643973982,-1.4932034080063534,0.8037053962798918,1.7130283780118272,-0.6700078392530018,1.5568132179108136,0.40626162740550076,-2.256267543737473,1.092041777618682,2.4343498861619737,0.11904330167051473,1.301154598107079,1.1121166128876387,-0.09443622486311361,1.5039962172550305,-1.5611350973183005,2.0907823004658885,-1.920492399044538,-0.32259609854818216,-0.28860611837376987,-3.9006781071827716,-1.448796535345966,-0.2317550134453871,0.6794020374305854,-1.9386900580032422,-0.5411660242004356,0.20184037671840202,0.2194539547450508,-0.26809272600799905,0.47807622579924847,0.28813930760653533,-1.2171719295118983,1.6613721485393889,-1.129899743938994,1.231837149691319,0.906027903471736,0.41874076383417547,1.140639223532903,-0.27309072874514134,-1.5997041234561773,2.0818397320483397,-0.507997666275523,-0.6412893664962762,0.1353104566092275,0.7058193926130889,-0.8816664183269983,0.31121281370841103,-0.39274099041646093,-0.5095365211072483],\"type\":\"scatter\"},{\"line\":{\"color\":\"rgba(55, 128, 191, 1.0)\",\"dash\":\"solid\",\"shape\":\"linear\",\"width\":1.3},\"mode\":\"lines\",\"name\":\"B\",\"text\":\"\",\"x\":[0,1,2,3,4,5,6,7,8,9,10,11,12,13,14,15,16,17,18,19,20,21,22,23,24,25,26,27,28,29,30,31,32,33,34,35,36,37,38,39,40,41,42,43,44,45,46,47,48,49,50,51,52,53,54,55,56,57,58,59,60,61,62,63,64,65,66,67,68,69,70,71,72,73,74,75,76,77,78,79,80,81,82,83,84,85,86,87,88,89,90,91,92,93,94,95,96,97,98,99],\"y\":[0.7668247603098971,0.25608341454276456,-0.418007492438254,1.6479000639513037,-1.085957707598228,-0.6471993669751592,-1.1476836051943966,0.3647731658486326,0.32719258878439345,0.36629851821546877,-0.16000570641145667,1.5669653312034988,-1.3354132322743333,-0.23044821694920747,-0.060267767095280075,0.624298316824953,-0.7497976648916586,0.12707974086987975,-0.7140406345566194,1.3183538535134744,1.9492171783364947,-0.07227429606646343,0.7104660955504053,-0.3823620944176171,-0.0016846148843457597,0.8531041063996373,0.13650535971413694,-1.9768805035437342,0.8017552890082933,0.24675978309861793,0.40168364800647616,0.5419398982661194,-2.9408752875684945,-0.645007270455306,1.6499623708090134,-1.0680997060013975,0.31218567853158047,-1.1073355893203949,0.6627605959317424,0.48103810835817923,-0.02190442811798528,-0.05170363686797047,-0.3336029037164444,0.0210670145406781,-1.08060773901822,0.26716901124877135,0.8559623719295363,-0.3552226520086245,0.03289143543064628,0.043948774668583844,-0.8854118949675668,1.2392211365577033,0.3973864688908118,0.3936559984256999,0.5706188669456544,0.5938041094382246,0.05666814714582934,-0.5027644440474898,-0.4835465184492971,-0.3684119863666352,-0.03825882718531708,-0.13649727148657367,0.49463947836597666,-2.0938864041717165,-0.0043845897516948855,1.1848175021850196,-0.689421076516863,0.24697274210920545,2.0176554176642783,-0.052240509921352034,-1.1559621489839282,-0.4579065362451067,-0.02528773996479936,-1.9016111132627143,1.4567845672157844,1.3545548283768565,1.466930032164649,1.1190235946806586,-1.396688273698315,1.0578914384783338,1.4824964112076136,1.2869025951738233,0.2497579974130677,2.0314669247857053,0.722928865710818,0.8339059281666981,-1.1227398591384263,-1.2585257402688401,0.7647242059875361,-0.9639506274251255,1.1430521145223795,1.9037174534810613,0.9649629383966886,0.6330162346487069,0.3676138133031477,1.0978027541671664,-0.5436639063060611,0.41353875396477,-0.1949677432718928,0.5180959646238293],\"type\":\"scatter\"},{\"connectgaps\":false,\"fill\":\"tozeroy\",\"line\":{\"color\":\"green\",\"dash\":\"solid\",\"shape\":\"linear\",\"width\":0.5},\"mode\":\"lines\",\"name\":\"Spread\",\"showlegend\":false,\"x\":[0,1,2,3,4,5,6,7,8,9,10,11,12,13,14,15,16,17,18,19,20,21,22,23,24,25,26,27,28,29,30,31,32,33,34,35,36,37,38,39,40,41,42,43,44,45,46,47,48,49,50,51,52,53,54,55,56,57,58,59,60,61,62,63,64,65,66,67,68,69,70,71,72,73,74,75,76,77,78,79,80,81,82,83,84,85,86,87,88,89,90,91,92,93,94,95,96,97,98,99],\"xaxis\":\"x2\",\"y\":[\"\",1.1837902008586585,0.7265011917121411,\"\",0.3234292089329168,\"\",1.2623814463533682,1.566296511238316,0.767210980688573,0.27094362157049967,0.5455146528573271,\"\",1.0119789657482086,2.5932610347121803,\"\",0.8882245422746877,2.4236189312339347,\"\",1.7990026257850213,\"\",0.18244384249558165,\"\",\"\",\"\",\"\",\"\",\"\",1.2745661121304726,\"\",0.47868783738037113,\"\",1.6736258074129964,1.2862058791618152,1.0802278279553936,\"\",\"\",\"\",1.7670764208996705,0.08440726899988071,0.537271789221031,\"\",0.6743563219251048,0.4522743143804155,0.657448945560538,\"\",0.856668955328325,\"\",1.2271955575317819,1.399735564581355,\"\",1.6971855140552972,0.3730153031821166,\"\",0.41004939785419187,1.1424095110661727,\"\",1.5001450707649844,0.9090260714529905,\"\",1.460453763985317,2.4726087133472907,0.2555405731570884,0.8065151197411022,3.206003017059355,\"\",0.31917871507001094,\"\",1.8438095583566831,\"\",\"\",0.8673560306101584,\"\",\"\",1.669856099817327,\"\",\"\",\"\",\"\",1.616142228443366,\"\",\"\",\"\",\"\",\"\",\"\",0.3979312215246209,2.0287677626101623,1.6772665041030157,0.37591501754536694,0.6908598986799841,\"\",0.17812227856727847,\"\",\"\",\"\",\"\",\"\",\"\",\"\",\"\"],\"yaxis\":\"y2\",\"type\":\"scatter\"},{\"connectgaps\":false,\"fill\":\"tozeroy\",\"line\":{\"color\":\"red\",\"dash\":\"solid\",\"shape\":\"linear\",\"width\":0.5},\"mode\":\"lines\",\"name\":\"Spread\",\"showlegend\":false,\"x\":[0,1,2,3,4,5,6,7,8,9,10,11,12,13,14,15,16,17,18,19,20,21,22,23,24,25,26,27,28,29,30,31,32,33,34,35,36,37,38,39,40,41,42,43,44,45,46,47,48,49,50,51,52,53,54,55,56,57,58,59,60,61,62,63,64,65,66,67,68,69,70,71,72,73,74,75,76,77,78,79,80,81,82,83,84,85,86,87,88,89,90,91,92,93,94,95,96,97,98,99],\"xaxis\":\"x2\",\"y\":[-0.8985787627379986,\"\",\"\",-1.1402736435132068,\"\",-0.3590518118034416,\"\",\"\",\"\",\"\",\"\",-2.379092667289642,\"\",\"\",-0.8417365338472883,\"\",\"\",-1.1172108146856368,\"\",-2.214294717738846,\"\",-1.4407954857232907,-1.6158733981433415,-0.8540024546295402,-0.15026466172648856,-1.0908656600329951,-0.6372775880918216,\"\",-2.918339334573032,\"\",-0.18539709052660272,\"\",\"\",\"\",-2.379002783775377,-1.0045529720926094,-1.8479195919660438,\"\",\"\",\"\",-0.025597284112546217,\"\",\"\",\"\",-1.1896374909515686,\"\",-0.23295750997099218,\"\",\"\",-0.29083714183749015,\"\",\"\",-1.8905898768971652,\"\",\"\",-1.2638119486912265,\"\",\"\",-1.772721025288176,\"\",\"\",\"\",\"\",\"\",-0.09005163511141873,\"\",-0.8717140208014375,\"\",-3.938147816708816,-0.2703555886268301,\"\",-3.4427715709376647,-1.4235087953811667,\"\",-0.7773825297851991,-3.2932448863800987,-2.0080960563650847,-0.9171832179622565,\"\",-1.3259841644863328,-1.0044201854083652,-0.998763287567288,-1.466929926924966,-0.3700947762463165,-1.852828609649812,\"\",\"\",\"\",\"\",\"\",-2.742756237978557,\"\",-1.4729606046722115,-1.2743056011449831,-0.2323033566939202,-0.39198336155407754,-0.33800251202093723,-0.102325940256359,-0.19777324714456812,-1.0276324857310777],\"yaxis\":\"y2\",\"type\":\"scatter\"}],                        {\"hovermode\":\"x\",\"legend\":{\"bgcolor\":\"#F5F6F9\",\"font\":{\"color\":\"#4D5663\"}},\"paper_bgcolor\":\"#F5F6F9\",\"plot_bgcolor\":\"#F5F6F9\",\"template\":{\"data\":{\"barpolar\":[{\"marker\":{\"line\":{\"color\":\"#E5ECF6\",\"width\":0.5},\"pattern\":{\"fillmode\":\"overlay\",\"size\":10,\"solidity\":0.2}},\"type\":\"barpolar\"}],\"bar\":[{\"error_x\":{\"color\":\"#2a3f5f\"},\"error_y\":{\"color\":\"#2a3f5f\"},\"marker\":{\"line\":{\"color\":\"#E5ECF6\",\"width\":0.5},\"pattern\":{\"fillmode\":\"overlay\",\"size\":10,\"solidity\":0.2}},\"type\":\"bar\"}],\"carpet\":[{\"aaxis\":{\"endlinecolor\":\"#2a3f5f\",\"gridcolor\":\"white\",\"linecolor\":\"white\",\"minorgridcolor\":\"white\",\"startlinecolor\":\"#2a3f5f\"},\"baxis\":{\"endlinecolor\":\"#2a3f5f\",\"gridcolor\":\"white\",\"linecolor\":\"white\",\"minorgridcolor\":\"white\",\"startlinecolor\":\"#2a3f5f\"},\"type\":\"carpet\"}],\"choropleth\":[{\"colorbar\":{\"outlinewidth\":0,\"ticks\":\"\"},\"type\":\"choropleth\"}],\"contourcarpet\":[{\"colorbar\":{\"outlinewidth\":0,\"ticks\":\"\"},\"type\":\"contourcarpet\"}],\"contour\":[{\"colorbar\":{\"outlinewidth\":0,\"ticks\":\"\"},\"colorscale\":[[0.0,\"#0d0887\"],[0.1111111111111111,\"#46039f\"],[0.2222222222222222,\"#7201a8\"],[0.3333333333333333,\"#9c179e\"],[0.4444444444444444,\"#bd3786\"],[0.5555555555555556,\"#d8576b\"],[0.6666666666666666,\"#ed7953\"],[0.7777777777777778,\"#fb9f3a\"],[0.8888888888888888,\"#fdca26\"],[1.0,\"#f0f921\"]],\"type\":\"contour\"}],\"heatmapgl\":[{\"colorbar\":{\"outlinewidth\":0,\"ticks\":\"\"},\"colorscale\":[[0.0,\"#0d0887\"],[0.1111111111111111,\"#46039f\"],[0.2222222222222222,\"#7201a8\"],[0.3333333333333333,\"#9c179e\"],[0.4444444444444444,\"#bd3786\"],[0.5555555555555556,\"#d8576b\"],[0.6666666666666666,\"#ed7953\"],[0.7777777777777778,\"#fb9f3a\"],[0.8888888888888888,\"#fdca26\"],[1.0,\"#f0f921\"]],\"type\":\"heatmapgl\"}],\"heatmap\":[{\"colorbar\":{\"outlinewidth\":0,\"ticks\":\"\"},\"colorscale\":[[0.0,\"#0d0887\"],[0.1111111111111111,\"#46039f\"],[0.2222222222222222,\"#7201a8\"],[0.3333333333333333,\"#9c179e\"],[0.4444444444444444,\"#bd3786\"],[0.5555555555555556,\"#d8576b\"],[0.6666666666666666,\"#ed7953\"],[0.7777777777777778,\"#fb9f3a\"],[0.8888888888888888,\"#fdca26\"],[1.0,\"#f0f921\"]],\"type\":\"heatmap\"}],\"histogram2dcontour\":[{\"colorbar\":{\"outlinewidth\":0,\"ticks\":\"\"},\"colorscale\":[[0.0,\"#0d0887\"],[0.1111111111111111,\"#46039f\"],[0.2222222222222222,\"#7201a8\"],[0.3333333333333333,\"#9c179e\"],[0.4444444444444444,\"#bd3786\"],[0.5555555555555556,\"#d8576b\"],[0.6666666666666666,\"#ed7953\"],[0.7777777777777778,\"#fb9f3a\"],[0.8888888888888888,\"#fdca26\"],[1.0,\"#f0f921\"]],\"type\":\"histogram2dcontour\"}],\"histogram2d\":[{\"colorbar\":{\"outlinewidth\":0,\"ticks\":\"\"},\"colorscale\":[[0.0,\"#0d0887\"],[0.1111111111111111,\"#46039f\"],[0.2222222222222222,\"#7201a8\"],[0.3333333333333333,\"#9c179e\"],[0.4444444444444444,\"#bd3786\"],[0.5555555555555556,\"#d8576b\"],[0.6666666666666666,\"#ed7953\"],[0.7777777777777778,\"#fb9f3a\"],[0.8888888888888888,\"#fdca26\"],[1.0,\"#f0f921\"]],\"type\":\"histogram2d\"}],\"histogram\":[{\"marker\":{\"pattern\":{\"fillmode\":\"overlay\",\"size\":10,\"solidity\":0.2}},\"type\":\"histogram\"}],\"mesh3d\":[{\"colorbar\":{\"outlinewidth\":0,\"ticks\":\"\"},\"type\":\"mesh3d\"}],\"parcoords\":[{\"line\":{\"colorbar\":{\"outlinewidth\":0,\"ticks\":\"\"}},\"type\":\"parcoords\"}],\"pie\":[{\"automargin\":true,\"type\":\"pie\"}],\"scatter3d\":[{\"line\":{\"colorbar\":{\"outlinewidth\":0,\"ticks\":\"\"}},\"marker\":{\"colorbar\":{\"outlinewidth\":0,\"ticks\":\"\"}},\"type\":\"scatter3d\"}],\"scattercarpet\":[{\"marker\":{\"colorbar\":{\"outlinewidth\":0,\"ticks\":\"\"}},\"type\":\"scattercarpet\"}],\"scattergeo\":[{\"marker\":{\"colorbar\":{\"outlinewidth\":0,\"ticks\":\"\"}},\"type\":\"scattergeo\"}],\"scattergl\":[{\"marker\":{\"colorbar\":{\"outlinewidth\":0,\"ticks\":\"\"}},\"type\":\"scattergl\"}],\"scattermapbox\":[{\"marker\":{\"colorbar\":{\"outlinewidth\":0,\"ticks\":\"\"}},\"type\":\"scattermapbox\"}],\"scatterpolargl\":[{\"marker\":{\"colorbar\":{\"outlinewidth\":0,\"ticks\":\"\"}},\"type\":\"scatterpolargl\"}],\"scatterpolar\":[{\"marker\":{\"colorbar\":{\"outlinewidth\":0,\"ticks\":\"\"}},\"type\":\"scatterpolar\"}],\"scatter\":[{\"fillpattern\":{\"fillmode\":\"overlay\",\"size\":10,\"solidity\":0.2},\"type\":\"scatter\"}],\"scatterternary\":[{\"marker\":{\"colorbar\":{\"outlinewidth\":0,\"ticks\":\"\"}},\"type\":\"scatterternary\"}],\"surface\":[{\"colorbar\":{\"outlinewidth\":0,\"ticks\":\"\"},\"colorscale\":[[0.0,\"#0d0887\"],[0.1111111111111111,\"#46039f\"],[0.2222222222222222,\"#7201a8\"],[0.3333333333333333,\"#9c179e\"],[0.4444444444444444,\"#bd3786\"],[0.5555555555555556,\"#d8576b\"],[0.6666666666666666,\"#ed7953\"],[0.7777777777777778,\"#fb9f3a\"],[0.8888888888888888,\"#fdca26\"],[1.0,\"#f0f921\"]],\"type\":\"surface\"}],\"table\":[{\"cells\":{\"fill\":{\"color\":\"#EBF0F8\"},\"line\":{\"color\":\"white\"}},\"header\":{\"fill\":{\"color\":\"#C8D4E3\"},\"line\":{\"color\":\"white\"}},\"type\":\"table\"}]},\"layout\":{\"annotationdefaults\":{\"arrowcolor\":\"#2a3f5f\",\"arrowhead\":0,\"arrowwidth\":1},\"autotypenumbers\":\"strict\",\"coloraxis\":{\"colorbar\":{\"outlinewidth\":0,\"ticks\":\"\"}},\"colorscale\":{\"diverging\":[[0,\"#8e0152\"],[0.1,\"#c51b7d\"],[0.2,\"#de77ae\"],[0.3,\"#f1b6da\"],[0.4,\"#fde0ef\"],[0.5,\"#f7f7f7\"],[0.6,\"#e6f5d0\"],[0.7,\"#b8e186\"],[0.8,\"#7fbc41\"],[0.9,\"#4d9221\"],[1,\"#276419\"]],\"sequential\":[[0.0,\"#0d0887\"],[0.1111111111111111,\"#46039f\"],[0.2222222222222222,\"#7201a8\"],[0.3333333333333333,\"#9c179e\"],[0.4444444444444444,\"#bd3786\"],[0.5555555555555556,\"#d8576b\"],[0.6666666666666666,\"#ed7953\"],[0.7777777777777778,\"#fb9f3a\"],[0.8888888888888888,\"#fdca26\"],[1.0,\"#f0f921\"]],\"sequentialminus\":[[0.0,\"#0d0887\"],[0.1111111111111111,\"#46039f\"],[0.2222222222222222,\"#7201a8\"],[0.3333333333333333,\"#9c179e\"],[0.4444444444444444,\"#bd3786\"],[0.5555555555555556,\"#d8576b\"],[0.6666666666666666,\"#ed7953\"],[0.7777777777777778,\"#fb9f3a\"],[0.8888888888888888,\"#fdca26\"],[1.0,\"#f0f921\"]]},\"colorway\":[\"#636efa\",\"#EF553B\",\"#00cc96\",\"#ab63fa\",\"#FFA15A\",\"#19d3f3\",\"#FF6692\",\"#B6E880\",\"#FF97FF\",\"#FECB52\"],\"font\":{\"color\":\"#2a3f5f\"},\"geo\":{\"bgcolor\":\"white\",\"lakecolor\":\"white\",\"landcolor\":\"#E5ECF6\",\"showlakes\":true,\"showland\":true,\"subunitcolor\":\"white\"},\"hoverlabel\":{\"align\":\"left\"},\"hovermode\":\"closest\",\"mapbox\":{\"style\":\"light\"},\"paper_bgcolor\":\"white\",\"plot_bgcolor\":\"#E5ECF6\",\"polar\":{\"angularaxis\":{\"gridcolor\":\"white\",\"linecolor\":\"white\",\"ticks\":\"\"},\"bgcolor\":\"#E5ECF6\",\"radialaxis\":{\"gridcolor\":\"white\",\"linecolor\":\"white\",\"ticks\":\"\"}},\"scene\":{\"xaxis\":{\"backgroundcolor\":\"#E5ECF6\",\"gridcolor\":\"white\",\"gridwidth\":2,\"linecolor\":\"white\",\"showbackground\":true,\"ticks\":\"\",\"zerolinecolor\":\"white\"},\"yaxis\":{\"backgroundcolor\":\"#E5ECF6\",\"gridcolor\":\"white\",\"gridwidth\":2,\"linecolor\":\"white\",\"showbackground\":true,\"ticks\":\"\",\"zerolinecolor\":\"white\"},\"zaxis\":{\"backgroundcolor\":\"#E5ECF6\",\"gridcolor\":\"white\",\"gridwidth\":2,\"linecolor\":\"white\",\"showbackground\":true,\"ticks\":\"\",\"zerolinecolor\":\"white\"}},\"shapedefaults\":{\"line\":{\"color\":\"#2a3f5f\"}},\"ternary\":{\"aaxis\":{\"gridcolor\":\"white\",\"linecolor\":\"white\",\"ticks\":\"\"},\"baxis\":{\"gridcolor\":\"white\",\"linecolor\":\"white\",\"ticks\":\"\"},\"bgcolor\":\"#E5ECF6\",\"caxis\":{\"gridcolor\":\"white\",\"linecolor\":\"white\",\"ticks\":\"\"}},\"title\":{\"x\":0.05},\"xaxis\":{\"automargin\":true,\"gridcolor\":\"white\",\"linecolor\":\"white\",\"ticks\":\"\",\"title\":{\"standoff\":15},\"zerolinecolor\":\"white\",\"zerolinewidth\":2},\"yaxis\":{\"automargin\":true,\"gridcolor\":\"white\",\"linecolor\":\"white\",\"ticks\":\"\",\"title\":{\"standoff\":15},\"zerolinecolor\":\"white\",\"zerolinewidth\":2}}},\"title\":{\"font\":{\"color\":\"#4D5663\"}},\"xaxis\":{\"gridcolor\":\"#E1E5ED\",\"showgrid\":true,\"tickfont\":{\"color\":\"#4D5663\"},\"title\":{\"font\":{\"color\":\"#4D5663\"},\"text\":\"\"},\"zerolinecolor\":\"#E1E5ED\"},\"yaxis\":{\"domain\":[0.3,1],\"gridcolor\":\"#E1E5ED\",\"showgrid\":true,\"tickfont\":{\"color\":\"#4D5663\"},\"title\":{\"font\":{\"color\":\"#4D5663\"},\"text\":\"\"},\"zerolinecolor\":\"#E1E5ED\"},\"yaxis2\":{\"domain\":[0,0.25],\"gridcolor\":\"#E1E5ED\",\"showgrid\":true,\"tickfont\":{\"color\":\"#4D5663\"},\"title\":{\"font\":{\"color\":\"#4D5663\"},\"text\":\"Spread\"},\"zerolinecolor\":\"#E1E5ED\"},\"xaxis2\":{\"anchor\":\"y2\",\"gridcolor\":\"#E1E5ED\",\"showgrid\":true,\"showticklabels\":false,\"tickfont\":{\"color\":\"#4D5663\"},\"title\":{\"font\":{\"color\":\"#4D5663\"},\"text\":\"\"},\"zerolinecolor\":\"#E1E5ED\"}},                        {\"showLink\": true, \"linkText\": \"Export to plot.ly\", \"plotlyServerURL\": \"https://plot.ly\", \"responsive\": true}                    ).then(function(){\n",
       "                            \n",
       "var gd = document.getElementById('a5af097e-7f8a-4dc3-8143-e9695363471b');\n",
       "var x = new MutationObserver(function (mutations, observer) {{\n",
       "        var display = window.getComputedStyle(gd).display;\n",
       "        if (!display || display === 'none') {{\n",
       "            console.log([gd, 'removed!']);\n",
       "            Plotly.purge(gd);\n",
       "            observer.disconnect();\n",
       "        }}\n",
       "}});\n",
       "\n",
       "// Listen for the removal of the full notebook cells\n",
       "var notebookContainer = gd.closest('#notebook-container');\n",
       "if (notebookContainer) {{\n",
       "    x.observe(notebookContainer, {childList: true});\n",
       "}}\n",
       "\n",
       "// Listen for the clearing of the current output cell\n",
       "var outputEl = gd.closest('.output');\n",
       "if (outputEl) {{\n",
       "    x.observe(outputEl, {childList: true});\n",
       "}}\n",
       "\n",
       "                        })                };                });            </script>        </div>"
      ]
     },
     "metadata": {},
     "output_type": "display_data"
    }
   ],
   "source": [
    "df[['A','B']].iplot(kind='spread')"
   ]
  },
  {
   "cell_type": "markdown",
   "id": "82354fab",
   "metadata": {},
   "source": [
    "## Histogram"
   ]
  },
  {
   "cell_type": "code",
   "execution_count": 28,
   "id": "b0ce4eaa",
   "metadata": {},
   "outputs": [
    {
     "data": {
      "application/vnd.plotly.v1+json": {
       "config": {
        "linkText": "Export to plot.ly",
        "plotlyServerURL": "https://plot.ly",
        "showLink": true
       },
       "data": [
        {
         "histfunc": "count",
         "histnorm": "",
         "marker": {
          "color": "rgba(255, 153, 51, 1.0)",
          "line": {
           "color": "#4D5663",
           "width": 1.3
          }
         },
         "name": "A",
         "nbinsx": 25,
         "opacity": 0.8,
         "orientation": "v",
         "type": "histogram",
         "x": [
          -0.13175400242810156,
          1.4398736154014231,
          0.3084936992738871,
          0.5076264204380968,
          -0.7625284986653112,
          -1.0062511787786008,
          0.11469784115897165,
          1.9310696770869487,
          1.0944035694729664,
          0.6372421397859684,
          0.3855089464458704,
          -0.8121273360861435,
          -0.3234342665261247,
          2.362812817762973,
          -0.9020043009425683,
          1.5125228590996407,
          1.6738212663422762,
          -0.9901310738157569,
          1.084961991228402,
          -0.8959408642253713,
          2.1316610208320763,
          -1.5130697817897543,
          -0.9054073025929361,
          -1.2363645490471573,
          -0.15194927661083432,
          -0.2377615536333579,
          -0.5007722283776846,
          -0.7023143914132617,
          -2.1165840455647387,
          0.725447620478989,
          0.21628655747987344,
          2.215565705679116,
          -1.6546694084066793,
          0.43522055750008765,
          -0.7290404129663632,
          -2.072652678094007,
          -1.5357339134344634,
          0.6597408315792757,
          0.7471678649316231,
          1.0183098975792102,
          -0.0475017122305315,
          0.6226526850571343,
          0.11867141066397108,
          0.6785159601012161,
          -2.2702452299697886,
          1.1238379665770963,
          0.6230048619585441,
          0.8719729055231573,
          1.4326270000120012,
          -0.24688836716890633,
          0.8117736190877305,
          1.61223643973982,
          -1.4932034080063534,
          0.8037053962798918,
          1.7130283780118272,
          -0.6700078392530018,
          1.5568132179108136,
          0.40626162740550076,
          -2.256267543737473,
          1.092041777618682,
          2.4343498861619737,
          0.11904330167051473,
          1.301154598107079,
          1.1121166128876387,
          -0.09443622486311361,
          1.5039962172550305,
          -1.5611350973183005,
          2.0907823004658885,
          -1.920492399044538,
          -0.32259609854818216,
          -0.28860611837376987,
          -3.9006781071827716,
          -1.448796535345966,
          -0.2317550134453871,
          0.6794020374305854,
          -1.9386900580032422,
          -0.5411660242004356,
          0.20184037671840202,
          0.2194539547450508,
          -0.26809272600799905,
          0.47807622579924847,
          0.28813930760653533,
          -1.2171719295118983,
          1.6613721485393889,
          -1.129899743938994,
          1.231837149691319,
          0.906027903471736,
          0.41874076383417547,
          1.140639223532903,
          -0.27309072874514134,
          -1.5997041234561773,
          2.0818397320483397,
          -0.507997666275523,
          -0.6412893664962762,
          0.1353104566092275,
          0.7058193926130889,
          -0.8816664183269983,
          0.31121281370841103,
          -0.39274099041646093,
          -0.5095365211072483
         ]
        }
       ],
       "layout": {
        "barmode": "overlay",
        "legend": {
         "bgcolor": "#F5F6F9",
         "font": {
          "color": "#4D5663"
         }
        },
        "paper_bgcolor": "#F5F6F9",
        "plot_bgcolor": "#F5F6F9",
        "template": {
         "data": {
          "bar": [
           {
            "error_x": {
             "color": "#2a3f5f"
            },
            "error_y": {
             "color": "#2a3f5f"
            },
            "marker": {
             "line": {
              "color": "#E5ECF6",
              "width": 0.5
             },
             "pattern": {
              "fillmode": "overlay",
              "size": 10,
              "solidity": 0.2
             }
            },
            "type": "bar"
           }
          ],
          "barpolar": [
           {
            "marker": {
             "line": {
              "color": "#E5ECF6",
              "width": 0.5
             },
             "pattern": {
              "fillmode": "overlay",
              "size": 10,
              "solidity": 0.2
             }
            },
            "type": "barpolar"
           }
          ],
          "carpet": [
           {
            "aaxis": {
             "endlinecolor": "#2a3f5f",
             "gridcolor": "white",
             "linecolor": "white",
             "minorgridcolor": "white",
             "startlinecolor": "#2a3f5f"
            },
            "baxis": {
             "endlinecolor": "#2a3f5f",
             "gridcolor": "white",
             "linecolor": "white",
             "minorgridcolor": "white",
             "startlinecolor": "#2a3f5f"
            },
            "type": "carpet"
           }
          ],
          "choropleth": [
           {
            "colorbar": {
             "outlinewidth": 0,
             "ticks": ""
            },
            "type": "choropleth"
           }
          ],
          "contour": [
           {
            "colorbar": {
             "outlinewidth": 0,
             "ticks": ""
            },
            "colorscale": [
             [
              0,
              "#0d0887"
             ],
             [
              0.1111111111111111,
              "#46039f"
             ],
             [
              0.2222222222222222,
              "#7201a8"
             ],
             [
              0.3333333333333333,
              "#9c179e"
             ],
             [
              0.4444444444444444,
              "#bd3786"
             ],
             [
              0.5555555555555556,
              "#d8576b"
             ],
             [
              0.6666666666666666,
              "#ed7953"
             ],
             [
              0.7777777777777778,
              "#fb9f3a"
             ],
             [
              0.8888888888888888,
              "#fdca26"
             ],
             [
              1,
              "#f0f921"
             ]
            ],
            "type": "contour"
           }
          ],
          "contourcarpet": [
           {
            "colorbar": {
             "outlinewidth": 0,
             "ticks": ""
            },
            "type": "contourcarpet"
           }
          ],
          "heatmap": [
           {
            "colorbar": {
             "outlinewidth": 0,
             "ticks": ""
            },
            "colorscale": [
             [
              0,
              "#0d0887"
             ],
             [
              0.1111111111111111,
              "#46039f"
             ],
             [
              0.2222222222222222,
              "#7201a8"
             ],
             [
              0.3333333333333333,
              "#9c179e"
             ],
             [
              0.4444444444444444,
              "#bd3786"
             ],
             [
              0.5555555555555556,
              "#d8576b"
             ],
             [
              0.6666666666666666,
              "#ed7953"
             ],
             [
              0.7777777777777778,
              "#fb9f3a"
             ],
             [
              0.8888888888888888,
              "#fdca26"
             ],
             [
              1,
              "#f0f921"
             ]
            ],
            "type": "heatmap"
           }
          ],
          "heatmapgl": [
           {
            "colorbar": {
             "outlinewidth": 0,
             "ticks": ""
            },
            "colorscale": [
             [
              0,
              "#0d0887"
             ],
             [
              0.1111111111111111,
              "#46039f"
             ],
             [
              0.2222222222222222,
              "#7201a8"
             ],
             [
              0.3333333333333333,
              "#9c179e"
             ],
             [
              0.4444444444444444,
              "#bd3786"
             ],
             [
              0.5555555555555556,
              "#d8576b"
             ],
             [
              0.6666666666666666,
              "#ed7953"
             ],
             [
              0.7777777777777778,
              "#fb9f3a"
             ],
             [
              0.8888888888888888,
              "#fdca26"
             ],
             [
              1,
              "#f0f921"
             ]
            ],
            "type": "heatmapgl"
           }
          ],
          "histogram": [
           {
            "marker": {
             "pattern": {
              "fillmode": "overlay",
              "size": 10,
              "solidity": 0.2
             }
            },
            "type": "histogram"
           }
          ],
          "histogram2d": [
           {
            "colorbar": {
             "outlinewidth": 0,
             "ticks": ""
            },
            "colorscale": [
             [
              0,
              "#0d0887"
             ],
             [
              0.1111111111111111,
              "#46039f"
             ],
             [
              0.2222222222222222,
              "#7201a8"
             ],
             [
              0.3333333333333333,
              "#9c179e"
             ],
             [
              0.4444444444444444,
              "#bd3786"
             ],
             [
              0.5555555555555556,
              "#d8576b"
             ],
             [
              0.6666666666666666,
              "#ed7953"
             ],
             [
              0.7777777777777778,
              "#fb9f3a"
             ],
             [
              0.8888888888888888,
              "#fdca26"
             ],
             [
              1,
              "#f0f921"
             ]
            ],
            "type": "histogram2d"
           }
          ],
          "histogram2dcontour": [
           {
            "colorbar": {
             "outlinewidth": 0,
             "ticks": ""
            },
            "colorscale": [
             [
              0,
              "#0d0887"
             ],
             [
              0.1111111111111111,
              "#46039f"
             ],
             [
              0.2222222222222222,
              "#7201a8"
             ],
             [
              0.3333333333333333,
              "#9c179e"
             ],
             [
              0.4444444444444444,
              "#bd3786"
             ],
             [
              0.5555555555555556,
              "#d8576b"
             ],
             [
              0.6666666666666666,
              "#ed7953"
             ],
             [
              0.7777777777777778,
              "#fb9f3a"
             ],
             [
              0.8888888888888888,
              "#fdca26"
             ],
             [
              1,
              "#f0f921"
             ]
            ],
            "type": "histogram2dcontour"
           }
          ],
          "mesh3d": [
           {
            "colorbar": {
             "outlinewidth": 0,
             "ticks": ""
            },
            "type": "mesh3d"
           }
          ],
          "parcoords": [
           {
            "line": {
             "colorbar": {
              "outlinewidth": 0,
              "ticks": ""
             }
            },
            "type": "parcoords"
           }
          ],
          "pie": [
           {
            "automargin": true,
            "type": "pie"
           }
          ],
          "scatter": [
           {
            "fillpattern": {
             "fillmode": "overlay",
             "size": 10,
             "solidity": 0.2
            },
            "type": "scatter"
           }
          ],
          "scatter3d": [
           {
            "line": {
             "colorbar": {
              "outlinewidth": 0,
              "ticks": ""
             }
            },
            "marker": {
             "colorbar": {
              "outlinewidth": 0,
              "ticks": ""
             }
            },
            "type": "scatter3d"
           }
          ],
          "scattercarpet": [
           {
            "marker": {
             "colorbar": {
              "outlinewidth": 0,
              "ticks": ""
             }
            },
            "type": "scattercarpet"
           }
          ],
          "scattergeo": [
           {
            "marker": {
             "colorbar": {
              "outlinewidth": 0,
              "ticks": ""
             }
            },
            "type": "scattergeo"
           }
          ],
          "scattergl": [
           {
            "marker": {
             "colorbar": {
              "outlinewidth": 0,
              "ticks": ""
             }
            },
            "type": "scattergl"
           }
          ],
          "scattermapbox": [
           {
            "marker": {
             "colorbar": {
              "outlinewidth": 0,
              "ticks": ""
             }
            },
            "type": "scattermapbox"
           }
          ],
          "scatterpolar": [
           {
            "marker": {
             "colorbar": {
              "outlinewidth": 0,
              "ticks": ""
             }
            },
            "type": "scatterpolar"
           }
          ],
          "scatterpolargl": [
           {
            "marker": {
             "colorbar": {
              "outlinewidth": 0,
              "ticks": ""
             }
            },
            "type": "scatterpolargl"
           }
          ],
          "scatterternary": [
           {
            "marker": {
             "colorbar": {
              "outlinewidth": 0,
              "ticks": ""
             }
            },
            "type": "scatterternary"
           }
          ],
          "surface": [
           {
            "colorbar": {
             "outlinewidth": 0,
             "ticks": ""
            },
            "colorscale": [
             [
              0,
              "#0d0887"
             ],
             [
              0.1111111111111111,
              "#46039f"
             ],
             [
              0.2222222222222222,
              "#7201a8"
             ],
             [
              0.3333333333333333,
              "#9c179e"
             ],
             [
              0.4444444444444444,
              "#bd3786"
             ],
             [
              0.5555555555555556,
              "#d8576b"
             ],
             [
              0.6666666666666666,
              "#ed7953"
             ],
             [
              0.7777777777777778,
              "#fb9f3a"
             ],
             [
              0.8888888888888888,
              "#fdca26"
             ],
             [
              1,
              "#f0f921"
             ]
            ],
            "type": "surface"
           }
          ],
          "table": [
           {
            "cells": {
             "fill": {
              "color": "#EBF0F8"
             },
             "line": {
              "color": "white"
             }
            },
            "header": {
             "fill": {
              "color": "#C8D4E3"
             },
             "line": {
              "color": "white"
             }
            },
            "type": "table"
           }
          ]
         },
         "layout": {
          "annotationdefaults": {
           "arrowcolor": "#2a3f5f",
           "arrowhead": 0,
           "arrowwidth": 1
          },
          "autotypenumbers": "strict",
          "coloraxis": {
           "colorbar": {
            "outlinewidth": 0,
            "ticks": ""
           }
          },
          "colorscale": {
           "diverging": [
            [
             0,
             "#8e0152"
            ],
            [
             0.1,
             "#c51b7d"
            ],
            [
             0.2,
             "#de77ae"
            ],
            [
             0.3,
             "#f1b6da"
            ],
            [
             0.4,
             "#fde0ef"
            ],
            [
             0.5,
             "#f7f7f7"
            ],
            [
             0.6,
             "#e6f5d0"
            ],
            [
             0.7,
             "#b8e186"
            ],
            [
             0.8,
             "#7fbc41"
            ],
            [
             0.9,
             "#4d9221"
            ],
            [
             1,
             "#276419"
            ]
           ],
           "sequential": [
            [
             0,
             "#0d0887"
            ],
            [
             0.1111111111111111,
             "#46039f"
            ],
            [
             0.2222222222222222,
             "#7201a8"
            ],
            [
             0.3333333333333333,
             "#9c179e"
            ],
            [
             0.4444444444444444,
             "#bd3786"
            ],
            [
             0.5555555555555556,
             "#d8576b"
            ],
            [
             0.6666666666666666,
             "#ed7953"
            ],
            [
             0.7777777777777778,
             "#fb9f3a"
            ],
            [
             0.8888888888888888,
             "#fdca26"
            ],
            [
             1,
             "#f0f921"
            ]
           ],
           "sequentialminus": [
            [
             0,
             "#0d0887"
            ],
            [
             0.1111111111111111,
             "#46039f"
            ],
            [
             0.2222222222222222,
             "#7201a8"
            ],
            [
             0.3333333333333333,
             "#9c179e"
            ],
            [
             0.4444444444444444,
             "#bd3786"
            ],
            [
             0.5555555555555556,
             "#d8576b"
            ],
            [
             0.6666666666666666,
             "#ed7953"
            ],
            [
             0.7777777777777778,
             "#fb9f3a"
            ],
            [
             0.8888888888888888,
             "#fdca26"
            ],
            [
             1,
             "#f0f921"
            ]
           ]
          },
          "colorway": [
           "#636efa",
           "#EF553B",
           "#00cc96",
           "#ab63fa",
           "#FFA15A",
           "#19d3f3",
           "#FF6692",
           "#B6E880",
           "#FF97FF",
           "#FECB52"
          ],
          "font": {
           "color": "#2a3f5f"
          },
          "geo": {
           "bgcolor": "white",
           "lakecolor": "white",
           "landcolor": "#E5ECF6",
           "showlakes": true,
           "showland": true,
           "subunitcolor": "white"
          },
          "hoverlabel": {
           "align": "left"
          },
          "hovermode": "closest",
          "mapbox": {
           "style": "light"
          },
          "paper_bgcolor": "white",
          "plot_bgcolor": "#E5ECF6",
          "polar": {
           "angularaxis": {
            "gridcolor": "white",
            "linecolor": "white",
            "ticks": ""
           },
           "bgcolor": "#E5ECF6",
           "radialaxis": {
            "gridcolor": "white",
            "linecolor": "white",
            "ticks": ""
           }
          },
          "scene": {
           "xaxis": {
            "backgroundcolor": "#E5ECF6",
            "gridcolor": "white",
            "gridwidth": 2,
            "linecolor": "white",
            "showbackground": true,
            "ticks": "",
            "zerolinecolor": "white"
           },
           "yaxis": {
            "backgroundcolor": "#E5ECF6",
            "gridcolor": "white",
            "gridwidth": 2,
            "linecolor": "white",
            "showbackground": true,
            "ticks": "",
            "zerolinecolor": "white"
           },
           "zaxis": {
            "backgroundcolor": "#E5ECF6",
            "gridcolor": "white",
            "gridwidth": 2,
            "linecolor": "white",
            "showbackground": true,
            "ticks": "",
            "zerolinecolor": "white"
           }
          },
          "shapedefaults": {
           "line": {
            "color": "#2a3f5f"
           }
          },
          "ternary": {
           "aaxis": {
            "gridcolor": "white",
            "linecolor": "white",
            "ticks": ""
           },
           "baxis": {
            "gridcolor": "white",
            "linecolor": "white",
            "ticks": ""
           },
           "bgcolor": "#E5ECF6",
           "caxis": {
            "gridcolor": "white",
            "linecolor": "white",
            "ticks": ""
           }
          },
          "title": {
           "x": 0.05
          },
          "xaxis": {
           "automargin": true,
           "gridcolor": "white",
           "linecolor": "white",
           "ticks": "",
           "title": {
            "standoff": 15
           },
           "zerolinecolor": "white",
           "zerolinewidth": 2
          },
          "yaxis": {
           "automargin": true,
           "gridcolor": "white",
           "linecolor": "white",
           "ticks": "",
           "title": {
            "standoff": 15
           },
           "zerolinecolor": "white",
           "zerolinewidth": 2
          }
         }
        },
        "title": {
         "font": {
          "color": "#4D5663"
         }
        },
        "xaxis": {
         "gridcolor": "#E1E5ED",
         "showgrid": true,
         "tickfont": {
          "color": "#4D5663"
         },
         "title": {
          "font": {
           "color": "#4D5663"
          },
          "text": ""
         },
         "zerolinecolor": "#E1E5ED"
        },
        "yaxis": {
         "gridcolor": "#E1E5ED",
         "showgrid": true,
         "tickfont": {
          "color": "#4D5663"
         },
         "title": {
          "font": {
           "color": "#4D5663"
          },
          "text": ""
         },
         "zerolinecolor": "#E1E5ED"
        }
       }
      },
      "text/html": [
       "<div>                            <div id=\"0376bc77-f8b1-42d5-bab0-ce7aa07463a3\" class=\"plotly-graph-div\" style=\"height:525px; width:100%;\"></div>            <script type=\"text/javascript\">                require([\"plotly\"], function(Plotly) {                    window.PLOTLYENV=window.PLOTLYENV || {};\n",
       "                    window.PLOTLYENV.BASE_URL='https://plot.ly';                                    if (document.getElementById(\"0376bc77-f8b1-42d5-bab0-ce7aa07463a3\")) {                    Plotly.newPlot(                        \"0376bc77-f8b1-42d5-bab0-ce7aa07463a3\",                        [{\"histfunc\":\"count\",\"histnorm\":\"\",\"marker\":{\"color\":\"rgba(255, 153, 51, 1.0)\",\"line\":{\"color\":\"#4D5663\",\"width\":1.3}},\"name\":\"A\",\"nbinsx\":25,\"opacity\":0.8,\"orientation\":\"v\",\"x\":[-0.13175400242810156,1.4398736154014231,0.3084936992738871,0.5076264204380968,-0.7625284986653112,-1.0062511787786008,0.11469784115897165,1.9310696770869487,1.0944035694729664,0.6372421397859684,0.3855089464458704,-0.8121273360861435,-0.3234342665261247,2.362812817762973,-0.9020043009425683,1.5125228590996407,1.6738212663422762,-0.9901310738157569,1.084961991228402,-0.8959408642253713,2.1316610208320763,-1.5130697817897543,-0.9054073025929361,-1.2363645490471573,-0.15194927661083432,-0.2377615536333579,-0.5007722283776846,-0.7023143914132617,-2.1165840455647387,0.725447620478989,0.21628655747987344,2.215565705679116,-1.6546694084066793,0.43522055750008765,-0.7290404129663632,-2.072652678094007,-1.5357339134344634,0.6597408315792757,0.7471678649316231,1.0183098975792102,-0.0475017122305315,0.6226526850571343,0.11867141066397108,0.6785159601012161,-2.2702452299697886,1.1238379665770963,0.6230048619585441,0.8719729055231573,1.4326270000120012,-0.24688836716890633,0.8117736190877305,1.61223643973982,-1.4932034080063534,0.8037053962798918,1.7130283780118272,-0.6700078392530018,1.5568132179108136,0.40626162740550076,-2.256267543737473,1.092041777618682,2.4343498861619737,0.11904330167051473,1.301154598107079,1.1121166128876387,-0.09443622486311361,1.5039962172550305,-1.5611350973183005,2.0907823004658885,-1.920492399044538,-0.32259609854818216,-0.28860611837376987,-3.9006781071827716,-1.448796535345966,-0.2317550134453871,0.6794020374305854,-1.9386900580032422,-0.5411660242004356,0.20184037671840202,0.2194539547450508,-0.26809272600799905,0.47807622579924847,0.28813930760653533,-1.2171719295118983,1.6613721485393889,-1.129899743938994,1.231837149691319,0.906027903471736,0.41874076383417547,1.140639223532903,-0.27309072874514134,-1.5997041234561773,2.0818397320483397,-0.507997666275523,-0.6412893664962762,0.1353104566092275,0.7058193926130889,-0.8816664183269983,0.31121281370841103,-0.39274099041646093,-0.5095365211072483],\"type\":\"histogram\"}],                        {\"barmode\":\"overlay\",\"legend\":{\"bgcolor\":\"#F5F6F9\",\"font\":{\"color\":\"#4D5663\"}},\"paper_bgcolor\":\"#F5F6F9\",\"plot_bgcolor\":\"#F5F6F9\",\"template\":{\"data\":{\"barpolar\":[{\"marker\":{\"line\":{\"color\":\"#E5ECF6\",\"width\":0.5},\"pattern\":{\"fillmode\":\"overlay\",\"size\":10,\"solidity\":0.2}},\"type\":\"barpolar\"}],\"bar\":[{\"error_x\":{\"color\":\"#2a3f5f\"},\"error_y\":{\"color\":\"#2a3f5f\"},\"marker\":{\"line\":{\"color\":\"#E5ECF6\",\"width\":0.5},\"pattern\":{\"fillmode\":\"overlay\",\"size\":10,\"solidity\":0.2}},\"type\":\"bar\"}],\"carpet\":[{\"aaxis\":{\"endlinecolor\":\"#2a3f5f\",\"gridcolor\":\"white\",\"linecolor\":\"white\",\"minorgridcolor\":\"white\",\"startlinecolor\":\"#2a3f5f\"},\"baxis\":{\"endlinecolor\":\"#2a3f5f\",\"gridcolor\":\"white\",\"linecolor\":\"white\",\"minorgridcolor\":\"white\",\"startlinecolor\":\"#2a3f5f\"},\"type\":\"carpet\"}],\"choropleth\":[{\"colorbar\":{\"outlinewidth\":0,\"ticks\":\"\"},\"type\":\"choropleth\"}],\"contourcarpet\":[{\"colorbar\":{\"outlinewidth\":0,\"ticks\":\"\"},\"type\":\"contourcarpet\"}],\"contour\":[{\"colorbar\":{\"outlinewidth\":0,\"ticks\":\"\"},\"colorscale\":[[0.0,\"#0d0887\"],[0.1111111111111111,\"#46039f\"],[0.2222222222222222,\"#7201a8\"],[0.3333333333333333,\"#9c179e\"],[0.4444444444444444,\"#bd3786\"],[0.5555555555555556,\"#d8576b\"],[0.6666666666666666,\"#ed7953\"],[0.7777777777777778,\"#fb9f3a\"],[0.8888888888888888,\"#fdca26\"],[1.0,\"#f0f921\"]],\"type\":\"contour\"}],\"heatmapgl\":[{\"colorbar\":{\"outlinewidth\":0,\"ticks\":\"\"},\"colorscale\":[[0.0,\"#0d0887\"],[0.1111111111111111,\"#46039f\"],[0.2222222222222222,\"#7201a8\"],[0.3333333333333333,\"#9c179e\"],[0.4444444444444444,\"#bd3786\"],[0.5555555555555556,\"#d8576b\"],[0.6666666666666666,\"#ed7953\"],[0.7777777777777778,\"#fb9f3a\"],[0.8888888888888888,\"#fdca26\"],[1.0,\"#f0f921\"]],\"type\":\"heatmapgl\"}],\"heatmap\":[{\"colorbar\":{\"outlinewidth\":0,\"ticks\":\"\"},\"colorscale\":[[0.0,\"#0d0887\"],[0.1111111111111111,\"#46039f\"],[0.2222222222222222,\"#7201a8\"],[0.3333333333333333,\"#9c179e\"],[0.4444444444444444,\"#bd3786\"],[0.5555555555555556,\"#d8576b\"],[0.6666666666666666,\"#ed7953\"],[0.7777777777777778,\"#fb9f3a\"],[0.8888888888888888,\"#fdca26\"],[1.0,\"#f0f921\"]],\"type\":\"heatmap\"}],\"histogram2dcontour\":[{\"colorbar\":{\"outlinewidth\":0,\"ticks\":\"\"},\"colorscale\":[[0.0,\"#0d0887\"],[0.1111111111111111,\"#46039f\"],[0.2222222222222222,\"#7201a8\"],[0.3333333333333333,\"#9c179e\"],[0.4444444444444444,\"#bd3786\"],[0.5555555555555556,\"#d8576b\"],[0.6666666666666666,\"#ed7953\"],[0.7777777777777778,\"#fb9f3a\"],[0.8888888888888888,\"#fdca26\"],[1.0,\"#f0f921\"]],\"type\":\"histogram2dcontour\"}],\"histogram2d\":[{\"colorbar\":{\"outlinewidth\":0,\"ticks\":\"\"},\"colorscale\":[[0.0,\"#0d0887\"],[0.1111111111111111,\"#46039f\"],[0.2222222222222222,\"#7201a8\"],[0.3333333333333333,\"#9c179e\"],[0.4444444444444444,\"#bd3786\"],[0.5555555555555556,\"#d8576b\"],[0.6666666666666666,\"#ed7953\"],[0.7777777777777778,\"#fb9f3a\"],[0.8888888888888888,\"#fdca26\"],[1.0,\"#f0f921\"]],\"type\":\"histogram2d\"}],\"histogram\":[{\"marker\":{\"pattern\":{\"fillmode\":\"overlay\",\"size\":10,\"solidity\":0.2}},\"type\":\"histogram\"}],\"mesh3d\":[{\"colorbar\":{\"outlinewidth\":0,\"ticks\":\"\"},\"type\":\"mesh3d\"}],\"parcoords\":[{\"line\":{\"colorbar\":{\"outlinewidth\":0,\"ticks\":\"\"}},\"type\":\"parcoords\"}],\"pie\":[{\"automargin\":true,\"type\":\"pie\"}],\"scatter3d\":[{\"line\":{\"colorbar\":{\"outlinewidth\":0,\"ticks\":\"\"}},\"marker\":{\"colorbar\":{\"outlinewidth\":0,\"ticks\":\"\"}},\"type\":\"scatter3d\"}],\"scattercarpet\":[{\"marker\":{\"colorbar\":{\"outlinewidth\":0,\"ticks\":\"\"}},\"type\":\"scattercarpet\"}],\"scattergeo\":[{\"marker\":{\"colorbar\":{\"outlinewidth\":0,\"ticks\":\"\"}},\"type\":\"scattergeo\"}],\"scattergl\":[{\"marker\":{\"colorbar\":{\"outlinewidth\":0,\"ticks\":\"\"}},\"type\":\"scattergl\"}],\"scattermapbox\":[{\"marker\":{\"colorbar\":{\"outlinewidth\":0,\"ticks\":\"\"}},\"type\":\"scattermapbox\"}],\"scatterpolargl\":[{\"marker\":{\"colorbar\":{\"outlinewidth\":0,\"ticks\":\"\"}},\"type\":\"scatterpolargl\"}],\"scatterpolar\":[{\"marker\":{\"colorbar\":{\"outlinewidth\":0,\"ticks\":\"\"}},\"type\":\"scatterpolar\"}],\"scatter\":[{\"fillpattern\":{\"fillmode\":\"overlay\",\"size\":10,\"solidity\":0.2},\"type\":\"scatter\"}],\"scatterternary\":[{\"marker\":{\"colorbar\":{\"outlinewidth\":0,\"ticks\":\"\"}},\"type\":\"scatterternary\"}],\"surface\":[{\"colorbar\":{\"outlinewidth\":0,\"ticks\":\"\"},\"colorscale\":[[0.0,\"#0d0887\"],[0.1111111111111111,\"#46039f\"],[0.2222222222222222,\"#7201a8\"],[0.3333333333333333,\"#9c179e\"],[0.4444444444444444,\"#bd3786\"],[0.5555555555555556,\"#d8576b\"],[0.6666666666666666,\"#ed7953\"],[0.7777777777777778,\"#fb9f3a\"],[0.8888888888888888,\"#fdca26\"],[1.0,\"#f0f921\"]],\"type\":\"surface\"}],\"table\":[{\"cells\":{\"fill\":{\"color\":\"#EBF0F8\"},\"line\":{\"color\":\"white\"}},\"header\":{\"fill\":{\"color\":\"#C8D4E3\"},\"line\":{\"color\":\"white\"}},\"type\":\"table\"}]},\"layout\":{\"annotationdefaults\":{\"arrowcolor\":\"#2a3f5f\",\"arrowhead\":0,\"arrowwidth\":1},\"autotypenumbers\":\"strict\",\"coloraxis\":{\"colorbar\":{\"outlinewidth\":0,\"ticks\":\"\"}},\"colorscale\":{\"diverging\":[[0,\"#8e0152\"],[0.1,\"#c51b7d\"],[0.2,\"#de77ae\"],[0.3,\"#f1b6da\"],[0.4,\"#fde0ef\"],[0.5,\"#f7f7f7\"],[0.6,\"#e6f5d0\"],[0.7,\"#b8e186\"],[0.8,\"#7fbc41\"],[0.9,\"#4d9221\"],[1,\"#276419\"]],\"sequential\":[[0.0,\"#0d0887\"],[0.1111111111111111,\"#46039f\"],[0.2222222222222222,\"#7201a8\"],[0.3333333333333333,\"#9c179e\"],[0.4444444444444444,\"#bd3786\"],[0.5555555555555556,\"#d8576b\"],[0.6666666666666666,\"#ed7953\"],[0.7777777777777778,\"#fb9f3a\"],[0.8888888888888888,\"#fdca26\"],[1.0,\"#f0f921\"]],\"sequentialminus\":[[0.0,\"#0d0887\"],[0.1111111111111111,\"#46039f\"],[0.2222222222222222,\"#7201a8\"],[0.3333333333333333,\"#9c179e\"],[0.4444444444444444,\"#bd3786\"],[0.5555555555555556,\"#d8576b\"],[0.6666666666666666,\"#ed7953\"],[0.7777777777777778,\"#fb9f3a\"],[0.8888888888888888,\"#fdca26\"],[1.0,\"#f0f921\"]]},\"colorway\":[\"#636efa\",\"#EF553B\",\"#00cc96\",\"#ab63fa\",\"#FFA15A\",\"#19d3f3\",\"#FF6692\",\"#B6E880\",\"#FF97FF\",\"#FECB52\"],\"font\":{\"color\":\"#2a3f5f\"},\"geo\":{\"bgcolor\":\"white\",\"lakecolor\":\"white\",\"landcolor\":\"#E5ECF6\",\"showlakes\":true,\"showland\":true,\"subunitcolor\":\"white\"},\"hoverlabel\":{\"align\":\"left\"},\"hovermode\":\"closest\",\"mapbox\":{\"style\":\"light\"},\"paper_bgcolor\":\"white\",\"plot_bgcolor\":\"#E5ECF6\",\"polar\":{\"angularaxis\":{\"gridcolor\":\"white\",\"linecolor\":\"white\",\"ticks\":\"\"},\"bgcolor\":\"#E5ECF6\",\"radialaxis\":{\"gridcolor\":\"white\",\"linecolor\":\"white\",\"ticks\":\"\"}},\"scene\":{\"xaxis\":{\"backgroundcolor\":\"#E5ECF6\",\"gridcolor\":\"white\",\"gridwidth\":2,\"linecolor\":\"white\",\"showbackground\":true,\"ticks\":\"\",\"zerolinecolor\":\"white\"},\"yaxis\":{\"backgroundcolor\":\"#E5ECF6\",\"gridcolor\":\"white\",\"gridwidth\":2,\"linecolor\":\"white\",\"showbackground\":true,\"ticks\":\"\",\"zerolinecolor\":\"white\"},\"zaxis\":{\"backgroundcolor\":\"#E5ECF6\",\"gridcolor\":\"white\",\"gridwidth\":2,\"linecolor\":\"white\",\"showbackground\":true,\"ticks\":\"\",\"zerolinecolor\":\"white\"}},\"shapedefaults\":{\"line\":{\"color\":\"#2a3f5f\"}},\"ternary\":{\"aaxis\":{\"gridcolor\":\"white\",\"linecolor\":\"white\",\"ticks\":\"\"},\"baxis\":{\"gridcolor\":\"white\",\"linecolor\":\"white\",\"ticks\":\"\"},\"bgcolor\":\"#E5ECF6\",\"caxis\":{\"gridcolor\":\"white\",\"linecolor\":\"white\",\"ticks\":\"\"}},\"title\":{\"x\":0.05},\"xaxis\":{\"automargin\":true,\"gridcolor\":\"white\",\"linecolor\":\"white\",\"ticks\":\"\",\"title\":{\"standoff\":15},\"zerolinecolor\":\"white\",\"zerolinewidth\":2},\"yaxis\":{\"automargin\":true,\"gridcolor\":\"white\",\"linecolor\":\"white\",\"ticks\":\"\",\"title\":{\"standoff\":15},\"zerolinecolor\":\"white\",\"zerolinewidth\":2}}},\"title\":{\"font\":{\"color\":\"#4D5663\"}},\"xaxis\":{\"gridcolor\":\"#E1E5ED\",\"showgrid\":true,\"tickfont\":{\"color\":\"#4D5663\"},\"title\":{\"font\":{\"color\":\"#4D5663\"},\"text\":\"\"},\"zerolinecolor\":\"#E1E5ED\"},\"yaxis\":{\"gridcolor\":\"#E1E5ED\",\"showgrid\":true,\"tickfont\":{\"color\":\"#4D5663\"},\"title\":{\"font\":{\"color\":\"#4D5663\"},\"text\":\"\"},\"zerolinecolor\":\"#E1E5ED\"}},                        {\"showLink\": true, \"linkText\": \"Export to plot.ly\", \"plotlyServerURL\": \"https://plot.ly\", \"responsive\": true}                    ).then(function(){\n",
       "                            \n",
       "var gd = document.getElementById('0376bc77-f8b1-42d5-bab0-ce7aa07463a3');\n",
       "var x = new MutationObserver(function (mutations, observer) {{\n",
       "        var display = window.getComputedStyle(gd).display;\n",
       "        if (!display || display === 'none') {{\n",
       "            console.log([gd, 'removed!']);\n",
       "            Plotly.purge(gd);\n",
       "            observer.disconnect();\n",
       "        }}\n",
       "}});\n",
       "\n",
       "// Listen for the removal of the full notebook cells\n",
       "var notebookContainer = gd.closest('#notebook-container');\n",
       "if (notebookContainer) {{\n",
       "    x.observe(notebookContainer, {childList: true});\n",
       "}}\n",
       "\n",
       "// Listen for the clearing of the current output cell\n",
       "var outputEl = gd.closest('.output');\n",
       "if (outputEl) {{\n",
       "    x.observe(outputEl, {childList: true});\n",
       "}}\n",
       "\n",
       "                        })                };                });            </script>        </div>"
      ]
     },
     "metadata": {},
     "output_type": "display_data"
    }
   ],
   "source": [
    "df['A'].iplot(kind='hist',bins=25)"
   ]
  },
  {
   "cell_type": "code",
   "execution_count": 29,
   "id": "e088ab8b",
   "metadata": {},
   "outputs": [
    {
     "data": {
      "application/vnd.plotly.v1+json": {
       "config": {
        "linkText": "Export to plot.ly",
        "plotlyServerURL": "https://plot.ly",
        "showLink": true
       },
       "data": [
        {
         "marker": {
          "color": [
           "rgb(255, 153, 51)",
           "rgb(55, 128, 191)",
           "rgb(50, 171, 96)",
           "rgb(128, 0, 128)",
           "rgb(219, 64, 82)",
           "rgb(0, 128, 128)",
           "rgb(255, 255, 51)",
           "rgb(128, 128, 0)",
           "rgb(251, 128, 114)",
           "rgb(128, 177, 211)"
          ],
          "line": {
           "width": 1.3
          },
          "size": [
           78,
           73,
           77,
           57,
           72,
           51,
           80,
           39,
           55,
           60,
           90,
           67,
           59,
           70,
           56,
           80,
           60,
           95,
           44,
           44,
           64,
           59,
           48,
           84,
           56,
           62,
           57,
           89,
           45,
           72,
           63,
           42,
           74,
           65,
           69,
           53,
           86,
           98,
           81,
           60,
           23,
           39,
           112,
           12,
           52,
           97,
           61,
           68,
           82,
           65,
           87,
           93,
           61,
           88,
           37,
           57,
           93,
           54,
           104,
           90,
           68,
           65,
           64,
           58,
           31,
           87,
           79,
           80,
           65,
           65,
           44,
           101,
           54,
           46,
           47,
           55,
           68,
           44,
           68,
           73,
           69,
           42,
           82,
           68,
           53,
           55,
           63,
           72,
           76,
           90,
           20,
           85,
           90,
           65,
           60,
           75,
           62,
           53,
           90,
           68
          ],
          "symbol": "circle"
         },
         "mode": "markers",
         "text": "",
         "type": "scatter",
         "x": [
          -0.13175400242810156,
          1.4398736154014231,
          0.3084936992738871,
          0.5076264204380968,
          -0.7625284986653112,
          -1.0062511787786008,
          0.11469784115897165,
          1.9310696770869487,
          1.0944035694729664,
          0.6372421397859684,
          0.3855089464458704,
          -0.8121273360861435,
          -0.3234342665261247,
          2.362812817762973,
          -0.9020043009425683,
          1.5125228590996407,
          1.6738212663422762,
          -0.9901310738157569,
          1.084961991228402,
          -0.8959408642253713,
          2.1316610208320763,
          -1.5130697817897543,
          -0.9054073025929361,
          -1.2363645490471573,
          -0.15194927661083432,
          -0.2377615536333579,
          -0.5007722283776846,
          -0.7023143914132617,
          -2.1165840455647387,
          0.725447620478989,
          0.21628655747987344,
          2.215565705679116,
          -1.6546694084066793,
          0.43522055750008765,
          -0.7290404129663632,
          -2.072652678094007,
          -1.5357339134344634,
          0.6597408315792757,
          0.7471678649316231,
          1.0183098975792102,
          -0.0475017122305315,
          0.6226526850571343,
          0.11867141066397108,
          0.6785159601012161,
          -2.2702452299697886,
          1.1238379665770963,
          0.6230048619585441,
          0.8719729055231573,
          1.4326270000120012,
          -0.24688836716890633,
          0.8117736190877305,
          1.61223643973982,
          -1.4932034080063534,
          0.8037053962798918,
          1.7130283780118272,
          -0.6700078392530018,
          1.5568132179108136,
          0.40626162740550076,
          -2.256267543737473,
          1.092041777618682,
          2.4343498861619737,
          0.11904330167051473,
          1.301154598107079,
          1.1121166128876387,
          -0.09443622486311361,
          1.5039962172550305,
          -1.5611350973183005,
          2.0907823004658885,
          -1.920492399044538,
          -0.32259609854818216,
          -0.28860611837376987,
          -3.9006781071827716,
          -1.448796535345966,
          -0.2317550134453871,
          0.6794020374305854,
          -1.9386900580032422,
          -0.5411660242004356,
          0.20184037671840202,
          0.2194539547450508,
          -0.26809272600799905,
          0.47807622579924847,
          0.28813930760653533,
          -1.2171719295118983,
          1.6613721485393889,
          -1.129899743938994,
          1.231837149691319,
          0.906027903471736,
          0.41874076383417547,
          1.140639223532903,
          -0.27309072874514134,
          -1.5997041234561773,
          2.0818397320483397,
          -0.507997666275523,
          -0.6412893664962762,
          0.1353104566092275,
          0.7058193926130889,
          -0.8816664183269983,
          0.31121281370841103,
          -0.39274099041646093,
          -0.5095365211072483
         ],
         "y": [
          0.7668247603098971,
          0.25608341454276456,
          -0.418007492438254,
          1.6479000639513037,
          -1.085957707598228,
          -0.6471993669751592,
          -1.1476836051943966,
          0.3647731658486326,
          0.32719258878439345,
          0.36629851821546877,
          -0.16000570641145667,
          1.5669653312034988,
          -1.3354132322743333,
          -0.23044821694920747,
          -0.060267767095280075,
          0.624298316824953,
          -0.7497976648916586,
          0.12707974086987975,
          -0.7140406345566194,
          1.3183538535134744,
          1.9492171783364947,
          -0.07227429606646343,
          0.7104660955504053,
          -0.3823620944176171,
          -0.0016846148843457597,
          0.8531041063996373,
          0.13650535971413694,
          -1.9768805035437342,
          0.8017552890082933,
          0.24675978309861793,
          0.40168364800647616,
          0.5419398982661194,
          -2.9408752875684945,
          -0.645007270455306,
          1.6499623708090134,
          -1.0680997060013975,
          0.31218567853158047,
          -1.1073355893203949,
          0.6627605959317424,
          0.48103810835817923,
          -0.02190442811798528,
          -0.05170363686797047,
          -0.3336029037164444,
          0.0210670145406781,
          -1.08060773901822,
          0.26716901124877135,
          0.8559623719295363,
          -0.3552226520086245,
          0.03289143543064628,
          0.043948774668583844,
          -0.8854118949675668,
          1.2392211365577033,
          0.3973864688908118,
          0.3936559984256999,
          0.5706188669456544,
          0.5938041094382246,
          0.05666814714582934,
          -0.5027644440474898,
          -0.4835465184492971,
          -0.3684119863666352,
          -0.03825882718531708,
          -0.13649727148657367,
          0.49463947836597666,
          -2.0938864041717165,
          -0.0043845897516948855,
          1.1848175021850196,
          -0.689421076516863,
          0.24697274210920545,
          2.0176554176642783,
          -0.052240509921352034,
          -1.1559621489839282,
          -0.4579065362451067,
          -0.02528773996479936,
          -1.9016111132627143,
          1.4567845672157844,
          1.3545548283768565,
          1.466930032164649,
          1.1190235946806586,
          -1.396688273698315,
          1.0578914384783338,
          1.4824964112076136,
          1.2869025951738233,
          0.2497579974130677,
          2.0314669247857053,
          0.722928865710818,
          0.8339059281666981,
          -1.1227398591384263,
          -1.2585257402688401,
          0.7647242059875361,
          -0.9639506274251255,
          1.1430521145223795,
          1.9037174534810613,
          0.9649629383966886,
          0.6330162346487069,
          0.3676138133031477,
          1.0978027541671664,
          -0.5436639063060611,
          0.41353875396477,
          -0.1949677432718928,
          0.5180959646238293
         ]
        }
       ],
       "layout": {
        "legend": {
         "bgcolor": "#F5F6F9",
         "font": {
          "color": "#4D5663"
         }
        },
        "paper_bgcolor": "#F5F6F9",
        "plot_bgcolor": "#F5F6F9",
        "template": {
         "data": {
          "bar": [
           {
            "error_x": {
             "color": "#2a3f5f"
            },
            "error_y": {
             "color": "#2a3f5f"
            },
            "marker": {
             "line": {
              "color": "#E5ECF6",
              "width": 0.5
             },
             "pattern": {
              "fillmode": "overlay",
              "size": 10,
              "solidity": 0.2
             }
            },
            "type": "bar"
           }
          ],
          "barpolar": [
           {
            "marker": {
             "line": {
              "color": "#E5ECF6",
              "width": 0.5
             },
             "pattern": {
              "fillmode": "overlay",
              "size": 10,
              "solidity": 0.2
             }
            },
            "type": "barpolar"
           }
          ],
          "carpet": [
           {
            "aaxis": {
             "endlinecolor": "#2a3f5f",
             "gridcolor": "white",
             "linecolor": "white",
             "minorgridcolor": "white",
             "startlinecolor": "#2a3f5f"
            },
            "baxis": {
             "endlinecolor": "#2a3f5f",
             "gridcolor": "white",
             "linecolor": "white",
             "minorgridcolor": "white",
             "startlinecolor": "#2a3f5f"
            },
            "type": "carpet"
           }
          ],
          "choropleth": [
           {
            "colorbar": {
             "outlinewidth": 0,
             "ticks": ""
            },
            "type": "choropleth"
           }
          ],
          "contour": [
           {
            "colorbar": {
             "outlinewidth": 0,
             "ticks": ""
            },
            "colorscale": [
             [
              0,
              "#0d0887"
             ],
             [
              0.1111111111111111,
              "#46039f"
             ],
             [
              0.2222222222222222,
              "#7201a8"
             ],
             [
              0.3333333333333333,
              "#9c179e"
             ],
             [
              0.4444444444444444,
              "#bd3786"
             ],
             [
              0.5555555555555556,
              "#d8576b"
             ],
             [
              0.6666666666666666,
              "#ed7953"
             ],
             [
              0.7777777777777778,
              "#fb9f3a"
             ],
             [
              0.8888888888888888,
              "#fdca26"
             ],
             [
              1,
              "#f0f921"
             ]
            ],
            "type": "contour"
           }
          ],
          "contourcarpet": [
           {
            "colorbar": {
             "outlinewidth": 0,
             "ticks": ""
            },
            "type": "contourcarpet"
           }
          ],
          "heatmap": [
           {
            "colorbar": {
             "outlinewidth": 0,
             "ticks": ""
            },
            "colorscale": [
             [
              0,
              "#0d0887"
             ],
             [
              0.1111111111111111,
              "#46039f"
             ],
             [
              0.2222222222222222,
              "#7201a8"
             ],
             [
              0.3333333333333333,
              "#9c179e"
             ],
             [
              0.4444444444444444,
              "#bd3786"
             ],
             [
              0.5555555555555556,
              "#d8576b"
             ],
             [
              0.6666666666666666,
              "#ed7953"
             ],
             [
              0.7777777777777778,
              "#fb9f3a"
             ],
             [
              0.8888888888888888,
              "#fdca26"
             ],
             [
              1,
              "#f0f921"
             ]
            ],
            "type": "heatmap"
           }
          ],
          "heatmapgl": [
           {
            "colorbar": {
             "outlinewidth": 0,
             "ticks": ""
            },
            "colorscale": [
             [
              0,
              "#0d0887"
             ],
             [
              0.1111111111111111,
              "#46039f"
             ],
             [
              0.2222222222222222,
              "#7201a8"
             ],
             [
              0.3333333333333333,
              "#9c179e"
             ],
             [
              0.4444444444444444,
              "#bd3786"
             ],
             [
              0.5555555555555556,
              "#d8576b"
             ],
             [
              0.6666666666666666,
              "#ed7953"
             ],
             [
              0.7777777777777778,
              "#fb9f3a"
             ],
             [
              0.8888888888888888,
              "#fdca26"
             ],
             [
              1,
              "#f0f921"
             ]
            ],
            "type": "heatmapgl"
           }
          ],
          "histogram": [
           {
            "marker": {
             "pattern": {
              "fillmode": "overlay",
              "size": 10,
              "solidity": 0.2
             }
            },
            "type": "histogram"
           }
          ],
          "histogram2d": [
           {
            "colorbar": {
             "outlinewidth": 0,
             "ticks": ""
            },
            "colorscale": [
             [
              0,
              "#0d0887"
             ],
             [
              0.1111111111111111,
              "#46039f"
             ],
             [
              0.2222222222222222,
              "#7201a8"
             ],
             [
              0.3333333333333333,
              "#9c179e"
             ],
             [
              0.4444444444444444,
              "#bd3786"
             ],
             [
              0.5555555555555556,
              "#d8576b"
             ],
             [
              0.6666666666666666,
              "#ed7953"
             ],
             [
              0.7777777777777778,
              "#fb9f3a"
             ],
             [
              0.8888888888888888,
              "#fdca26"
             ],
             [
              1,
              "#f0f921"
             ]
            ],
            "type": "histogram2d"
           }
          ],
          "histogram2dcontour": [
           {
            "colorbar": {
             "outlinewidth": 0,
             "ticks": ""
            },
            "colorscale": [
             [
              0,
              "#0d0887"
             ],
             [
              0.1111111111111111,
              "#46039f"
             ],
             [
              0.2222222222222222,
              "#7201a8"
             ],
             [
              0.3333333333333333,
              "#9c179e"
             ],
             [
              0.4444444444444444,
              "#bd3786"
             ],
             [
              0.5555555555555556,
              "#d8576b"
             ],
             [
              0.6666666666666666,
              "#ed7953"
             ],
             [
              0.7777777777777778,
              "#fb9f3a"
             ],
             [
              0.8888888888888888,
              "#fdca26"
             ],
             [
              1,
              "#f0f921"
             ]
            ],
            "type": "histogram2dcontour"
           }
          ],
          "mesh3d": [
           {
            "colorbar": {
             "outlinewidth": 0,
             "ticks": ""
            },
            "type": "mesh3d"
           }
          ],
          "parcoords": [
           {
            "line": {
             "colorbar": {
              "outlinewidth": 0,
              "ticks": ""
             }
            },
            "type": "parcoords"
           }
          ],
          "pie": [
           {
            "automargin": true,
            "type": "pie"
           }
          ],
          "scatter": [
           {
            "fillpattern": {
             "fillmode": "overlay",
             "size": 10,
             "solidity": 0.2
            },
            "type": "scatter"
           }
          ],
          "scatter3d": [
           {
            "line": {
             "colorbar": {
              "outlinewidth": 0,
              "ticks": ""
             }
            },
            "marker": {
             "colorbar": {
              "outlinewidth": 0,
              "ticks": ""
             }
            },
            "type": "scatter3d"
           }
          ],
          "scattercarpet": [
           {
            "marker": {
             "colorbar": {
              "outlinewidth": 0,
              "ticks": ""
             }
            },
            "type": "scattercarpet"
           }
          ],
          "scattergeo": [
           {
            "marker": {
             "colorbar": {
              "outlinewidth": 0,
              "ticks": ""
             }
            },
            "type": "scattergeo"
           }
          ],
          "scattergl": [
           {
            "marker": {
             "colorbar": {
              "outlinewidth": 0,
              "ticks": ""
             }
            },
            "type": "scattergl"
           }
          ],
          "scattermapbox": [
           {
            "marker": {
             "colorbar": {
              "outlinewidth": 0,
              "ticks": ""
             }
            },
            "type": "scattermapbox"
           }
          ],
          "scatterpolar": [
           {
            "marker": {
             "colorbar": {
              "outlinewidth": 0,
              "ticks": ""
             }
            },
            "type": "scatterpolar"
           }
          ],
          "scatterpolargl": [
           {
            "marker": {
             "colorbar": {
              "outlinewidth": 0,
              "ticks": ""
             }
            },
            "type": "scatterpolargl"
           }
          ],
          "scatterternary": [
           {
            "marker": {
             "colorbar": {
              "outlinewidth": 0,
              "ticks": ""
             }
            },
            "type": "scatterternary"
           }
          ],
          "surface": [
           {
            "colorbar": {
             "outlinewidth": 0,
             "ticks": ""
            },
            "colorscale": [
             [
              0,
              "#0d0887"
             ],
             [
              0.1111111111111111,
              "#46039f"
             ],
             [
              0.2222222222222222,
              "#7201a8"
             ],
             [
              0.3333333333333333,
              "#9c179e"
             ],
             [
              0.4444444444444444,
              "#bd3786"
             ],
             [
              0.5555555555555556,
              "#d8576b"
             ],
             [
              0.6666666666666666,
              "#ed7953"
             ],
             [
              0.7777777777777778,
              "#fb9f3a"
             ],
             [
              0.8888888888888888,
              "#fdca26"
             ],
             [
              1,
              "#f0f921"
             ]
            ],
            "type": "surface"
           }
          ],
          "table": [
           {
            "cells": {
             "fill": {
              "color": "#EBF0F8"
             },
             "line": {
              "color": "white"
             }
            },
            "header": {
             "fill": {
              "color": "#C8D4E3"
             },
             "line": {
              "color": "white"
             }
            },
            "type": "table"
           }
          ]
         },
         "layout": {
          "annotationdefaults": {
           "arrowcolor": "#2a3f5f",
           "arrowhead": 0,
           "arrowwidth": 1
          },
          "autotypenumbers": "strict",
          "coloraxis": {
           "colorbar": {
            "outlinewidth": 0,
            "ticks": ""
           }
          },
          "colorscale": {
           "diverging": [
            [
             0,
             "#8e0152"
            ],
            [
             0.1,
             "#c51b7d"
            ],
            [
             0.2,
             "#de77ae"
            ],
            [
             0.3,
             "#f1b6da"
            ],
            [
             0.4,
             "#fde0ef"
            ],
            [
             0.5,
             "#f7f7f7"
            ],
            [
             0.6,
             "#e6f5d0"
            ],
            [
             0.7,
             "#b8e186"
            ],
            [
             0.8,
             "#7fbc41"
            ],
            [
             0.9,
             "#4d9221"
            ],
            [
             1,
             "#276419"
            ]
           ],
           "sequential": [
            [
             0,
             "#0d0887"
            ],
            [
             0.1111111111111111,
             "#46039f"
            ],
            [
             0.2222222222222222,
             "#7201a8"
            ],
            [
             0.3333333333333333,
             "#9c179e"
            ],
            [
             0.4444444444444444,
             "#bd3786"
            ],
            [
             0.5555555555555556,
             "#d8576b"
            ],
            [
             0.6666666666666666,
             "#ed7953"
            ],
            [
             0.7777777777777778,
             "#fb9f3a"
            ],
            [
             0.8888888888888888,
             "#fdca26"
            ],
            [
             1,
             "#f0f921"
            ]
           ],
           "sequentialminus": [
            [
             0,
             "#0d0887"
            ],
            [
             0.1111111111111111,
             "#46039f"
            ],
            [
             0.2222222222222222,
             "#7201a8"
            ],
            [
             0.3333333333333333,
             "#9c179e"
            ],
            [
             0.4444444444444444,
             "#bd3786"
            ],
            [
             0.5555555555555556,
             "#d8576b"
            ],
            [
             0.6666666666666666,
             "#ed7953"
            ],
            [
             0.7777777777777778,
             "#fb9f3a"
            ],
            [
             0.8888888888888888,
             "#fdca26"
            ],
            [
             1,
             "#f0f921"
            ]
           ]
          },
          "colorway": [
           "#636efa",
           "#EF553B",
           "#00cc96",
           "#ab63fa",
           "#FFA15A",
           "#19d3f3",
           "#FF6692",
           "#B6E880",
           "#FF97FF",
           "#FECB52"
          ],
          "font": {
           "color": "#2a3f5f"
          },
          "geo": {
           "bgcolor": "white",
           "lakecolor": "white",
           "landcolor": "#E5ECF6",
           "showlakes": true,
           "showland": true,
           "subunitcolor": "white"
          },
          "hoverlabel": {
           "align": "left"
          },
          "hovermode": "closest",
          "mapbox": {
           "style": "light"
          },
          "paper_bgcolor": "white",
          "plot_bgcolor": "#E5ECF6",
          "polar": {
           "angularaxis": {
            "gridcolor": "white",
            "linecolor": "white",
            "ticks": ""
           },
           "bgcolor": "#E5ECF6",
           "radialaxis": {
            "gridcolor": "white",
            "linecolor": "white",
            "ticks": ""
           }
          },
          "scene": {
           "xaxis": {
            "backgroundcolor": "#E5ECF6",
            "gridcolor": "white",
            "gridwidth": 2,
            "linecolor": "white",
            "showbackground": true,
            "ticks": "",
            "zerolinecolor": "white"
           },
           "yaxis": {
            "backgroundcolor": "#E5ECF6",
            "gridcolor": "white",
            "gridwidth": 2,
            "linecolor": "white",
            "showbackground": true,
            "ticks": "",
            "zerolinecolor": "white"
           },
           "zaxis": {
            "backgroundcolor": "#E5ECF6",
            "gridcolor": "white",
            "gridwidth": 2,
            "linecolor": "white",
            "showbackground": true,
            "ticks": "",
            "zerolinecolor": "white"
           }
          },
          "shapedefaults": {
           "line": {
            "color": "#2a3f5f"
           }
          },
          "ternary": {
           "aaxis": {
            "gridcolor": "white",
            "linecolor": "white",
            "ticks": ""
           },
           "baxis": {
            "gridcolor": "white",
            "linecolor": "white",
            "ticks": ""
           },
           "bgcolor": "#E5ECF6",
           "caxis": {
            "gridcolor": "white",
            "linecolor": "white",
            "ticks": ""
           }
          },
          "title": {
           "x": 0.05
          },
          "xaxis": {
           "automargin": true,
           "gridcolor": "white",
           "linecolor": "white",
           "ticks": "",
           "title": {
            "standoff": 15
           },
           "zerolinecolor": "white",
           "zerolinewidth": 2
          },
          "yaxis": {
           "automargin": true,
           "gridcolor": "white",
           "linecolor": "white",
           "ticks": "",
           "title": {
            "standoff": 15
           },
           "zerolinecolor": "white",
           "zerolinewidth": 2
          }
         }
        },
        "title": {
         "font": {
          "color": "#4D5663"
         }
        },
        "xaxis": {
         "gridcolor": "#E1E5ED",
         "showgrid": true,
         "tickfont": {
          "color": "#4D5663"
         },
         "title": {
          "font": {
           "color": "#4D5663"
          },
          "text": ""
         },
         "zerolinecolor": "#E1E5ED"
        },
        "yaxis": {
         "gridcolor": "#E1E5ED",
         "showgrid": true,
         "tickfont": {
          "color": "#4D5663"
         },
         "title": {
          "font": {
           "color": "#4D5663"
          },
          "text": ""
         },
         "zerolinecolor": "#E1E5ED"
        }
       }
      },
      "text/html": [
       "<div>                            <div id=\"57c29954-9385-46dd-af46-a6cb37419dd2\" class=\"plotly-graph-div\" style=\"height:525px; width:100%;\"></div>            <script type=\"text/javascript\">                require([\"plotly\"], function(Plotly) {                    window.PLOTLYENV=window.PLOTLYENV || {};\n",
       "                    window.PLOTLYENV.BASE_URL='https://plot.ly';                                    if (document.getElementById(\"57c29954-9385-46dd-af46-a6cb37419dd2\")) {                    Plotly.newPlot(                        \"57c29954-9385-46dd-af46-a6cb37419dd2\",                        [{\"marker\":{\"color\":[\"rgb(255, 153, 51)\",\"rgb(55, 128, 191)\",\"rgb(50, 171, 96)\",\"rgb(128, 0, 128)\",\"rgb(219, 64, 82)\",\"rgb(0, 128, 128)\",\"rgb(255, 255, 51)\",\"rgb(128, 128, 0)\",\"rgb(251, 128, 114)\",\"rgb(128, 177, 211)\"],\"line\":{\"width\":1.3},\"size\":[78,73,77,57,72,51,80,39,55,60,90,67,59,70,56,80,60,95,44,44,64,59,48,84,56,62,57,89,45,72,63,42,74,65,69,53,86,98,81,60,23,39,112,12,52,97,61,68,82,65,87,93,61,88,37,57,93,54,104,90,68,65,64,58,31,87,79,80,65,65,44,101,54,46,47,55,68,44,68,73,69,42,82,68,53,55,63,72,76,90,20,85,90,65,60,75,62,53,90,68],\"symbol\":\"circle\"},\"mode\":\"markers\",\"text\":\"\",\"x\":[-0.13175400242810156,1.4398736154014231,0.3084936992738871,0.5076264204380968,-0.7625284986653112,-1.0062511787786008,0.11469784115897165,1.9310696770869487,1.0944035694729664,0.6372421397859684,0.3855089464458704,-0.8121273360861435,-0.3234342665261247,2.362812817762973,-0.9020043009425683,1.5125228590996407,1.6738212663422762,-0.9901310738157569,1.084961991228402,-0.8959408642253713,2.1316610208320763,-1.5130697817897543,-0.9054073025929361,-1.2363645490471573,-0.15194927661083432,-0.2377615536333579,-0.5007722283776846,-0.7023143914132617,-2.1165840455647387,0.725447620478989,0.21628655747987344,2.215565705679116,-1.6546694084066793,0.43522055750008765,-0.7290404129663632,-2.072652678094007,-1.5357339134344634,0.6597408315792757,0.7471678649316231,1.0183098975792102,-0.0475017122305315,0.6226526850571343,0.11867141066397108,0.6785159601012161,-2.2702452299697886,1.1238379665770963,0.6230048619585441,0.8719729055231573,1.4326270000120012,-0.24688836716890633,0.8117736190877305,1.61223643973982,-1.4932034080063534,0.8037053962798918,1.7130283780118272,-0.6700078392530018,1.5568132179108136,0.40626162740550076,-2.256267543737473,1.092041777618682,2.4343498861619737,0.11904330167051473,1.301154598107079,1.1121166128876387,-0.09443622486311361,1.5039962172550305,-1.5611350973183005,2.0907823004658885,-1.920492399044538,-0.32259609854818216,-0.28860611837376987,-3.9006781071827716,-1.448796535345966,-0.2317550134453871,0.6794020374305854,-1.9386900580032422,-0.5411660242004356,0.20184037671840202,0.2194539547450508,-0.26809272600799905,0.47807622579924847,0.28813930760653533,-1.2171719295118983,1.6613721485393889,-1.129899743938994,1.231837149691319,0.906027903471736,0.41874076383417547,1.140639223532903,-0.27309072874514134,-1.5997041234561773,2.0818397320483397,-0.507997666275523,-0.6412893664962762,0.1353104566092275,0.7058193926130889,-0.8816664183269983,0.31121281370841103,-0.39274099041646093,-0.5095365211072483],\"y\":[0.7668247603098971,0.25608341454276456,-0.418007492438254,1.6479000639513037,-1.085957707598228,-0.6471993669751592,-1.1476836051943966,0.3647731658486326,0.32719258878439345,0.36629851821546877,-0.16000570641145667,1.5669653312034988,-1.3354132322743333,-0.23044821694920747,-0.060267767095280075,0.624298316824953,-0.7497976648916586,0.12707974086987975,-0.7140406345566194,1.3183538535134744,1.9492171783364947,-0.07227429606646343,0.7104660955504053,-0.3823620944176171,-0.0016846148843457597,0.8531041063996373,0.13650535971413694,-1.9768805035437342,0.8017552890082933,0.24675978309861793,0.40168364800647616,0.5419398982661194,-2.9408752875684945,-0.645007270455306,1.6499623708090134,-1.0680997060013975,0.31218567853158047,-1.1073355893203949,0.6627605959317424,0.48103810835817923,-0.02190442811798528,-0.05170363686797047,-0.3336029037164444,0.0210670145406781,-1.08060773901822,0.26716901124877135,0.8559623719295363,-0.3552226520086245,0.03289143543064628,0.043948774668583844,-0.8854118949675668,1.2392211365577033,0.3973864688908118,0.3936559984256999,0.5706188669456544,0.5938041094382246,0.05666814714582934,-0.5027644440474898,-0.4835465184492971,-0.3684119863666352,-0.03825882718531708,-0.13649727148657367,0.49463947836597666,-2.0938864041717165,-0.0043845897516948855,1.1848175021850196,-0.689421076516863,0.24697274210920545,2.0176554176642783,-0.052240509921352034,-1.1559621489839282,-0.4579065362451067,-0.02528773996479936,-1.9016111132627143,1.4567845672157844,1.3545548283768565,1.466930032164649,1.1190235946806586,-1.396688273698315,1.0578914384783338,1.4824964112076136,1.2869025951738233,0.2497579974130677,2.0314669247857053,0.722928865710818,0.8339059281666981,-1.1227398591384263,-1.2585257402688401,0.7647242059875361,-0.9639506274251255,1.1430521145223795,1.9037174534810613,0.9649629383966886,0.6330162346487069,0.3676138133031477,1.0978027541671664,-0.5436639063060611,0.41353875396477,-0.1949677432718928,0.5180959646238293],\"type\":\"scatter\"}],                        {\"legend\":{\"bgcolor\":\"#F5F6F9\",\"font\":{\"color\":\"#4D5663\"}},\"paper_bgcolor\":\"#F5F6F9\",\"plot_bgcolor\":\"#F5F6F9\",\"template\":{\"data\":{\"barpolar\":[{\"marker\":{\"line\":{\"color\":\"#E5ECF6\",\"width\":0.5},\"pattern\":{\"fillmode\":\"overlay\",\"size\":10,\"solidity\":0.2}},\"type\":\"barpolar\"}],\"bar\":[{\"error_x\":{\"color\":\"#2a3f5f\"},\"error_y\":{\"color\":\"#2a3f5f\"},\"marker\":{\"line\":{\"color\":\"#E5ECF6\",\"width\":0.5},\"pattern\":{\"fillmode\":\"overlay\",\"size\":10,\"solidity\":0.2}},\"type\":\"bar\"}],\"carpet\":[{\"aaxis\":{\"endlinecolor\":\"#2a3f5f\",\"gridcolor\":\"white\",\"linecolor\":\"white\",\"minorgridcolor\":\"white\",\"startlinecolor\":\"#2a3f5f\"},\"baxis\":{\"endlinecolor\":\"#2a3f5f\",\"gridcolor\":\"white\",\"linecolor\":\"white\",\"minorgridcolor\":\"white\",\"startlinecolor\":\"#2a3f5f\"},\"type\":\"carpet\"}],\"choropleth\":[{\"colorbar\":{\"outlinewidth\":0,\"ticks\":\"\"},\"type\":\"choropleth\"}],\"contourcarpet\":[{\"colorbar\":{\"outlinewidth\":0,\"ticks\":\"\"},\"type\":\"contourcarpet\"}],\"contour\":[{\"colorbar\":{\"outlinewidth\":0,\"ticks\":\"\"},\"colorscale\":[[0.0,\"#0d0887\"],[0.1111111111111111,\"#46039f\"],[0.2222222222222222,\"#7201a8\"],[0.3333333333333333,\"#9c179e\"],[0.4444444444444444,\"#bd3786\"],[0.5555555555555556,\"#d8576b\"],[0.6666666666666666,\"#ed7953\"],[0.7777777777777778,\"#fb9f3a\"],[0.8888888888888888,\"#fdca26\"],[1.0,\"#f0f921\"]],\"type\":\"contour\"}],\"heatmapgl\":[{\"colorbar\":{\"outlinewidth\":0,\"ticks\":\"\"},\"colorscale\":[[0.0,\"#0d0887\"],[0.1111111111111111,\"#46039f\"],[0.2222222222222222,\"#7201a8\"],[0.3333333333333333,\"#9c179e\"],[0.4444444444444444,\"#bd3786\"],[0.5555555555555556,\"#d8576b\"],[0.6666666666666666,\"#ed7953\"],[0.7777777777777778,\"#fb9f3a\"],[0.8888888888888888,\"#fdca26\"],[1.0,\"#f0f921\"]],\"type\":\"heatmapgl\"}],\"heatmap\":[{\"colorbar\":{\"outlinewidth\":0,\"ticks\":\"\"},\"colorscale\":[[0.0,\"#0d0887\"],[0.1111111111111111,\"#46039f\"],[0.2222222222222222,\"#7201a8\"],[0.3333333333333333,\"#9c179e\"],[0.4444444444444444,\"#bd3786\"],[0.5555555555555556,\"#d8576b\"],[0.6666666666666666,\"#ed7953\"],[0.7777777777777778,\"#fb9f3a\"],[0.8888888888888888,\"#fdca26\"],[1.0,\"#f0f921\"]],\"type\":\"heatmap\"}],\"histogram2dcontour\":[{\"colorbar\":{\"outlinewidth\":0,\"ticks\":\"\"},\"colorscale\":[[0.0,\"#0d0887\"],[0.1111111111111111,\"#46039f\"],[0.2222222222222222,\"#7201a8\"],[0.3333333333333333,\"#9c179e\"],[0.4444444444444444,\"#bd3786\"],[0.5555555555555556,\"#d8576b\"],[0.6666666666666666,\"#ed7953\"],[0.7777777777777778,\"#fb9f3a\"],[0.8888888888888888,\"#fdca26\"],[1.0,\"#f0f921\"]],\"type\":\"histogram2dcontour\"}],\"histogram2d\":[{\"colorbar\":{\"outlinewidth\":0,\"ticks\":\"\"},\"colorscale\":[[0.0,\"#0d0887\"],[0.1111111111111111,\"#46039f\"],[0.2222222222222222,\"#7201a8\"],[0.3333333333333333,\"#9c179e\"],[0.4444444444444444,\"#bd3786\"],[0.5555555555555556,\"#d8576b\"],[0.6666666666666666,\"#ed7953\"],[0.7777777777777778,\"#fb9f3a\"],[0.8888888888888888,\"#fdca26\"],[1.0,\"#f0f921\"]],\"type\":\"histogram2d\"}],\"histogram\":[{\"marker\":{\"pattern\":{\"fillmode\":\"overlay\",\"size\":10,\"solidity\":0.2}},\"type\":\"histogram\"}],\"mesh3d\":[{\"colorbar\":{\"outlinewidth\":0,\"ticks\":\"\"},\"type\":\"mesh3d\"}],\"parcoords\":[{\"line\":{\"colorbar\":{\"outlinewidth\":0,\"ticks\":\"\"}},\"type\":\"parcoords\"}],\"pie\":[{\"automargin\":true,\"type\":\"pie\"}],\"scatter3d\":[{\"line\":{\"colorbar\":{\"outlinewidth\":0,\"ticks\":\"\"}},\"marker\":{\"colorbar\":{\"outlinewidth\":0,\"ticks\":\"\"}},\"type\":\"scatter3d\"}],\"scattercarpet\":[{\"marker\":{\"colorbar\":{\"outlinewidth\":0,\"ticks\":\"\"}},\"type\":\"scattercarpet\"}],\"scattergeo\":[{\"marker\":{\"colorbar\":{\"outlinewidth\":0,\"ticks\":\"\"}},\"type\":\"scattergeo\"}],\"scattergl\":[{\"marker\":{\"colorbar\":{\"outlinewidth\":0,\"ticks\":\"\"}},\"type\":\"scattergl\"}],\"scattermapbox\":[{\"marker\":{\"colorbar\":{\"outlinewidth\":0,\"ticks\":\"\"}},\"type\":\"scattermapbox\"}],\"scatterpolargl\":[{\"marker\":{\"colorbar\":{\"outlinewidth\":0,\"ticks\":\"\"}},\"type\":\"scatterpolargl\"}],\"scatterpolar\":[{\"marker\":{\"colorbar\":{\"outlinewidth\":0,\"ticks\":\"\"}},\"type\":\"scatterpolar\"}],\"scatter\":[{\"fillpattern\":{\"fillmode\":\"overlay\",\"size\":10,\"solidity\":0.2},\"type\":\"scatter\"}],\"scatterternary\":[{\"marker\":{\"colorbar\":{\"outlinewidth\":0,\"ticks\":\"\"}},\"type\":\"scatterternary\"}],\"surface\":[{\"colorbar\":{\"outlinewidth\":0,\"ticks\":\"\"},\"colorscale\":[[0.0,\"#0d0887\"],[0.1111111111111111,\"#46039f\"],[0.2222222222222222,\"#7201a8\"],[0.3333333333333333,\"#9c179e\"],[0.4444444444444444,\"#bd3786\"],[0.5555555555555556,\"#d8576b\"],[0.6666666666666666,\"#ed7953\"],[0.7777777777777778,\"#fb9f3a\"],[0.8888888888888888,\"#fdca26\"],[1.0,\"#f0f921\"]],\"type\":\"surface\"}],\"table\":[{\"cells\":{\"fill\":{\"color\":\"#EBF0F8\"},\"line\":{\"color\":\"white\"}},\"header\":{\"fill\":{\"color\":\"#C8D4E3\"},\"line\":{\"color\":\"white\"}},\"type\":\"table\"}]},\"layout\":{\"annotationdefaults\":{\"arrowcolor\":\"#2a3f5f\",\"arrowhead\":0,\"arrowwidth\":1},\"autotypenumbers\":\"strict\",\"coloraxis\":{\"colorbar\":{\"outlinewidth\":0,\"ticks\":\"\"}},\"colorscale\":{\"diverging\":[[0,\"#8e0152\"],[0.1,\"#c51b7d\"],[0.2,\"#de77ae\"],[0.3,\"#f1b6da\"],[0.4,\"#fde0ef\"],[0.5,\"#f7f7f7\"],[0.6,\"#e6f5d0\"],[0.7,\"#b8e186\"],[0.8,\"#7fbc41\"],[0.9,\"#4d9221\"],[1,\"#276419\"]],\"sequential\":[[0.0,\"#0d0887\"],[0.1111111111111111,\"#46039f\"],[0.2222222222222222,\"#7201a8\"],[0.3333333333333333,\"#9c179e\"],[0.4444444444444444,\"#bd3786\"],[0.5555555555555556,\"#d8576b\"],[0.6666666666666666,\"#ed7953\"],[0.7777777777777778,\"#fb9f3a\"],[0.8888888888888888,\"#fdca26\"],[1.0,\"#f0f921\"]],\"sequentialminus\":[[0.0,\"#0d0887\"],[0.1111111111111111,\"#46039f\"],[0.2222222222222222,\"#7201a8\"],[0.3333333333333333,\"#9c179e\"],[0.4444444444444444,\"#bd3786\"],[0.5555555555555556,\"#d8576b\"],[0.6666666666666666,\"#ed7953\"],[0.7777777777777778,\"#fb9f3a\"],[0.8888888888888888,\"#fdca26\"],[1.0,\"#f0f921\"]]},\"colorway\":[\"#636efa\",\"#EF553B\",\"#00cc96\",\"#ab63fa\",\"#FFA15A\",\"#19d3f3\",\"#FF6692\",\"#B6E880\",\"#FF97FF\",\"#FECB52\"],\"font\":{\"color\":\"#2a3f5f\"},\"geo\":{\"bgcolor\":\"white\",\"lakecolor\":\"white\",\"landcolor\":\"#E5ECF6\",\"showlakes\":true,\"showland\":true,\"subunitcolor\":\"white\"},\"hoverlabel\":{\"align\":\"left\"},\"hovermode\":\"closest\",\"mapbox\":{\"style\":\"light\"},\"paper_bgcolor\":\"white\",\"plot_bgcolor\":\"#E5ECF6\",\"polar\":{\"angularaxis\":{\"gridcolor\":\"white\",\"linecolor\":\"white\",\"ticks\":\"\"},\"bgcolor\":\"#E5ECF6\",\"radialaxis\":{\"gridcolor\":\"white\",\"linecolor\":\"white\",\"ticks\":\"\"}},\"scene\":{\"xaxis\":{\"backgroundcolor\":\"#E5ECF6\",\"gridcolor\":\"white\",\"gridwidth\":2,\"linecolor\":\"white\",\"showbackground\":true,\"ticks\":\"\",\"zerolinecolor\":\"white\"},\"yaxis\":{\"backgroundcolor\":\"#E5ECF6\",\"gridcolor\":\"white\",\"gridwidth\":2,\"linecolor\":\"white\",\"showbackground\":true,\"ticks\":\"\",\"zerolinecolor\":\"white\"},\"zaxis\":{\"backgroundcolor\":\"#E5ECF6\",\"gridcolor\":\"white\",\"gridwidth\":2,\"linecolor\":\"white\",\"showbackground\":true,\"ticks\":\"\",\"zerolinecolor\":\"white\"}},\"shapedefaults\":{\"line\":{\"color\":\"#2a3f5f\"}},\"ternary\":{\"aaxis\":{\"gridcolor\":\"white\",\"linecolor\":\"white\",\"ticks\":\"\"},\"baxis\":{\"gridcolor\":\"white\",\"linecolor\":\"white\",\"ticks\":\"\"},\"bgcolor\":\"#E5ECF6\",\"caxis\":{\"gridcolor\":\"white\",\"linecolor\":\"white\",\"ticks\":\"\"}},\"title\":{\"x\":0.05},\"xaxis\":{\"automargin\":true,\"gridcolor\":\"white\",\"linecolor\":\"white\",\"ticks\":\"\",\"title\":{\"standoff\":15},\"zerolinecolor\":\"white\",\"zerolinewidth\":2},\"yaxis\":{\"automargin\":true,\"gridcolor\":\"white\",\"linecolor\":\"white\",\"ticks\":\"\",\"title\":{\"standoff\":15},\"zerolinecolor\":\"white\",\"zerolinewidth\":2}}},\"title\":{\"font\":{\"color\":\"#4D5663\"}},\"xaxis\":{\"gridcolor\":\"#E1E5ED\",\"showgrid\":true,\"tickfont\":{\"color\":\"#4D5663\"},\"title\":{\"font\":{\"color\":\"#4D5663\"},\"text\":\"\"},\"zerolinecolor\":\"#E1E5ED\"},\"yaxis\":{\"gridcolor\":\"#E1E5ED\",\"showgrid\":true,\"tickfont\":{\"color\":\"#4D5663\"},\"title\":{\"font\":{\"color\":\"#4D5663\"},\"text\":\"\"},\"zerolinecolor\":\"#E1E5ED\"}},                        {\"showLink\": true, \"linkText\": \"Export to plot.ly\", \"plotlyServerURL\": \"https://plot.ly\", \"responsive\": true}                    ).then(function(){\n",
       "                            \n",
       "var gd = document.getElementById('57c29954-9385-46dd-af46-a6cb37419dd2');\n",
       "var x = new MutationObserver(function (mutations, observer) {{\n",
       "        var display = window.getComputedStyle(gd).display;\n",
       "        if (!display || display === 'none') {{\n",
       "            console.log([gd, 'removed!']);\n",
       "            Plotly.purge(gd);\n",
       "            observer.disconnect();\n",
       "        }}\n",
       "}});\n",
       "\n",
       "// Listen for the removal of the full notebook cells\n",
       "var notebookContainer = gd.closest('#notebook-container');\n",
       "if (notebookContainer) {{\n",
       "    x.observe(notebookContainer, {childList: true});\n",
       "}}\n",
       "\n",
       "// Listen for the clearing of the current output cell\n",
       "var outputEl = gd.closest('.output');\n",
       "if (outputEl) {{\n",
       "    x.observe(outputEl, {childList: true});\n",
       "}}\n",
       "\n",
       "                        })                };                });            </script>        </div>"
      ]
     },
     "metadata": {},
     "output_type": "display_data"
    }
   ],
   "source": [
    "df.iplot(kind='bubble',x='A',y='B',size='C')"
   ]
  },
  {
   "cell_type": "markdown",
   "id": "4d684165",
   "metadata": {},
   "source": [
    "## Scatter_matrix()\n",
    "Similar to sns.pairplot()"
   ]
  },
  {
   "cell_type": "code",
   "execution_count": 30,
   "id": "be58a795",
   "metadata": {},
   "outputs": [
    {
     "data": {
      "application/vnd.plotly.v1+json": {
       "config": {
        "linkText": "Export to plot.ly",
        "plotlyServerURL": "https://plot.ly",
        "showLink": true
       },
       "data": [
        {
         "histfunc": "count",
         "histnorm": "",
         "marker": {
          "color": "rgba(255, 153, 51, 1.0)",
          "line": {
           "color": "#4D5663",
           "width": 1.3
          }
         },
         "name": "A",
         "nbinsx": 10,
         "opacity": 0.8,
         "orientation": "v",
         "type": "histogram",
         "x": [
          -0.13175400242810156,
          1.4398736154014231,
          0.3084936992738871,
          0.5076264204380968,
          -0.7625284986653112,
          -1.0062511787786008,
          0.11469784115897165,
          1.9310696770869487,
          1.0944035694729664,
          0.6372421397859684,
          0.3855089464458704,
          -0.8121273360861435,
          -0.3234342665261247,
          2.362812817762973,
          -0.9020043009425683,
          1.5125228590996407,
          1.6738212663422762,
          -0.9901310738157569,
          1.084961991228402,
          -0.8959408642253713,
          2.1316610208320763,
          -1.5130697817897543,
          -0.9054073025929361,
          -1.2363645490471573,
          -0.15194927661083432,
          -0.2377615536333579,
          -0.5007722283776846,
          -0.7023143914132617,
          -2.1165840455647387,
          0.725447620478989,
          0.21628655747987344,
          2.215565705679116,
          -1.6546694084066793,
          0.43522055750008765,
          -0.7290404129663632,
          -2.072652678094007,
          -1.5357339134344634,
          0.6597408315792757,
          0.7471678649316231,
          1.0183098975792102,
          -0.0475017122305315,
          0.6226526850571343,
          0.11867141066397108,
          0.6785159601012161,
          -2.2702452299697886,
          1.1238379665770963,
          0.6230048619585441,
          0.8719729055231573,
          1.4326270000120012,
          -0.24688836716890633,
          0.8117736190877305,
          1.61223643973982,
          -1.4932034080063534,
          0.8037053962798918,
          1.7130283780118272,
          -0.6700078392530018,
          1.5568132179108136,
          0.40626162740550076,
          -2.256267543737473,
          1.092041777618682,
          2.4343498861619737,
          0.11904330167051473,
          1.301154598107079,
          1.1121166128876387,
          -0.09443622486311361,
          1.5039962172550305,
          -1.5611350973183005,
          2.0907823004658885,
          -1.920492399044538,
          -0.32259609854818216,
          -0.28860611837376987,
          -3.9006781071827716,
          -1.448796535345966,
          -0.2317550134453871,
          0.6794020374305854,
          -1.9386900580032422,
          -0.5411660242004356,
          0.20184037671840202,
          0.2194539547450508,
          -0.26809272600799905,
          0.47807622579924847,
          0.28813930760653533,
          -1.2171719295118983,
          1.6613721485393889,
          -1.129899743938994,
          1.231837149691319,
          0.906027903471736,
          0.41874076383417547,
          1.140639223532903,
          -0.27309072874514134,
          -1.5997041234561773,
          2.0818397320483397,
          -0.507997666275523,
          -0.6412893664962762,
          0.1353104566092275,
          0.7058193926130889,
          -0.8816664183269983,
          0.31121281370841103,
          -0.39274099041646093,
          -0.5095365211072483
         ],
         "xaxis": "x",
         "yaxis": "y"
        },
        {
         "line": {
          "color": "rgba(128, 128, 128, 1.0)",
          "dash": "solid",
          "shape": "linear",
          "width": 1.3
         },
         "marker": {
          "size": 2,
          "symbol": "circle"
         },
         "mode": "markers",
         "name": "A",
         "text": "",
         "type": "scatter",
         "x": [
          0.7668247603098971,
          0.25608341454276456,
          -0.418007492438254,
          1.6479000639513037,
          -1.085957707598228,
          -0.6471993669751592,
          -1.1476836051943966,
          0.3647731658486326,
          0.32719258878439345,
          0.36629851821546877,
          -0.16000570641145667,
          1.5669653312034988,
          -1.3354132322743333,
          -0.23044821694920747,
          -0.060267767095280075,
          0.624298316824953,
          -0.7497976648916586,
          0.12707974086987975,
          -0.7140406345566194,
          1.3183538535134744,
          1.9492171783364947,
          -0.07227429606646343,
          0.7104660955504053,
          -0.3823620944176171,
          -0.0016846148843457597,
          0.8531041063996373,
          0.13650535971413694,
          -1.9768805035437342,
          0.8017552890082933,
          0.24675978309861793,
          0.40168364800647616,
          0.5419398982661194,
          -2.9408752875684945,
          -0.645007270455306,
          1.6499623708090134,
          -1.0680997060013975,
          0.31218567853158047,
          -1.1073355893203949,
          0.6627605959317424,
          0.48103810835817923,
          -0.02190442811798528,
          -0.05170363686797047,
          -0.3336029037164444,
          0.0210670145406781,
          -1.08060773901822,
          0.26716901124877135,
          0.8559623719295363,
          -0.3552226520086245,
          0.03289143543064628,
          0.043948774668583844,
          -0.8854118949675668,
          1.2392211365577033,
          0.3973864688908118,
          0.3936559984256999,
          0.5706188669456544,
          0.5938041094382246,
          0.05666814714582934,
          -0.5027644440474898,
          -0.4835465184492971,
          -0.3684119863666352,
          -0.03825882718531708,
          -0.13649727148657367,
          0.49463947836597666,
          -2.0938864041717165,
          -0.0043845897516948855,
          1.1848175021850196,
          -0.689421076516863,
          0.24697274210920545,
          2.0176554176642783,
          -0.052240509921352034,
          -1.1559621489839282,
          -0.4579065362451067,
          -0.02528773996479936,
          -1.9016111132627143,
          1.4567845672157844,
          1.3545548283768565,
          1.466930032164649,
          1.1190235946806586,
          -1.396688273698315,
          1.0578914384783338,
          1.4824964112076136,
          1.2869025951738233,
          0.2497579974130677,
          2.0314669247857053,
          0.722928865710818,
          0.8339059281666981,
          -1.1227398591384263,
          -1.2585257402688401,
          0.7647242059875361,
          -0.9639506274251255,
          1.1430521145223795,
          1.9037174534810613,
          0.9649629383966886,
          0.6330162346487069,
          0.3676138133031477,
          1.0978027541671664,
          -0.5436639063060611,
          0.41353875396477,
          -0.1949677432718928,
          0.5180959646238293
         ],
         "xaxis": "x2",
         "y": [
          -0.13175400242810156,
          1.4398736154014231,
          0.3084936992738871,
          0.5076264204380968,
          -0.7625284986653112,
          -1.0062511787786008,
          0.11469784115897165,
          1.9310696770869487,
          1.0944035694729664,
          0.6372421397859684,
          0.3855089464458704,
          -0.8121273360861435,
          -0.3234342665261247,
          2.362812817762973,
          -0.9020043009425683,
          1.5125228590996407,
          1.6738212663422762,
          -0.9901310738157569,
          1.084961991228402,
          -0.8959408642253713,
          2.1316610208320763,
          -1.5130697817897543,
          -0.9054073025929361,
          -1.2363645490471573,
          -0.15194927661083432,
          -0.2377615536333579,
          -0.5007722283776846,
          -0.7023143914132617,
          -2.1165840455647387,
          0.725447620478989,
          0.21628655747987344,
          2.215565705679116,
          -1.6546694084066793,
          0.43522055750008765,
          -0.7290404129663632,
          -2.072652678094007,
          -1.5357339134344634,
          0.6597408315792757,
          0.7471678649316231,
          1.0183098975792102,
          -0.0475017122305315,
          0.6226526850571343,
          0.11867141066397108,
          0.6785159601012161,
          -2.2702452299697886,
          1.1238379665770963,
          0.6230048619585441,
          0.8719729055231573,
          1.4326270000120012,
          -0.24688836716890633,
          0.8117736190877305,
          1.61223643973982,
          -1.4932034080063534,
          0.8037053962798918,
          1.7130283780118272,
          -0.6700078392530018,
          1.5568132179108136,
          0.40626162740550076,
          -2.256267543737473,
          1.092041777618682,
          2.4343498861619737,
          0.11904330167051473,
          1.301154598107079,
          1.1121166128876387,
          -0.09443622486311361,
          1.5039962172550305,
          -1.5611350973183005,
          2.0907823004658885,
          -1.920492399044538,
          -0.32259609854818216,
          -0.28860611837376987,
          -3.9006781071827716,
          -1.448796535345966,
          -0.2317550134453871,
          0.6794020374305854,
          -1.9386900580032422,
          -0.5411660242004356,
          0.20184037671840202,
          0.2194539547450508,
          -0.26809272600799905,
          0.47807622579924847,
          0.28813930760653533,
          -1.2171719295118983,
          1.6613721485393889,
          -1.129899743938994,
          1.231837149691319,
          0.906027903471736,
          0.41874076383417547,
          1.140639223532903,
          -0.27309072874514134,
          -1.5997041234561773,
          2.0818397320483397,
          -0.507997666275523,
          -0.6412893664962762,
          0.1353104566092275,
          0.7058193926130889,
          -0.8816664183269983,
          0.31121281370841103,
          -0.39274099041646093,
          -0.5095365211072483
         ],
         "yaxis": "y2"
        },
        {
         "line": {
          "color": "rgba(128, 128, 128, 1.0)",
          "dash": "solid",
          "shape": "linear",
          "width": 1.3
         },
         "marker": {
          "size": 2,
          "symbol": "circle"
         },
         "mode": "markers",
         "name": "A",
         "text": "",
         "type": "scatter",
         "x": [
          0.5902480411751441,
          0.3615427174565572,
          0.5584943724667715,
          -0.539479777663393,
          0.2706531152422652,
          -0.833542393308271,
          0.7286392974045819,
          -1.4945965320174728,
          -0.6625452265318137,
          -0.37846947865853864,
          1.2417825184285645,
          0.0007355735805051069,
          -0.4356728993259713,
          0.16317169569496986,
          -0.589193012708074,
          0.725373350799308,
          -0.35669892195720776,
          1.5197371392549253,
          -1.2424845208638233,
          -1.2381196347910772,
          -0.15383270820264877,
          -0.4426966470643087,
          -0.9977236313488691,
          0.9398827492619666,
          -0.5810009526837101,
          -0.24516646037302056,
          -0.5535164195308102,
          1.207506512629932,
          -1.2011830990374137,
          0.26264513630377984,
          -0.19511138677375947,
          -1.3163400417550706,
          0.4159973012391208,
          -0.08681382717263655,
          0.13341288669394546,
          -0.7495492847089976,
          1.0504017656564997,
          1.6988244486331026,
          0.794724940520421,
          -0.3771144204427599,
          -2.348372383726653,
          -1.4975991259823258,
          2.4177522410620513,
          -2.9864241534997626,
          -0.7716664732973197,
          1.6248953564900925,
          -0.30273538511562104,
          0.05309533106292075,
          0.848914373865162,
          -0.09087873869300707,
          1.117134063358559,
          1.4145737167773802,
          -0.3257264733195186,
          1.1271303673091357,
          -1.6145868739333393,
          -0.5062649868778086,
          1.4110095073391393,
          -0.6981925286743612,
          2.0298164415529087,
          1.2489456563930352,
          0.09336902497273081,
          -0.0852548467503772,
          -0.16840725945798757,
          -0.4537048669517928,
          -1.9411085402240251,
          1.1161061590598644,
          0.6580780796881278,
          0.7335014459507081,
          -0.09524930032956151,
          -0.09197492813698276,
          -1.220041781135381,
          1.8397117933427165,
          -0.668336993577057,
          -1.1200291268441804,
          -1.0459815223370534,
          -0.6351087814071277,
          0.04122285884189476,
          -1.2382872897836263,
          0.06349277947396594,
          0.3595997463624142,
          0.1273845675493883,
          -1.332046813767796,
          0.8013118104095253,
          0.05213674973624697,
          -0.7349172815712046,
          -0.622387034426038,
          -0.22300120405726176,
          0.29386608490373634,
          0.47524630185090155,
          1.2601777434464643,
          -2.5129027635317644,
          0.9907234231097561,
          1.2814600020807558,
          -0.09980158202068289,
          -0.33958170568064705,
          0.42252299385777164,
          -0.270847453454299,
          -0.721859246821871,
          1.2620005141853041,
          0.052186980272228414
         ],
         "xaxis": "x3",
         "y": [
          -0.13175400242810156,
          1.4398736154014231,
          0.3084936992738871,
          0.5076264204380968,
          -0.7625284986653112,
          -1.0062511787786008,
          0.11469784115897165,
          1.9310696770869487,
          1.0944035694729664,
          0.6372421397859684,
          0.3855089464458704,
          -0.8121273360861435,
          -0.3234342665261247,
          2.362812817762973,
          -0.9020043009425683,
          1.5125228590996407,
          1.6738212663422762,
          -0.9901310738157569,
          1.084961991228402,
          -0.8959408642253713,
          2.1316610208320763,
          -1.5130697817897543,
          -0.9054073025929361,
          -1.2363645490471573,
          -0.15194927661083432,
          -0.2377615536333579,
          -0.5007722283776846,
          -0.7023143914132617,
          -2.1165840455647387,
          0.725447620478989,
          0.21628655747987344,
          2.215565705679116,
          -1.6546694084066793,
          0.43522055750008765,
          -0.7290404129663632,
          -2.072652678094007,
          -1.5357339134344634,
          0.6597408315792757,
          0.7471678649316231,
          1.0183098975792102,
          -0.0475017122305315,
          0.6226526850571343,
          0.11867141066397108,
          0.6785159601012161,
          -2.2702452299697886,
          1.1238379665770963,
          0.6230048619585441,
          0.8719729055231573,
          1.4326270000120012,
          -0.24688836716890633,
          0.8117736190877305,
          1.61223643973982,
          -1.4932034080063534,
          0.8037053962798918,
          1.7130283780118272,
          -0.6700078392530018,
          1.5568132179108136,
          0.40626162740550076,
          -2.256267543737473,
          1.092041777618682,
          2.4343498861619737,
          0.11904330167051473,
          1.301154598107079,
          1.1121166128876387,
          -0.09443622486311361,
          1.5039962172550305,
          -1.5611350973183005,
          2.0907823004658885,
          -1.920492399044538,
          -0.32259609854818216,
          -0.28860611837376987,
          -3.9006781071827716,
          -1.448796535345966,
          -0.2317550134453871,
          0.6794020374305854,
          -1.9386900580032422,
          -0.5411660242004356,
          0.20184037671840202,
          0.2194539547450508,
          -0.26809272600799905,
          0.47807622579924847,
          0.28813930760653533,
          -1.2171719295118983,
          1.6613721485393889,
          -1.129899743938994,
          1.231837149691319,
          0.906027903471736,
          0.41874076383417547,
          1.140639223532903,
          -0.27309072874514134,
          -1.5997041234561773,
          2.0818397320483397,
          -0.507997666275523,
          -0.6412893664962762,
          0.1353104566092275,
          0.7058193926130889,
          -0.8816664183269983,
          0.31121281370841103,
          -0.39274099041646093,
          -0.5095365211072483
         ],
         "yaxis": "y3"
        },
        {
         "line": {
          "color": "rgba(128, 128, 128, 1.0)",
          "dash": "solid",
          "shape": "linear",
          "width": 1.3
         },
         "marker": {
          "size": 2,
          "symbol": "circle"
         },
         "mode": "markers",
         "name": "A",
         "text": "",
         "type": "scatter",
         "x": [
          -1.409576167266115,
          0.20537675410089584,
          -0.1640750525839635,
          -0.23668777048924583,
          -1.2814955062673854,
          -0.25038975031004135,
          -0.9721171081271407,
          -0.5134102339463291,
          0.7015914927507502,
          -1.1153426296556703,
          -0.841261678087003,
          -0.5186143193038489,
          -0.9243081595835546,
          -1.178022577850604,
          0.3286382294185649,
          -0.6687628624602802,
          1.0848961556853847,
          -0.3510611894926132,
          -1.8120691375783937,
          0.7103016536262061,
          -1.0912075242903299,
          -0.9777318692911919,
          0.9741915163209256,
          0.022628428259688676,
          0.3783837663626986,
          1.7529871217204438,
          1.102471940840788,
          0.2478317744141381,
          0.43219161331565026,
          1.1989223822176431,
          0.36465597947223916,
          -1.448094283934066,
          -0.7165556586487222,
          1.148926336575849,
          1.616831386935041,
          -0.20280041996059836,
          -1.5414116004415601,
          -0.32992438972277915,
          0.2947728801656616,
          0.5634344560871831,
          1.9147873011206857,
          0.5624785148497061,
          -1.0666306909038166,
          -0.11275740825138152,
          0.18733415585268717,
          0.12208231884626186,
          -2.5351011735132345,
          0.6706251184359282,
          -0.08992007702202028,
          -0.49387056722383493,
          0.1971368396571273,
          -0.7979875619061959,
          -0.6218610415476219,
          0.6627348876828029,
          0.07060017315945649,
          -1.7869375067051843,
          -0.11536335457879134,
          0.42599041154108436,
          -0.6690378914684313,
          -0.9469968869705551,
          -0.5428610931146891,
          -1.925027057392907,
          2.11162707786153,
          0.7465241397980572,
          -0.454011078233244,
          -1.5521418623086016,
          0.49076533427888086,
          -0.6006208361345682,
          0.8035133451291006,
          1.751469319085972,
          1.0261382711001192,
          -0.8019337021556235,
          -0.5204916419838601,
          0.19787037376093192,
          -0.615031884271281,
          -0.538998914172199,
          0.4628567484897606,
          -0.3468429223431634,
          0.32386689735915164,
          1.674068635984049,
          1.362411852756756,
          1.0476063126059973,
          -0.3942648644408054,
          2.527007256063724,
          -0.6330161916166508,
          -0.45065669348216547,
          0.09925901312434403,
          0.48561705135713645,
          -0.5325049567923323,
          0.9000741962014779,
          0.7721703190603556,
          -3.1685775380496897,
          -0.09914542523473069,
          1.1996273408126372,
          -0.7042951213219687,
          -1.2711931343065397,
          1.1959407827681903,
          -1.1966649149288007,
          0.6179182147753349,
          -1.5881976982433168
         ],
         "xaxis": "x4",
         "y": [
          -0.13175400242810156,
          1.4398736154014231,
          0.3084936992738871,
          0.5076264204380968,
          -0.7625284986653112,
          -1.0062511787786008,
          0.11469784115897165,
          1.9310696770869487,
          1.0944035694729664,
          0.6372421397859684,
          0.3855089464458704,
          -0.8121273360861435,
          -0.3234342665261247,
          2.362812817762973,
          -0.9020043009425683,
          1.5125228590996407,
          1.6738212663422762,
          -0.9901310738157569,
          1.084961991228402,
          -0.8959408642253713,
          2.1316610208320763,
          -1.5130697817897543,
          -0.9054073025929361,
          -1.2363645490471573,
          -0.15194927661083432,
          -0.2377615536333579,
          -0.5007722283776846,
          -0.7023143914132617,
          -2.1165840455647387,
          0.725447620478989,
          0.21628655747987344,
          2.215565705679116,
          -1.6546694084066793,
          0.43522055750008765,
          -0.7290404129663632,
          -2.072652678094007,
          -1.5357339134344634,
          0.6597408315792757,
          0.7471678649316231,
          1.0183098975792102,
          -0.0475017122305315,
          0.6226526850571343,
          0.11867141066397108,
          0.6785159601012161,
          -2.2702452299697886,
          1.1238379665770963,
          0.6230048619585441,
          0.8719729055231573,
          1.4326270000120012,
          -0.24688836716890633,
          0.8117736190877305,
          1.61223643973982,
          -1.4932034080063534,
          0.8037053962798918,
          1.7130283780118272,
          -0.6700078392530018,
          1.5568132179108136,
          0.40626162740550076,
          -2.256267543737473,
          1.092041777618682,
          2.4343498861619737,
          0.11904330167051473,
          1.301154598107079,
          1.1121166128876387,
          -0.09443622486311361,
          1.5039962172550305,
          -1.5611350973183005,
          2.0907823004658885,
          -1.920492399044538,
          -0.32259609854818216,
          -0.28860611837376987,
          -3.9006781071827716,
          -1.448796535345966,
          -0.2317550134453871,
          0.6794020374305854,
          -1.9386900580032422,
          -0.5411660242004356,
          0.20184037671840202,
          0.2194539547450508,
          -0.26809272600799905,
          0.47807622579924847,
          0.28813930760653533,
          -1.2171719295118983,
          1.6613721485393889,
          -1.129899743938994,
          1.231837149691319,
          0.906027903471736,
          0.41874076383417547,
          1.140639223532903,
          -0.27309072874514134,
          -1.5997041234561773,
          2.0818397320483397,
          -0.507997666275523,
          -0.6412893664962762,
          0.1353104566092275,
          0.7058193926130889,
          -0.8816664183269983,
          0.31121281370841103,
          -0.39274099041646093,
          -0.5095365211072483
         ],
         "yaxis": "y4"
        },
        {
         "line": {
          "color": "rgba(128, 128, 128, 1.0)",
          "dash": "solid",
          "shape": "linear",
          "width": 1.3
         },
         "marker": {
          "size": 2,
          "symbol": "circle"
         },
         "mode": "markers",
         "name": "B",
         "text": "",
         "type": "scatter",
         "x": [
          -0.13175400242810156,
          1.4398736154014231,
          0.3084936992738871,
          0.5076264204380968,
          -0.7625284986653112,
          -1.0062511787786008,
          0.11469784115897165,
          1.9310696770869487,
          1.0944035694729664,
          0.6372421397859684,
          0.3855089464458704,
          -0.8121273360861435,
          -0.3234342665261247,
          2.362812817762973,
          -0.9020043009425683,
          1.5125228590996407,
          1.6738212663422762,
          -0.9901310738157569,
          1.084961991228402,
          -0.8959408642253713,
          2.1316610208320763,
          -1.5130697817897543,
          -0.9054073025929361,
          -1.2363645490471573,
          -0.15194927661083432,
          -0.2377615536333579,
          -0.5007722283776846,
          -0.7023143914132617,
          -2.1165840455647387,
          0.725447620478989,
          0.21628655747987344,
          2.215565705679116,
          -1.6546694084066793,
          0.43522055750008765,
          -0.7290404129663632,
          -2.072652678094007,
          -1.5357339134344634,
          0.6597408315792757,
          0.7471678649316231,
          1.0183098975792102,
          -0.0475017122305315,
          0.6226526850571343,
          0.11867141066397108,
          0.6785159601012161,
          -2.2702452299697886,
          1.1238379665770963,
          0.6230048619585441,
          0.8719729055231573,
          1.4326270000120012,
          -0.24688836716890633,
          0.8117736190877305,
          1.61223643973982,
          -1.4932034080063534,
          0.8037053962798918,
          1.7130283780118272,
          -0.6700078392530018,
          1.5568132179108136,
          0.40626162740550076,
          -2.256267543737473,
          1.092041777618682,
          2.4343498861619737,
          0.11904330167051473,
          1.301154598107079,
          1.1121166128876387,
          -0.09443622486311361,
          1.5039962172550305,
          -1.5611350973183005,
          2.0907823004658885,
          -1.920492399044538,
          -0.32259609854818216,
          -0.28860611837376987,
          -3.9006781071827716,
          -1.448796535345966,
          -0.2317550134453871,
          0.6794020374305854,
          -1.9386900580032422,
          -0.5411660242004356,
          0.20184037671840202,
          0.2194539547450508,
          -0.26809272600799905,
          0.47807622579924847,
          0.28813930760653533,
          -1.2171719295118983,
          1.6613721485393889,
          -1.129899743938994,
          1.231837149691319,
          0.906027903471736,
          0.41874076383417547,
          1.140639223532903,
          -0.27309072874514134,
          -1.5997041234561773,
          2.0818397320483397,
          -0.507997666275523,
          -0.6412893664962762,
          0.1353104566092275,
          0.7058193926130889,
          -0.8816664183269983,
          0.31121281370841103,
          -0.39274099041646093,
          -0.5095365211072483
         ],
         "xaxis": "x5",
         "y": [
          0.7668247603098971,
          0.25608341454276456,
          -0.418007492438254,
          1.6479000639513037,
          -1.085957707598228,
          -0.6471993669751592,
          -1.1476836051943966,
          0.3647731658486326,
          0.32719258878439345,
          0.36629851821546877,
          -0.16000570641145667,
          1.5669653312034988,
          -1.3354132322743333,
          -0.23044821694920747,
          -0.060267767095280075,
          0.624298316824953,
          -0.7497976648916586,
          0.12707974086987975,
          -0.7140406345566194,
          1.3183538535134744,
          1.9492171783364947,
          -0.07227429606646343,
          0.7104660955504053,
          -0.3823620944176171,
          -0.0016846148843457597,
          0.8531041063996373,
          0.13650535971413694,
          -1.9768805035437342,
          0.8017552890082933,
          0.24675978309861793,
          0.40168364800647616,
          0.5419398982661194,
          -2.9408752875684945,
          -0.645007270455306,
          1.6499623708090134,
          -1.0680997060013975,
          0.31218567853158047,
          -1.1073355893203949,
          0.6627605959317424,
          0.48103810835817923,
          -0.02190442811798528,
          -0.05170363686797047,
          -0.3336029037164444,
          0.0210670145406781,
          -1.08060773901822,
          0.26716901124877135,
          0.8559623719295363,
          -0.3552226520086245,
          0.03289143543064628,
          0.043948774668583844,
          -0.8854118949675668,
          1.2392211365577033,
          0.3973864688908118,
          0.3936559984256999,
          0.5706188669456544,
          0.5938041094382246,
          0.05666814714582934,
          -0.5027644440474898,
          -0.4835465184492971,
          -0.3684119863666352,
          -0.03825882718531708,
          -0.13649727148657367,
          0.49463947836597666,
          -2.0938864041717165,
          -0.0043845897516948855,
          1.1848175021850196,
          -0.689421076516863,
          0.24697274210920545,
          2.0176554176642783,
          -0.052240509921352034,
          -1.1559621489839282,
          -0.4579065362451067,
          -0.02528773996479936,
          -1.9016111132627143,
          1.4567845672157844,
          1.3545548283768565,
          1.466930032164649,
          1.1190235946806586,
          -1.396688273698315,
          1.0578914384783338,
          1.4824964112076136,
          1.2869025951738233,
          0.2497579974130677,
          2.0314669247857053,
          0.722928865710818,
          0.8339059281666981,
          -1.1227398591384263,
          -1.2585257402688401,
          0.7647242059875361,
          -0.9639506274251255,
          1.1430521145223795,
          1.9037174534810613,
          0.9649629383966886,
          0.6330162346487069,
          0.3676138133031477,
          1.0978027541671664,
          -0.5436639063060611,
          0.41353875396477,
          -0.1949677432718928,
          0.5180959646238293
         ],
         "yaxis": "y5"
        },
        {
         "histfunc": "count",
         "histnorm": "",
         "marker": {
          "color": "rgba(55, 128, 191, 1.0)",
          "line": {
           "color": "#4D5663",
           "width": 1.3
          }
         },
         "name": "B",
         "nbinsx": 10,
         "opacity": 0.8,
         "orientation": "v",
         "type": "histogram",
         "x": [
          0.7668247603098971,
          0.25608341454276456,
          -0.418007492438254,
          1.6479000639513037,
          -1.085957707598228,
          -0.6471993669751592,
          -1.1476836051943966,
          0.3647731658486326,
          0.32719258878439345,
          0.36629851821546877,
          -0.16000570641145667,
          1.5669653312034988,
          -1.3354132322743333,
          -0.23044821694920747,
          -0.060267767095280075,
          0.624298316824953,
          -0.7497976648916586,
          0.12707974086987975,
          -0.7140406345566194,
          1.3183538535134744,
          1.9492171783364947,
          -0.07227429606646343,
          0.7104660955504053,
          -0.3823620944176171,
          -0.0016846148843457597,
          0.8531041063996373,
          0.13650535971413694,
          -1.9768805035437342,
          0.8017552890082933,
          0.24675978309861793,
          0.40168364800647616,
          0.5419398982661194,
          -2.9408752875684945,
          -0.645007270455306,
          1.6499623708090134,
          -1.0680997060013975,
          0.31218567853158047,
          -1.1073355893203949,
          0.6627605959317424,
          0.48103810835817923,
          -0.02190442811798528,
          -0.05170363686797047,
          -0.3336029037164444,
          0.0210670145406781,
          -1.08060773901822,
          0.26716901124877135,
          0.8559623719295363,
          -0.3552226520086245,
          0.03289143543064628,
          0.043948774668583844,
          -0.8854118949675668,
          1.2392211365577033,
          0.3973864688908118,
          0.3936559984256999,
          0.5706188669456544,
          0.5938041094382246,
          0.05666814714582934,
          -0.5027644440474898,
          -0.4835465184492971,
          -0.3684119863666352,
          -0.03825882718531708,
          -0.13649727148657367,
          0.49463947836597666,
          -2.0938864041717165,
          -0.0043845897516948855,
          1.1848175021850196,
          -0.689421076516863,
          0.24697274210920545,
          2.0176554176642783,
          -0.052240509921352034,
          -1.1559621489839282,
          -0.4579065362451067,
          -0.02528773996479936,
          -1.9016111132627143,
          1.4567845672157844,
          1.3545548283768565,
          1.466930032164649,
          1.1190235946806586,
          -1.396688273698315,
          1.0578914384783338,
          1.4824964112076136,
          1.2869025951738233,
          0.2497579974130677,
          2.0314669247857053,
          0.722928865710818,
          0.8339059281666981,
          -1.1227398591384263,
          -1.2585257402688401,
          0.7647242059875361,
          -0.9639506274251255,
          1.1430521145223795,
          1.9037174534810613,
          0.9649629383966886,
          0.6330162346487069,
          0.3676138133031477,
          1.0978027541671664,
          -0.5436639063060611,
          0.41353875396477,
          -0.1949677432718928,
          0.5180959646238293
         ],
         "xaxis": "x6",
         "yaxis": "y6"
        },
        {
         "line": {
          "color": "rgba(128, 128, 128, 1.0)",
          "dash": "solid",
          "shape": "linear",
          "width": 1.3
         },
         "marker": {
          "size": 2,
          "symbol": "circle"
         },
         "mode": "markers",
         "name": "B",
         "text": "",
         "type": "scatter",
         "x": [
          0.5902480411751441,
          0.3615427174565572,
          0.5584943724667715,
          -0.539479777663393,
          0.2706531152422652,
          -0.833542393308271,
          0.7286392974045819,
          -1.4945965320174728,
          -0.6625452265318137,
          -0.37846947865853864,
          1.2417825184285645,
          0.0007355735805051069,
          -0.4356728993259713,
          0.16317169569496986,
          -0.589193012708074,
          0.725373350799308,
          -0.35669892195720776,
          1.5197371392549253,
          -1.2424845208638233,
          -1.2381196347910772,
          -0.15383270820264877,
          -0.4426966470643087,
          -0.9977236313488691,
          0.9398827492619666,
          -0.5810009526837101,
          -0.24516646037302056,
          -0.5535164195308102,
          1.207506512629932,
          -1.2011830990374137,
          0.26264513630377984,
          -0.19511138677375947,
          -1.3163400417550706,
          0.4159973012391208,
          -0.08681382717263655,
          0.13341288669394546,
          -0.7495492847089976,
          1.0504017656564997,
          1.6988244486331026,
          0.794724940520421,
          -0.3771144204427599,
          -2.348372383726653,
          -1.4975991259823258,
          2.4177522410620513,
          -2.9864241534997626,
          -0.7716664732973197,
          1.6248953564900925,
          -0.30273538511562104,
          0.05309533106292075,
          0.848914373865162,
          -0.09087873869300707,
          1.117134063358559,
          1.4145737167773802,
          -0.3257264733195186,
          1.1271303673091357,
          -1.6145868739333393,
          -0.5062649868778086,
          1.4110095073391393,
          -0.6981925286743612,
          2.0298164415529087,
          1.2489456563930352,
          0.09336902497273081,
          -0.0852548467503772,
          -0.16840725945798757,
          -0.4537048669517928,
          -1.9411085402240251,
          1.1161061590598644,
          0.6580780796881278,
          0.7335014459507081,
          -0.09524930032956151,
          -0.09197492813698276,
          -1.220041781135381,
          1.8397117933427165,
          -0.668336993577057,
          -1.1200291268441804,
          -1.0459815223370534,
          -0.6351087814071277,
          0.04122285884189476,
          -1.2382872897836263,
          0.06349277947396594,
          0.3595997463624142,
          0.1273845675493883,
          -1.332046813767796,
          0.8013118104095253,
          0.05213674973624697,
          -0.7349172815712046,
          -0.622387034426038,
          -0.22300120405726176,
          0.29386608490373634,
          0.47524630185090155,
          1.2601777434464643,
          -2.5129027635317644,
          0.9907234231097561,
          1.2814600020807558,
          -0.09980158202068289,
          -0.33958170568064705,
          0.42252299385777164,
          -0.270847453454299,
          -0.721859246821871,
          1.2620005141853041,
          0.052186980272228414
         ],
         "xaxis": "x7",
         "y": [
          0.7668247603098971,
          0.25608341454276456,
          -0.418007492438254,
          1.6479000639513037,
          -1.085957707598228,
          -0.6471993669751592,
          -1.1476836051943966,
          0.3647731658486326,
          0.32719258878439345,
          0.36629851821546877,
          -0.16000570641145667,
          1.5669653312034988,
          -1.3354132322743333,
          -0.23044821694920747,
          -0.060267767095280075,
          0.624298316824953,
          -0.7497976648916586,
          0.12707974086987975,
          -0.7140406345566194,
          1.3183538535134744,
          1.9492171783364947,
          -0.07227429606646343,
          0.7104660955504053,
          -0.3823620944176171,
          -0.0016846148843457597,
          0.8531041063996373,
          0.13650535971413694,
          -1.9768805035437342,
          0.8017552890082933,
          0.24675978309861793,
          0.40168364800647616,
          0.5419398982661194,
          -2.9408752875684945,
          -0.645007270455306,
          1.6499623708090134,
          -1.0680997060013975,
          0.31218567853158047,
          -1.1073355893203949,
          0.6627605959317424,
          0.48103810835817923,
          -0.02190442811798528,
          -0.05170363686797047,
          -0.3336029037164444,
          0.0210670145406781,
          -1.08060773901822,
          0.26716901124877135,
          0.8559623719295363,
          -0.3552226520086245,
          0.03289143543064628,
          0.043948774668583844,
          -0.8854118949675668,
          1.2392211365577033,
          0.3973864688908118,
          0.3936559984256999,
          0.5706188669456544,
          0.5938041094382246,
          0.05666814714582934,
          -0.5027644440474898,
          -0.4835465184492971,
          -0.3684119863666352,
          -0.03825882718531708,
          -0.13649727148657367,
          0.49463947836597666,
          -2.0938864041717165,
          -0.0043845897516948855,
          1.1848175021850196,
          -0.689421076516863,
          0.24697274210920545,
          2.0176554176642783,
          -0.052240509921352034,
          -1.1559621489839282,
          -0.4579065362451067,
          -0.02528773996479936,
          -1.9016111132627143,
          1.4567845672157844,
          1.3545548283768565,
          1.466930032164649,
          1.1190235946806586,
          -1.396688273698315,
          1.0578914384783338,
          1.4824964112076136,
          1.2869025951738233,
          0.2497579974130677,
          2.0314669247857053,
          0.722928865710818,
          0.8339059281666981,
          -1.1227398591384263,
          -1.2585257402688401,
          0.7647242059875361,
          -0.9639506274251255,
          1.1430521145223795,
          1.9037174534810613,
          0.9649629383966886,
          0.6330162346487069,
          0.3676138133031477,
          1.0978027541671664,
          -0.5436639063060611,
          0.41353875396477,
          -0.1949677432718928,
          0.5180959646238293
         ],
         "yaxis": "y7"
        },
        {
         "line": {
          "color": "rgba(128, 128, 128, 1.0)",
          "dash": "solid",
          "shape": "linear",
          "width": 1.3
         },
         "marker": {
          "size": 2,
          "symbol": "circle"
         },
         "mode": "markers",
         "name": "B",
         "text": "",
         "type": "scatter",
         "x": [
          -1.409576167266115,
          0.20537675410089584,
          -0.1640750525839635,
          -0.23668777048924583,
          -1.2814955062673854,
          -0.25038975031004135,
          -0.9721171081271407,
          -0.5134102339463291,
          0.7015914927507502,
          -1.1153426296556703,
          -0.841261678087003,
          -0.5186143193038489,
          -0.9243081595835546,
          -1.178022577850604,
          0.3286382294185649,
          -0.6687628624602802,
          1.0848961556853847,
          -0.3510611894926132,
          -1.8120691375783937,
          0.7103016536262061,
          -1.0912075242903299,
          -0.9777318692911919,
          0.9741915163209256,
          0.022628428259688676,
          0.3783837663626986,
          1.7529871217204438,
          1.102471940840788,
          0.2478317744141381,
          0.43219161331565026,
          1.1989223822176431,
          0.36465597947223916,
          -1.448094283934066,
          -0.7165556586487222,
          1.148926336575849,
          1.616831386935041,
          -0.20280041996059836,
          -1.5414116004415601,
          -0.32992438972277915,
          0.2947728801656616,
          0.5634344560871831,
          1.9147873011206857,
          0.5624785148497061,
          -1.0666306909038166,
          -0.11275740825138152,
          0.18733415585268717,
          0.12208231884626186,
          -2.5351011735132345,
          0.6706251184359282,
          -0.08992007702202028,
          -0.49387056722383493,
          0.1971368396571273,
          -0.7979875619061959,
          -0.6218610415476219,
          0.6627348876828029,
          0.07060017315945649,
          -1.7869375067051843,
          -0.11536335457879134,
          0.42599041154108436,
          -0.6690378914684313,
          -0.9469968869705551,
          -0.5428610931146891,
          -1.925027057392907,
          2.11162707786153,
          0.7465241397980572,
          -0.454011078233244,
          -1.5521418623086016,
          0.49076533427888086,
          -0.6006208361345682,
          0.8035133451291006,
          1.751469319085972,
          1.0261382711001192,
          -0.8019337021556235,
          -0.5204916419838601,
          0.19787037376093192,
          -0.615031884271281,
          -0.538998914172199,
          0.4628567484897606,
          -0.3468429223431634,
          0.32386689735915164,
          1.674068635984049,
          1.362411852756756,
          1.0476063126059973,
          -0.3942648644408054,
          2.527007256063724,
          -0.6330161916166508,
          -0.45065669348216547,
          0.09925901312434403,
          0.48561705135713645,
          -0.5325049567923323,
          0.9000741962014779,
          0.7721703190603556,
          -3.1685775380496897,
          -0.09914542523473069,
          1.1996273408126372,
          -0.7042951213219687,
          -1.2711931343065397,
          1.1959407827681903,
          -1.1966649149288007,
          0.6179182147753349,
          -1.5881976982433168
         ],
         "xaxis": "x8",
         "y": [
          0.7668247603098971,
          0.25608341454276456,
          -0.418007492438254,
          1.6479000639513037,
          -1.085957707598228,
          -0.6471993669751592,
          -1.1476836051943966,
          0.3647731658486326,
          0.32719258878439345,
          0.36629851821546877,
          -0.16000570641145667,
          1.5669653312034988,
          -1.3354132322743333,
          -0.23044821694920747,
          -0.060267767095280075,
          0.624298316824953,
          -0.7497976648916586,
          0.12707974086987975,
          -0.7140406345566194,
          1.3183538535134744,
          1.9492171783364947,
          -0.07227429606646343,
          0.7104660955504053,
          -0.3823620944176171,
          -0.0016846148843457597,
          0.8531041063996373,
          0.13650535971413694,
          -1.9768805035437342,
          0.8017552890082933,
          0.24675978309861793,
          0.40168364800647616,
          0.5419398982661194,
          -2.9408752875684945,
          -0.645007270455306,
          1.6499623708090134,
          -1.0680997060013975,
          0.31218567853158047,
          -1.1073355893203949,
          0.6627605959317424,
          0.48103810835817923,
          -0.02190442811798528,
          -0.05170363686797047,
          -0.3336029037164444,
          0.0210670145406781,
          -1.08060773901822,
          0.26716901124877135,
          0.8559623719295363,
          -0.3552226520086245,
          0.03289143543064628,
          0.043948774668583844,
          -0.8854118949675668,
          1.2392211365577033,
          0.3973864688908118,
          0.3936559984256999,
          0.5706188669456544,
          0.5938041094382246,
          0.05666814714582934,
          -0.5027644440474898,
          -0.4835465184492971,
          -0.3684119863666352,
          -0.03825882718531708,
          -0.13649727148657367,
          0.49463947836597666,
          -2.0938864041717165,
          -0.0043845897516948855,
          1.1848175021850196,
          -0.689421076516863,
          0.24697274210920545,
          2.0176554176642783,
          -0.052240509921352034,
          -1.1559621489839282,
          -0.4579065362451067,
          -0.02528773996479936,
          -1.9016111132627143,
          1.4567845672157844,
          1.3545548283768565,
          1.466930032164649,
          1.1190235946806586,
          -1.396688273698315,
          1.0578914384783338,
          1.4824964112076136,
          1.2869025951738233,
          0.2497579974130677,
          2.0314669247857053,
          0.722928865710818,
          0.8339059281666981,
          -1.1227398591384263,
          -1.2585257402688401,
          0.7647242059875361,
          -0.9639506274251255,
          1.1430521145223795,
          1.9037174534810613,
          0.9649629383966886,
          0.6330162346487069,
          0.3676138133031477,
          1.0978027541671664,
          -0.5436639063060611,
          0.41353875396477,
          -0.1949677432718928,
          0.5180959646238293
         ],
         "yaxis": "y8"
        },
        {
         "line": {
          "color": "rgba(128, 128, 128, 1.0)",
          "dash": "solid",
          "shape": "linear",
          "width": 1.3
         },
         "marker": {
          "size": 2,
          "symbol": "circle"
         },
         "mode": "markers",
         "name": "C",
         "text": "",
         "type": "scatter",
         "x": [
          -0.13175400242810156,
          1.4398736154014231,
          0.3084936992738871,
          0.5076264204380968,
          -0.7625284986653112,
          -1.0062511787786008,
          0.11469784115897165,
          1.9310696770869487,
          1.0944035694729664,
          0.6372421397859684,
          0.3855089464458704,
          -0.8121273360861435,
          -0.3234342665261247,
          2.362812817762973,
          -0.9020043009425683,
          1.5125228590996407,
          1.6738212663422762,
          -0.9901310738157569,
          1.084961991228402,
          -0.8959408642253713,
          2.1316610208320763,
          -1.5130697817897543,
          -0.9054073025929361,
          -1.2363645490471573,
          -0.15194927661083432,
          -0.2377615536333579,
          -0.5007722283776846,
          -0.7023143914132617,
          -2.1165840455647387,
          0.725447620478989,
          0.21628655747987344,
          2.215565705679116,
          -1.6546694084066793,
          0.43522055750008765,
          -0.7290404129663632,
          -2.072652678094007,
          -1.5357339134344634,
          0.6597408315792757,
          0.7471678649316231,
          1.0183098975792102,
          -0.0475017122305315,
          0.6226526850571343,
          0.11867141066397108,
          0.6785159601012161,
          -2.2702452299697886,
          1.1238379665770963,
          0.6230048619585441,
          0.8719729055231573,
          1.4326270000120012,
          -0.24688836716890633,
          0.8117736190877305,
          1.61223643973982,
          -1.4932034080063534,
          0.8037053962798918,
          1.7130283780118272,
          -0.6700078392530018,
          1.5568132179108136,
          0.40626162740550076,
          -2.256267543737473,
          1.092041777618682,
          2.4343498861619737,
          0.11904330167051473,
          1.301154598107079,
          1.1121166128876387,
          -0.09443622486311361,
          1.5039962172550305,
          -1.5611350973183005,
          2.0907823004658885,
          -1.920492399044538,
          -0.32259609854818216,
          -0.28860611837376987,
          -3.9006781071827716,
          -1.448796535345966,
          -0.2317550134453871,
          0.6794020374305854,
          -1.9386900580032422,
          -0.5411660242004356,
          0.20184037671840202,
          0.2194539547450508,
          -0.26809272600799905,
          0.47807622579924847,
          0.28813930760653533,
          -1.2171719295118983,
          1.6613721485393889,
          -1.129899743938994,
          1.231837149691319,
          0.906027903471736,
          0.41874076383417547,
          1.140639223532903,
          -0.27309072874514134,
          -1.5997041234561773,
          2.0818397320483397,
          -0.507997666275523,
          -0.6412893664962762,
          0.1353104566092275,
          0.7058193926130889,
          -0.8816664183269983,
          0.31121281370841103,
          -0.39274099041646093,
          -0.5095365211072483
         ],
         "xaxis": "x9",
         "y": [
          0.5902480411751441,
          0.3615427174565572,
          0.5584943724667715,
          -0.539479777663393,
          0.2706531152422652,
          -0.833542393308271,
          0.7286392974045819,
          -1.4945965320174728,
          -0.6625452265318137,
          -0.37846947865853864,
          1.2417825184285645,
          0.0007355735805051069,
          -0.4356728993259713,
          0.16317169569496986,
          -0.589193012708074,
          0.725373350799308,
          -0.35669892195720776,
          1.5197371392549253,
          -1.2424845208638233,
          -1.2381196347910772,
          -0.15383270820264877,
          -0.4426966470643087,
          -0.9977236313488691,
          0.9398827492619666,
          -0.5810009526837101,
          -0.24516646037302056,
          -0.5535164195308102,
          1.207506512629932,
          -1.2011830990374137,
          0.26264513630377984,
          -0.19511138677375947,
          -1.3163400417550706,
          0.4159973012391208,
          -0.08681382717263655,
          0.13341288669394546,
          -0.7495492847089976,
          1.0504017656564997,
          1.6988244486331026,
          0.794724940520421,
          -0.3771144204427599,
          -2.348372383726653,
          -1.4975991259823258,
          2.4177522410620513,
          -2.9864241534997626,
          -0.7716664732973197,
          1.6248953564900925,
          -0.30273538511562104,
          0.05309533106292075,
          0.848914373865162,
          -0.09087873869300707,
          1.117134063358559,
          1.4145737167773802,
          -0.3257264733195186,
          1.1271303673091357,
          -1.6145868739333393,
          -0.5062649868778086,
          1.4110095073391393,
          -0.6981925286743612,
          2.0298164415529087,
          1.2489456563930352,
          0.09336902497273081,
          -0.0852548467503772,
          -0.16840725945798757,
          -0.4537048669517928,
          -1.9411085402240251,
          1.1161061590598644,
          0.6580780796881278,
          0.7335014459507081,
          -0.09524930032956151,
          -0.09197492813698276,
          -1.220041781135381,
          1.8397117933427165,
          -0.668336993577057,
          -1.1200291268441804,
          -1.0459815223370534,
          -0.6351087814071277,
          0.04122285884189476,
          -1.2382872897836263,
          0.06349277947396594,
          0.3595997463624142,
          0.1273845675493883,
          -1.332046813767796,
          0.8013118104095253,
          0.05213674973624697,
          -0.7349172815712046,
          -0.622387034426038,
          -0.22300120405726176,
          0.29386608490373634,
          0.47524630185090155,
          1.2601777434464643,
          -2.5129027635317644,
          0.9907234231097561,
          1.2814600020807558,
          -0.09980158202068289,
          -0.33958170568064705,
          0.42252299385777164,
          -0.270847453454299,
          -0.721859246821871,
          1.2620005141853041,
          0.052186980272228414
         ],
         "yaxis": "y9"
        },
        {
         "line": {
          "color": "rgba(128, 128, 128, 1.0)",
          "dash": "solid",
          "shape": "linear",
          "width": 1.3
         },
         "marker": {
          "size": 2,
          "symbol": "circle"
         },
         "mode": "markers",
         "name": "C",
         "text": "",
         "type": "scatter",
         "x": [
          0.7668247603098971,
          0.25608341454276456,
          -0.418007492438254,
          1.6479000639513037,
          -1.085957707598228,
          -0.6471993669751592,
          -1.1476836051943966,
          0.3647731658486326,
          0.32719258878439345,
          0.36629851821546877,
          -0.16000570641145667,
          1.5669653312034988,
          -1.3354132322743333,
          -0.23044821694920747,
          -0.060267767095280075,
          0.624298316824953,
          -0.7497976648916586,
          0.12707974086987975,
          -0.7140406345566194,
          1.3183538535134744,
          1.9492171783364947,
          -0.07227429606646343,
          0.7104660955504053,
          -0.3823620944176171,
          -0.0016846148843457597,
          0.8531041063996373,
          0.13650535971413694,
          -1.9768805035437342,
          0.8017552890082933,
          0.24675978309861793,
          0.40168364800647616,
          0.5419398982661194,
          -2.9408752875684945,
          -0.645007270455306,
          1.6499623708090134,
          -1.0680997060013975,
          0.31218567853158047,
          -1.1073355893203949,
          0.6627605959317424,
          0.48103810835817923,
          -0.02190442811798528,
          -0.05170363686797047,
          -0.3336029037164444,
          0.0210670145406781,
          -1.08060773901822,
          0.26716901124877135,
          0.8559623719295363,
          -0.3552226520086245,
          0.03289143543064628,
          0.043948774668583844,
          -0.8854118949675668,
          1.2392211365577033,
          0.3973864688908118,
          0.3936559984256999,
          0.5706188669456544,
          0.5938041094382246,
          0.05666814714582934,
          -0.5027644440474898,
          -0.4835465184492971,
          -0.3684119863666352,
          -0.03825882718531708,
          -0.13649727148657367,
          0.49463947836597666,
          -2.0938864041717165,
          -0.0043845897516948855,
          1.1848175021850196,
          -0.689421076516863,
          0.24697274210920545,
          2.0176554176642783,
          -0.052240509921352034,
          -1.1559621489839282,
          -0.4579065362451067,
          -0.02528773996479936,
          -1.9016111132627143,
          1.4567845672157844,
          1.3545548283768565,
          1.466930032164649,
          1.1190235946806586,
          -1.396688273698315,
          1.0578914384783338,
          1.4824964112076136,
          1.2869025951738233,
          0.2497579974130677,
          2.0314669247857053,
          0.722928865710818,
          0.8339059281666981,
          -1.1227398591384263,
          -1.2585257402688401,
          0.7647242059875361,
          -0.9639506274251255,
          1.1430521145223795,
          1.9037174534810613,
          0.9649629383966886,
          0.6330162346487069,
          0.3676138133031477,
          1.0978027541671664,
          -0.5436639063060611,
          0.41353875396477,
          -0.1949677432718928,
          0.5180959646238293
         ],
         "xaxis": "x10",
         "y": [
          0.5902480411751441,
          0.3615427174565572,
          0.5584943724667715,
          -0.539479777663393,
          0.2706531152422652,
          -0.833542393308271,
          0.7286392974045819,
          -1.4945965320174728,
          -0.6625452265318137,
          -0.37846947865853864,
          1.2417825184285645,
          0.0007355735805051069,
          -0.4356728993259713,
          0.16317169569496986,
          -0.589193012708074,
          0.725373350799308,
          -0.35669892195720776,
          1.5197371392549253,
          -1.2424845208638233,
          -1.2381196347910772,
          -0.15383270820264877,
          -0.4426966470643087,
          -0.9977236313488691,
          0.9398827492619666,
          -0.5810009526837101,
          -0.24516646037302056,
          -0.5535164195308102,
          1.207506512629932,
          -1.2011830990374137,
          0.26264513630377984,
          -0.19511138677375947,
          -1.3163400417550706,
          0.4159973012391208,
          -0.08681382717263655,
          0.13341288669394546,
          -0.7495492847089976,
          1.0504017656564997,
          1.6988244486331026,
          0.794724940520421,
          -0.3771144204427599,
          -2.348372383726653,
          -1.4975991259823258,
          2.4177522410620513,
          -2.9864241534997626,
          -0.7716664732973197,
          1.6248953564900925,
          -0.30273538511562104,
          0.05309533106292075,
          0.848914373865162,
          -0.09087873869300707,
          1.117134063358559,
          1.4145737167773802,
          -0.3257264733195186,
          1.1271303673091357,
          -1.6145868739333393,
          -0.5062649868778086,
          1.4110095073391393,
          -0.6981925286743612,
          2.0298164415529087,
          1.2489456563930352,
          0.09336902497273081,
          -0.0852548467503772,
          -0.16840725945798757,
          -0.4537048669517928,
          -1.9411085402240251,
          1.1161061590598644,
          0.6580780796881278,
          0.7335014459507081,
          -0.09524930032956151,
          -0.09197492813698276,
          -1.220041781135381,
          1.8397117933427165,
          -0.668336993577057,
          -1.1200291268441804,
          -1.0459815223370534,
          -0.6351087814071277,
          0.04122285884189476,
          -1.2382872897836263,
          0.06349277947396594,
          0.3595997463624142,
          0.1273845675493883,
          -1.332046813767796,
          0.8013118104095253,
          0.05213674973624697,
          -0.7349172815712046,
          -0.622387034426038,
          -0.22300120405726176,
          0.29386608490373634,
          0.47524630185090155,
          1.2601777434464643,
          -2.5129027635317644,
          0.9907234231097561,
          1.2814600020807558,
          -0.09980158202068289,
          -0.33958170568064705,
          0.42252299385777164,
          -0.270847453454299,
          -0.721859246821871,
          1.2620005141853041,
          0.052186980272228414
         ],
         "yaxis": "y10"
        },
        {
         "histfunc": "count",
         "histnorm": "",
         "marker": {
          "color": "rgba(50, 171, 96, 1.0)",
          "line": {
           "color": "#4D5663",
           "width": 1.3
          }
         },
         "name": "C",
         "nbinsx": 10,
         "opacity": 0.8,
         "orientation": "v",
         "type": "histogram",
         "x": [
          0.5902480411751441,
          0.3615427174565572,
          0.5584943724667715,
          -0.539479777663393,
          0.2706531152422652,
          -0.833542393308271,
          0.7286392974045819,
          -1.4945965320174728,
          -0.6625452265318137,
          -0.37846947865853864,
          1.2417825184285645,
          0.0007355735805051069,
          -0.4356728993259713,
          0.16317169569496986,
          -0.589193012708074,
          0.725373350799308,
          -0.35669892195720776,
          1.5197371392549253,
          -1.2424845208638233,
          -1.2381196347910772,
          -0.15383270820264877,
          -0.4426966470643087,
          -0.9977236313488691,
          0.9398827492619666,
          -0.5810009526837101,
          -0.24516646037302056,
          -0.5535164195308102,
          1.207506512629932,
          -1.2011830990374137,
          0.26264513630377984,
          -0.19511138677375947,
          -1.3163400417550706,
          0.4159973012391208,
          -0.08681382717263655,
          0.13341288669394546,
          -0.7495492847089976,
          1.0504017656564997,
          1.6988244486331026,
          0.794724940520421,
          -0.3771144204427599,
          -2.348372383726653,
          -1.4975991259823258,
          2.4177522410620513,
          -2.9864241534997626,
          -0.7716664732973197,
          1.6248953564900925,
          -0.30273538511562104,
          0.05309533106292075,
          0.848914373865162,
          -0.09087873869300707,
          1.117134063358559,
          1.4145737167773802,
          -0.3257264733195186,
          1.1271303673091357,
          -1.6145868739333393,
          -0.5062649868778086,
          1.4110095073391393,
          -0.6981925286743612,
          2.0298164415529087,
          1.2489456563930352,
          0.09336902497273081,
          -0.0852548467503772,
          -0.16840725945798757,
          -0.4537048669517928,
          -1.9411085402240251,
          1.1161061590598644,
          0.6580780796881278,
          0.7335014459507081,
          -0.09524930032956151,
          -0.09197492813698276,
          -1.220041781135381,
          1.8397117933427165,
          -0.668336993577057,
          -1.1200291268441804,
          -1.0459815223370534,
          -0.6351087814071277,
          0.04122285884189476,
          -1.2382872897836263,
          0.06349277947396594,
          0.3595997463624142,
          0.1273845675493883,
          -1.332046813767796,
          0.8013118104095253,
          0.05213674973624697,
          -0.7349172815712046,
          -0.622387034426038,
          -0.22300120405726176,
          0.29386608490373634,
          0.47524630185090155,
          1.2601777434464643,
          -2.5129027635317644,
          0.9907234231097561,
          1.2814600020807558,
          -0.09980158202068289,
          -0.33958170568064705,
          0.42252299385777164,
          -0.270847453454299,
          -0.721859246821871,
          1.2620005141853041,
          0.052186980272228414
         ],
         "xaxis": "x11",
         "yaxis": "y11"
        },
        {
         "line": {
          "color": "rgba(128, 128, 128, 1.0)",
          "dash": "solid",
          "shape": "linear",
          "width": 1.3
         },
         "marker": {
          "size": 2,
          "symbol": "circle"
         },
         "mode": "markers",
         "name": "C",
         "text": "",
         "type": "scatter",
         "x": [
          -1.409576167266115,
          0.20537675410089584,
          -0.1640750525839635,
          -0.23668777048924583,
          -1.2814955062673854,
          -0.25038975031004135,
          -0.9721171081271407,
          -0.5134102339463291,
          0.7015914927507502,
          -1.1153426296556703,
          -0.841261678087003,
          -0.5186143193038489,
          -0.9243081595835546,
          -1.178022577850604,
          0.3286382294185649,
          -0.6687628624602802,
          1.0848961556853847,
          -0.3510611894926132,
          -1.8120691375783937,
          0.7103016536262061,
          -1.0912075242903299,
          -0.9777318692911919,
          0.9741915163209256,
          0.022628428259688676,
          0.3783837663626986,
          1.7529871217204438,
          1.102471940840788,
          0.2478317744141381,
          0.43219161331565026,
          1.1989223822176431,
          0.36465597947223916,
          -1.448094283934066,
          -0.7165556586487222,
          1.148926336575849,
          1.616831386935041,
          -0.20280041996059836,
          -1.5414116004415601,
          -0.32992438972277915,
          0.2947728801656616,
          0.5634344560871831,
          1.9147873011206857,
          0.5624785148497061,
          -1.0666306909038166,
          -0.11275740825138152,
          0.18733415585268717,
          0.12208231884626186,
          -2.5351011735132345,
          0.6706251184359282,
          -0.08992007702202028,
          -0.49387056722383493,
          0.1971368396571273,
          -0.7979875619061959,
          -0.6218610415476219,
          0.6627348876828029,
          0.07060017315945649,
          -1.7869375067051843,
          -0.11536335457879134,
          0.42599041154108436,
          -0.6690378914684313,
          -0.9469968869705551,
          -0.5428610931146891,
          -1.925027057392907,
          2.11162707786153,
          0.7465241397980572,
          -0.454011078233244,
          -1.5521418623086016,
          0.49076533427888086,
          -0.6006208361345682,
          0.8035133451291006,
          1.751469319085972,
          1.0261382711001192,
          -0.8019337021556235,
          -0.5204916419838601,
          0.19787037376093192,
          -0.615031884271281,
          -0.538998914172199,
          0.4628567484897606,
          -0.3468429223431634,
          0.32386689735915164,
          1.674068635984049,
          1.362411852756756,
          1.0476063126059973,
          -0.3942648644408054,
          2.527007256063724,
          -0.6330161916166508,
          -0.45065669348216547,
          0.09925901312434403,
          0.48561705135713645,
          -0.5325049567923323,
          0.9000741962014779,
          0.7721703190603556,
          -3.1685775380496897,
          -0.09914542523473069,
          1.1996273408126372,
          -0.7042951213219687,
          -1.2711931343065397,
          1.1959407827681903,
          -1.1966649149288007,
          0.6179182147753349,
          -1.5881976982433168
         ],
         "xaxis": "x12",
         "y": [
          0.5902480411751441,
          0.3615427174565572,
          0.5584943724667715,
          -0.539479777663393,
          0.2706531152422652,
          -0.833542393308271,
          0.7286392974045819,
          -1.4945965320174728,
          -0.6625452265318137,
          -0.37846947865853864,
          1.2417825184285645,
          0.0007355735805051069,
          -0.4356728993259713,
          0.16317169569496986,
          -0.589193012708074,
          0.725373350799308,
          -0.35669892195720776,
          1.5197371392549253,
          -1.2424845208638233,
          -1.2381196347910772,
          -0.15383270820264877,
          -0.4426966470643087,
          -0.9977236313488691,
          0.9398827492619666,
          -0.5810009526837101,
          -0.24516646037302056,
          -0.5535164195308102,
          1.207506512629932,
          -1.2011830990374137,
          0.26264513630377984,
          -0.19511138677375947,
          -1.3163400417550706,
          0.4159973012391208,
          -0.08681382717263655,
          0.13341288669394546,
          -0.7495492847089976,
          1.0504017656564997,
          1.6988244486331026,
          0.794724940520421,
          -0.3771144204427599,
          -2.348372383726653,
          -1.4975991259823258,
          2.4177522410620513,
          -2.9864241534997626,
          -0.7716664732973197,
          1.6248953564900925,
          -0.30273538511562104,
          0.05309533106292075,
          0.848914373865162,
          -0.09087873869300707,
          1.117134063358559,
          1.4145737167773802,
          -0.3257264733195186,
          1.1271303673091357,
          -1.6145868739333393,
          -0.5062649868778086,
          1.4110095073391393,
          -0.6981925286743612,
          2.0298164415529087,
          1.2489456563930352,
          0.09336902497273081,
          -0.0852548467503772,
          -0.16840725945798757,
          -0.4537048669517928,
          -1.9411085402240251,
          1.1161061590598644,
          0.6580780796881278,
          0.7335014459507081,
          -0.09524930032956151,
          -0.09197492813698276,
          -1.220041781135381,
          1.8397117933427165,
          -0.668336993577057,
          -1.1200291268441804,
          -1.0459815223370534,
          -0.6351087814071277,
          0.04122285884189476,
          -1.2382872897836263,
          0.06349277947396594,
          0.3595997463624142,
          0.1273845675493883,
          -1.332046813767796,
          0.8013118104095253,
          0.05213674973624697,
          -0.7349172815712046,
          -0.622387034426038,
          -0.22300120405726176,
          0.29386608490373634,
          0.47524630185090155,
          1.2601777434464643,
          -2.5129027635317644,
          0.9907234231097561,
          1.2814600020807558,
          -0.09980158202068289,
          -0.33958170568064705,
          0.42252299385777164,
          -0.270847453454299,
          -0.721859246821871,
          1.2620005141853041,
          0.052186980272228414
         ],
         "yaxis": "y12"
        },
        {
         "line": {
          "color": "rgba(128, 128, 128, 1.0)",
          "dash": "solid",
          "shape": "linear",
          "width": 1.3
         },
         "marker": {
          "size": 2,
          "symbol": "circle"
         },
         "mode": "markers",
         "name": "D",
         "text": "",
         "type": "scatter",
         "x": [
          -0.13175400242810156,
          1.4398736154014231,
          0.3084936992738871,
          0.5076264204380968,
          -0.7625284986653112,
          -1.0062511787786008,
          0.11469784115897165,
          1.9310696770869487,
          1.0944035694729664,
          0.6372421397859684,
          0.3855089464458704,
          -0.8121273360861435,
          -0.3234342665261247,
          2.362812817762973,
          -0.9020043009425683,
          1.5125228590996407,
          1.6738212663422762,
          -0.9901310738157569,
          1.084961991228402,
          -0.8959408642253713,
          2.1316610208320763,
          -1.5130697817897543,
          -0.9054073025929361,
          -1.2363645490471573,
          -0.15194927661083432,
          -0.2377615536333579,
          -0.5007722283776846,
          -0.7023143914132617,
          -2.1165840455647387,
          0.725447620478989,
          0.21628655747987344,
          2.215565705679116,
          -1.6546694084066793,
          0.43522055750008765,
          -0.7290404129663632,
          -2.072652678094007,
          -1.5357339134344634,
          0.6597408315792757,
          0.7471678649316231,
          1.0183098975792102,
          -0.0475017122305315,
          0.6226526850571343,
          0.11867141066397108,
          0.6785159601012161,
          -2.2702452299697886,
          1.1238379665770963,
          0.6230048619585441,
          0.8719729055231573,
          1.4326270000120012,
          -0.24688836716890633,
          0.8117736190877305,
          1.61223643973982,
          -1.4932034080063534,
          0.8037053962798918,
          1.7130283780118272,
          -0.6700078392530018,
          1.5568132179108136,
          0.40626162740550076,
          -2.256267543737473,
          1.092041777618682,
          2.4343498861619737,
          0.11904330167051473,
          1.301154598107079,
          1.1121166128876387,
          -0.09443622486311361,
          1.5039962172550305,
          -1.5611350973183005,
          2.0907823004658885,
          -1.920492399044538,
          -0.32259609854818216,
          -0.28860611837376987,
          -3.9006781071827716,
          -1.448796535345966,
          -0.2317550134453871,
          0.6794020374305854,
          -1.9386900580032422,
          -0.5411660242004356,
          0.20184037671840202,
          0.2194539547450508,
          -0.26809272600799905,
          0.47807622579924847,
          0.28813930760653533,
          -1.2171719295118983,
          1.6613721485393889,
          -1.129899743938994,
          1.231837149691319,
          0.906027903471736,
          0.41874076383417547,
          1.140639223532903,
          -0.27309072874514134,
          -1.5997041234561773,
          2.0818397320483397,
          -0.507997666275523,
          -0.6412893664962762,
          0.1353104566092275,
          0.7058193926130889,
          -0.8816664183269983,
          0.31121281370841103,
          -0.39274099041646093,
          -0.5095365211072483
         ],
         "xaxis": "x13",
         "y": [
          -1.409576167266115,
          0.20537675410089584,
          -0.1640750525839635,
          -0.23668777048924583,
          -1.2814955062673854,
          -0.25038975031004135,
          -0.9721171081271407,
          -0.5134102339463291,
          0.7015914927507502,
          -1.1153426296556703,
          -0.841261678087003,
          -0.5186143193038489,
          -0.9243081595835546,
          -1.178022577850604,
          0.3286382294185649,
          -0.6687628624602802,
          1.0848961556853847,
          -0.3510611894926132,
          -1.8120691375783937,
          0.7103016536262061,
          -1.0912075242903299,
          -0.9777318692911919,
          0.9741915163209256,
          0.022628428259688676,
          0.3783837663626986,
          1.7529871217204438,
          1.102471940840788,
          0.2478317744141381,
          0.43219161331565026,
          1.1989223822176431,
          0.36465597947223916,
          -1.448094283934066,
          -0.7165556586487222,
          1.148926336575849,
          1.616831386935041,
          -0.20280041996059836,
          -1.5414116004415601,
          -0.32992438972277915,
          0.2947728801656616,
          0.5634344560871831,
          1.9147873011206857,
          0.5624785148497061,
          -1.0666306909038166,
          -0.11275740825138152,
          0.18733415585268717,
          0.12208231884626186,
          -2.5351011735132345,
          0.6706251184359282,
          -0.08992007702202028,
          -0.49387056722383493,
          0.1971368396571273,
          -0.7979875619061959,
          -0.6218610415476219,
          0.6627348876828029,
          0.07060017315945649,
          -1.7869375067051843,
          -0.11536335457879134,
          0.42599041154108436,
          -0.6690378914684313,
          -0.9469968869705551,
          -0.5428610931146891,
          -1.925027057392907,
          2.11162707786153,
          0.7465241397980572,
          -0.454011078233244,
          -1.5521418623086016,
          0.49076533427888086,
          -0.6006208361345682,
          0.8035133451291006,
          1.751469319085972,
          1.0261382711001192,
          -0.8019337021556235,
          -0.5204916419838601,
          0.19787037376093192,
          -0.615031884271281,
          -0.538998914172199,
          0.4628567484897606,
          -0.3468429223431634,
          0.32386689735915164,
          1.674068635984049,
          1.362411852756756,
          1.0476063126059973,
          -0.3942648644408054,
          2.527007256063724,
          -0.6330161916166508,
          -0.45065669348216547,
          0.09925901312434403,
          0.48561705135713645,
          -0.5325049567923323,
          0.9000741962014779,
          0.7721703190603556,
          -3.1685775380496897,
          -0.09914542523473069,
          1.1996273408126372,
          -0.7042951213219687,
          -1.2711931343065397,
          1.1959407827681903,
          -1.1966649149288007,
          0.6179182147753349,
          -1.5881976982433168
         ],
         "yaxis": "y13"
        },
        {
         "line": {
          "color": "rgba(128, 128, 128, 1.0)",
          "dash": "solid",
          "shape": "linear",
          "width": 1.3
         },
         "marker": {
          "size": 2,
          "symbol": "circle"
         },
         "mode": "markers",
         "name": "D",
         "text": "",
         "type": "scatter",
         "x": [
          0.7668247603098971,
          0.25608341454276456,
          -0.418007492438254,
          1.6479000639513037,
          -1.085957707598228,
          -0.6471993669751592,
          -1.1476836051943966,
          0.3647731658486326,
          0.32719258878439345,
          0.36629851821546877,
          -0.16000570641145667,
          1.5669653312034988,
          -1.3354132322743333,
          -0.23044821694920747,
          -0.060267767095280075,
          0.624298316824953,
          -0.7497976648916586,
          0.12707974086987975,
          -0.7140406345566194,
          1.3183538535134744,
          1.9492171783364947,
          -0.07227429606646343,
          0.7104660955504053,
          -0.3823620944176171,
          -0.0016846148843457597,
          0.8531041063996373,
          0.13650535971413694,
          -1.9768805035437342,
          0.8017552890082933,
          0.24675978309861793,
          0.40168364800647616,
          0.5419398982661194,
          -2.9408752875684945,
          -0.645007270455306,
          1.6499623708090134,
          -1.0680997060013975,
          0.31218567853158047,
          -1.1073355893203949,
          0.6627605959317424,
          0.48103810835817923,
          -0.02190442811798528,
          -0.05170363686797047,
          -0.3336029037164444,
          0.0210670145406781,
          -1.08060773901822,
          0.26716901124877135,
          0.8559623719295363,
          -0.3552226520086245,
          0.03289143543064628,
          0.043948774668583844,
          -0.8854118949675668,
          1.2392211365577033,
          0.3973864688908118,
          0.3936559984256999,
          0.5706188669456544,
          0.5938041094382246,
          0.05666814714582934,
          -0.5027644440474898,
          -0.4835465184492971,
          -0.3684119863666352,
          -0.03825882718531708,
          -0.13649727148657367,
          0.49463947836597666,
          -2.0938864041717165,
          -0.0043845897516948855,
          1.1848175021850196,
          -0.689421076516863,
          0.24697274210920545,
          2.0176554176642783,
          -0.052240509921352034,
          -1.1559621489839282,
          -0.4579065362451067,
          -0.02528773996479936,
          -1.9016111132627143,
          1.4567845672157844,
          1.3545548283768565,
          1.466930032164649,
          1.1190235946806586,
          -1.396688273698315,
          1.0578914384783338,
          1.4824964112076136,
          1.2869025951738233,
          0.2497579974130677,
          2.0314669247857053,
          0.722928865710818,
          0.8339059281666981,
          -1.1227398591384263,
          -1.2585257402688401,
          0.7647242059875361,
          -0.9639506274251255,
          1.1430521145223795,
          1.9037174534810613,
          0.9649629383966886,
          0.6330162346487069,
          0.3676138133031477,
          1.0978027541671664,
          -0.5436639063060611,
          0.41353875396477,
          -0.1949677432718928,
          0.5180959646238293
         ],
         "xaxis": "x14",
         "y": [
          -1.409576167266115,
          0.20537675410089584,
          -0.1640750525839635,
          -0.23668777048924583,
          -1.2814955062673854,
          -0.25038975031004135,
          -0.9721171081271407,
          -0.5134102339463291,
          0.7015914927507502,
          -1.1153426296556703,
          -0.841261678087003,
          -0.5186143193038489,
          -0.9243081595835546,
          -1.178022577850604,
          0.3286382294185649,
          -0.6687628624602802,
          1.0848961556853847,
          -0.3510611894926132,
          -1.8120691375783937,
          0.7103016536262061,
          -1.0912075242903299,
          -0.9777318692911919,
          0.9741915163209256,
          0.022628428259688676,
          0.3783837663626986,
          1.7529871217204438,
          1.102471940840788,
          0.2478317744141381,
          0.43219161331565026,
          1.1989223822176431,
          0.36465597947223916,
          -1.448094283934066,
          -0.7165556586487222,
          1.148926336575849,
          1.616831386935041,
          -0.20280041996059836,
          -1.5414116004415601,
          -0.32992438972277915,
          0.2947728801656616,
          0.5634344560871831,
          1.9147873011206857,
          0.5624785148497061,
          -1.0666306909038166,
          -0.11275740825138152,
          0.18733415585268717,
          0.12208231884626186,
          -2.5351011735132345,
          0.6706251184359282,
          -0.08992007702202028,
          -0.49387056722383493,
          0.1971368396571273,
          -0.7979875619061959,
          -0.6218610415476219,
          0.6627348876828029,
          0.07060017315945649,
          -1.7869375067051843,
          -0.11536335457879134,
          0.42599041154108436,
          -0.6690378914684313,
          -0.9469968869705551,
          -0.5428610931146891,
          -1.925027057392907,
          2.11162707786153,
          0.7465241397980572,
          -0.454011078233244,
          -1.5521418623086016,
          0.49076533427888086,
          -0.6006208361345682,
          0.8035133451291006,
          1.751469319085972,
          1.0261382711001192,
          -0.8019337021556235,
          -0.5204916419838601,
          0.19787037376093192,
          -0.615031884271281,
          -0.538998914172199,
          0.4628567484897606,
          -0.3468429223431634,
          0.32386689735915164,
          1.674068635984049,
          1.362411852756756,
          1.0476063126059973,
          -0.3942648644408054,
          2.527007256063724,
          -0.6330161916166508,
          -0.45065669348216547,
          0.09925901312434403,
          0.48561705135713645,
          -0.5325049567923323,
          0.9000741962014779,
          0.7721703190603556,
          -3.1685775380496897,
          -0.09914542523473069,
          1.1996273408126372,
          -0.7042951213219687,
          -1.2711931343065397,
          1.1959407827681903,
          -1.1966649149288007,
          0.6179182147753349,
          -1.5881976982433168
         ],
         "yaxis": "y14"
        },
        {
         "line": {
          "color": "rgba(128, 128, 128, 1.0)",
          "dash": "solid",
          "shape": "linear",
          "width": 1.3
         },
         "marker": {
          "size": 2,
          "symbol": "circle"
         },
         "mode": "markers",
         "name": "D",
         "text": "",
         "type": "scatter",
         "x": [
          0.5902480411751441,
          0.3615427174565572,
          0.5584943724667715,
          -0.539479777663393,
          0.2706531152422652,
          -0.833542393308271,
          0.7286392974045819,
          -1.4945965320174728,
          -0.6625452265318137,
          -0.37846947865853864,
          1.2417825184285645,
          0.0007355735805051069,
          -0.4356728993259713,
          0.16317169569496986,
          -0.589193012708074,
          0.725373350799308,
          -0.35669892195720776,
          1.5197371392549253,
          -1.2424845208638233,
          -1.2381196347910772,
          -0.15383270820264877,
          -0.4426966470643087,
          -0.9977236313488691,
          0.9398827492619666,
          -0.5810009526837101,
          -0.24516646037302056,
          -0.5535164195308102,
          1.207506512629932,
          -1.2011830990374137,
          0.26264513630377984,
          -0.19511138677375947,
          -1.3163400417550706,
          0.4159973012391208,
          -0.08681382717263655,
          0.13341288669394546,
          -0.7495492847089976,
          1.0504017656564997,
          1.6988244486331026,
          0.794724940520421,
          -0.3771144204427599,
          -2.348372383726653,
          -1.4975991259823258,
          2.4177522410620513,
          -2.9864241534997626,
          -0.7716664732973197,
          1.6248953564900925,
          -0.30273538511562104,
          0.05309533106292075,
          0.848914373865162,
          -0.09087873869300707,
          1.117134063358559,
          1.4145737167773802,
          -0.3257264733195186,
          1.1271303673091357,
          -1.6145868739333393,
          -0.5062649868778086,
          1.4110095073391393,
          -0.6981925286743612,
          2.0298164415529087,
          1.2489456563930352,
          0.09336902497273081,
          -0.0852548467503772,
          -0.16840725945798757,
          -0.4537048669517928,
          -1.9411085402240251,
          1.1161061590598644,
          0.6580780796881278,
          0.7335014459507081,
          -0.09524930032956151,
          -0.09197492813698276,
          -1.220041781135381,
          1.8397117933427165,
          -0.668336993577057,
          -1.1200291268441804,
          -1.0459815223370534,
          -0.6351087814071277,
          0.04122285884189476,
          -1.2382872897836263,
          0.06349277947396594,
          0.3595997463624142,
          0.1273845675493883,
          -1.332046813767796,
          0.8013118104095253,
          0.05213674973624697,
          -0.7349172815712046,
          -0.622387034426038,
          -0.22300120405726176,
          0.29386608490373634,
          0.47524630185090155,
          1.2601777434464643,
          -2.5129027635317644,
          0.9907234231097561,
          1.2814600020807558,
          -0.09980158202068289,
          -0.33958170568064705,
          0.42252299385777164,
          -0.270847453454299,
          -0.721859246821871,
          1.2620005141853041,
          0.052186980272228414
         ],
         "xaxis": "x15",
         "y": [
          -1.409576167266115,
          0.20537675410089584,
          -0.1640750525839635,
          -0.23668777048924583,
          -1.2814955062673854,
          -0.25038975031004135,
          -0.9721171081271407,
          -0.5134102339463291,
          0.7015914927507502,
          -1.1153426296556703,
          -0.841261678087003,
          -0.5186143193038489,
          -0.9243081595835546,
          -1.178022577850604,
          0.3286382294185649,
          -0.6687628624602802,
          1.0848961556853847,
          -0.3510611894926132,
          -1.8120691375783937,
          0.7103016536262061,
          -1.0912075242903299,
          -0.9777318692911919,
          0.9741915163209256,
          0.022628428259688676,
          0.3783837663626986,
          1.7529871217204438,
          1.102471940840788,
          0.2478317744141381,
          0.43219161331565026,
          1.1989223822176431,
          0.36465597947223916,
          -1.448094283934066,
          -0.7165556586487222,
          1.148926336575849,
          1.616831386935041,
          -0.20280041996059836,
          -1.5414116004415601,
          -0.32992438972277915,
          0.2947728801656616,
          0.5634344560871831,
          1.9147873011206857,
          0.5624785148497061,
          -1.0666306909038166,
          -0.11275740825138152,
          0.18733415585268717,
          0.12208231884626186,
          -2.5351011735132345,
          0.6706251184359282,
          -0.08992007702202028,
          -0.49387056722383493,
          0.1971368396571273,
          -0.7979875619061959,
          -0.6218610415476219,
          0.6627348876828029,
          0.07060017315945649,
          -1.7869375067051843,
          -0.11536335457879134,
          0.42599041154108436,
          -0.6690378914684313,
          -0.9469968869705551,
          -0.5428610931146891,
          -1.925027057392907,
          2.11162707786153,
          0.7465241397980572,
          -0.454011078233244,
          -1.5521418623086016,
          0.49076533427888086,
          -0.6006208361345682,
          0.8035133451291006,
          1.751469319085972,
          1.0261382711001192,
          -0.8019337021556235,
          -0.5204916419838601,
          0.19787037376093192,
          -0.615031884271281,
          -0.538998914172199,
          0.4628567484897606,
          -0.3468429223431634,
          0.32386689735915164,
          1.674068635984049,
          1.362411852756756,
          1.0476063126059973,
          -0.3942648644408054,
          2.527007256063724,
          -0.6330161916166508,
          -0.45065669348216547,
          0.09925901312434403,
          0.48561705135713645,
          -0.5325049567923323,
          0.9000741962014779,
          0.7721703190603556,
          -3.1685775380496897,
          -0.09914542523473069,
          1.1996273408126372,
          -0.7042951213219687,
          -1.2711931343065397,
          1.1959407827681903,
          -1.1966649149288007,
          0.6179182147753349,
          -1.5881976982433168
         ],
         "yaxis": "y15"
        },
        {
         "histfunc": "count",
         "histnorm": "",
         "marker": {
          "color": "rgba(128, 0, 128, 1.0)",
          "line": {
           "color": "#4D5663",
           "width": 1.3
          }
         },
         "name": "D",
         "nbinsx": 10,
         "opacity": 0.8,
         "orientation": "v",
         "type": "histogram",
         "x": [
          -1.409576167266115,
          0.20537675410089584,
          -0.1640750525839635,
          -0.23668777048924583,
          -1.2814955062673854,
          -0.25038975031004135,
          -0.9721171081271407,
          -0.5134102339463291,
          0.7015914927507502,
          -1.1153426296556703,
          -0.841261678087003,
          -0.5186143193038489,
          -0.9243081595835546,
          -1.178022577850604,
          0.3286382294185649,
          -0.6687628624602802,
          1.0848961556853847,
          -0.3510611894926132,
          -1.8120691375783937,
          0.7103016536262061,
          -1.0912075242903299,
          -0.9777318692911919,
          0.9741915163209256,
          0.022628428259688676,
          0.3783837663626986,
          1.7529871217204438,
          1.102471940840788,
          0.2478317744141381,
          0.43219161331565026,
          1.1989223822176431,
          0.36465597947223916,
          -1.448094283934066,
          -0.7165556586487222,
          1.148926336575849,
          1.616831386935041,
          -0.20280041996059836,
          -1.5414116004415601,
          -0.32992438972277915,
          0.2947728801656616,
          0.5634344560871831,
          1.9147873011206857,
          0.5624785148497061,
          -1.0666306909038166,
          -0.11275740825138152,
          0.18733415585268717,
          0.12208231884626186,
          -2.5351011735132345,
          0.6706251184359282,
          -0.08992007702202028,
          -0.49387056722383493,
          0.1971368396571273,
          -0.7979875619061959,
          -0.6218610415476219,
          0.6627348876828029,
          0.07060017315945649,
          -1.7869375067051843,
          -0.11536335457879134,
          0.42599041154108436,
          -0.6690378914684313,
          -0.9469968869705551,
          -0.5428610931146891,
          -1.925027057392907,
          2.11162707786153,
          0.7465241397980572,
          -0.454011078233244,
          -1.5521418623086016,
          0.49076533427888086,
          -0.6006208361345682,
          0.8035133451291006,
          1.751469319085972,
          1.0261382711001192,
          -0.8019337021556235,
          -0.5204916419838601,
          0.19787037376093192,
          -0.615031884271281,
          -0.538998914172199,
          0.4628567484897606,
          -0.3468429223431634,
          0.32386689735915164,
          1.674068635984049,
          1.362411852756756,
          1.0476063126059973,
          -0.3942648644408054,
          2.527007256063724,
          -0.6330161916166508,
          -0.45065669348216547,
          0.09925901312434403,
          0.48561705135713645,
          -0.5325049567923323,
          0.9000741962014779,
          0.7721703190603556,
          -3.1685775380496897,
          -0.09914542523473069,
          1.1996273408126372,
          -0.7042951213219687,
          -1.2711931343065397,
          1.1959407827681903,
          -1.1966649149288007,
          0.6179182147753349,
          -1.5881976982433168
         ],
         "xaxis": "x16",
         "yaxis": "y16"
        }
       ],
       "layout": {
        "bargap": 0.02,
        "legend": {
         "bgcolor": "#F5F6F9",
         "font": {
          "color": "#4D5663"
         }
        },
        "paper_bgcolor": "#F5F6F9",
        "plot_bgcolor": "#F5F6F9",
        "showlegend": false,
        "template": {
         "data": {
          "bar": [
           {
            "error_x": {
             "color": "#2a3f5f"
            },
            "error_y": {
             "color": "#2a3f5f"
            },
            "marker": {
             "line": {
              "color": "#E5ECF6",
              "width": 0.5
             },
             "pattern": {
              "fillmode": "overlay",
              "size": 10,
              "solidity": 0.2
             }
            },
            "type": "bar"
           }
          ],
          "barpolar": [
           {
            "marker": {
             "line": {
              "color": "#E5ECF6",
              "width": 0.5
             },
             "pattern": {
              "fillmode": "overlay",
              "size": 10,
              "solidity": 0.2
             }
            },
            "type": "barpolar"
           }
          ],
          "carpet": [
           {
            "aaxis": {
             "endlinecolor": "#2a3f5f",
             "gridcolor": "white",
             "linecolor": "white",
             "minorgridcolor": "white",
             "startlinecolor": "#2a3f5f"
            },
            "baxis": {
             "endlinecolor": "#2a3f5f",
             "gridcolor": "white",
             "linecolor": "white",
             "minorgridcolor": "white",
             "startlinecolor": "#2a3f5f"
            },
            "type": "carpet"
           }
          ],
          "choropleth": [
           {
            "colorbar": {
             "outlinewidth": 0,
             "ticks": ""
            },
            "type": "choropleth"
           }
          ],
          "contour": [
           {
            "colorbar": {
             "outlinewidth": 0,
             "ticks": ""
            },
            "colorscale": [
             [
              0,
              "#0d0887"
             ],
             [
              0.1111111111111111,
              "#46039f"
             ],
             [
              0.2222222222222222,
              "#7201a8"
             ],
             [
              0.3333333333333333,
              "#9c179e"
             ],
             [
              0.4444444444444444,
              "#bd3786"
             ],
             [
              0.5555555555555556,
              "#d8576b"
             ],
             [
              0.6666666666666666,
              "#ed7953"
             ],
             [
              0.7777777777777778,
              "#fb9f3a"
             ],
             [
              0.8888888888888888,
              "#fdca26"
             ],
             [
              1,
              "#f0f921"
             ]
            ],
            "type": "contour"
           }
          ],
          "contourcarpet": [
           {
            "colorbar": {
             "outlinewidth": 0,
             "ticks": ""
            },
            "type": "contourcarpet"
           }
          ],
          "heatmap": [
           {
            "colorbar": {
             "outlinewidth": 0,
             "ticks": ""
            },
            "colorscale": [
             [
              0,
              "#0d0887"
             ],
             [
              0.1111111111111111,
              "#46039f"
             ],
             [
              0.2222222222222222,
              "#7201a8"
             ],
             [
              0.3333333333333333,
              "#9c179e"
             ],
             [
              0.4444444444444444,
              "#bd3786"
             ],
             [
              0.5555555555555556,
              "#d8576b"
             ],
             [
              0.6666666666666666,
              "#ed7953"
             ],
             [
              0.7777777777777778,
              "#fb9f3a"
             ],
             [
              0.8888888888888888,
              "#fdca26"
             ],
             [
              1,
              "#f0f921"
             ]
            ],
            "type": "heatmap"
           }
          ],
          "heatmapgl": [
           {
            "colorbar": {
             "outlinewidth": 0,
             "ticks": ""
            },
            "colorscale": [
             [
              0,
              "#0d0887"
             ],
             [
              0.1111111111111111,
              "#46039f"
             ],
             [
              0.2222222222222222,
              "#7201a8"
             ],
             [
              0.3333333333333333,
              "#9c179e"
             ],
             [
              0.4444444444444444,
              "#bd3786"
             ],
             [
              0.5555555555555556,
              "#d8576b"
             ],
             [
              0.6666666666666666,
              "#ed7953"
             ],
             [
              0.7777777777777778,
              "#fb9f3a"
             ],
             [
              0.8888888888888888,
              "#fdca26"
             ],
             [
              1,
              "#f0f921"
             ]
            ],
            "type": "heatmapgl"
           }
          ],
          "histogram": [
           {
            "marker": {
             "pattern": {
              "fillmode": "overlay",
              "size": 10,
              "solidity": 0.2
             }
            },
            "type": "histogram"
           }
          ],
          "histogram2d": [
           {
            "colorbar": {
             "outlinewidth": 0,
             "ticks": ""
            },
            "colorscale": [
             [
              0,
              "#0d0887"
             ],
             [
              0.1111111111111111,
              "#46039f"
             ],
             [
              0.2222222222222222,
              "#7201a8"
             ],
             [
              0.3333333333333333,
              "#9c179e"
             ],
             [
              0.4444444444444444,
              "#bd3786"
             ],
             [
              0.5555555555555556,
              "#d8576b"
             ],
             [
              0.6666666666666666,
              "#ed7953"
             ],
             [
              0.7777777777777778,
              "#fb9f3a"
             ],
             [
              0.8888888888888888,
              "#fdca26"
             ],
             [
              1,
              "#f0f921"
             ]
            ],
            "type": "histogram2d"
           }
          ],
          "histogram2dcontour": [
           {
            "colorbar": {
             "outlinewidth": 0,
             "ticks": ""
            },
            "colorscale": [
             [
              0,
              "#0d0887"
             ],
             [
              0.1111111111111111,
              "#46039f"
             ],
             [
              0.2222222222222222,
              "#7201a8"
             ],
             [
              0.3333333333333333,
              "#9c179e"
             ],
             [
              0.4444444444444444,
              "#bd3786"
             ],
             [
              0.5555555555555556,
              "#d8576b"
             ],
             [
              0.6666666666666666,
              "#ed7953"
             ],
             [
              0.7777777777777778,
              "#fb9f3a"
             ],
             [
              0.8888888888888888,
              "#fdca26"
             ],
             [
              1,
              "#f0f921"
             ]
            ],
            "type": "histogram2dcontour"
           }
          ],
          "mesh3d": [
           {
            "colorbar": {
             "outlinewidth": 0,
             "ticks": ""
            },
            "type": "mesh3d"
           }
          ],
          "parcoords": [
           {
            "line": {
             "colorbar": {
              "outlinewidth": 0,
              "ticks": ""
             }
            },
            "type": "parcoords"
           }
          ],
          "pie": [
           {
            "automargin": true,
            "type": "pie"
           }
          ],
          "scatter": [
           {
            "fillpattern": {
             "fillmode": "overlay",
             "size": 10,
             "solidity": 0.2
            },
            "type": "scatter"
           }
          ],
          "scatter3d": [
           {
            "line": {
             "colorbar": {
              "outlinewidth": 0,
              "ticks": ""
             }
            },
            "marker": {
             "colorbar": {
              "outlinewidth": 0,
              "ticks": ""
             }
            },
            "type": "scatter3d"
           }
          ],
          "scattercarpet": [
           {
            "marker": {
             "colorbar": {
              "outlinewidth": 0,
              "ticks": ""
             }
            },
            "type": "scattercarpet"
           }
          ],
          "scattergeo": [
           {
            "marker": {
             "colorbar": {
              "outlinewidth": 0,
              "ticks": ""
             }
            },
            "type": "scattergeo"
           }
          ],
          "scattergl": [
           {
            "marker": {
             "colorbar": {
              "outlinewidth": 0,
              "ticks": ""
             }
            },
            "type": "scattergl"
           }
          ],
          "scattermapbox": [
           {
            "marker": {
             "colorbar": {
              "outlinewidth": 0,
              "ticks": ""
             }
            },
            "type": "scattermapbox"
           }
          ],
          "scatterpolar": [
           {
            "marker": {
             "colorbar": {
              "outlinewidth": 0,
              "ticks": ""
             }
            },
            "type": "scatterpolar"
           }
          ],
          "scatterpolargl": [
           {
            "marker": {
             "colorbar": {
              "outlinewidth": 0,
              "ticks": ""
             }
            },
            "type": "scatterpolargl"
           }
          ],
          "scatterternary": [
           {
            "marker": {
             "colorbar": {
              "outlinewidth": 0,
              "ticks": ""
             }
            },
            "type": "scatterternary"
           }
          ],
          "surface": [
           {
            "colorbar": {
             "outlinewidth": 0,
             "ticks": ""
            },
            "colorscale": [
             [
              0,
              "#0d0887"
             ],
             [
              0.1111111111111111,
              "#46039f"
             ],
             [
              0.2222222222222222,
              "#7201a8"
             ],
             [
              0.3333333333333333,
              "#9c179e"
             ],
             [
              0.4444444444444444,
              "#bd3786"
             ],
             [
              0.5555555555555556,
              "#d8576b"
             ],
             [
              0.6666666666666666,
              "#ed7953"
             ],
             [
              0.7777777777777778,
              "#fb9f3a"
             ],
             [
              0.8888888888888888,
              "#fdca26"
             ],
             [
              1,
              "#f0f921"
             ]
            ],
            "type": "surface"
           }
          ],
          "table": [
           {
            "cells": {
             "fill": {
              "color": "#EBF0F8"
             },
             "line": {
              "color": "white"
             }
            },
            "header": {
             "fill": {
              "color": "#C8D4E3"
             },
             "line": {
              "color": "white"
             }
            },
            "type": "table"
           }
          ]
         },
         "layout": {
          "annotationdefaults": {
           "arrowcolor": "#2a3f5f",
           "arrowhead": 0,
           "arrowwidth": 1
          },
          "autotypenumbers": "strict",
          "coloraxis": {
           "colorbar": {
            "outlinewidth": 0,
            "ticks": ""
           }
          },
          "colorscale": {
           "diverging": [
            [
             0,
             "#8e0152"
            ],
            [
             0.1,
             "#c51b7d"
            ],
            [
             0.2,
             "#de77ae"
            ],
            [
             0.3,
             "#f1b6da"
            ],
            [
             0.4,
             "#fde0ef"
            ],
            [
             0.5,
             "#f7f7f7"
            ],
            [
             0.6,
             "#e6f5d0"
            ],
            [
             0.7,
             "#b8e186"
            ],
            [
             0.8,
             "#7fbc41"
            ],
            [
             0.9,
             "#4d9221"
            ],
            [
             1,
             "#276419"
            ]
           ],
           "sequential": [
            [
             0,
             "#0d0887"
            ],
            [
             0.1111111111111111,
             "#46039f"
            ],
            [
             0.2222222222222222,
             "#7201a8"
            ],
            [
             0.3333333333333333,
             "#9c179e"
            ],
            [
             0.4444444444444444,
             "#bd3786"
            ],
            [
             0.5555555555555556,
             "#d8576b"
            ],
            [
             0.6666666666666666,
             "#ed7953"
            ],
            [
             0.7777777777777778,
             "#fb9f3a"
            ],
            [
             0.8888888888888888,
             "#fdca26"
            ],
            [
             1,
             "#f0f921"
            ]
           ],
           "sequentialminus": [
            [
             0,
             "#0d0887"
            ],
            [
             0.1111111111111111,
             "#46039f"
            ],
            [
             0.2222222222222222,
             "#7201a8"
            ],
            [
             0.3333333333333333,
             "#9c179e"
            ],
            [
             0.4444444444444444,
             "#bd3786"
            ],
            [
             0.5555555555555556,
             "#d8576b"
            ],
            [
             0.6666666666666666,
             "#ed7953"
            ],
            [
             0.7777777777777778,
             "#fb9f3a"
            ],
            [
             0.8888888888888888,
             "#fdca26"
            ],
            [
             1,
             "#f0f921"
            ]
           ]
          },
          "colorway": [
           "#636efa",
           "#EF553B",
           "#00cc96",
           "#ab63fa",
           "#FFA15A",
           "#19d3f3",
           "#FF6692",
           "#B6E880",
           "#FF97FF",
           "#FECB52"
          ],
          "font": {
           "color": "#2a3f5f"
          },
          "geo": {
           "bgcolor": "white",
           "lakecolor": "white",
           "landcolor": "#E5ECF6",
           "showlakes": true,
           "showland": true,
           "subunitcolor": "white"
          },
          "hoverlabel": {
           "align": "left"
          },
          "hovermode": "closest",
          "mapbox": {
           "style": "light"
          },
          "paper_bgcolor": "white",
          "plot_bgcolor": "#E5ECF6",
          "polar": {
           "angularaxis": {
            "gridcolor": "white",
            "linecolor": "white",
            "ticks": ""
           },
           "bgcolor": "#E5ECF6",
           "radialaxis": {
            "gridcolor": "white",
            "linecolor": "white",
            "ticks": ""
           }
          },
          "scene": {
           "xaxis": {
            "backgroundcolor": "#E5ECF6",
            "gridcolor": "white",
            "gridwidth": 2,
            "linecolor": "white",
            "showbackground": true,
            "ticks": "",
            "zerolinecolor": "white"
           },
           "yaxis": {
            "backgroundcolor": "#E5ECF6",
            "gridcolor": "white",
            "gridwidth": 2,
            "linecolor": "white",
            "showbackground": true,
            "ticks": "",
            "zerolinecolor": "white"
           },
           "zaxis": {
            "backgroundcolor": "#E5ECF6",
            "gridcolor": "white",
            "gridwidth": 2,
            "linecolor": "white",
            "showbackground": true,
            "ticks": "",
            "zerolinecolor": "white"
           }
          },
          "shapedefaults": {
           "line": {
            "color": "#2a3f5f"
           }
          },
          "ternary": {
           "aaxis": {
            "gridcolor": "white",
            "linecolor": "white",
            "ticks": ""
           },
           "baxis": {
            "gridcolor": "white",
            "linecolor": "white",
            "ticks": ""
           },
           "bgcolor": "#E5ECF6",
           "caxis": {
            "gridcolor": "white",
            "linecolor": "white",
            "ticks": ""
           }
          },
          "title": {
           "x": 0.05
          },
          "xaxis": {
           "automargin": true,
           "gridcolor": "white",
           "linecolor": "white",
           "ticks": "",
           "title": {
            "standoff": 15
           },
           "zerolinecolor": "white",
           "zerolinewidth": 2
          },
          "yaxis": {
           "automargin": true,
           "gridcolor": "white",
           "linecolor": "white",
           "ticks": "",
           "title": {
            "standoff": 15
           },
           "zerolinecolor": "white",
           "zerolinewidth": 2
          }
         }
        },
        "title": {
         "font": {
          "color": "#4D5663"
         }
        },
        "xaxis": {
         "anchor": "y",
         "domain": [
          0,
          0.2125
         ],
         "gridcolor": "#E1E5ED",
         "showgrid": false,
         "tickfont": {
          "color": "#4D5663"
         },
         "title": {
          "font": {
           "color": "#4D5663"
          },
          "text": ""
         },
         "zerolinecolor": "#E1E5ED"
        },
        "xaxis10": {
         "anchor": "y10",
         "domain": [
          0.2625,
          0.475
         ],
         "gridcolor": "#E1E5ED",
         "showgrid": false,
         "tickfont": {
          "color": "#4D5663"
         },
         "title": {
          "font": {
           "color": "#4D5663"
          },
          "text": ""
         },
         "zerolinecolor": "#E1E5ED"
        },
        "xaxis11": {
         "anchor": "y11",
         "domain": [
          0.525,
          0.7375
         ],
         "gridcolor": "#E1E5ED",
         "showgrid": false,
         "tickfont": {
          "color": "#4D5663"
         },
         "title": {
          "font": {
           "color": "#4D5663"
          },
          "text": ""
         },
         "zerolinecolor": "#E1E5ED"
        },
        "xaxis12": {
         "anchor": "y12",
         "domain": [
          0.7875,
          1
         ],
         "gridcolor": "#E1E5ED",
         "showgrid": false,
         "tickfont": {
          "color": "#4D5663"
         },
         "title": {
          "font": {
           "color": "#4D5663"
          },
          "text": ""
         },
         "zerolinecolor": "#E1E5ED"
        },
        "xaxis13": {
         "anchor": "y13",
         "domain": [
          0,
          0.2125
         ],
         "gridcolor": "#E1E5ED",
         "showgrid": false,
         "tickfont": {
          "color": "#4D5663"
         },
         "title": {
          "font": {
           "color": "#4D5663"
          },
          "text": ""
         },
         "zerolinecolor": "#E1E5ED"
        },
        "xaxis14": {
         "anchor": "y14",
         "domain": [
          0.2625,
          0.475
         ],
         "gridcolor": "#E1E5ED",
         "showgrid": false,
         "tickfont": {
          "color": "#4D5663"
         },
         "title": {
          "font": {
           "color": "#4D5663"
          },
          "text": ""
         },
         "zerolinecolor": "#E1E5ED"
        },
        "xaxis15": {
         "anchor": "y15",
         "domain": [
          0.525,
          0.7375
         ],
         "gridcolor": "#E1E5ED",
         "showgrid": false,
         "tickfont": {
          "color": "#4D5663"
         },
         "title": {
          "font": {
           "color": "#4D5663"
          },
          "text": ""
         },
         "zerolinecolor": "#E1E5ED"
        },
        "xaxis16": {
         "anchor": "y16",
         "domain": [
          0.7875,
          1
         ],
         "gridcolor": "#E1E5ED",
         "showgrid": false,
         "tickfont": {
          "color": "#4D5663"
         },
         "title": {
          "font": {
           "color": "#4D5663"
          },
          "text": ""
         },
         "zerolinecolor": "#E1E5ED"
        },
        "xaxis2": {
         "anchor": "y2",
         "domain": [
          0.2625,
          0.475
         ],
         "gridcolor": "#E1E5ED",
         "showgrid": false,
         "tickfont": {
          "color": "#4D5663"
         },
         "title": {
          "font": {
           "color": "#4D5663"
          },
          "text": ""
         },
         "zerolinecolor": "#E1E5ED"
        },
        "xaxis3": {
         "anchor": "y3",
         "domain": [
          0.525,
          0.7375
         ],
         "gridcolor": "#E1E5ED",
         "showgrid": false,
         "tickfont": {
          "color": "#4D5663"
         },
         "title": {
          "font": {
           "color": "#4D5663"
          },
          "text": ""
         },
         "zerolinecolor": "#E1E5ED"
        },
        "xaxis4": {
         "anchor": "y4",
         "domain": [
          0.7875,
          1
         ],
         "gridcolor": "#E1E5ED",
         "showgrid": false,
         "tickfont": {
          "color": "#4D5663"
         },
         "title": {
          "font": {
           "color": "#4D5663"
          },
          "text": ""
         },
         "zerolinecolor": "#E1E5ED"
        },
        "xaxis5": {
         "anchor": "y5",
         "domain": [
          0,
          0.2125
         ],
         "gridcolor": "#E1E5ED",
         "showgrid": false,
         "tickfont": {
          "color": "#4D5663"
         },
         "title": {
          "font": {
           "color": "#4D5663"
          },
          "text": ""
         },
         "zerolinecolor": "#E1E5ED"
        },
        "xaxis6": {
         "anchor": "y6",
         "domain": [
          0.2625,
          0.475
         ],
         "gridcolor": "#E1E5ED",
         "showgrid": false,
         "tickfont": {
          "color": "#4D5663"
         },
         "title": {
          "font": {
           "color": "#4D5663"
          },
          "text": ""
         },
         "zerolinecolor": "#E1E5ED"
        },
        "xaxis7": {
         "anchor": "y7",
         "domain": [
          0.525,
          0.7375
         ],
         "gridcolor": "#E1E5ED",
         "showgrid": false,
         "tickfont": {
          "color": "#4D5663"
         },
         "title": {
          "font": {
           "color": "#4D5663"
          },
          "text": ""
         },
         "zerolinecolor": "#E1E5ED"
        },
        "xaxis8": {
         "anchor": "y8",
         "domain": [
          0.7875,
          1
         ],
         "gridcolor": "#E1E5ED",
         "showgrid": false,
         "tickfont": {
          "color": "#4D5663"
         },
         "title": {
          "font": {
           "color": "#4D5663"
          },
          "text": ""
         },
         "zerolinecolor": "#E1E5ED"
        },
        "xaxis9": {
         "anchor": "y9",
         "domain": [
          0,
          0.2125
         ],
         "gridcolor": "#E1E5ED",
         "showgrid": false,
         "tickfont": {
          "color": "#4D5663"
         },
         "title": {
          "font": {
           "color": "#4D5663"
          },
          "text": ""
         },
         "zerolinecolor": "#E1E5ED"
        },
        "yaxis": {
         "anchor": "x",
         "domain": [
          0.8025,
          1
         ],
         "gridcolor": "#E1E5ED",
         "showgrid": false,
         "tickfont": {
          "color": "#4D5663"
         },
         "title": {
          "font": {
           "color": "#4D5663"
          },
          "text": ""
         },
         "zerolinecolor": "#E1E5ED"
        },
        "yaxis10": {
         "anchor": "x10",
         "domain": [
          0.2675,
          0.465
         ],
         "gridcolor": "#E1E5ED",
         "showgrid": false,
         "tickfont": {
          "color": "#4D5663"
         },
         "title": {
          "font": {
           "color": "#4D5663"
          },
          "text": ""
         },
         "zerolinecolor": "#E1E5ED"
        },
        "yaxis11": {
         "anchor": "x11",
         "domain": [
          0.2675,
          0.465
         ],
         "gridcolor": "#E1E5ED",
         "showgrid": false,
         "tickfont": {
          "color": "#4D5663"
         },
         "title": {
          "font": {
           "color": "#4D5663"
          },
          "text": ""
         },
         "zerolinecolor": "#E1E5ED"
        },
        "yaxis12": {
         "anchor": "x12",
         "domain": [
          0.2675,
          0.465
         ],
         "gridcolor": "#E1E5ED",
         "showgrid": false,
         "tickfont": {
          "color": "#4D5663"
         },
         "title": {
          "font": {
           "color": "#4D5663"
          },
          "text": ""
         },
         "zerolinecolor": "#E1E5ED"
        },
        "yaxis13": {
         "anchor": "x13",
         "domain": [
          0,
          0.1975
         ],
         "gridcolor": "#E1E5ED",
         "showgrid": false,
         "tickfont": {
          "color": "#4D5663"
         },
         "title": {
          "font": {
           "color": "#4D5663"
          },
          "text": ""
         },
         "zerolinecolor": "#E1E5ED"
        },
        "yaxis14": {
         "anchor": "x14",
         "domain": [
          0,
          0.1975
         ],
         "gridcolor": "#E1E5ED",
         "showgrid": false,
         "tickfont": {
          "color": "#4D5663"
         },
         "title": {
          "font": {
           "color": "#4D5663"
          },
          "text": ""
         },
         "zerolinecolor": "#E1E5ED"
        },
        "yaxis15": {
         "anchor": "x15",
         "domain": [
          0,
          0.1975
         ],
         "gridcolor": "#E1E5ED",
         "showgrid": false,
         "tickfont": {
          "color": "#4D5663"
         },
         "title": {
          "font": {
           "color": "#4D5663"
          },
          "text": ""
         },
         "zerolinecolor": "#E1E5ED"
        },
        "yaxis16": {
         "anchor": "x16",
         "domain": [
          0,
          0.1975
         ],
         "gridcolor": "#E1E5ED",
         "showgrid": false,
         "tickfont": {
          "color": "#4D5663"
         },
         "title": {
          "font": {
           "color": "#4D5663"
          },
          "text": ""
         },
         "zerolinecolor": "#E1E5ED"
        },
        "yaxis2": {
         "anchor": "x2",
         "domain": [
          0.8025,
          1
         ],
         "gridcolor": "#E1E5ED",
         "showgrid": false,
         "tickfont": {
          "color": "#4D5663"
         },
         "title": {
          "font": {
           "color": "#4D5663"
          },
          "text": ""
         },
         "zerolinecolor": "#E1E5ED"
        },
        "yaxis3": {
         "anchor": "x3",
         "domain": [
          0.8025,
          1
         ],
         "gridcolor": "#E1E5ED",
         "showgrid": false,
         "tickfont": {
          "color": "#4D5663"
         },
         "title": {
          "font": {
           "color": "#4D5663"
          },
          "text": ""
         },
         "zerolinecolor": "#E1E5ED"
        },
        "yaxis4": {
         "anchor": "x4",
         "domain": [
          0.8025,
          1
         ],
         "gridcolor": "#E1E5ED",
         "showgrid": false,
         "tickfont": {
          "color": "#4D5663"
         },
         "title": {
          "font": {
           "color": "#4D5663"
          },
          "text": ""
         },
         "zerolinecolor": "#E1E5ED"
        },
        "yaxis5": {
         "anchor": "x5",
         "domain": [
          0.535,
          0.7325
         ],
         "gridcolor": "#E1E5ED",
         "showgrid": false,
         "tickfont": {
          "color": "#4D5663"
         },
         "title": {
          "font": {
           "color": "#4D5663"
          },
          "text": ""
         },
         "zerolinecolor": "#E1E5ED"
        },
        "yaxis6": {
         "anchor": "x6",
         "domain": [
          0.535,
          0.7325
         ],
         "gridcolor": "#E1E5ED",
         "showgrid": false,
         "tickfont": {
          "color": "#4D5663"
         },
         "title": {
          "font": {
           "color": "#4D5663"
          },
          "text": ""
         },
         "zerolinecolor": "#E1E5ED"
        },
        "yaxis7": {
         "anchor": "x7",
         "domain": [
          0.535,
          0.7325
         ],
         "gridcolor": "#E1E5ED",
         "showgrid": false,
         "tickfont": {
          "color": "#4D5663"
         },
         "title": {
          "font": {
           "color": "#4D5663"
          },
          "text": ""
         },
         "zerolinecolor": "#E1E5ED"
        },
        "yaxis8": {
         "anchor": "x8",
         "domain": [
          0.535,
          0.7325
         ],
         "gridcolor": "#E1E5ED",
         "showgrid": false,
         "tickfont": {
          "color": "#4D5663"
         },
         "title": {
          "font": {
           "color": "#4D5663"
          },
          "text": ""
         },
         "zerolinecolor": "#E1E5ED"
        },
        "yaxis9": {
         "anchor": "x9",
         "domain": [
          0.2675,
          0.465
         ],
         "gridcolor": "#E1E5ED",
         "showgrid": false,
         "tickfont": {
          "color": "#4D5663"
         },
         "title": {
          "font": {
           "color": "#4D5663"
          },
          "text": ""
         },
         "zerolinecolor": "#E1E5ED"
        }
       }
      },
      "text/html": [
       "<div>                            <div id=\"f86c2f9b-7c7c-4ce2-8b89-ae33446b4a6d\" class=\"plotly-graph-div\" style=\"height:525px; width:100%;\"></div>            <script type=\"text/javascript\">                require([\"plotly\"], function(Plotly) {                    window.PLOTLYENV=window.PLOTLYENV || {};\n",
       "                    window.PLOTLYENV.BASE_URL='https://plot.ly';                                    if (document.getElementById(\"f86c2f9b-7c7c-4ce2-8b89-ae33446b4a6d\")) {                    Plotly.newPlot(                        \"f86c2f9b-7c7c-4ce2-8b89-ae33446b4a6d\",                        [{\"histfunc\":\"count\",\"histnorm\":\"\",\"marker\":{\"color\":\"rgba(255, 153, 51, 1.0)\",\"line\":{\"color\":\"#4D5663\",\"width\":1.3}},\"name\":\"A\",\"nbinsx\":10,\"opacity\":0.8,\"orientation\":\"v\",\"x\":[-0.13175400242810156,1.4398736154014231,0.3084936992738871,0.5076264204380968,-0.7625284986653112,-1.0062511787786008,0.11469784115897165,1.9310696770869487,1.0944035694729664,0.6372421397859684,0.3855089464458704,-0.8121273360861435,-0.3234342665261247,2.362812817762973,-0.9020043009425683,1.5125228590996407,1.6738212663422762,-0.9901310738157569,1.084961991228402,-0.8959408642253713,2.1316610208320763,-1.5130697817897543,-0.9054073025929361,-1.2363645490471573,-0.15194927661083432,-0.2377615536333579,-0.5007722283776846,-0.7023143914132617,-2.1165840455647387,0.725447620478989,0.21628655747987344,2.215565705679116,-1.6546694084066793,0.43522055750008765,-0.7290404129663632,-2.072652678094007,-1.5357339134344634,0.6597408315792757,0.7471678649316231,1.0183098975792102,-0.0475017122305315,0.6226526850571343,0.11867141066397108,0.6785159601012161,-2.2702452299697886,1.1238379665770963,0.6230048619585441,0.8719729055231573,1.4326270000120012,-0.24688836716890633,0.8117736190877305,1.61223643973982,-1.4932034080063534,0.8037053962798918,1.7130283780118272,-0.6700078392530018,1.5568132179108136,0.40626162740550076,-2.256267543737473,1.092041777618682,2.4343498861619737,0.11904330167051473,1.301154598107079,1.1121166128876387,-0.09443622486311361,1.5039962172550305,-1.5611350973183005,2.0907823004658885,-1.920492399044538,-0.32259609854818216,-0.28860611837376987,-3.9006781071827716,-1.448796535345966,-0.2317550134453871,0.6794020374305854,-1.9386900580032422,-0.5411660242004356,0.20184037671840202,0.2194539547450508,-0.26809272600799905,0.47807622579924847,0.28813930760653533,-1.2171719295118983,1.6613721485393889,-1.129899743938994,1.231837149691319,0.906027903471736,0.41874076383417547,1.140639223532903,-0.27309072874514134,-1.5997041234561773,2.0818397320483397,-0.507997666275523,-0.6412893664962762,0.1353104566092275,0.7058193926130889,-0.8816664183269983,0.31121281370841103,-0.39274099041646093,-0.5095365211072483],\"xaxis\":\"x\",\"yaxis\":\"y\",\"type\":\"histogram\"},{\"line\":{\"color\":\"rgba(128, 128, 128, 1.0)\",\"dash\":\"solid\",\"shape\":\"linear\",\"width\":1.3},\"marker\":{\"size\":2,\"symbol\":\"circle\"},\"mode\":\"markers\",\"name\":\"A\",\"text\":\"\",\"x\":[0.7668247603098971,0.25608341454276456,-0.418007492438254,1.6479000639513037,-1.085957707598228,-0.6471993669751592,-1.1476836051943966,0.3647731658486326,0.32719258878439345,0.36629851821546877,-0.16000570641145667,1.5669653312034988,-1.3354132322743333,-0.23044821694920747,-0.060267767095280075,0.624298316824953,-0.7497976648916586,0.12707974086987975,-0.7140406345566194,1.3183538535134744,1.9492171783364947,-0.07227429606646343,0.7104660955504053,-0.3823620944176171,-0.0016846148843457597,0.8531041063996373,0.13650535971413694,-1.9768805035437342,0.8017552890082933,0.24675978309861793,0.40168364800647616,0.5419398982661194,-2.9408752875684945,-0.645007270455306,1.6499623708090134,-1.0680997060013975,0.31218567853158047,-1.1073355893203949,0.6627605959317424,0.48103810835817923,-0.02190442811798528,-0.05170363686797047,-0.3336029037164444,0.0210670145406781,-1.08060773901822,0.26716901124877135,0.8559623719295363,-0.3552226520086245,0.03289143543064628,0.043948774668583844,-0.8854118949675668,1.2392211365577033,0.3973864688908118,0.3936559984256999,0.5706188669456544,0.5938041094382246,0.05666814714582934,-0.5027644440474898,-0.4835465184492971,-0.3684119863666352,-0.03825882718531708,-0.13649727148657367,0.49463947836597666,-2.0938864041717165,-0.0043845897516948855,1.1848175021850196,-0.689421076516863,0.24697274210920545,2.0176554176642783,-0.052240509921352034,-1.1559621489839282,-0.4579065362451067,-0.02528773996479936,-1.9016111132627143,1.4567845672157844,1.3545548283768565,1.466930032164649,1.1190235946806586,-1.396688273698315,1.0578914384783338,1.4824964112076136,1.2869025951738233,0.2497579974130677,2.0314669247857053,0.722928865710818,0.8339059281666981,-1.1227398591384263,-1.2585257402688401,0.7647242059875361,-0.9639506274251255,1.1430521145223795,1.9037174534810613,0.9649629383966886,0.6330162346487069,0.3676138133031477,1.0978027541671664,-0.5436639063060611,0.41353875396477,-0.1949677432718928,0.5180959646238293],\"xaxis\":\"x2\",\"y\":[-0.13175400242810156,1.4398736154014231,0.3084936992738871,0.5076264204380968,-0.7625284986653112,-1.0062511787786008,0.11469784115897165,1.9310696770869487,1.0944035694729664,0.6372421397859684,0.3855089464458704,-0.8121273360861435,-0.3234342665261247,2.362812817762973,-0.9020043009425683,1.5125228590996407,1.6738212663422762,-0.9901310738157569,1.084961991228402,-0.8959408642253713,2.1316610208320763,-1.5130697817897543,-0.9054073025929361,-1.2363645490471573,-0.15194927661083432,-0.2377615536333579,-0.5007722283776846,-0.7023143914132617,-2.1165840455647387,0.725447620478989,0.21628655747987344,2.215565705679116,-1.6546694084066793,0.43522055750008765,-0.7290404129663632,-2.072652678094007,-1.5357339134344634,0.6597408315792757,0.7471678649316231,1.0183098975792102,-0.0475017122305315,0.6226526850571343,0.11867141066397108,0.6785159601012161,-2.2702452299697886,1.1238379665770963,0.6230048619585441,0.8719729055231573,1.4326270000120012,-0.24688836716890633,0.8117736190877305,1.61223643973982,-1.4932034080063534,0.8037053962798918,1.7130283780118272,-0.6700078392530018,1.5568132179108136,0.40626162740550076,-2.256267543737473,1.092041777618682,2.4343498861619737,0.11904330167051473,1.301154598107079,1.1121166128876387,-0.09443622486311361,1.5039962172550305,-1.5611350973183005,2.0907823004658885,-1.920492399044538,-0.32259609854818216,-0.28860611837376987,-3.9006781071827716,-1.448796535345966,-0.2317550134453871,0.6794020374305854,-1.9386900580032422,-0.5411660242004356,0.20184037671840202,0.2194539547450508,-0.26809272600799905,0.47807622579924847,0.28813930760653533,-1.2171719295118983,1.6613721485393889,-1.129899743938994,1.231837149691319,0.906027903471736,0.41874076383417547,1.140639223532903,-0.27309072874514134,-1.5997041234561773,2.0818397320483397,-0.507997666275523,-0.6412893664962762,0.1353104566092275,0.7058193926130889,-0.8816664183269983,0.31121281370841103,-0.39274099041646093,-0.5095365211072483],\"yaxis\":\"y2\",\"type\":\"scatter\"},{\"line\":{\"color\":\"rgba(128, 128, 128, 1.0)\",\"dash\":\"solid\",\"shape\":\"linear\",\"width\":1.3},\"marker\":{\"size\":2,\"symbol\":\"circle\"},\"mode\":\"markers\",\"name\":\"A\",\"text\":\"\",\"x\":[0.5902480411751441,0.3615427174565572,0.5584943724667715,-0.539479777663393,0.2706531152422652,-0.833542393308271,0.7286392974045819,-1.4945965320174728,-0.6625452265318137,-0.37846947865853864,1.2417825184285645,0.0007355735805051069,-0.4356728993259713,0.16317169569496986,-0.589193012708074,0.725373350799308,-0.35669892195720776,1.5197371392549253,-1.2424845208638233,-1.2381196347910772,-0.15383270820264877,-0.4426966470643087,-0.9977236313488691,0.9398827492619666,-0.5810009526837101,-0.24516646037302056,-0.5535164195308102,1.207506512629932,-1.2011830990374137,0.26264513630377984,-0.19511138677375947,-1.3163400417550706,0.4159973012391208,-0.08681382717263655,0.13341288669394546,-0.7495492847089976,1.0504017656564997,1.6988244486331026,0.794724940520421,-0.3771144204427599,-2.348372383726653,-1.4975991259823258,2.4177522410620513,-2.9864241534997626,-0.7716664732973197,1.6248953564900925,-0.30273538511562104,0.05309533106292075,0.848914373865162,-0.09087873869300707,1.117134063358559,1.4145737167773802,-0.3257264733195186,1.1271303673091357,-1.6145868739333393,-0.5062649868778086,1.4110095073391393,-0.6981925286743612,2.0298164415529087,1.2489456563930352,0.09336902497273081,-0.0852548467503772,-0.16840725945798757,-0.4537048669517928,-1.9411085402240251,1.1161061590598644,0.6580780796881278,0.7335014459507081,-0.09524930032956151,-0.09197492813698276,-1.220041781135381,1.8397117933427165,-0.668336993577057,-1.1200291268441804,-1.0459815223370534,-0.6351087814071277,0.04122285884189476,-1.2382872897836263,0.06349277947396594,0.3595997463624142,0.1273845675493883,-1.332046813767796,0.8013118104095253,0.05213674973624697,-0.7349172815712046,-0.622387034426038,-0.22300120405726176,0.29386608490373634,0.47524630185090155,1.2601777434464643,-2.5129027635317644,0.9907234231097561,1.2814600020807558,-0.09980158202068289,-0.33958170568064705,0.42252299385777164,-0.270847453454299,-0.721859246821871,1.2620005141853041,0.052186980272228414],\"xaxis\":\"x3\",\"y\":[-0.13175400242810156,1.4398736154014231,0.3084936992738871,0.5076264204380968,-0.7625284986653112,-1.0062511787786008,0.11469784115897165,1.9310696770869487,1.0944035694729664,0.6372421397859684,0.3855089464458704,-0.8121273360861435,-0.3234342665261247,2.362812817762973,-0.9020043009425683,1.5125228590996407,1.6738212663422762,-0.9901310738157569,1.084961991228402,-0.8959408642253713,2.1316610208320763,-1.5130697817897543,-0.9054073025929361,-1.2363645490471573,-0.15194927661083432,-0.2377615536333579,-0.5007722283776846,-0.7023143914132617,-2.1165840455647387,0.725447620478989,0.21628655747987344,2.215565705679116,-1.6546694084066793,0.43522055750008765,-0.7290404129663632,-2.072652678094007,-1.5357339134344634,0.6597408315792757,0.7471678649316231,1.0183098975792102,-0.0475017122305315,0.6226526850571343,0.11867141066397108,0.6785159601012161,-2.2702452299697886,1.1238379665770963,0.6230048619585441,0.8719729055231573,1.4326270000120012,-0.24688836716890633,0.8117736190877305,1.61223643973982,-1.4932034080063534,0.8037053962798918,1.7130283780118272,-0.6700078392530018,1.5568132179108136,0.40626162740550076,-2.256267543737473,1.092041777618682,2.4343498861619737,0.11904330167051473,1.301154598107079,1.1121166128876387,-0.09443622486311361,1.5039962172550305,-1.5611350973183005,2.0907823004658885,-1.920492399044538,-0.32259609854818216,-0.28860611837376987,-3.9006781071827716,-1.448796535345966,-0.2317550134453871,0.6794020374305854,-1.9386900580032422,-0.5411660242004356,0.20184037671840202,0.2194539547450508,-0.26809272600799905,0.47807622579924847,0.28813930760653533,-1.2171719295118983,1.6613721485393889,-1.129899743938994,1.231837149691319,0.906027903471736,0.41874076383417547,1.140639223532903,-0.27309072874514134,-1.5997041234561773,2.0818397320483397,-0.507997666275523,-0.6412893664962762,0.1353104566092275,0.7058193926130889,-0.8816664183269983,0.31121281370841103,-0.39274099041646093,-0.5095365211072483],\"yaxis\":\"y3\",\"type\":\"scatter\"},{\"line\":{\"color\":\"rgba(128, 128, 128, 1.0)\",\"dash\":\"solid\",\"shape\":\"linear\",\"width\":1.3},\"marker\":{\"size\":2,\"symbol\":\"circle\"},\"mode\":\"markers\",\"name\":\"A\",\"text\":\"\",\"x\":[-1.409576167266115,0.20537675410089584,-0.1640750525839635,-0.23668777048924583,-1.2814955062673854,-0.25038975031004135,-0.9721171081271407,-0.5134102339463291,0.7015914927507502,-1.1153426296556703,-0.841261678087003,-0.5186143193038489,-0.9243081595835546,-1.178022577850604,0.3286382294185649,-0.6687628624602802,1.0848961556853847,-0.3510611894926132,-1.8120691375783937,0.7103016536262061,-1.0912075242903299,-0.9777318692911919,0.9741915163209256,0.022628428259688676,0.3783837663626986,1.7529871217204438,1.102471940840788,0.2478317744141381,0.43219161331565026,1.1989223822176431,0.36465597947223916,-1.448094283934066,-0.7165556586487222,1.148926336575849,1.616831386935041,-0.20280041996059836,-1.5414116004415601,-0.32992438972277915,0.2947728801656616,0.5634344560871831,1.9147873011206857,0.5624785148497061,-1.0666306909038166,-0.11275740825138152,0.18733415585268717,0.12208231884626186,-2.5351011735132345,0.6706251184359282,-0.08992007702202028,-0.49387056722383493,0.1971368396571273,-0.7979875619061959,-0.6218610415476219,0.6627348876828029,0.07060017315945649,-1.7869375067051843,-0.11536335457879134,0.42599041154108436,-0.6690378914684313,-0.9469968869705551,-0.5428610931146891,-1.925027057392907,2.11162707786153,0.7465241397980572,-0.454011078233244,-1.5521418623086016,0.49076533427888086,-0.6006208361345682,0.8035133451291006,1.751469319085972,1.0261382711001192,-0.8019337021556235,-0.5204916419838601,0.19787037376093192,-0.615031884271281,-0.538998914172199,0.4628567484897606,-0.3468429223431634,0.32386689735915164,1.674068635984049,1.362411852756756,1.0476063126059973,-0.3942648644408054,2.527007256063724,-0.6330161916166508,-0.45065669348216547,0.09925901312434403,0.48561705135713645,-0.5325049567923323,0.9000741962014779,0.7721703190603556,-3.1685775380496897,-0.09914542523473069,1.1996273408126372,-0.7042951213219687,-1.2711931343065397,1.1959407827681903,-1.1966649149288007,0.6179182147753349,-1.5881976982433168],\"xaxis\":\"x4\",\"y\":[-0.13175400242810156,1.4398736154014231,0.3084936992738871,0.5076264204380968,-0.7625284986653112,-1.0062511787786008,0.11469784115897165,1.9310696770869487,1.0944035694729664,0.6372421397859684,0.3855089464458704,-0.8121273360861435,-0.3234342665261247,2.362812817762973,-0.9020043009425683,1.5125228590996407,1.6738212663422762,-0.9901310738157569,1.084961991228402,-0.8959408642253713,2.1316610208320763,-1.5130697817897543,-0.9054073025929361,-1.2363645490471573,-0.15194927661083432,-0.2377615536333579,-0.5007722283776846,-0.7023143914132617,-2.1165840455647387,0.725447620478989,0.21628655747987344,2.215565705679116,-1.6546694084066793,0.43522055750008765,-0.7290404129663632,-2.072652678094007,-1.5357339134344634,0.6597408315792757,0.7471678649316231,1.0183098975792102,-0.0475017122305315,0.6226526850571343,0.11867141066397108,0.6785159601012161,-2.2702452299697886,1.1238379665770963,0.6230048619585441,0.8719729055231573,1.4326270000120012,-0.24688836716890633,0.8117736190877305,1.61223643973982,-1.4932034080063534,0.8037053962798918,1.7130283780118272,-0.6700078392530018,1.5568132179108136,0.40626162740550076,-2.256267543737473,1.092041777618682,2.4343498861619737,0.11904330167051473,1.301154598107079,1.1121166128876387,-0.09443622486311361,1.5039962172550305,-1.5611350973183005,2.0907823004658885,-1.920492399044538,-0.32259609854818216,-0.28860611837376987,-3.9006781071827716,-1.448796535345966,-0.2317550134453871,0.6794020374305854,-1.9386900580032422,-0.5411660242004356,0.20184037671840202,0.2194539547450508,-0.26809272600799905,0.47807622579924847,0.28813930760653533,-1.2171719295118983,1.6613721485393889,-1.129899743938994,1.231837149691319,0.906027903471736,0.41874076383417547,1.140639223532903,-0.27309072874514134,-1.5997041234561773,2.0818397320483397,-0.507997666275523,-0.6412893664962762,0.1353104566092275,0.7058193926130889,-0.8816664183269983,0.31121281370841103,-0.39274099041646093,-0.5095365211072483],\"yaxis\":\"y4\",\"type\":\"scatter\"},{\"line\":{\"color\":\"rgba(128, 128, 128, 1.0)\",\"dash\":\"solid\",\"shape\":\"linear\",\"width\":1.3},\"marker\":{\"size\":2,\"symbol\":\"circle\"},\"mode\":\"markers\",\"name\":\"B\",\"text\":\"\",\"x\":[-0.13175400242810156,1.4398736154014231,0.3084936992738871,0.5076264204380968,-0.7625284986653112,-1.0062511787786008,0.11469784115897165,1.9310696770869487,1.0944035694729664,0.6372421397859684,0.3855089464458704,-0.8121273360861435,-0.3234342665261247,2.362812817762973,-0.9020043009425683,1.5125228590996407,1.6738212663422762,-0.9901310738157569,1.084961991228402,-0.8959408642253713,2.1316610208320763,-1.5130697817897543,-0.9054073025929361,-1.2363645490471573,-0.15194927661083432,-0.2377615536333579,-0.5007722283776846,-0.7023143914132617,-2.1165840455647387,0.725447620478989,0.21628655747987344,2.215565705679116,-1.6546694084066793,0.43522055750008765,-0.7290404129663632,-2.072652678094007,-1.5357339134344634,0.6597408315792757,0.7471678649316231,1.0183098975792102,-0.0475017122305315,0.6226526850571343,0.11867141066397108,0.6785159601012161,-2.2702452299697886,1.1238379665770963,0.6230048619585441,0.8719729055231573,1.4326270000120012,-0.24688836716890633,0.8117736190877305,1.61223643973982,-1.4932034080063534,0.8037053962798918,1.7130283780118272,-0.6700078392530018,1.5568132179108136,0.40626162740550076,-2.256267543737473,1.092041777618682,2.4343498861619737,0.11904330167051473,1.301154598107079,1.1121166128876387,-0.09443622486311361,1.5039962172550305,-1.5611350973183005,2.0907823004658885,-1.920492399044538,-0.32259609854818216,-0.28860611837376987,-3.9006781071827716,-1.448796535345966,-0.2317550134453871,0.6794020374305854,-1.9386900580032422,-0.5411660242004356,0.20184037671840202,0.2194539547450508,-0.26809272600799905,0.47807622579924847,0.28813930760653533,-1.2171719295118983,1.6613721485393889,-1.129899743938994,1.231837149691319,0.906027903471736,0.41874076383417547,1.140639223532903,-0.27309072874514134,-1.5997041234561773,2.0818397320483397,-0.507997666275523,-0.6412893664962762,0.1353104566092275,0.7058193926130889,-0.8816664183269983,0.31121281370841103,-0.39274099041646093,-0.5095365211072483],\"xaxis\":\"x5\",\"y\":[0.7668247603098971,0.25608341454276456,-0.418007492438254,1.6479000639513037,-1.085957707598228,-0.6471993669751592,-1.1476836051943966,0.3647731658486326,0.32719258878439345,0.36629851821546877,-0.16000570641145667,1.5669653312034988,-1.3354132322743333,-0.23044821694920747,-0.060267767095280075,0.624298316824953,-0.7497976648916586,0.12707974086987975,-0.7140406345566194,1.3183538535134744,1.9492171783364947,-0.07227429606646343,0.7104660955504053,-0.3823620944176171,-0.0016846148843457597,0.8531041063996373,0.13650535971413694,-1.9768805035437342,0.8017552890082933,0.24675978309861793,0.40168364800647616,0.5419398982661194,-2.9408752875684945,-0.645007270455306,1.6499623708090134,-1.0680997060013975,0.31218567853158047,-1.1073355893203949,0.6627605959317424,0.48103810835817923,-0.02190442811798528,-0.05170363686797047,-0.3336029037164444,0.0210670145406781,-1.08060773901822,0.26716901124877135,0.8559623719295363,-0.3552226520086245,0.03289143543064628,0.043948774668583844,-0.8854118949675668,1.2392211365577033,0.3973864688908118,0.3936559984256999,0.5706188669456544,0.5938041094382246,0.05666814714582934,-0.5027644440474898,-0.4835465184492971,-0.3684119863666352,-0.03825882718531708,-0.13649727148657367,0.49463947836597666,-2.0938864041717165,-0.0043845897516948855,1.1848175021850196,-0.689421076516863,0.24697274210920545,2.0176554176642783,-0.052240509921352034,-1.1559621489839282,-0.4579065362451067,-0.02528773996479936,-1.9016111132627143,1.4567845672157844,1.3545548283768565,1.466930032164649,1.1190235946806586,-1.396688273698315,1.0578914384783338,1.4824964112076136,1.2869025951738233,0.2497579974130677,2.0314669247857053,0.722928865710818,0.8339059281666981,-1.1227398591384263,-1.2585257402688401,0.7647242059875361,-0.9639506274251255,1.1430521145223795,1.9037174534810613,0.9649629383966886,0.6330162346487069,0.3676138133031477,1.0978027541671664,-0.5436639063060611,0.41353875396477,-0.1949677432718928,0.5180959646238293],\"yaxis\":\"y5\",\"type\":\"scatter\"},{\"histfunc\":\"count\",\"histnorm\":\"\",\"marker\":{\"color\":\"rgba(55, 128, 191, 1.0)\",\"line\":{\"color\":\"#4D5663\",\"width\":1.3}},\"name\":\"B\",\"nbinsx\":10,\"opacity\":0.8,\"orientation\":\"v\",\"x\":[0.7668247603098971,0.25608341454276456,-0.418007492438254,1.6479000639513037,-1.085957707598228,-0.6471993669751592,-1.1476836051943966,0.3647731658486326,0.32719258878439345,0.36629851821546877,-0.16000570641145667,1.5669653312034988,-1.3354132322743333,-0.23044821694920747,-0.060267767095280075,0.624298316824953,-0.7497976648916586,0.12707974086987975,-0.7140406345566194,1.3183538535134744,1.9492171783364947,-0.07227429606646343,0.7104660955504053,-0.3823620944176171,-0.0016846148843457597,0.8531041063996373,0.13650535971413694,-1.9768805035437342,0.8017552890082933,0.24675978309861793,0.40168364800647616,0.5419398982661194,-2.9408752875684945,-0.645007270455306,1.6499623708090134,-1.0680997060013975,0.31218567853158047,-1.1073355893203949,0.6627605959317424,0.48103810835817923,-0.02190442811798528,-0.05170363686797047,-0.3336029037164444,0.0210670145406781,-1.08060773901822,0.26716901124877135,0.8559623719295363,-0.3552226520086245,0.03289143543064628,0.043948774668583844,-0.8854118949675668,1.2392211365577033,0.3973864688908118,0.3936559984256999,0.5706188669456544,0.5938041094382246,0.05666814714582934,-0.5027644440474898,-0.4835465184492971,-0.3684119863666352,-0.03825882718531708,-0.13649727148657367,0.49463947836597666,-2.0938864041717165,-0.0043845897516948855,1.1848175021850196,-0.689421076516863,0.24697274210920545,2.0176554176642783,-0.052240509921352034,-1.1559621489839282,-0.4579065362451067,-0.02528773996479936,-1.9016111132627143,1.4567845672157844,1.3545548283768565,1.466930032164649,1.1190235946806586,-1.396688273698315,1.0578914384783338,1.4824964112076136,1.2869025951738233,0.2497579974130677,2.0314669247857053,0.722928865710818,0.8339059281666981,-1.1227398591384263,-1.2585257402688401,0.7647242059875361,-0.9639506274251255,1.1430521145223795,1.9037174534810613,0.9649629383966886,0.6330162346487069,0.3676138133031477,1.0978027541671664,-0.5436639063060611,0.41353875396477,-0.1949677432718928,0.5180959646238293],\"xaxis\":\"x6\",\"yaxis\":\"y6\",\"type\":\"histogram\"},{\"line\":{\"color\":\"rgba(128, 128, 128, 1.0)\",\"dash\":\"solid\",\"shape\":\"linear\",\"width\":1.3},\"marker\":{\"size\":2,\"symbol\":\"circle\"},\"mode\":\"markers\",\"name\":\"B\",\"text\":\"\",\"x\":[0.5902480411751441,0.3615427174565572,0.5584943724667715,-0.539479777663393,0.2706531152422652,-0.833542393308271,0.7286392974045819,-1.4945965320174728,-0.6625452265318137,-0.37846947865853864,1.2417825184285645,0.0007355735805051069,-0.4356728993259713,0.16317169569496986,-0.589193012708074,0.725373350799308,-0.35669892195720776,1.5197371392549253,-1.2424845208638233,-1.2381196347910772,-0.15383270820264877,-0.4426966470643087,-0.9977236313488691,0.9398827492619666,-0.5810009526837101,-0.24516646037302056,-0.5535164195308102,1.207506512629932,-1.2011830990374137,0.26264513630377984,-0.19511138677375947,-1.3163400417550706,0.4159973012391208,-0.08681382717263655,0.13341288669394546,-0.7495492847089976,1.0504017656564997,1.6988244486331026,0.794724940520421,-0.3771144204427599,-2.348372383726653,-1.4975991259823258,2.4177522410620513,-2.9864241534997626,-0.7716664732973197,1.6248953564900925,-0.30273538511562104,0.05309533106292075,0.848914373865162,-0.09087873869300707,1.117134063358559,1.4145737167773802,-0.3257264733195186,1.1271303673091357,-1.6145868739333393,-0.5062649868778086,1.4110095073391393,-0.6981925286743612,2.0298164415529087,1.2489456563930352,0.09336902497273081,-0.0852548467503772,-0.16840725945798757,-0.4537048669517928,-1.9411085402240251,1.1161061590598644,0.6580780796881278,0.7335014459507081,-0.09524930032956151,-0.09197492813698276,-1.220041781135381,1.8397117933427165,-0.668336993577057,-1.1200291268441804,-1.0459815223370534,-0.6351087814071277,0.04122285884189476,-1.2382872897836263,0.06349277947396594,0.3595997463624142,0.1273845675493883,-1.332046813767796,0.8013118104095253,0.05213674973624697,-0.7349172815712046,-0.622387034426038,-0.22300120405726176,0.29386608490373634,0.47524630185090155,1.2601777434464643,-2.5129027635317644,0.9907234231097561,1.2814600020807558,-0.09980158202068289,-0.33958170568064705,0.42252299385777164,-0.270847453454299,-0.721859246821871,1.2620005141853041,0.052186980272228414],\"xaxis\":\"x7\",\"y\":[0.7668247603098971,0.25608341454276456,-0.418007492438254,1.6479000639513037,-1.085957707598228,-0.6471993669751592,-1.1476836051943966,0.3647731658486326,0.32719258878439345,0.36629851821546877,-0.16000570641145667,1.5669653312034988,-1.3354132322743333,-0.23044821694920747,-0.060267767095280075,0.624298316824953,-0.7497976648916586,0.12707974086987975,-0.7140406345566194,1.3183538535134744,1.9492171783364947,-0.07227429606646343,0.7104660955504053,-0.3823620944176171,-0.0016846148843457597,0.8531041063996373,0.13650535971413694,-1.9768805035437342,0.8017552890082933,0.24675978309861793,0.40168364800647616,0.5419398982661194,-2.9408752875684945,-0.645007270455306,1.6499623708090134,-1.0680997060013975,0.31218567853158047,-1.1073355893203949,0.6627605959317424,0.48103810835817923,-0.02190442811798528,-0.05170363686797047,-0.3336029037164444,0.0210670145406781,-1.08060773901822,0.26716901124877135,0.8559623719295363,-0.3552226520086245,0.03289143543064628,0.043948774668583844,-0.8854118949675668,1.2392211365577033,0.3973864688908118,0.3936559984256999,0.5706188669456544,0.5938041094382246,0.05666814714582934,-0.5027644440474898,-0.4835465184492971,-0.3684119863666352,-0.03825882718531708,-0.13649727148657367,0.49463947836597666,-2.0938864041717165,-0.0043845897516948855,1.1848175021850196,-0.689421076516863,0.24697274210920545,2.0176554176642783,-0.052240509921352034,-1.1559621489839282,-0.4579065362451067,-0.02528773996479936,-1.9016111132627143,1.4567845672157844,1.3545548283768565,1.466930032164649,1.1190235946806586,-1.396688273698315,1.0578914384783338,1.4824964112076136,1.2869025951738233,0.2497579974130677,2.0314669247857053,0.722928865710818,0.8339059281666981,-1.1227398591384263,-1.2585257402688401,0.7647242059875361,-0.9639506274251255,1.1430521145223795,1.9037174534810613,0.9649629383966886,0.6330162346487069,0.3676138133031477,1.0978027541671664,-0.5436639063060611,0.41353875396477,-0.1949677432718928,0.5180959646238293],\"yaxis\":\"y7\",\"type\":\"scatter\"},{\"line\":{\"color\":\"rgba(128, 128, 128, 1.0)\",\"dash\":\"solid\",\"shape\":\"linear\",\"width\":1.3},\"marker\":{\"size\":2,\"symbol\":\"circle\"},\"mode\":\"markers\",\"name\":\"B\",\"text\":\"\",\"x\":[-1.409576167266115,0.20537675410089584,-0.1640750525839635,-0.23668777048924583,-1.2814955062673854,-0.25038975031004135,-0.9721171081271407,-0.5134102339463291,0.7015914927507502,-1.1153426296556703,-0.841261678087003,-0.5186143193038489,-0.9243081595835546,-1.178022577850604,0.3286382294185649,-0.6687628624602802,1.0848961556853847,-0.3510611894926132,-1.8120691375783937,0.7103016536262061,-1.0912075242903299,-0.9777318692911919,0.9741915163209256,0.022628428259688676,0.3783837663626986,1.7529871217204438,1.102471940840788,0.2478317744141381,0.43219161331565026,1.1989223822176431,0.36465597947223916,-1.448094283934066,-0.7165556586487222,1.148926336575849,1.616831386935041,-0.20280041996059836,-1.5414116004415601,-0.32992438972277915,0.2947728801656616,0.5634344560871831,1.9147873011206857,0.5624785148497061,-1.0666306909038166,-0.11275740825138152,0.18733415585268717,0.12208231884626186,-2.5351011735132345,0.6706251184359282,-0.08992007702202028,-0.49387056722383493,0.1971368396571273,-0.7979875619061959,-0.6218610415476219,0.6627348876828029,0.07060017315945649,-1.7869375067051843,-0.11536335457879134,0.42599041154108436,-0.6690378914684313,-0.9469968869705551,-0.5428610931146891,-1.925027057392907,2.11162707786153,0.7465241397980572,-0.454011078233244,-1.5521418623086016,0.49076533427888086,-0.6006208361345682,0.8035133451291006,1.751469319085972,1.0261382711001192,-0.8019337021556235,-0.5204916419838601,0.19787037376093192,-0.615031884271281,-0.538998914172199,0.4628567484897606,-0.3468429223431634,0.32386689735915164,1.674068635984049,1.362411852756756,1.0476063126059973,-0.3942648644408054,2.527007256063724,-0.6330161916166508,-0.45065669348216547,0.09925901312434403,0.48561705135713645,-0.5325049567923323,0.9000741962014779,0.7721703190603556,-3.1685775380496897,-0.09914542523473069,1.1996273408126372,-0.7042951213219687,-1.2711931343065397,1.1959407827681903,-1.1966649149288007,0.6179182147753349,-1.5881976982433168],\"xaxis\":\"x8\",\"y\":[0.7668247603098971,0.25608341454276456,-0.418007492438254,1.6479000639513037,-1.085957707598228,-0.6471993669751592,-1.1476836051943966,0.3647731658486326,0.32719258878439345,0.36629851821546877,-0.16000570641145667,1.5669653312034988,-1.3354132322743333,-0.23044821694920747,-0.060267767095280075,0.624298316824953,-0.7497976648916586,0.12707974086987975,-0.7140406345566194,1.3183538535134744,1.9492171783364947,-0.07227429606646343,0.7104660955504053,-0.3823620944176171,-0.0016846148843457597,0.8531041063996373,0.13650535971413694,-1.9768805035437342,0.8017552890082933,0.24675978309861793,0.40168364800647616,0.5419398982661194,-2.9408752875684945,-0.645007270455306,1.6499623708090134,-1.0680997060013975,0.31218567853158047,-1.1073355893203949,0.6627605959317424,0.48103810835817923,-0.02190442811798528,-0.05170363686797047,-0.3336029037164444,0.0210670145406781,-1.08060773901822,0.26716901124877135,0.8559623719295363,-0.3552226520086245,0.03289143543064628,0.043948774668583844,-0.8854118949675668,1.2392211365577033,0.3973864688908118,0.3936559984256999,0.5706188669456544,0.5938041094382246,0.05666814714582934,-0.5027644440474898,-0.4835465184492971,-0.3684119863666352,-0.03825882718531708,-0.13649727148657367,0.49463947836597666,-2.0938864041717165,-0.0043845897516948855,1.1848175021850196,-0.689421076516863,0.24697274210920545,2.0176554176642783,-0.052240509921352034,-1.1559621489839282,-0.4579065362451067,-0.02528773996479936,-1.9016111132627143,1.4567845672157844,1.3545548283768565,1.466930032164649,1.1190235946806586,-1.396688273698315,1.0578914384783338,1.4824964112076136,1.2869025951738233,0.2497579974130677,2.0314669247857053,0.722928865710818,0.8339059281666981,-1.1227398591384263,-1.2585257402688401,0.7647242059875361,-0.9639506274251255,1.1430521145223795,1.9037174534810613,0.9649629383966886,0.6330162346487069,0.3676138133031477,1.0978027541671664,-0.5436639063060611,0.41353875396477,-0.1949677432718928,0.5180959646238293],\"yaxis\":\"y8\",\"type\":\"scatter\"},{\"line\":{\"color\":\"rgba(128, 128, 128, 1.0)\",\"dash\":\"solid\",\"shape\":\"linear\",\"width\":1.3},\"marker\":{\"size\":2,\"symbol\":\"circle\"},\"mode\":\"markers\",\"name\":\"C\",\"text\":\"\",\"x\":[-0.13175400242810156,1.4398736154014231,0.3084936992738871,0.5076264204380968,-0.7625284986653112,-1.0062511787786008,0.11469784115897165,1.9310696770869487,1.0944035694729664,0.6372421397859684,0.3855089464458704,-0.8121273360861435,-0.3234342665261247,2.362812817762973,-0.9020043009425683,1.5125228590996407,1.6738212663422762,-0.9901310738157569,1.084961991228402,-0.8959408642253713,2.1316610208320763,-1.5130697817897543,-0.9054073025929361,-1.2363645490471573,-0.15194927661083432,-0.2377615536333579,-0.5007722283776846,-0.7023143914132617,-2.1165840455647387,0.725447620478989,0.21628655747987344,2.215565705679116,-1.6546694084066793,0.43522055750008765,-0.7290404129663632,-2.072652678094007,-1.5357339134344634,0.6597408315792757,0.7471678649316231,1.0183098975792102,-0.0475017122305315,0.6226526850571343,0.11867141066397108,0.6785159601012161,-2.2702452299697886,1.1238379665770963,0.6230048619585441,0.8719729055231573,1.4326270000120012,-0.24688836716890633,0.8117736190877305,1.61223643973982,-1.4932034080063534,0.8037053962798918,1.7130283780118272,-0.6700078392530018,1.5568132179108136,0.40626162740550076,-2.256267543737473,1.092041777618682,2.4343498861619737,0.11904330167051473,1.301154598107079,1.1121166128876387,-0.09443622486311361,1.5039962172550305,-1.5611350973183005,2.0907823004658885,-1.920492399044538,-0.32259609854818216,-0.28860611837376987,-3.9006781071827716,-1.448796535345966,-0.2317550134453871,0.6794020374305854,-1.9386900580032422,-0.5411660242004356,0.20184037671840202,0.2194539547450508,-0.26809272600799905,0.47807622579924847,0.28813930760653533,-1.2171719295118983,1.6613721485393889,-1.129899743938994,1.231837149691319,0.906027903471736,0.41874076383417547,1.140639223532903,-0.27309072874514134,-1.5997041234561773,2.0818397320483397,-0.507997666275523,-0.6412893664962762,0.1353104566092275,0.7058193926130889,-0.8816664183269983,0.31121281370841103,-0.39274099041646093,-0.5095365211072483],\"xaxis\":\"x9\",\"y\":[0.5902480411751441,0.3615427174565572,0.5584943724667715,-0.539479777663393,0.2706531152422652,-0.833542393308271,0.7286392974045819,-1.4945965320174728,-0.6625452265318137,-0.37846947865853864,1.2417825184285645,0.0007355735805051069,-0.4356728993259713,0.16317169569496986,-0.589193012708074,0.725373350799308,-0.35669892195720776,1.5197371392549253,-1.2424845208638233,-1.2381196347910772,-0.15383270820264877,-0.4426966470643087,-0.9977236313488691,0.9398827492619666,-0.5810009526837101,-0.24516646037302056,-0.5535164195308102,1.207506512629932,-1.2011830990374137,0.26264513630377984,-0.19511138677375947,-1.3163400417550706,0.4159973012391208,-0.08681382717263655,0.13341288669394546,-0.7495492847089976,1.0504017656564997,1.6988244486331026,0.794724940520421,-0.3771144204427599,-2.348372383726653,-1.4975991259823258,2.4177522410620513,-2.9864241534997626,-0.7716664732973197,1.6248953564900925,-0.30273538511562104,0.05309533106292075,0.848914373865162,-0.09087873869300707,1.117134063358559,1.4145737167773802,-0.3257264733195186,1.1271303673091357,-1.6145868739333393,-0.5062649868778086,1.4110095073391393,-0.6981925286743612,2.0298164415529087,1.2489456563930352,0.09336902497273081,-0.0852548467503772,-0.16840725945798757,-0.4537048669517928,-1.9411085402240251,1.1161061590598644,0.6580780796881278,0.7335014459507081,-0.09524930032956151,-0.09197492813698276,-1.220041781135381,1.8397117933427165,-0.668336993577057,-1.1200291268441804,-1.0459815223370534,-0.6351087814071277,0.04122285884189476,-1.2382872897836263,0.06349277947396594,0.3595997463624142,0.1273845675493883,-1.332046813767796,0.8013118104095253,0.05213674973624697,-0.7349172815712046,-0.622387034426038,-0.22300120405726176,0.29386608490373634,0.47524630185090155,1.2601777434464643,-2.5129027635317644,0.9907234231097561,1.2814600020807558,-0.09980158202068289,-0.33958170568064705,0.42252299385777164,-0.270847453454299,-0.721859246821871,1.2620005141853041,0.052186980272228414],\"yaxis\":\"y9\",\"type\":\"scatter\"},{\"line\":{\"color\":\"rgba(128, 128, 128, 1.0)\",\"dash\":\"solid\",\"shape\":\"linear\",\"width\":1.3},\"marker\":{\"size\":2,\"symbol\":\"circle\"},\"mode\":\"markers\",\"name\":\"C\",\"text\":\"\",\"x\":[0.7668247603098971,0.25608341454276456,-0.418007492438254,1.6479000639513037,-1.085957707598228,-0.6471993669751592,-1.1476836051943966,0.3647731658486326,0.32719258878439345,0.36629851821546877,-0.16000570641145667,1.5669653312034988,-1.3354132322743333,-0.23044821694920747,-0.060267767095280075,0.624298316824953,-0.7497976648916586,0.12707974086987975,-0.7140406345566194,1.3183538535134744,1.9492171783364947,-0.07227429606646343,0.7104660955504053,-0.3823620944176171,-0.0016846148843457597,0.8531041063996373,0.13650535971413694,-1.9768805035437342,0.8017552890082933,0.24675978309861793,0.40168364800647616,0.5419398982661194,-2.9408752875684945,-0.645007270455306,1.6499623708090134,-1.0680997060013975,0.31218567853158047,-1.1073355893203949,0.6627605959317424,0.48103810835817923,-0.02190442811798528,-0.05170363686797047,-0.3336029037164444,0.0210670145406781,-1.08060773901822,0.26716901124877135,0.8559623719295363,-0.3552226520086245,0.03289143543064628,0.043948774668583844,-0.8854118949675668,1.2392211365577033,0.3973864688908118,0.3936559984256999,0.5706188669456544,0.5938041094382246,0.05666814714582934,-0.5027644440474898,-0.4835465184492971,-0.3684119863666352,-0.03825882718531708,-0.13649727148657367,0.49463947836597666,-2.0938864041717165,-0.0043845897516948855,1.1848175021850196,-0.689421076516863,0.24697274210920545,2.0176554176642783,-0.052240509921352034,-1.1559621489839282,-0.4579065362451067,-0.02528773996479936,-1.9016111132627143,1.4567845672157844,1.3545548283768565,1.466930032164649,1.1190235946806586,-1.396688273698315,1.0578914384783338,1.4824964112076136,1.2869025951738233,0.2497579974130677,2.0314669247857053,0.722928865710818,0.8339059281666981,-1.1227398591384263,-1.2585257402688401,0.7647242059875361,-0.9639506274251255,1.1430521145223795,1.9037174534810613,0.9649629383966886,0.6330162346487069,0.3676138133031477,1.0978027541671664,-0.5436639063060611,0.41353875396477,-0.1949677432718928,0.5180959646238293],\"xaxis\":\"x10\",\"y\":[0.5902480411751441,0.3615427174565572,0.5584943724667715,-0.539479777663393,0.2706531152422652,-0.833542393308271,0.7286392974045819,-1.4945965320174728,-0.6625452265318137,-0.37846947865853864,1.2417825184285645,0.0007355735805051069,-0.4356728993259713,0.16317169569496986,-0.589193012708074,0.725373350799308,-0.35669892195720776,1.5197371392549253,-1.2424845208638233,-1.2381196347910772,-0.15383270820264877,-0.4426966470643087,-0.9977236313488691,0.9398827492619666,-0.5810009526837101,-0.24516646037302056,-0.5535164195308102,1.207506512629932,-1.2011830990374137,0.26264513630377984,-0.19511138677375947,-1.3163400417550706,0.4159973012391208,-0.08681382717263655,0.13341288669394546,-0.7495492847089976,1.0504017656564997,1.6988244486331026,0.794724940520421,-0.3771144204427599,-2.348372383726653,-1.4975991259823258,2.4177522410620513,-2.9864241534997626,-0.7716664732973197,1.6248953564900925,-0.30273538511562104,0.05309533106292075,0.848914373865162,-0.09087873869300707,1.117134063358559,1.4145737167773802,-0.3257264733195186,1.1271303673091357,-1.6145868739333393,-0.5062649868778086,1.4110095073391393,-0.6981925286743612,2.0298164415529087,1.2489456563930352,0.09336902497273081,-0.0852548467503772,-0.16840725945798757,-0.4537048669517928,-1.9411085402240251,1.1161061590598644,0.6580780796881278,0.7335014459507081,-0.09524930032956151,-0.09197492813698276,-1.220041781135381,1.8397117933427165,-0.668336993577057,-1.1200291268441804,-1.0459815223370534,-0.6351087814071277,0.04122285884189476,-1.2382872897836263,0.06349277947396594,0.3595997463624142,0.1273845675493883,-1.332046813767796,0.8013118104095253,0.05213674973624697,-0.7349172815712046,-0.622387034426038,-0.22300120405726176,0.29386608490373634,0.47524630185090155,1.2601777434464643,-2.5129027635317644,0.9907234231097561,1.2814600020807558,-0.09980158202068289,-0.33958170568064705,0.42252299385777164,-0.270847453454299,-0.721859246821871,1.2620005141853041,0.052186980272228414],\"yaxis\":\"y10\",\"type\":\"scatter\"},{\"histfunc\":\"count\",\"histnorm\":\"\",\"marker\":{\"color\":\"rgba(50, 171, 96, 1.0)\",\"line\":{\"color\":\"#4D5663\",\"width\":1.3}},\"name\":\"C\",\"nbinsx\":10,\"opacity\":0.8,\"orientation\":\"v\",\"x\":[0.5902480411751441,0.3615427174565572,0.5584943724667715,-0.539479777663393,0.2706531152422652,-0.833542393308271,0.7286392974045819,-1.4945965320174728,-0.6625452265318137,-0.37846947865853864,1.2417825184285645,0.0007355735805051069,-0.4356728993259713,0.16317169569496986,-0.589193012708074,0.725373350799308,-0.35669892195720776,1.5197371392549253,-1.2424845208638233,-1.2381196347910772,-0.15383270820264877,-0.4426966470643087,-0.9977236313488691,0.9398827492619666,-0.5810009526837101,-0.24516646037302056,-0.5535164195308102,1.207506512629932,-1.2011830990374137,0.26264513630377984,-0.19511138677375947,-1.3163400417550706,0.4159973012391208,-0.08681382717263655,0.13341288669394546,-0.7495492847089976,1.0504017656564997,1.6988244486331026,0.794724940520421,-0.3771144204427599,-2.348372383726653,-1.4975991259823258,2.4177522410620513,-2.9864241534997626,-0.7716664732973197,1.6248953564900925,-0.30273538511562104,0.05309533106292075,0.848914373865162,-0.09087873869300707,1.117134063358559,1.4145737167773802,-0.3257264733195186,1.1271303673091357,-1.6145868739333393,-0.5062649868778086,1.4110095073391393,-0.6981925286743612,2.0298164415529087,1.2489456563930352,0.09336902497273081,-0.0852548467503772,-0.16840725945798757,-0.4537048669517928,-1.9411085402240251,1.1161061590598644,0.6580780796881278,0.7335014459507081,-0.09524930032956151,-0.09197492813698276,-1.220041781135381,1.8397117933427165,-0.668336993577057,-1.1200291268441804,-1.0459815223370534,-0.6351087814071277,0.04122285884189476,-1.2382872897836263,0.06349277947396594,0.3595997463624142,0.1273845675493883,-1.332046813767796,0.8013118104095253,0.05213674973624697,-0.7349172815712046,-0.622387034426038,-0.22300120405726176,0.29386608490373634,0.47524630185090155,1.2601777434464643,-2.5129027635317644,0.9907234231097561,1.2814600020807558,-0.09980158202068289,-0.33958170568064705,0.42252299385777164,-0.270847453454299,-0.721859246821871,1.2620005141853041,0.052186980272228414],\"xaxis\":\"x11\",\"yaxis\":\"y11\",\"type\":\"histogram\"},{\"line\":{\"color\":\"rgba(128, 128, 128, 1.0)\",\"dash\":\"solid\",\"shape\":\"linear\",\"width\":1.3},\"marker\":{\"size\":2,\"symbol\":\"circle\"},\"mode\":\"markers\",\"name\":\"C\",\"text\":\"\",\"x\":[-1.409576167266115,0.20537675410089584,-0.1640750525839635,-0.23668777048924583,-1.2814955062673854,-0.25038975031004135,-0.9721171081271407,-0.5134102339463291,0.7015914927507502,-1.1153426296556703,-0.841261678087003,-0.5186143193038489,-0.9243081595835546,-1.178022577850604,0.3286382294185649,-0.6687628624602802,1.0848961556853847,-0.3510611894926132,-1.8120691375783937,0.7103016536262061,-1.0912075242903299,-0.9777318692911919,0.9741915163209256,0.022628428259688676,0.3783837663626986,1.7529871217204438,1.102471940840788,0.2478317744141381,0.43219161331565026,1.1989223822176431,0.36465597947223916,-1.448094283934066,-0.7165556586487222,1.148926336575849,1.616831386935041,-0.20280041996059836,-1.5414116004415601,-0.32992438972277915,0.2947728801656616,0.5634344560871831,1.9147873011206857,0.5624785148497061,-1.0666306909038166,-0.11275740825138152,0.18733415585268717,0.12208231884626186,-2.5351011735132345,0.6706251184359282,-0.08992007702202028,-0.49387056722383493,0.1971368396571273,-0.7979875619061959,-0.6218610415476219,0.6627348876828029,0.07060017315945649,-1.7869375067051843,-0.11536335457879134,0.42599041154108436,-0.6690378914684313,-0.9469968869705551,-0.5428610931146891,-1.925027057392907,2.11162707786153,0.7465241397980572,-0.454011078233244,-1.5521418623086016,0.49076533427888086,-0.6006208361345682,0.8035133451291006,1.751469319085972,1.0261382711001192,-0.8019337021556235,-0.5204916419838601,0.19787037376093192,-0.615031884271281,-0.538998914172199,0.4628567484897606,-0.3468429223431634,0.32386689735915164,1.674068635984049,1.362411852756756,1.0476063126059973,-0.3942648644408054,2.527007256063724,-0.6330161916166508,-0.45065669348216547,0.09925901312434403,0.48561705135713645,-0.5325049567923323,0.9000741962014779,0.7721703190603556,-3.1685775380496897,-0.09914542523473069,1.1996273408126372,-0.7042951213219687,-1.2711931343065397,1.1959407827681903,-1.1966649149288007,0.6179182147753349,-1.5881976982433168],\"xaxis\":\"x12\",\"y\":[0.5902480411751441,0.3615427174565572,0.5584943724667715,-0.539479777663393,0.2706531152422652,-0.833542393308271,0.7286392974045819,-1.4945965320174728,-0.6625452265318137,-0.37846947865853864,1.2417825184285645,0.0007355735805051069,-0.4356728993259713,0.16317169569496986,-0.589193012708074,0.725373350799308,-0.35669892195720776,1.5197371392549253,-1.2424845208638233,-1.2381196347910772,-0.15383270820264877,-0.4426966470643087,-0.9977236313488691,0.9398827492619666,-0.5810009526837101,-0.24516646037302056,-0.5535164195308102,1.207506512629932,-1.2011830990374137,0.26264513630377984,-0.19511138677375947,-1.3163400417550706,0.4159973012391208,-0.08681382717263655,0.13341288669394546,-0.7495492847089976,1.0504017656564997,1.6988244486331026,0.794724940520421,-0.3771144204427599,-2.348372383726653,-1.4975991259823258,2.4177522410620513,-2.9864241534997626,-0.7716664732973197,1.6248953564900925,-0.30273538511562104,0.05309533106292075,0.848914373865162,-0.09087873869300707,1.117134063358559,1.4145737167773802,-0.3257264733195186,1.1271303673091357,-1.6145868739333393,-0.5062649868778086,1.4110095073391393,-0.6981925286743612,2.0298164415529087,1.2489456563930352,0.09336902497273081,-0.0852548467503772,-0.16840725945798757,-0.4537048669517928,-1.9411085402240251,1.1161061590598644,0.6580780796881278,0.7335014459507081,-0.09524930032956151,-0.09197492813698276,-1.220041781135381,1.8397117933427165,-0.668336993577057,-1.1200291268441804,-1.0459815223370534,-0.6351087814071277,0.04122285884189476,-1.2382872897836263,0.06349277947396594,0.3595997463624142,0.1273845675493883,-1.332046813767796,0.8013118104095253,0.05213674973624697,-0.7349172815712046,-0.622387034426038,-0.22300120405726176,0.29386608490373634,0.47524630185090155,1.2601777434464643,-2.5129027635317644,0.9907234231097561,1.2814600020807558,-0.09980158202068289,-0.33958170568064705,0.42252299385777164,-0.270847453454299,-0.721859246821871,1.2620005141853041,0.052186980272228414],\"yaxis\":\"y12\",\"type\":\"scatter\"},{\"line\":{\"color\":\"rgba(128, 128, 128, 1.0)\",\"dash\":\"solid\",\"shape\":\"linear\",\"width\":1.3},\"marker\":{\"size\":2,\"symbol\":\"circle\"},\"mode\":\"markers\",\"name\":\"D\",\"text\":\"\",\"x\":[-0.13175400242810156,1.4398736154014231,0.3084936992738871,0.5076264204380968,-0.7625284986653112,-1.0062511787786008,0.11469784115897165,1.9310696770869487,1.0944035694729664,0.6372421397859684,0.3855089464458704,-0.8121273360861435,-0.3234342665261247,2.362812817762973,-0.9020043009425683,1.5125228590996407,1.6738212663422762,-0.9901310738157569,1.084961991228402,-0.8959408642253713,2.1316610208320763,-1.5130697817897543,-0.9054073025929361,-1.2363645490471573,-0.15194927661083432,-0.2377615536333579,-0.5007722283776846,-0.7023143914132617,-2.1165840455647387,0.725447620478989,0.21628655747987344,2.215565705679116,-1.6546694084066793,0.43522055750008765,-0.7290404129663632,-2.072652678094007,-1.5357339134344634,0.6597408315792757,0.7471678649316231,1.0183098975792102,-0.0475017122305315,0.6226526850571343,0.11867141066397108,0.6785159601012161,-2.2702452299697886,1.1238379665770963,0.6230048619585441,0.8719729055231573,1.4326270000120012,-0.24688836716890633,0.8117736190877305,1.61223643973982,-1.4932034080063534,0.8037053962798918,1.7130283780118272,-0.6700078392530018,1.5568132179108136,0.40626162740550076,-2.256267543737473,1.092041777618682,2.4343498861619737,0.11904330167051473,1.301154598107079,1.1121166128876387,-0.09443622486311361,1.5039962172550305,-1.5611350973183005,2.0907823004658885,-1.920492399044538,-0.32259609854818216,-0.28860611837376987,-3.9006781071827716,-1.448796535345966,-0.2317550134453871,0.6794020374305854,-1.9386900580032422,-0.5411660242004356,0.20184037671840202,0.2194539547450508,-0.26809272600799905,0.47807622579924847,0.28813930760653533,-1.2171719295118983,1.6613721485393889,-1.129899743938994,1.231837149691319,0.906027903471736,0.41874076383417547,1.140639223532903,-0.27309072874514134,-1.5997041234561773,2.0818397320483397,-0.507997666275523,-0.6412893664962762,0.1353104566092275,0.7058193926130889,-0.8816664183269983,0.31121281370841103,-0.39274099041646093,-0.5095365211072483],\"xaxis\":\"x13\",\"y\":[-1.409576167266115,0.20537675410089584,-0.1640750525839635,-0.23668777048924583,-1.2814955062673854,-0.25038975031004135,-0.9721171081271407,-0.5134102339463291,0.7015914927507502,-1.1153426296556703,-0.841261678087003,-0.5186143193038489,-0.9243081595835546,-1.178022577850604,0.3286382294185649,-0.6687628624602802,1.0848961556853847,-0.3510611894926132,-1.8120691375783937,0.7103016536262061,-1.0912075242903299,-0.9777318692911919,0.9741915163209256,0.022628428259688676,0.3783837663626986,1.7529871217204438,1.102471940840788,0.2478317744141381,0.43219161331565026,1.1989223822176431,0.36465597947223916,-1.448094283934066,-0.7165556586487222,1.148926336575849,1.616831386935041,-0.20280041996059836,-1.5414116004415601,-0.32992438972277915,0.2947728801656616,0.5634344560871831,1.9147873011206857,0.5624785148497061,-1.0666306909038166,-0.11275740825138152,0.18733415585268717,0.12208231884626186,-2.5351011735132345,0.6706251184359282,-0.08992007702202028,-0.49387056722383493,0.1971368396571273,-0.7979875619061959,-0.6218610415476219,0.6627348876828029,0.07060017315945649,-1.7869375067051843,-0.11536335457879134,0.42599041154108436,-0.6690378914684313,-0.9469968869705551,-0.5428610931146891,-1.925027057392907,2.11162707786153,0.7465241397980572,-0.454011078233244,-1.5521418623086016,0.49076533427888086,-0.6006208361345682,0.8035133451291006,1.751469319085972,1.0261382711001192,-0.8019337021556235,-0.5204916419838601,0.19787037376093192,-0.615031884271281,-0.538998914172199,0.4628567484897606,-0.3468429223431634,0.32386689735915164,1.674068635984049,1.362411852756756,1.0476063126059973,-0.3942648644408054,2.527007256063724,-0.6330161916166508,-0.45065669348216547,0.09925901312434403,0.48561705135713645,-0.5325049567923323,0.9000741962014779,0.7721703190603556,-3.1685775380496897,-0.09914542523473069,1.1996273408126372,-0.7042951213219687,-1.2711931343065397,1.1959407827681903,-1.1966649149288007,0.6179182147753349,-1.5881976982433168],\"yaxis\":\"y13\",\"type\":\"scatter\"},{\"line\":{\"color\":\"rgba(128, 128, 128, 1.0)\",\"dash\":\"solid\",\"shape\":\"linear\",\"width\":1.3},\"marker\":{\"size\":2,\"symbol\":\"circle\"},\"mode\":\"markers\",\"name\":\"D\",\"text\":\"\",\"x\":[0.7668247603098971,0.25608341454276456,-0.418007492438254,1.6479000639513037,-1.085957707598228,-0.6471993669751592,-1.1476836051943966,0.3647731658486326,0.32719258878439345,0.36629851821546877,-0.16000570641145667,1.5669653312034988,-1.3354132322743333,-0.23044821694920747,-0.060267767095280075,0.624298316824953,-0.7497976648916586,0.12707974086987975,-0.7140406345566194,1.3183538535134744,1.9492171783364947,-0.07227429606646343,0.7104660955504053,-0.3823620944176171,-0.0016846148843457597,0.8531041063996373,0.13650535971413694,-1.9768805035437342,0.8017552890082933,0.24675978309861793,0.40168364800647616,0.5419398982661194,-2.9408752875684945,-0.645007270455306,1.6499623708090134,-1.0680997060013975,0.31218567853158047,-1.1073355893203949,0.6627605959317424,0.48103810835817923,-0.02190442811798528,-0.05170363686797047,-0.3336029037164444,0.0210670145406781,-1.08060773901822,0.26716901124877135,0.8559623719295363,-0.3552226520086245,0.03289143543064628,0.043948774668583844,-0.8854118949675668,1.2392211365577033,0.3973864688908118,0.3936559984256999,0.5706188669456544,0.5938041094382246,0.05666814714582934,-0.5027644440474898,-0.4835465184492971,-0.3684119863666352,-0.03825882718531708,-0.13649727148657367,0.49463947836597666,-2.0938864041717165,-0.0043845897516948855,1.1848175021850196,-0.689421076516863,0.24697274210920545,2.0176554176642783,-0.052240509921352034,-1.1559621489839282,-0.4579065362451067,-0.02528773996479936,-1.9016111132627143,1.4567845672157844,1.3545548283768565,1.466930032164649,1.1190235946806586,-1.396688273698315,1.0578914384783338,1.4824964112076136,1.2869025951738233,0.2497579974130677,2.0314669247857053,0.722928865710818,0.8339059281666981,-1.1227398591384263,-1.2585257402688401,0.7647242059875361,-0.9639506274251255,1.1430521145223795,1.9037174534810613,0.9649629383966886,0.6330162346487069,0.3676138133031477,1.0978027541671664,-0.5436639063060611,0.41353875396477,-0.1949677432718928,0.5180959646238293],\"xaxis\":\"x14\",\"y\":[-1.409576167266115,0.20537675410089584,-0.1640750525839635,-0.23668777048924583,-1.2814955062673854,-0.25038975031004135,-0.9721171081271407,-0.5134102339463291,0.7015914927507502,-1.1153426296556703,-0.841261678087003,-0.5186143193038489,-0.9243081595835546,-1.178022577850604,0.3286382294185649,-0.6687628624602802,1.0848961556853847,-0.3510611894926132,-1.8120691375783937,0.7103016536262061,-1.0912075242903299,-0.9777318692911919,0.9741915163209256,0.022628428259688676,0.3783837663626986,1.7529871217204438,1.102471940840788,0.2478317744141381,0.43219161331565026,1.1989223822176431,0.36465597947223916,-1.448094283934066,-0.7165556586487222,1.148926336575849,1.616831386935041,-0.20280041996059836,-1.5414116004415601,-0.32992438972277915,0.2947728801656616,0.5634344560871831,1.9147873011206857,0.5624785148497061,-1.0666306909038166,-0.11275740825138152,0.18733415585268717,0.12208231884626186,-2.5351011735132345,0.6706251184359282,-0.08992007702202028,-0.49387056722383493,0.1971368396571273,-0.7979875619061959,-0.6218610415476219,0.6627348876828029,0.07060017315945649,-1.7869375067051843,-0.11536335457879134,0.42599041154108436,-0.6690378914684313,-0.9469968869705551,-0.5428610931146891,-1.925027057392907,2.11162707786153,0.7465241397980572,-0.454011078233244,-1.5521418623086016,0.49076533427888086,-0.6006208361345682,0.8035133451291006,1.751469319085972,1.0261382711001192,-0.8019337021556235,-0.5204916419838601,0.19787037376093192,-0.615031884271281,-0.538998914172199,0.4628567484897606,-0.3468429223431634,0.32386689735915164,1.674068635984049,1.362411852756756,1.0476063126059973,-0.3942648644408054,2.527007256063724,-0.6330161916166508,-0.45065669348216547,0.09925901312434403,0.48561705135713645,-0.5325049567923323,0.9000741962014779,0.7721703190603556,-3.1685775380496897,-0.09914542523473069,1.1996273408126372,-0.7042951213219687,-1.2711931343065397,1.1959407827681903,-1.1966649149288007,0.6179182147753349,-1.5881976982433168],\"yaxis\":\"y14\",\"type\":\"scatter\"},{\"line\":{\"color\":\"rgba(128, 128, 128, 1.0)\",\"dash\":\"solid\",\"shape\":\"linear\",\"width\":1.3},\"marker\":{\"size\":2,\"symbol\":\"circle\"},\"mode\":\"markers\",\"name\":\"D\",\"text\":\"\",\"x\":[0.5902480411751441,0.3615427174565572,0.5584943724667715,-0.539479777663393,0.2706531152422652,-0.833542393308271,0.7286392974045819,-1.4945965320174728,-0.6625452265318137,-0.37846947865853864,1.2417825184285645,0.0007355735805051069,-0.4356728993259713,0.16317169569496986,-0.589193012708074,0.725373350799308,-0.35669892195720776,1.5197371392549253,-1.2424845208638233,-1.2381196347910772,-0.15383270820264877,-0.4426966470643087,-0.9977236313488691,0.9398827492619666,-0.5810009526837101,-0.24516646037302056,-0.5535164195308102,1.207506512629932,-1.2011830990374137,0.26264513630377984,-0.19511138677375947,-1.3163400417550706,0.4159973012391208,-0.08681382717263655,0.13341288669394546,-0.7495492847089976,1.0504017656564997,1.6988244486331026,0.794724940520421,-0.3771144204427599,-2.348372383726653,-1.4975991259823258,2.4177522410620513,-2.9864241534997626,-0.7716664732973197,1.6248953564900925,-0.30273538511562104,0.05309533106292075,0.848914373865162,-0.09087873869300707,1.117134063358559,1.4145737167773802,-0.3257264733195186,1.1271303673091357,-1.6145868739333393,-0.5062649868778086,1.4110095073391393,-0.6981925286743612,2.0298164415529087,1.2489456563930352,0.09336902497273081,-0.0852548467503772,-0.16840725945798757,-0.4537048669517928,-1.9411085402240251,1.1161061590598644,0.6580780796881278,0.7335014459507081,-0.09524930032956151,-0.09197492813698276,-1.220041781135381,1.8397117933427165,-0.668336993577057,-1.1200291268441804,-1.0459815223370534,-0.6351087814071277,0.04122285884189476,-1.2382872897836263,0.06349277947396594,0.3595997463624142,0.1273845675493883,-1.332046813767796,0.8013118104095253,0.05213674973624697,-0.7349172815712046,-0.622387034426038,-0.22300120405726176,0.29386608490373634,0.47524630185090155,1.2601777434464643,-2.5129027635317644,0.9907234231097561,1.2814600020807558,-0.09980158202068289,-0.33958170568064705,0.42252299385777164,-0.270847453454299,-0.721859246821871,1.2620005141853041,0.052186980272228414],\"xaxis\":\"x15\",\"y\":[-1.409576167266115,0.20537675410089584,-0.1640750525839635,-0.23668777048924583,-1.2814955062673854,-0.25038975031004135,-0.9721171081271407,-0.5134102339463291,0.7015914927507502,-1.1153426296556703,-0.841261678087003,-0.5186143193038489,-0.9243081595835546,-1.178022577850604,0.3286382294185649,-0.6687628624602802,1.0848961556853847,-0.3510611894926132,-1.8120691375783937,0.7103016536262061,-1.0912075242903299,-0.9777318692911919,0.9741915163209256,0.022628428259688676,0.3783837663626986,1.7529871217204438,1.102471940840788,0.2478317744141381,0.43219161331565026,1.1989223822176431,0.36465597947223916,-1.448094283934066,-0.7165556586487222,1.148926336575849,1.616831386935041,-0.20280041996059836,-1.5414116004415601,-0.32992438972277915,0.2947728801656616,0.5634344560871831,1.9147873011206857,0.5624785148497061,-1.0666306909038166,-0.11275740825138152,0.18733415585268717,0.12208231884626186,-2.5351011735132345,0.6706251184359282,-0.08992007702202028,-0.49387056722383493,0.1971368396571273,-0.7979875619061959,-0.6218610415476219,0.6627348876828029,0.07060017315945649,-1.7869375067051843,-0.11536335457879134,0.42599041154108436,-0.6690378914684313,-0.9469968869705551,-0.5428610931146891,-1.925027057392907,2.11162707786153,0.7465241397980572,-0.454011078233244,-1.5521418623086016,0.49076533427888086,-0.6006208361345682,0.8035133451291006,1.751469319085972,1.0261382711001192,-0.8019337021556235,-0.5204916419838601,0.19787037376093192,-0.615031884271281,-0.538998914172199,0.4628567484897606,-0.3468429223431634,0.32386689735915164,1.674068635984049,1.362411852756756,1.0476063126059973,-0.3942648644408054,2.527007256063724,-0.6330161916166508,-0.45065669348216547,0.09925901312434403,0.48561705135713645,-0.5325049567923323,0.9000741962014779,0.7721703190603556,-3.1685775380496897,-0.09914542523473069,1.1996273408126372,-0.7042951213219687,-1.2711931343065397,1.1959407827681903,-1.1966649149288007,0.6179182147753349,-1.5881976982433168],\"yaxis\":\"y15\",\"type\":\"scatter\"},{\"histfunc\":\"count\",\"histnorm\":\"\",\"marker\":{\"color\":\"rgba(128, 0, 128, 1.0)\",\"line\":{\"color\":\"#4D5663\",\"width\":1.3}},\"name\":\"D\",\"nbinsx\":10,\"opacity\":0.8,\"orientation\":\"v\",\"x\":[-1.409576167266115,0.20537675410089584,-0.1640750525839635,-0.23668777048924583,-1.2814955062673854,-0.25038975031004135,-0.9721171081271407,-0.5134102339463291,0.7015914927507502,-1.1153426296556703,-0.841261678087003,-0.5186143193038489,-0.9243081595835546,-1.178022577850604,0.3286382294185649,-0.6687628624602802,1.0848961556853847,-0.3510611894926132,-1.8120691375783937,0.7103016536262061,-1.0912075242903299,-0.9777318692911919,0.9741915163209256,0.022628428259688676,0.3783837663626986,1.7529871217204438,1.102471940840788,0.2478317744141381,0.43219161331565026,1.1989223822176431,0.36465597947223916,-1.448094283934066,-0.7165556586487222,1.148926336575849,1.616831386935041,-0.20280041996059836,-1.5414116004415601,-0.32992438972277915,0.2947728801656616,0.5634344560871831,1.9147873011206857,0.5624785148497061,-1.0666306909038166,-0.11275740825138152,0.18733415585268717,0.12208231884626186,-2.5351011735132345,0.6706251184359282,-0.08992007702202028,-0.49387056722383493,0.1971368396571273,-0.7979875619061959,-0.6218610415476219,0.6627348876828029,0.07060017315945649,-1.7869375067051843,-0.11536335457879134,0.42599041154108436,-0.6690378914684313,-0.9469968869705551,-0.5428610931146891,-1.925027057392907,2.11162707786153,0.7465241397980572,-0.454011078233244,-1.5521418623086016,0.49076533427888086,-0.6006208361345682,0.8035133451291006,1.751469319085972,1.0261382711001192,-0.8019337021556235,-0.5204916419838601,0.19787037376093192,-0.615031884271281,-0.538998914172199,0.4628567484897606,-0.3468429223431634,0.32386689735915164,1.674068635984049,1.362411852756756,1.0476063126059973,-0.3942648644408054,2.527007256063724,-0.6330161916166508,-0.45065669348216547,0.09925901312434403,0.48561705135713645,-0.5325049567923323,0.9000741962014779,0.7721703190603556,-3.1685775380496897,-0.09914542523473069,1.1996273408126372,-0.7042951213219687,-1.2711931343065397,1.1959407827681903,-1.1966649149288007,0.6179182147753349,-1.5881976982433168],\"xaxis\":\"x16\",\"yaxis\":\"y16\",\"type\":\"histogram\"}],                        {\"bargap\":0.02,\"legend\":{\"bgcolor\":\"#F5F6F9\",\"font\":{\"color\":\"#4D5663\"}},\"paper_bgcolor\":\"#F5F6F9\",\"plot_bgcolor\":\"#F5F6F9\",\"showlegend\":false,\"template\":{\"data\":{\"barpolar\":[{\"marker\":{\"line\":{\"color\":\"#E5ECF6\",\"width\":0.5},\"pattern\":{\"fillmode\":\"overlay\",\"size\":10,\"solidity\":0.2}},\"type\":\"barpolar\"}],\"bar\":[{\"error_x\":{\"color\":\"#2a3f5f\"},\"error_y\":{\"color\":\"#2a3f5f\"},\"marker\":{\"line\":{\"color\":\"#E5ECF6\",\"width\":0.5},\"pattern\":{\"fillmode\":\"overlay\",\"size\":10,\"solidity\":0.2}},\"type\":\"bar\"}],\"carpet\":[{\"aaxis\":{\"endlinecolor\":\"#2a3f5f\",\"gridcolor\":\"white\",\"linecolor\":\"white\",\"minorgridcolor\":\"white\",\"startlinecolor\":\"#2a3f5f\"},\"baxis\":{\"endlinecolor\":\"#2a3f5f\",\"gridcolor\":\"white\",\"linecolor\":\"white\",\"minorgridcolor\":\"white\",\"startlinecolor\":\"#2a3f5f\"},\"type\":\"carpet\"}],\"choropleth\":[{\"colorbar\":{\"outlinewidth\":0,\"ticks\":\"\"},\"type\":\"choropleth\"}],\"contourcarpet\":[{\"colorbar\":{\"outlinewidth\":0,\"ticks\":\"\"},\"type\":\"contourcarpet\"}],\"contour\":[{\"colorbar\":{\"outlinewidth\":0,\"ticks\":\"\"},\"colorscale\":[[0.0,\"#0d0887\"],[0.1111111111111111,\"#46039f\"],[0.2222222222222222,\"#7201a8\"],[0.3333333333333333,\"#9c179e\"],[0.4444444444444444,\"#bd3786\"],[0.5555555555555556,\"#d8576b\"],[0.6666666666666666,\"#ed7953\"],[0.7777777777777778,\"#fb9f3a\"],[0.8888888888888888,\"#fdca26\"],[1.0,\"#f0f921\"]],\"type\":\"contour\"}],\"heatmapgl\":[{\"colorbar\":{\"outlinewidth\":0,\"ticks\":\"\"},\"colorscale\":[[0.0,\"#0d0887\"],[0.1111111111111111,\"#46039f\"],[0.2222222222222222,\"#7201a8\"],[0.3333333333333333,\"#9c179e\"],[0.4444444444444444,\"#bd3786\"],[0.5555555555555556,\"#d8576b\"],[0.6666666666666666,\"#ed7953\"],[0.7777777777777778,\"#fb9f3a\"],[0.8888888888888888,\"#fdca26\"],[1.0,\"#f0f921\"]],\"type\":\"heatmapgl\"}],\"heatmap\":[{\"colorbar\":{\"outlinewidth\":0,\"ticks\":\"\"},\"colorscale\":[[0.0,\"#0d0887\"],[0.1111111111111111,\"#46039f\"],[0.2222222222222222,\"#7201a8\"],[0.3333333333333333,\"#9c179e\"],[0.4444444444444444,\"#bd3786\"],[0.5555555555555556,\"#d8576b\"],[0.6666666666666666,\"#ed7953\"],[0.7777777777777778,\"#fb9f3a\"],[0.8888888888888888,\"#fdca26\"],[1.0,\"#f0f921\"]],\"type\":\"heatmap\"}],\"histogram2dcontour\":[{\"colorbar\":{\"outlinewidth\":0,\"ticks\":\"\"},\"colorscale\":[[0.0,\"#0d0887\"],[0.1111111111111111,\"#46039f\"],[0.2222222222222222,\"#7201a8\"],[0.3333333333333333,\"#9c179e\"],[0.4444444444444444,\"#bd3786\"],[0.5555555555555556,\"#d8576b\"],[0.6666666666666666,\"#ed7953\"],[0.7777777777777778,\"#fb9f3a\"],[0.8888888888888888,\"#fdca26\"],[1.0,\"#f0f921\"]],\"type\":\"histogram2dcontour\"}],\"histogram2d\":[{\"colorbar\":{\"outlinewidth\":0,\"ticks\":\"\"},\"colorscale\":[[0.0,\"#0d0887\"],[0.1111111111111111,\"#46039f\"],[0.2222222222222222,\"#7201a8\"],[0.3333333333333333,\"#9c179e\"],[0.4444444444444444,\"#bd3786\"],[0.5555555555555556,\"#d8576b\"],[0.6666666666666666,\"#ed7953\"],[0.7777777777777778,\"#fb9f3a\"],[0.8888888888888888,\"#fdca26\"],[1.0,\"#f0f921\"]],\"type\":\"histogram2d\"}],\"histogram\":[{\"marker\":{\"pattern\":{\"fillmode\":\"overlay\",\"size\":10,\"solidity\":0.2}},\"type\":\"histogram\"}],\"mesh3d\":[{\"colorbar\":{\"outlinewidth\":0,\"ticks\":\"\"},\"type\":\"mesh3d\"}],\"parcoords\":[{\"line\":{\"colorbar\":{\"outlinewidth\":0,\"ticks\":\"\"}},\"type\":\"parcoords\"}],\"pie\":[{\"automargin\":true,\"type\":\"pie\"}],\"scatter3d\":[{\"line\":{\"colorbar\":{\"outlinewidth\":0,\"ticks\":\"\"}},\"marker\":{\"colorbar\":{\"outlinewidth\":0,\"ticks\":\"\"}},\"type\":\"scatter3d\"}],\"scattercarpet\":[{\"marker\":{\"colorbar\":{\"outlinewidth\":0,\"ticks\":\"\"}},\"type\":\"scattercarpet\"}],\"scattergeo\":[{\"marker\":{\"colorbar\":{\"outlinewidth\":0,\"ticks\":\"\"}},\"type\":\"scattergeo\"}],\"scattergl\":[{\"marker\":{\"colorbar\":{\"outlinewidth\":0,\"ticks\":\"\"}},\"type\":\"scattergl\"}],\"scattermapbox\":[{\"marker\":{\"colorbar\":{\"outlinewidth\":0,\"ticks\":\"\"}},\"type\":\"scattermapbox\"}],\"scatterpolargl\":[{\"marker\":{\"colorbar\":{\"outlinewidth\":0,\"ticks\":\"\"}},\"type\":\"scatterpolargl\"}],\"scatterpolar\":[{\"marker\":{\"colorbar\":{\"outlinewidth\":0,\"ticks\":\"\"}},\"type\":\"scatterpolar\"}],\"scatter\":[{\"fillpattern\":{\"fillmode\":\"overlay\",\"size\":10,\"solidity\":0.2},\"type\":\"scatter\"}],\"scatterternary\":[{\"marker\":{\"colorbar\":{\"outlinewidth\":0,\"ticks\":\"\"}},\"type\":\"scatterternary\"}],\"surface\":[{\"colorbar\":{\"outlinewidth\":0,\"ticks\":\"\"},\"colorscale\":[[0.0,\"#0d0887\"],[0.1111111111111111,\"#46039f\"],[0.2222222222222222,\"#7201a8\"],[0.3333333333333333,\"#9c179e\"],[0.4444444444444444,\"#bd3786\"],[0.5555555555555556,\"#d8576b\"],[0.6666666666666666,\"#ed7953\"],[0.7777777777777778,\"#fb9f3a\"],[0.8888888888888888,\"#fdca26\"],[1.0,\"#f0f921\"]],\"type\":\"surface\"}],\"table\":[{\"cells\":{\"fill\":{\"color\":\"#EBF0F8\"},\"line\":{\"color\":\"white\"}},\"header\":{\"fill\":{\"color\":\"#C8D4E3\"},\"line\":{\"color\":\"white\"}},\"type\":\"table\"}]},\"layout\":{\"annotationdefaults\":{\"arrowcolor\":\"#2a3f5f\",\"arrowhead\":0,\"arrowwidth\":1},\"autotypenumbers\":\"strict\",\"coloraxis\":{\"colorbar\":{\"outlinewidth\":0,\"ticks\":\"\"}},\"colorscale\":{\"diverging\":[[0,\"#8e0152\"],[0.1,\"#c51b7d\"],[0.2,\"#de77ae\"],[0.3,\"#f1b6da\"],[0.4,\"#fde0ef\"],[0.5,\"#f7f7f7\"],[0.6,\"#e6f5d0\"],[0.7,\"#b8e186\"],[0.8,\"#7fbc41\"],[0.9,\"#4d9221\"],[1,\"#276419\"]],\"sequential\":[[0.0,\"#0d0887\"],[0.1111111111111111,\"#46039f\"],[0.2222222222222222,\"#7201a8\"],[0.3333333333333333,\"#9c179e\"],[0.4444444444444444,\"#bd3786\"],[0.5555555555555556,\"#d8576b\"],[0.6666666666666666,\"#ed7953\"],[0.7777777777777778,\"#fb9f3a\"],[0.8888888888888888,\"#fdca26\"],[1.0,\"#f0f921\"]],\"sequentialminus\":[[0.0,\"#0d0887\"],[0.1111111111111111,\"#46039f\"],[0.2222222222222222,\"#7201a8\"],[0.3333333333333333,\"#9c179e\"],[0.4444444444444444,\"#bd3786\"],[0.5555555555555556,\"#d8576b\"],[0.6666666666666666,\"#ed7953\"],[0.7777777777777778,\"#fb9f3a\"],[0.8888888888888888,\"#fdca26\"],[1.0,\"#f0f921\"]]},\"colorway\":[\"#636efa\",\"#EF553B\",\"#00cc96\",\"#ab63fa\",\"#FFA15A\",\"#19d3f3\",\"#FF6692\",\"#B6E880\",\"#FF97FF\",\"#FECB52\"],\"font\":{\"color\":\"#2a3f5f\"},\"geo\":{\"bgcolor\":\"white\",\"lakecolor\":\"white\",\"landcolor\":\"#E5ECF6\",\"showlakes\":true,\"showland\":true,\"subunitcolor\":\"white\"},\"hoverlabel\":{\"align\":\"left\"},\"hovermode\":\"closest\",\"mapbox\":{\"style\":\"light\"},\"paper_bgcolor\":\"white\",\"plot_bgcolor\":\"#E5ECF6\",\"polar\":{\"angularaxis\":{\"gridcolor\":\"white\",\"linecolor\":\"white\",\"ticks\":\"\"},\"bgcolor\":\"#E5ECF6\",\"radialaxis\":{\"gridcolor\":\"white\",\"linecolor\":\"white\",\"ticks\":\"\"}},\"scene\":{\"xaxis\":{\"backgroundcolor\":\"#E5ECF6\",\"gridcolor\":\"white\",\"gridwidth\":2,\"linecolor\":\"white\",\"showbackground\":true,\"ticks\":\"\",\"zerolinecolor\":\"white\"},\"yaxis\":{\"backgroundcolor\":\"#E5ECF6\",\"gridcolor\":\"white\",\"gridwidth\":2,\"linecolor\":\"white\",\"showbackground\":true,\"ticks\":\"\",\"zerolinecolor\":\"white\"},\"zaxis\":{\"backgroundcolor\":\"#E5ECF6\",\"gridcolor\":\"white\",\"gridwidth\":2,\"linecolor\":\"white\",\"showbackground\":true,\"ticks\":\"\",\"zerolinecolor\":\"white\"}},\"shapedefaults\":{\"line\":{\"color\":\"#2a3f5f\"}},\"ternary\":{\"aaxis\":{\"gridcolor\":\"white\",\"linecolor\":\"white\",\"ticks\":\"\"},\"baxis\":{\"gridcolor\":\"white\",\"linecolor\":\"white\",\"ticks\":\"\"},\"bgcolor\":\"#E5ECF6\",\"caxis\":{\"gridcolor\":\"white\",\"linecolor\":\"white\",\"ticks\":\"\"}},\"title\":{\"x\":0.05},\"xaxis\":{\"automargin\":true,\"gridcolor\":\"white\",\"linecolor\":\"white\",\"ticks\":\"\",\"title\":{\"standoff\":15},\"zerolinecolor\":\"white\",\"zerolinewidth\":2},\"yaxis\":{\"automargin\":true,\"gridcolor\":\"white\",\"linecolor\":\"white\",\"ticks\":\"\",\"title\":{\"standoff\":15},\"zerolinecolor\":\"white\",\"zerolinewidth\":2}}},\"title\":{\"font\":{\"color\":\"#4D5663\"}},\"xaxis\":{\"anchor\":\"y\",\"domain\":[0.0,0.2125],\"gridcolor\":\"#E1E5ED\",\"showgrid\":false,\"tickfont\":{\"color\":\"#4D5663\"},\"title\":{\"font\":{\"color\":\"#4D5663\"},\"text\":\"\"},\"zerolinecolor\":\"#E1E5ED\"},\"yaxis\":{\"anchor\":\"x\",\"domain\":[0.8025,1.0],\"gridcolor\":\"#E1E5ED\",\"showgrid\":false,\"tickfont\":{\"color\":\"#4D5663\"},\"title\":{\"font\":{\"color\":\"#4D5663\"},\"text\":\"\"},\"zerolinecolor\":\"#E1E5ED\"},\"xaxis2\":{\"anchor\":\"y2\",\"domain\":[0.2625,0.475],\"gridcolor\":\"#E1E5ED\",\"showgrid\":false,\"tickfont\":{\"color\":\"#4D5663\"},\"title\":{\"font\":{\"color\":\"#4D5663\"},\"text\":\"\"},\"zerolinecolor\":\"#E1E5ED\"},\"yaxis2\":{\"anchor\":\"x2\",\"domain\":[0.8025,1.0],\"gridcolor\":\"#E1E5ED\",\"showgrid\":false,\"tickfont\":{\"color\":\"#4D5663\"},\"title\":{\"font\":{\"color\":\"#4D5663\"},\"text\":\"\"},\"zerolinecolor\":\"#E1E5ED\"},\"xaxis3\":{\"anchor\":\"y3\",\"domain\":[0.525,0.7375],\"gridcolor\":\"#E1E5ED\",\"showgrid\":false,\"tickfont\":{\"color\":\"#4D5663\"},\"title\":{\"font\":{\"color\":\"#4D5663\"},\"text\":\"\"},\"zerolinecolor\":\"#E1E5ED\"},\"yaxis3\":{\"anchor\":\"x3\",\"domain\":[0.8025,1.0],\"gridcolor\":\"#E1E5ED\",\"showgrid\":false,\"tickfont\":{\"color\":\"#4D5663\"},\"title\":{\"font\":{\"color\":\"#4D5663\"},\"text\":\"\"},\"zerolinecolor\":\"#E1E5ED\"},\"xaxis4\":{\"anchor\":\"y4\",\"domain\":[0.7875,1.0],\"gridcolor\":\"#E1E5ED\",\"showgrid\":false,\"tickfont\":{\"color\":\"#4D5663\"},\"title\":{\"font\":{\"color\":\"#4D5663\"},\"text\":\"\"},\"zerolinecolor\":\"#E1E5ED\"},\"yaxis4\":{\"anchor\":\"x4\",\"domain\":[0.8025,1.0],\"gridcolor\":\"#E1E5ED\",\"showgrid\":false,\"tickfont\":{\"color\":\"#4D5663\"},\"title\":{\"font\":{\"color\":\"#4D5663\"},\"text\":\"\"},\"zerolinecolor\":\"#E1E5ED\"},\"xaxis5\":{\"anchor\":\"y5\",\"domain\":[0.0,0.2125],\"gridcolor\":\"#E1E5ED\",\"showgrid\":false,\"tickfont\":{\"color\":\"#4D5663\"},\"title\":{\"font\":{\"color\":\"#4D5663\"},\"text\":\"\"},\"zerolinecolor\":\"#E1E5ED\"},\"yaxis5\":{\"anchor\":\"x5\",\"domain\":[0.535,0.7325],\"gridcolor\":\"#E1E5ED\",\"showgrid\":false,\"tickfont\":{\"color\":\"#4D5663\"},\"title\":{\"font\":{\"color\":\"#4D5663\"},\"text\":\"\"},\"zerolinecolor\":\"#E1E5ED\"},\"xaxis6\":{\"anchor\":\"y6\",\"domain\":[0.2625,0.475],\"gridcolor\":\"#E1E5ED\",\"showgrid\":false,\"tickfont\":{\"color\":\"#4D5663\"},\"title\":{\"font\":{\"color\":\"#4D5663\"},\"text\":\"\"},\"zerolinecolor\":\"#E1E5ED\"},\"yaxis6\":{\"anchor\":\"x6\",\"domain\":[0.535,0.7325],\"gridcolor\":\"#E1E5ED\",\"showgrid\":false,\"tickfont\":{\"color\":\"#4D5663\"},\"title\":{\"font\":{\"color\":\"#4D5663\"},\"text\":\"\"},\"zerolinecolor\":\"#E1E5ED\"},\"xaxis7\":{\"anchor\":\"y7\",\"domain\":[0.525,0.7375],\"gridcolor\":\"#E1E5ED\",\"showgrid\":false,\"tickfont\":{\"color\":\"#4D5663\"},\"title\":{\"font\":{\"color\":\"#4D5663\"},\"text\":\"\"},\"zerolinecolor\":\"#E1E5ED\"},\"yaxis7\":{\"anchor\":\"x7\",\"domain\":[0.535,0.7325],\"gridcolor\":\"#E1E5ED\",\"showgrid\":false,\"tickfont\":{\"color\":\"#4D5663\"},\"title\":{\"font\":{\"color\":\"#4D5663\"},\"text\":\"\"},\"zerolinecolor\":\"#E1E5ED\"},\"xaxis8\":{\"anchor\":\"y8\",\"domain\":[0.7875,1.0],\"gridcolor\":\"#E1E5ED\",\"showgrid\":false,\"tickfont\":{\"color\":\"#4D5663\"},\"title\":{\"font\":{\"color\":\"#4D5663\"},\"text\":\"\"},\"zerolinecolor\":\"#E1E5ED\"},\"yaxis8\":{\"anchor\":\"x8\",\"domain\":[0.535,0.7325],\"gridcolor\":\"#E1E5ED\",\"showgrid\":false,\"tickfont\":{\"color\":\"#4D5663\"},\"title\":{\"font\":{\"color\":\"#4D5663\"},\"text\":\"\"},\"zerolinecolor\":\"#E1E5ED\"},\"xaxis9\":{\"anchor\":\"y9\",\"domain\":[0.0,0.2125],\"gridcolor\":\"#E1E5ED\",\"showgrid\":false,\"tickfont\":{\"color\":\"#4D5663\"},\"title\":{\"font\":{\"color\":\"#4D5663\"},\"text\":\"\"},\"zerolinecolor\":\"#E1E5ED\"},\"yaxis9\":{\"anchor\":\"x9\",\"domain\":[0.2675,0.465],\"gridcolor\":\"#E1E5ED\",\"showgrid\":false,\"tickfont\":{\"color\":\"#4D5663\"},\"title\":{\"font\":{\"color\":\"#4D5663\"},\"text\":\"\"},\"zerolinecolor\":\"#E1E5ED\"},\"xaxis10\":{\"anchor\":\"y10\",\"domain\":[0.2625,0.475],\"gridcolor\":\"#E1E5ED\",\"showgrid\":false,\"tickfont\":{\"color\":\"#4D5663\"},\"title\":{\"font\":{\"color\":\"#4D5663\"},\"text\":\"\"},\"zerolinecolor\":\"#E1E5ED\"},\"yaxis10\":{\"anchor\":\"x10\",\"domain\":[0.2675,0.465],\"gridcolor\":\"#E1E5ED\",\"showgrid\":false,\"tickfont\":{\"color\":\"#4D5663\"},\"title\":{\"font\":{\"color\":\"#4D5663\"},\"text\":\"\"},\"zerolinecolor\":\"#E1E5ED\"},\"xaxis11\":{\"anchor\":\"y11\",\"domain\":[0.525,0.7375],\"gridcolor\":\"#E1E5ED\",\"showgrid\":false,\"tickfont\":{\"color\":\"#4D5663\"},\"title\":{\"font\":{\"color\":\"#4D5663\"},\"text\":\"\"},\"zerolinecolor\":\"#E1E5ED\"},\"yaxis11\":{\"anchor\":\"x11\",\"domain\":[0.2675,0.465],\"gridcolor\":\"#E1E5ED\",\"showgrid\":false,\"tickfont\":{\"color\":\"#4D5663\"},\"title\":{\"font\":{\"color\":\"#4D5663\"},\"text\":\"\"},\"zerolinecolor\":\"#E1E5ED\"},\"xaxis12\":{\"anchor\":\"y12\",\"domain\":[0.7875,1.0],\"gridcolor\":\"#E1E5ED\",\"showgrid\":false,\"tickfont\":{\"color\":\"#4D5663\"},\"title\":{\"font\":{\"color\":\"#4D5663\"},\"text\":\"\"},\"zerolinecolor\":\"#E1E5ED\"},\"yaxis12\":{\"anchor\":\"x12\",\"domain\":[0.2675,0.465],\"gridcolor\":\"#E1E5ED\",\"showgrid\":false,\"tickfont\":{\"color\":\"#4D5663\"},\"title\":{\"font\":{\"color\":\"#4D5663\"},\"text\":\"\"},\"zerolinecolor\":\"#E1E5ED\"},\"xaxis13\":{\"anchor\":\"y13\",\"domain\":[0.0,0.2125],\"gridcolor\":\"#E1E5ED\",\"showgrid\":false,\"tickfont\":{\"color\":\"#4D5663\"},\"title\":{\"font\":{\"color\":\"#4D5663\"},\"text\":\"\"},\"zerolinecolor\":\"#E1E5ED\"},\"yaxis13\":{\"anchor\":\"x13\",\"domain\":[0.0,0.1975],\"gridcolor\":\"#E1E5ED\",\"showgrid\":false,\"tickfont\":{\"color\":\"#4D5663\"},\"title\":{\"font\":{\"color\":\"#4D5663\"},\"text\":\"\"},\"zerolinecolor\":\"#E1E5ED\"},\"xaxis14\":{\"anchor\":\"y14\",\"domain\":[0.2625,0.475],\"gridcolor\":\"#E1E5ED\",\"showgrid\":false,\"tickfont\":{\"color\":\"#4D5663\"},\"title\":{\"font\":{\"color\":\"#4D5663\"},\"text\":\"\"},\"zerolinecolor\":\"#E1E5ED\"},\"yaxis14\":{\"anchor\":\"x14\",\"domain\":[0.0,0.1975],\"gridcolor\":\"#E1E5ED\",\"showgrid\":false,\"tickfont\":{\"color\":\"#4D5663\"},\"title\":{\"font\":{\"color\":\"#4D5663\"},\"text\":\"\"},\"zerolinecolor\":\"#E1E5ED\"},\"xaxis15\":{\"anchor\":\"y15\",\"domain\":[0.525,0.7375],\"gridcolor\":\"#E1E5ED\",\"showgrid\":false,\"tickfont\":{\"color\":\"#4D5663\"},\"title\":{\"font\":{\"color\":\"#4D5663\"},\"text\":\"\"},\"zerolinecolor\":\"#E1E5ED\"},\"yaxis15\":{\"anchor\":\"x15\",\"domain\":[0.0,0.1975],\"gridcolor\":\"#E1E5ED\",\"showgrid\":false,\"tickfont\":{\"color\":\"#4D5663\"},\"title\":{\"font\":{\"color\":\"#4D5663\"},\"text\":\"\"},\"zerolinecolor\":\"#E1E5ED\"},\"xaxis16\":{\"anchor\":\"y16\",\"domain\":[0.7875,1.0],\"gridcolor\":\"#E1E5ED\",\"showgrid\":false,\"tickfont\":{\"color\":\"#4D5663\"},\"title\":{\"font\":{\"color\":\"#4D5663\"},\"text\":\"\"},\"zerolinecolor\":\"#E1E5ED\"},\"yaxis16\":{\"anchor\":\"x16\",\"domain\":[0.0,0.1975],\"gridcolor\":\"#E1E5ED\",\"showgrid\":false,\"tickfont\":{\"color\":\"#4D5663\"},\"title\":{\"font\":{\"color\":\"#4D5663\"},\"text\":\"\"},\"zerolinecolor\":\"#E1E5ED\"}},                        {\"showLink\": true, \"linkText\": \"Export to plot.ly\", \"plotlyServerURL\": \"https://plot.ly\", \"responsive\": true}                    ).then(function(){\n",
       "                            \n",
       "var gd = document.getElementById('f86c2f9b-7c7c-4ce2-8b89-ae33446b4a6d');\n",
       "var x = new MutationObserver(function (mutations, observer) {{\n",
       "        var display = window.getComputedStyle(gd).display;\n",
       "        if (!display || display === 'none') {{\n",
       "            console.log([gd, 'removed!']);\n",
       "            Plotly.purge(gd);\n",
       "            observer.disconnect();\n",
       "        }}\n",
       "}});\n",
       "\n",
       "// Listen for the removal of the full notebook cells\n",
       "var notebookContainer = gd.closest('#notebook-container');\n",
       "if (notebookContainer) {{\n",
       "    x.observe(notebookContainer, {childList: true});\n",
       "}}\n",
       "\n",
       "// Listen for the clearing of the current output cell\n",
       "var outputEl = gd.closest('.output');\n",
       "if (outputEl) {{\n",
       "    x.observe(outputEl, {childList: true});\n",
       "}}\n",
       "\n",
       "                        })                };                });            </script>        </div>"
      ]
     },
     "metadata": {},
     "output_type": "display_data"
    }
   ],
   "source": [
    "df.scatter_matrix()"
   ]
  },
  {
   "cell_type": "code",
   "execution_count": null,
   "id": "d2afd91d",
   "metadata": {},
   "outputs": [],
   "source": []
  }
 ],
 "metadata": {
  "kernelspec": {
   "display_name": "Python 3 (ipykernel)",
   "language": "python",
   "name": "python3"
  },
  "language_info": {
   "codemirror_mode": {
    "name": "ipython",
    "version": 3
   },
   "file_extension": ".py",
   "mimetype": "text/x-python",
   "name": "python",
   "nbconvert_exporter": "python",
   "pygments_lexer": "ipython3",
   "version": "3.9.13"
  }
 },
 "nbformat": 4,
 "nbformat_minor": 5
}
